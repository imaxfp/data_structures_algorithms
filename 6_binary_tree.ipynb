{
 "cells": [
  {
   "cell_type": "markdown",
   "metadata": {},
   "source": [
    "# Binary tree\n",
    "\n",
    "A binary tree is a tree data structure in which each node has at most two children, which are referred to as the left child and the right child.\n",
    "\n",
    "<img src=\"./img/bin_tree/base_bin_tree.png\" alt=\"nearby_objects\" width=\"500\"/>\n",
    "\n",
    "<img src=\"./img/bin_tree/base_bin_tree2.png\" alt=\"nearby_objects\" width=\"500\"/>\n",
    "\n",
    "### Complete Binary Tree\n",
    "\n",
    "Complete binary tree, every level except possibly the last, is completely filled and all nodes in the last level are as far left as possible.\n",
    "\n",
    "<img src=\"./img/bin_tree/complete_binary_tree.png\" alt=\"nearby_objects\" width=\"300\"/>\n",
    "\n",
    "\n",
    "### Full Binary Tree\n",
    "\n",
    "(sometimes referred to as a proper or plane binary tree) is a tree in which every node has either **0 or 2 children.**\n",
    "\n",
    "<img src=\"./img/bin_tree/full_bin_tree.png\" alt=\"nearby_objects\" width=\"300\"/>\n",
    "\n",
    "\n"
   ]
  },
  {
   "cell_type": "code",
   "execution_count": 4,
   "metadata": {},
   "outputs": [
    {
     "name": "stdout",
     "output_type": "stream",
     "text": [
      "1\n",
      "3\n"
     ]
    }
   ],
   "source": [
    "class Node():\n",
    "    def __init__(self, val):\n",
    "        self.value = val\n",
    "        self.left = None\n",
    "        self.right = None\n",
    "        \n",
    "class BinaryTree():\n",
    "    def __init__(self, root: Node):\n",
    "        self.root = root        \n",
    "                \n",
    "rootNode = Node(1)\n",
    "myBinTree = BinaryTree(rootNode) \n",
    "\n",
    "rootNode.left = Node(2)\n",
    "rootNode.right = Node(3)\n",
    "\n",
    "print(rootNode.value)\n",
    "print(rootNode.right.value)\n"
   ]
  },
  {
   "cell_type": "code",
   "execution_count": null,
   "metadata": {},
   "outputs": [],
   "source": [
    "#TODO check is it \"complete bin tree\", \"Full bin tree\""
   ]
  },
  {
   "cell_type": "markdown",
   "metadata": {},
   "source": [
    "# Traversal Algorithms\n",
    "How to traverse binary trees using a depth-first search.\n",
    "\n",
    "Tree Traversal is the process of visiting (checking or updating) each node in a tree data structure, **exactly once.** Unlike linked lists or one-dimensional arrays that are canonically traversed in linear order, trees may be traversed in multiple ways. They may be traversed in **depth-first** or **breadth-first** order."
   ]
  },
  {
   "cell_type": "markdown",
   "metadata": {},
   "source": [
    "### There are three common ways to traverse a tree in depth-first order:\n",
    "\n",
    "- ### In-order\n",
    "- ### Pre-order\n",
    "- ### Post-order"
   ]
  },
  {
   "cell_type": "markdown",
   "metadata": {},
   "source": [
    "# Pre-order Traversal\n",
    "\n",
    "Here is the algorithm for a pre-order traversal:\n",
    "\n",
    "1. Check if the current node is empty/null.\n",
    "2. Display the data part of the root (or current node).\n",
    "3. Traverse the left subtree by recursively calling the pre-order method.\n",
    "4. Traverse the right subtree by recursively calling the pre-order method.\n",
    "\n",
    "<img src=\"./img/bin_tree/pre_order_traversal1.png\" alt=\"nearby_objects\" width=\"600\"/>\n",
    "\n",
    "<img src=\"./img/bin_tree/pre_order_traversal2.png\" alt=\"nearby_objects\" width=\"600\"/>\n",
    "\n",
    "<img src=\"./img/bin_tree/pre_order_traversal3.png\" alt=\"nearby_objects\" width=\"600\"/>"
   ]
  },
  {
   "cell_type": "code",
   "execution_count": 1,
   "metadata": {},
   "outputs": [
    {
     "name": "stdout",
     "output_type": "stream",
     "text": [
      "F-B-A-D-C-E-G-I-H-\n"
     ]
    }
   ],
   "source": [
    "class Node():\n",
    "    def __init__(self, val):\n",
    "        self.val = val\n",
    "        self.left = None\n",
    "        self.right = None\n",
    "        \n",
    "class BinTree():\n",
    "    def __init__(self, node: Node):\n",
    "        self.root = node\n",
    "    \n",
    "    def preorder_print(self, start_node, traversal):                \n",
    "        \"\"\"Root->Left->Right\"\"\"\n",
    "        if start_node:\n",
    "            # Accomulate from the first input node\n",
    "            traversal += str(start_node.val) + '-'\n",
    "            # Go to the left branch. 'if done with left branch' return from stack, go to the next line\n",
    "            traversal = self.preorder_print(start_node.left, traversal) \n",
    "            # Collect all nodes from start to end in the right branch \n",
    "            traversal = self.preorder_print(start_node.right, traversal) \n",
    "        return traversal\n",
    "    \n",
    "tree = BinTree(Node('F'))  \n",
    "tree.root.left = Node('B') \n",
    "tree.root.left.left = Node('A') \n",
    "\n",
    "tree.root.left.right = Node('D')\n",
    "tree.root.left.right.left = Node('C')\n",
    "tree.root.left.right.right = Node('E')\n",
    "\n",
    "tree.root.right = Node('G')\n",
    "tree.root.right.right = Node('I')  \n",
    "tree.root.right.right.left = Node('H')  \n",
    "\n",
    "print(tree.preorder_print(tree.root, \"\"))"
   ]
  },
  {
   "cell_type": "markdown",
   "metadata": {},
   "source": [
    "# In-order Traversal\n",
    "\n",
    "1. Check if the current node is empty/null.\n",
    "2. Traverse the left subtree by recursively calling the in-order method.\n",
    "3. Display the data part of the root (or current node).\n",
    "4. Traverse the right subtree by recursively calling the in-order method.\n",
    "\n",
    "<img src=\"./img/bin_tree/in_order_traversal_1.png\" alt=\"nearby_objects\" width=\"600\"/>\n",
    "\n",
    "<img src=\"./img/bin_tree/in_order_traversal_2.png\" alt=\"nearby_objects\" width=\"600\"/>\n",
    "\n",
    "<img src=\"./img/bin_tree/in_order_traversal_3.png\" alt=\"nearby_objects\" width=\"600\"/>"
   ]
  },
  {
   "cell_type": "code",
   "execution_count": 4,
   "metadata": {},
   "outputs": [
    {
     "name": "stdout",
     "output_type": "stream",
     "text": [
      "-A-B-C-D-E-F-G-H-I\n"
     ]
    }
   ],
   "source": [
    "class Node():\n",
    "    def __init__(self, val):\n",
    "        self.val = val\n",
    "        self.left = None\n",
    "        self.right = None\n",
    "        \n",
    "class BinTree():\n",
    "    def __init__(self, node: Node):\n",
    "        self.root = node\n",
    "        \n",
    "    def inorder_print(self, start_node: Node, traversal: str):\n",
    "        \"\"\"Left->Root->Right\"\"\"\n",
    "        if start_node:\n",
    "            # Find left down node \n",
    "            traversal = self.inorder_print(start_node.left, traversal)\n",
    "            # When achieved NONE node in the left branch, self.traversal(...) -> return traversal\n",
    "            # Append 'val' of the last left node   \n",
    "            traversal += \"-\" + str(start_node.val)\n",
    "            # Send appended traversal to the right \n",
    "            traversal = self.inorder_print(start_node.right, traversal)\n",
    "        # If find the last node in the branch\n",
    "        return traversal\n",
    "        \n",
    "tree = BinTree(Node('F'))  \n",
    "tree.root.left = Node('B') \n",
    "tree.root.left.left = Node('A') \n",
    "\n",
    "tree.root.left.right = Node('D')\n",
    "tree.root.left.right.left = Node('C')\n",
    "tree.root.left.right.right = Node('E')\n",
    "\n",
    "tree.root.right = Node('G')\n",
    "tree.root.right.right = Node('I')  \n",
    "tree.root.right.right.left = Node('H')  \n",
    "\n",
    "print(tree.inorder_print(tree.root, \"\"))"
   ]
  },
  {
   "cell_type": "markdown",
   "metadata": {},
   "source": [
    "# Post-order Traversal\n",
    "\n",
    "At this point, it will be very easy for you to guess the algorithm for post-order traversal. There you go:\n",
    "\n",
    "1. Check if the current node is empty/null.\n",
    "2. Traverse the left subtree by recursively calling the post-order method.\n",
    "3. Traverse the right subtree by recursively calling the post-order method.\n",
    "4. Display the data part of the root (or current node).\n",
    "\n",
    "<img src=\"./img/bin_tree/post_order_traversal1.png\" alt=\"nearby_objects\" width=\"600\"/>\n",
    "\n",
    "<img src=\"./img/bin_tree/post_order_traversal2.png\" alt=\"nearby_objects\" width=\"600\"/>\n",
    "\n",
    "<img src=\"./img/bin_tree/post_order_traversal3.png\" alt=\"nearby_objects\" width=\"600\"/>"
   ]
  },
  {
   "cell_type": "code",
   "execution_count": 5,
   "metadata": {},
   "outputs": [
    {
     "name": "stdout",
     "output_type": "stream",
     "text": [
      "-A-C-E-D-B-H-I-G-F\n"
     ]
    }
   ],
   "source": [
    "class Node():\n",
    "    def __init__(self, val):\n",
    "        self.val = val\n",
    "        self.left = None\n",
    "        self.right = None\n",
    "        \n",
    "class BinTree():\n",
    "    def __init__(self, node: Node):\n",
    "        self.root = node\n",
    "        \n",
    "    def inorder_print(self, start_node: Node, traversal: str):\n",
    "        \"\"\"Left->Root->Right\"\"\"\n",
    "        if start_node:\n",
    "            # Find left down node \n",
    "            traversal = self.inorder_print(start_node.left, traversal)\n",
    "            # Find right down node \n",
    "            traversal = self.inorder_print(start_node.right, traversal)\n",
    "            # if left node and right node is NONE, stack return traversal from the previous iteration\n",
    "            # and N-1 node, previous node in the tree, will be assign to the 'traversal'\n",
    "            traversal += \"-\" + str(start_node.val)\n",
    "        # If find the last node in the branch\n",
    "        return traversal\n",
    "        \n",
    "tree = BinTree(Node('F'))  \n",
    "tree.root.left = Node('B') \n",
    "tree.root.left.left = Node('A') \n",
    "\n",
    "tree.root.left.right = Node('D')\n",
    "tree.root.left.right.left = Node('C')\n",
    "tree.root.left.right.right = Node('E')\n",
    "\n",
    "tree.root.right = Node('G')\n",
    "tree.root.right.right = Node('I')  \n",
    "tree.root.right.right.left = Node('H')  \n",
    "\n",
    "print(tree.inorder_print(tree.root, \"\"))"
   ]
  }
 ],
 "metadata": {
  "kernelspec": {
   "display_name": "venv_alg",
   "language": "python",
   "name": "python3"
  },
  "language_info": {
   "codemirror_mode": {
    "name": "ipython",
    "version": 3
   },
   "file_extension": ".py",
   "mimetype": "text/x-python",
   "name": "python",
   "nbconvert_exporter": "python",
   "pygments_lexer": "ipython3",
   "version": "3.11.5"
  }
 },
 "nbformat": 4,
 "nbformat_minor": 2
}
