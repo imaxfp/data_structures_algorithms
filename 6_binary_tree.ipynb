{
 "cells": [
  {
   "cell_type": "markdown",
   "metadata": {},
   "source": [
    "# Binary tree\n",
    "\n",
    "A binary tree is a tree data structure in which each node has at most two children, which are referred to as the left child and the right child.\n",
    "\n",
    "<img src=\"./img/bin_tree/base_bin_tree.png\" alt=\"nearby_objects\" width=\"400\"/>\n",
    "\n",
    "<img src=\"./img/bin_tree/base_bin_tree2.png\" alt=\"nearby_objects\" width=\"400\"/>\n",
    "\n",
    "### Complete Binary Tree\n",
    "\n",
    "Complete binary tree, every level except possibly the last, is completely filled and all nodes in the last level are as far left as possible.\n",
    "\n",
    "<img src=\"./img/bin_tree/complete_binary_tree.png\" alt=\"nearby_objects\" width=\"300\"/>\n",
    "\n",
    "\n",
    "### Full Binary Tree\n",
    "\n",
    "(sometimes referred to as a proper or plane binary tree) is a tree in which every node has either **0 or 2 children.**\n",
    "\n",
    "<img src=\"./img/bin_tree/full_bin_tree.png\" alt=\"nearby_objects\" width=\"300\"/>\n",
    "\n",
    "\n"
   ]
  },
  {
   "cell_type": "code",
   "execution_count": 4,
   "metadata": {},
   "outputs": [
    {
     "name": "stdout",
     "output_type": "stream",
     "text": [
      "1\n",
      "3\n"
     ]
    }
   ],
   "source": [
    "class Node():\n",
    "    def __init__(self, val):\n",
    "        self.value = val\n",
    "        self.left = None\n",
    "        self.right = None\n",
    "        \n",
    "class BinaryTree():\n",
    "    def __init__(self, root: Node):\n",
    "        self.root = root        \n",
    "                \n",
    "rootNode = Node(1)\n",
    "myBinTree = BinaryTree(rootNode) \n",
    "\n",
    "rootNode.left = Node(2)\n",
    "rootNode.right = Node(3)\n",
    "\n",
    "print(rootNode.value)\n",
    "print(rootNode.right.value)\n"
   ]
  },
  {
   "cell_type": "code",
   "execution_count": null,
   "metadata": {},
   "outputs": [],
   "source": [
    "#TODO check is it \"complete bin tree\", \"Full bin tree\""
   ]
  },
  {
   "cell_type": "markdown",
   "metadata": {},
   "source": [
    "# Traversal Algorithms\n",
    "How to traverse binary trees using a depth-first search.\n",
    "\n",
    "Tree Traversal is the process of visiting (checking or updating) each node in a tree data structure, **exactly once.** Unlike linked lists or one-dimensional arrays that are canonically traversed in linear order, trees may be traversed in multiple ways. They may be traversed in **depth-first** or **breadth-first** order."
   ]
  },
  {
   "cell_type": "markdown",
   "metadata": {},
   "source": [
    "### There are three common ways to traverse a tree in depth-first order:\n",
    "\n",
    "- ### In-order\n",
    "- ### Pre-order\n",
    "- ### Post-order"
   ]
  },
  {
   "cell_type": "markdown",
   "metadata": {},
   "source": [
    "# Pre-order Traversal\n",
    "\n",
    "Here is the algorithm for a pre-order traversal:\n",
    "\n",
    "1. Check if the current node is empty/null.\n",
    "2. Display the data part of the root (or current node).\n",
    "3. Traverse the left subtree by recursively calling the pre-order method.\n",
    "4. Traverse the right subtree by recursively calling the pre-order method.\n",
    "\n",
    "<img src=\"./img/bin_tree/traverse_algos.png\" alt=\"nearby_objects\" width=\"800\"/>\n",
    "\n",
    "<img src=\"./img/bin_tree/traverse_algos2.png\" alt=\"nearby_objects\" width=\"800\"/>"
   ]
  },
  {
   "cell_type": "code",
   "execution_count": 8,
   "metadata": {},
   "outputs": [
    {
     "name": "stdout",
     "output_type": "stream",
     "text": [
      "----3---3---4---4-----3---3---4---4\n"
     ]
    }
   ],
   "source": [
    "class Node():\n",
    "    def __init__(self, val):\n",
    "        self.val = val\n",
    "        self.left = None\n",
    "        self.right = None\n",
    "        \n",
    "class BinTree():\n",
    "    def __init__(self, node: Node):\n",
    "        self.root = node\n",
    "        \n",
    "    def traversal(self, node: Node, traversal: str):\n",
    "        if node:\n",
    "            traversal = \"-\" + str(node.val)\n",
    "            traversal = \"-\" + self.traversal(node.left, traversal)\n",
    "            traversal += \"-\" + self.traversal(node.right, traversal)\n",
    "        return traversal    \n",
    "    \n",
    "node = Node(1)\n",
    "tree = BinTree(node)  \n",
    "\n",
    "tree.root.left = Node(2) \n",
    "tree.root.left.left = Node(3) \n",
    "tree.root.left.right = Node(4)\n",
    "\n",
    "print(tree.traversal(tree.root, \"\"))"
   ]
  }
 ],
 "metadata": {
  "kernelspec": {
   "display_name": "venv_alg",
   "language": "python",
   "name": "python3"
  },
  "language_info": {
   "codemirror_mode": {
    "name": "ipython",
    "version": 3
   },
   "file_extension": ".py",
   "mimetype": "text/x-python",
   "name": "python",
   "nbconvert_exporter": "python",
   "pygments_lexer": "ipython3",
   "version": "3.11.5"
  }
 },
 "nbformat": 4,
 "nbformat_minor": 2
}
