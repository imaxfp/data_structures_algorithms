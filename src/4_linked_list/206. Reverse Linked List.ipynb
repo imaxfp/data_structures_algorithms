{
 "cells": [
  {
   "cell_type": "markdown",
   "metadata": {},
   "source": [
    "### 206. Reverse Linked List\n",
    "\n",
    "https://leetcode.com/problems/reverse-linked-list/description/"
   ]
  },
  {
   "cell_type": "code",
   "execution_count": 15,
   "metadata": {},
   "outputs": [
    {
     "name": "stdout",
     "output_type": "stream",
     "text": [
      "4\n",
      "3\n",
      "2\n",
      "1\n"
     ]
    }
   ],
   "source": [
    "from typing import Optional\n",
    "\n",
    "# Definition for singly-linked list.\n",
    "class ListNode:    \n",
    "    def __init__(self, val=0, next=None):\n",
    "        self.val = val\n",
    "        self.next = next\n",
    "\n",
    "class Solution:\n",
    "    def reverseList(self, head: Optional[ListNode]) -> Optional[ListNode]:\n",
    "        #1. Firts->next = None\n",
    "        #2. Second <- prev\n",
    "        \n",
    "        #Only 1 node in the list \n",
    "        if head and not head.next:\n",
    "            return head        \n",
    "        \n",
    "        #Swap first 2 nodes to end 2 nodes         \n",
    "        # 1. set next node \n",
    "        # 2. cur node -> prev node\n",
    "        # 3.  \n",
    "        prev = None\n",
    "        curr = head\n",
    "        next_node = head.next\n",
    "        #old_curr = head.next        \n",
    "        while curr:\n",
    "            next_node = curr.next  # Store the next node\n",
    "            curr.next = prev       # Reverse the current node's pointer\n",
    "            prev = curr            # Move prev to the current node\n",
    "            curr = next_node       # Move to the next node\n",
    "    \n",
    "        return prev  # prev will be the new head at the end of the loop                                                           \n",
    "    \n",
    "root = ListNode(1)    \n",
    "root.next = ListNode(2)\n",
    "root.next.next = ListNode(3)\n",
    "root.next.next.next = ListNode(4)\n",
    "reversed = Solution().reverseList(root)\n",
    "\n",
    "while reversed:\n",
    "    print(reversed.val)\n",
    "    reversed = reversed.next\n",
    "    "
   ]
  }
 ],
 "metadata": {
  "kernelspec": {
   "display_name": "venv_alg",
   "language": "python",
   "name": "python3"
  },
  "language_info": {
   "codemirror_mode": {
    "name": "ipython",
    "version": 3
   },
   "file_extension": ".py",
   "mimetype": "text/x-python",
   "name": "python",
   "nbconvert_exporter": "python",
   "pygments_lexer": "ipython3",
   "version": "3.11.5"
  }
 },
 "nbformat": 4,
 "nbformat_minor": 2
}
