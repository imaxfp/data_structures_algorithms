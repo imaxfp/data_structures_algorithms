{
 "cells": [
  {
   "cell_type": "markdown",
   "metadata": {},
   "source": [
    "### 234. Palindrome Linked List\n",
    "\n",
    "https://leetcode.com/problems/palindrome-linked-list/description\n"
   ]
  },
  {
   "cell_type": "code",
   "execution_count": 8,
   "metadata": {},
   "outputs": [
    {
     "data": {
      "text/plain": [
       "True"
      ]
     },
     "execution_count": 8,
     "metadata": {},
     "output_type": "execute_result"
    }
   ],
   "source": [
    "from typing import Optional\n",
    "\n",
    "\n",
    "class ListNode:    \n",
    "    def __init__(self, val=0, next=None):        \n",
    "        self.val = val\n",
    "        self.next = next\n",
    "\n",
    "class Solution:\n",
    "    def isPalindrome(self, head: Optional[ListNode]) -> bool:\n",
    "        arr = []\n",
    "        root = head\n",
    "        while root:\n",
    "            arr.append(root.val)\n",
    "            root = root.next\n",
    "        \n",
    "        l = 0\n",
    "        r = len(arr)-1\n",
    "        \n",
    "        # 1 1 2 2 1 1 \n",
    "        while l < r:\n",
    "            if arr[l] != arr[r]:\n",
    "                return False    \n",
    "            l+=1\n",
    "            r-=1            \n",
    "        return True            \n",
    "    \n",
    "root = ListNode(1)\n",
    "root.next = ListNode(2)\n",
    "root.next.next = ListNode(2)\n",
    "root.next.next.next = ListNode(3)\n",
    "\n",
    "Solution().isPalindrome(root)      "
   ]
  },
  {
   "cell_type": "code",
   "execution_count": 5,
   "metadata": {},
   "outputs": [
    {
     "data": {
      "text/plain": [
       "<__main__.ListNode at 0x10d64e390>"
      ]
     },
     "execution_count": 5,
     "metadata": {},
     "output_type": "execute_result"
    }
   ],
   "source": [
    "# Follow up: Could you do it in O(n) time and O(1) space?\n",
    "\n",
    "# Definition for singly-linked list.\n",
    "from typing import Optional\n",
    "\n",
    "\n",
    "class ListNode:    \n",
    "    def __init__(self, val=0, next=None):        \n",
    "        self.val = val\n",
    "        self.next = next\n",
    "\n",
    "# Follow up: Could you do it in O(n) time and O(1) space?\n",
    "class Solution:\n",
    "    def isPalindrome(self, head: Optional[ListNode]) -> bool:\n",
    "        #1.  Find the middle node\n",
    "        #2. Reverse first or second part of the list\n",
    "        # 1 1 2 2 1 1 \n",
    "        # 2 1 1 - 2 1 1 \n",
    "        #check if first part == second part of the list \n",
    "        \n",
    "        root = head\n",
    "        #if one node\n",
    "        if head and not head.next:\n",
    "            return True\n",
    "        \n",
    "        slow_ptr = head\n",
    "        fast_ptr = head.next\n",
    "        while fast_ptr and fast_ptr.next:\n",
    "            slow_ptr = slow_ptr.next\n",
    "            fast_ptr = fast_ptr.next.next                   \n",
    "        \n",
    "        mid = slow_ptr\n",
    "        while mid.next:\n",
    "            mid.next = \n",
    "            prev = curr\n",
    "            curr = curr.next                                \n",
    "                              \n",
    "        return root\n",
    "\n",
    "\n",
    "root = ListNode(1)\n",
    "root.next = ListNode(2)\n",
    "root.next.next = ListNode(2)\n",
    "root.next.next.next = ListNode(1)\n",
    "\n",
    "Solution().isPalindrome(root)        "
   ]
  }
 ],
 "metadata": {
  "kernelspec": {
   "display_name": "venv_alg",
   "language": "python",
   "name": "python3"
  },
  "language_info": {
   "codemirror_mode": {
    "name": "ipython",
    "version": 3
   },
   "file_extension": ".py",
   "mimetype": "text/x-python",
   "name": "python",
   "nbconvert_exporter": "python",
   "pygments_lexer": "ipython3",
   "version": "3.11.5"
  }
 },
 "nbformat": 4,
 "nbformat_minor": 2
}
