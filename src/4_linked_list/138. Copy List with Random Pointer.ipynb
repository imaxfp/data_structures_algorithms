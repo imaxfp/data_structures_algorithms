{
 "cells": [
  {
   "cell_type": "markdown",
   "metadata": {},
   "source": [
    "### 138. Copy List with Random Pointer\n",
    "\n",
    "https://leetcode.com/problems/copy-list-with-random-pointer"
   ]
  },
  {
   "cell_type": "code",
   "execution_count": 17,
   "metadata": {},
   "outputs": [
    {
     "name": "stdout",
     "output_type": "stream",
     "text": [
      "1 None\n",
      "2 <__main__.Node object at 0x1056bb610>\n",
      "3 None\n",
      "4 <__main__.Node object at 0x1056bb610>\n"
     ]
    }
   ],
   "source": [
    "from typing import Optional\n",
    "\n",
    "# Definition for singly-linked list.\n",
    "# class ListNode:\n",
    "#     def __init__(self, x):\n",
    "#         self.val = x\n",
    "#         self.next = None\n",
    "\n",
    "class Node:\n",
    "    def __init__(self, x: int, next: 'Node' = None, random: 'Node' = None):\n",
    "        self.val = int(x)\n",
    "        self.next = next\n",
    "        self.random = random\n",
    "\n",
    "class Solution:\n",
    "    def copyRandomList(self, head: 'Optional[Node]') -> 'Optional[Node]':\n",
    "        if not head:\n",
    "            return None\n",
    "        #1. Go via original list and create deep_cp = [Node]\n",
    "        #2. create 'deep_cp_dic' where key = link to the old node, val = link new node\n",
    "        #3. Go via 'deep_cp' init next, deep_cp[i].next = deep_cp[i]  \n",
    "        #3.1 init random deep_cp[i].random = deep_cp_dic.get('head')\n",
    "        deep_cp_ref = []\n",
    "        deep_cp_ref_dict = {}\n",
    "        curr = head\n",
    "        #create list references and dict of the references between old and new nodes\n",
    "        while curr:\n",
    "            dc_node = Node(curr.val)\n",
    "            reference_node = dc_node\n",
    "            deep_cp_ref.append(reference_node)\n",
    "            deep_cp_ref_dict[curr] = reference_node                                                            \n",
    "            curr = curr.next\n",
    "            \n",
    "        #init next and random nodes\n",
    "        old_curr = head\n",
    "        for i in range(len(deep_cp_ref)-1):\n",
    "            #set next\n",
    "            deep_cp_ref[i].next = deep_cp_ref[i+1]\n",
    "            #set random \n",
    "            old_rand = old_curr.random\n",
    "            if old_rand:\n",
    "                deep_cp_ref[i].random = deep_cp_ref_dict.get(old_rand) \n",
    "            else:\n",
    "                deep_cp_ref[i].random = None\n",
    "            old_curr = old_curr.next   \n",
    "        \n",
    "        #set random for the last node\n",
    "        deep_cp_ref[-1].random = deep_cp_ref_dict.get(old_curr.random)                                                                               \n",
    "        return deep_cp_ref[0]    \n",
    "        \n",
    "root1 = Node(1) \n",
    "root1.next = Node(2)    \n",
    "root1.next.random = root1\n",
    "root1.next.next = Node(3)         \n",
    "root1.next.next.next = Node(4)\n",
    "root1.next.next.next.random = root1\n",
    "\n",
    "deep_copied_head = Solution().copyRandomList(root1)\n",
    "\n",
    "while deep_copied_head:\n",
    "    print(deep_copied_head.val, deep_copied_head.random)\n",
    "    deep_copied_head = deep_copied_head.next\n"
   ]
  }
 ],
 "metadata": {
  "kernelspec": {
   "display_name": "venv_alg",
   "language": "python",
   "name": "python3"
  },
  "language_info": {
   "codemirror_mode": {
    "name": "ipython",
    "version": 3
   },
   "file_extension": ".py",
   "mimetype": "text/x-python",
   "name": "python",
   "nbconvert_exporter": "python",
   "pygments_lexer": "ipython3",
   "version": "3.11.5"
  }
 },
 "nbformat": 4,
 "nbformat_minor": 2
}
