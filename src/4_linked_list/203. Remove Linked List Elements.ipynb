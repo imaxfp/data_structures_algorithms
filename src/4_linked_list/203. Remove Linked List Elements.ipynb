{
 "cells": [
  {
   "cell_type": "markdown",
   "metadata": {},
   "source": [
    "### 203. Remove Linked List Elements\n",
    "\n",
    "https://leetcode.com/problemset/?topicSlugs=linked-list&page=1&difficulty=EASY"
   ]
  },
  {
   "cell_type": "code",
   "execution_count": 2,
   "metadata": {},
   "outputs": [
    {
     "name": "stdout",
     "output_type": "stream",
     "text": [
      "1\n",
      "2\n",
      "2\n"
     ]
    }
   ],
   "source": [
    "from typing import Optional\n",
    "\n",
    "class ListNode:    \n",
    "    def __init__(self, val=0, next=None):        \n",
    "        self.val = val\n",
    "        self.next = next\n",
    "\n",
    "class Solution:\n",
    "    def removeElements(self, head: Optional[ListNode], val: int) -> Optional[ListNode]:\n",
    "\n",
    "        #1 case -> first node val == val\n",
    "        while head and head.val == val:\n",
    "            head = head.next\n",
    "\n",
    "        if not head:\n",
    "            return None \n",
    "        \n",
    "        #2 case -> mid node or last node == val  \n",
    "        prev = head\n",
    "        curr = head.next\n",
    "        while curr:            \n",
    "            if curr.val == val:                \n",
    "                prev.next = curr.next\n",
    "            else:\n",
    "                prev = curr    \n",
    "            curr = curr.next       \n",
    "\n",
    "        return head     \n",
    "\n",
    "\n",
    "root = ListNode(1)\n",
    "root.next = ListNode(2)\n",
    "root.next.next = ListNode(2)\n",
    "root.next.next.next = ListNode(3)\n",
    "\n",
    "r = Solution().removeElements(root, 3)\n",
    "while r:\n",
    "    print(r.val)\n",
    "    r = r.next\n",
    "                "
   ]
  },
  {
   "cell_type": "code",
   "execution_count": 8,
   "metadata": {},
   "outputs": [
    {
     "name": "stdout",
     "output_type": "stream",
     "text": [
      "1\n",
      "2\n",
      "2\n"
     ]
    }
   ],
   "source": [
    "from typing import Optional\n",
    "\n",
    "class ListNode:    \n",
    "    def __init__(self, val=0, next=None):        \n",
    "        self.val = val\n",
    "        self.next = next\n",
    "\n",
    "class Solution:\n",
    "    def removeElements(self, head: Optional[ListNode], val: int) -> Optional[ListNode]:\n",
    "        #1 case -> first node val == val\n",
    "        while head and head.val == val:\n",
    "            head = head.next   \n",
    "        \n",
    "        #2 case -> mid node or last node == val          \n",
    "        curr = head\n",
    "        while curr and curr.next:         \n",
    "            #currently cur is prev and we check \"curr.next\"  each time \n",
    "            if curr.next.val == val:                \n",
    "                curr.next = curr.next.next\n",
    "            else:                \n",
    "                curr = curr.next       \n",
    "        return head     \n",
    "\n",
    "\n",
    "root = ListNode(1)\n",
    "root.next = ListNode(2)\n",
    "root.next.next = ListNode(2)\n",
    "root.next.next.next = ListNode(3)\n",
    "\n",
    "r = Solution().removeElements(root, 3)\n",
    "while r:\n",
    "    print(r.val)\n",
    "    r = r.next\n",
    "                "
   ]
  }
 ],
 "metadata": {
  "kernelspec": {
   "display_name": "venv_alg",
   "language": "python",
   "name": "python3"
  },
  "language_info": {
   "codemirror_mode": {
    "name": "ipython",
    "version": 3
   },
   "file_extension": ".py",
   "mimetype": "text/x-python",
   "name": "python",
   "nbconvert_exporter": "python",
   "pygments_lexer": "ipython3",
   "version": "3.11.5"
  }
 },
 "nbformat": 4,
 "nbformat_minor": 2
}
