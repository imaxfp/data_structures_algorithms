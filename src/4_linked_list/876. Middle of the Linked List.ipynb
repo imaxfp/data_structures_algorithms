{
 "cells": [
  {
   "cell_type": "markdown",
   "metadata": {},
   "source": [
    "### 876. Middle of the Linked List\n",
    "\n",
    "https://leetcode.com/problems/middle-of-the-linked-list/description"
   ]
  },
  {
   "cell_type": "code",
   "execution_count": null,
   "metadata": {},
   "outputs": [],
   "source": [
    "from typing import Optional\n",
    "\n",
    "# Definition for singly-linked list.\n",
    "# class ListNode:\n",
    "#     def __init__(self, x):\n",
    "#         self.val = x\n",
    "#         self.next = None\n",
    "\n",
    "class ListNode:    \n",
    "    def __init__(self, x):        \n",
    "        self.val = x\n",
    "        self.next = None\n",
    "\n",
    "class Solution:\n",
    "    def middleNode(self, head: Optional[ListNode]) -> Optional[ListNode]:\n",
    "        #1. find lengths of the list\n",
    "        #2. if odd - return int(n / 2)\n",
    "        #3. if even - n / 2 + 1\n",
    "        list_len = 1\n",
    "        root = head\n",
    "        while root:\n",
    "            list_len+=1\n",
    "            root = root.next\n",
    "        mid_node = 0\n",
    "        if list_len % 2 == 0:\n",
    "            mid_node = list_len // 2\n",
    "        else:\n",
    "            mid_node = list_len // 2 + 1\n",
    "        cntr = 1\n",
    "        \n",
    "        while cntr != mid_node:\n",
    "            cntr+=1  \n",
    "            head = head.next \n",
    "        \n",
    "        return head  \n",
    "        \n",
    "    \n",
    "        \n",
    "        "
   ]
  }
 ],
 "metadata": {
  "language_info": {
   "name": "python"
  }
 },
 "nbformat": 4,
 "nbformat_minor": 2
}
