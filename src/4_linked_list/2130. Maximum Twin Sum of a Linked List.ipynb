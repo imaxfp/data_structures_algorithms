{
 "cells": [
  {
   "cell_type": "markdown",
   "metadata": {},
   "source": [
    "### 2130. Maximum Twin Sum of a Linked List\n",
    "\n",
    "https://leetcode.com/problems/maximum-twin-sum-of-a-linked-list"
   ]
  },
  {
   "cell_type": "code",
   "execution_count": 4,
   "metadata": {},
   "outputs": [
    {
     "data": {
      "text/plain": [
       "6"
      ]
     },
     "execution_count": 4,
     "metadata": {},
     "output_type": "execute_result"
    }
   ],
   "source": [
    "from typing import Optional\n",
    "\n",
    "# Definition for singly-linked list.\n",
    "# class ListNode:\n",
    "#     def __init__(self, val=0, next=None):\n",
    "#         self.val = val\n",
    "#         self.next = next\n",
    "\n",
    "class ListNode:    \n",
    "    def __init__(self, val=0, next=None):       \n",
    "        self.val = val\n",
    "        self.next = next\n",
    "\n",
    "class Solution:\n",
    "    def pairSum(self, head: Optional[ListNode]) -> int:\n",
    "        #TASK\n",
    "        #1. implement rule for twins detection\n",
    "        #2. find the maximum twin sum\n",
    "        if not head or not head.next:            \n",
    "            return None\n",
    "\n",
    "        first=head\n",
    "        second=head.next\n",
    "        #1. find the middle of the list\n",
    "        while second and second.next:\n",
    "            first = first.next\n",
    "            second = second.next.next\n",
    "        mid = first\n",
    "        #print(mid.val)    \n",
    "\n",
    "        #2. invert the second part of the list\n",
    "        prev = mid\n",
    "        curr = mid.next\n",
    "        prev.next = None        \n",
    "        while curr:            \n",
    "            tmp = curr.next\n",
    "            curr.next = prev\n",
    "            prev = curr\n",
    "            curr = tmp  \n",
    "            \n",
    "        #Find bigger sum     \n",
    "        max_sum = 0        \n",
    "        start = head\n",
    "        inversed_end = prev\n",
    "        while start:                        \n",
    "            max_sum = max(max_sum, (start.val + inversed_end.val)) \n",
    "            start = start.next\n",
    "            inversed_end = inversed_end.next                         \n",
    "        return max_sum\n",
    "    \n",
    "#head = [4,2,2,3]\n",
    "node = ListNode(4)\n",
    "node.next = ListNode(2)\n",
    "node.next.next = ListNode(2)\n",
    "node.next.next.next = ListNode(3)\n",
    "\n",
    "Solution().pairSum(node)   \n",
    "\n",
    "#head = [5,4,2,1]\n",
    "node = ListNode(5)\n",
    "node.next = ListNode(4)\n",
    "node.next.next = ListNode(2)\n",
    "node.next.next.next = ListNode(1)\n",
    "\n",
    "Solution().pairSum(node)"
   ]
  },
  {
   "cell_type": "code",
   "execution_count": 5,
   "metadata": {},
   "outputs": [],
   "source": [
    "class ListNode:    \n",
    "    def __init__(self, val=0, next=None):       \n",
    "        self.val = val\n",
    "        self.next = next\n",
    "\n",
    "class Solution:\n",
    "    def pairSum(self, head: Optional[ListNode]) -> int:\n",
    "            # Step 1: Find the middle of the linked list using fast and slow pointers\n",
    "            slow, fast = head, head\n",
    "            while fast and fast.next:\n",
    "                slow = slow.next\n",
    "                fast = fast.next.next\n",
    "\n",
    "            # Step 2: Reverse the second half of the list\n",
    "            prev, curr = None, slow\n",
    "            while curr:\n",
    "                tmp = curr.next\n",
    "                curr.next = prev\n",
    "                prev = curr\n",
    "                curr = tmp\n",
    "\n",
    "            # Step 3: Compare and calculate maximum twin sum\n",
    "            max_sum = 0\n",
    "            start, inversed_end = head, prev\n",
    "            while inversed_end:  # We only need to loop through the reversed half\n",
    "                max_sum = max(max_sum, start.val + inversed_end.val)\n",
    "                start = start.next\n",
    "                inversed_end = inversed_end.next\n",
    "\n",
    "            return max_sum"
   ]
  }
 ],
 "metadata": {
  "kernelspec": {
   "display_name": "venv_alg",
   "language": "python",
   "name": "python3"
  },
  "language_info": {
   "codemirror_mode": {
    "name": "ipython",
    "version": 3
   },
   "file_extension": ".py",
   "mimetype": "text/x-python",
   "name": "python",
   "nbconvert_exporter": "python",
   "pygments_lexer": "ipython3",
   "version": "3.11.5"
  }
 },
 "nbformat": 4,
 "nbformat_minor": 2
}
