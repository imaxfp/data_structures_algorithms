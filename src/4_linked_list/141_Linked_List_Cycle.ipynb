{
 "cells": [
  {
   "cell_type": "markdown",
   "metadata": {},
   "source": [
    "### 141. Linked List Cycle\n",
    "\n",
    "https://leetcode.com/problems/linked-list-cycle/"
   ]
  },
  {
   "cell_type": "code",
   "execution_count": null,
   "metadata": {},
   "outputs": [],
   "source": [
    "from typing import Optional\n",
    "\n",
    "# Definition for singly-linked list.\n",
    "# class ListNode:\n",
    "#     def __init__(self, x):\n",
    "#         self.val = x\n",
    "#         self.next = None\n",
    "\n",
    "class ListNode:    \n",
    "    def __init__(self, x):        \n",
    "        self.val = x\n",
    "        self.next = None\n",
    "\n",
    "class Solution:\n",
    "    def hasCycle(self, head: Optional[ListNode]) -> bool:        \n",
    "        if head is None:\n",
    "            return False\n",
    "        \n",
    "        slow = head\n",
    "        fast = head\n",
    "        while fast and fast.next:\n",
    "            if slow == fast:\n",
    "                return True\n",
    "            slow = slow.next\n",
    "            fast = fast.next.next\n",
    "                         \n",
    "        return False \n",
    "        \n",
    "        "
   ]
  }
 ],
 "metadata": {
  "language_info": {
   "name": "python"
  }
 },
 "nbformat": 4,
 "nbformat_minor": 2
}
