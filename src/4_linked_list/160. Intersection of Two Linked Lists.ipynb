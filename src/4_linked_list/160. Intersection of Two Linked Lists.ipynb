{
 "cells": [
  {
   "cell_type": "markdown",
   "metadata": {},
   "source": [
    "### 160. Intersection of Two Linked Lists\n",
    "\n",
    "https://leetcode.com/problems/intersection-of-two-linked-lists/description"
   ]
  },
  {
   "cell_type": "code",
   "execution_count": null,
   "metadata": {},
   "outputs": [],
   "source": [
    "class ListNode:    \n",
    "    def __init__(self, val=0, next=None):        \n",
    "        self.val = val\n",
    "        self.next = next\n",
    "\n",
    "class Solution:\n",
    "    def getIntersectionNode(self, headA: ListNode, headB: ListNode) -> Optional[ListNode]:\n",
    "        #1. go via listA and put references to the hash map\n",
    "        #2. go via listb and check if reference to the node in the hash map \n",
    "        dict_ref = {}\n",
    "        while headA:\n",
    "            dict_ref[headA] = 1\n",
    "            headA = headA.next\n",
    "\n",
    "        while headB:\n",
    "            if headB in dict_ref:\n",
    "                return headB\n",
    "            headB = headB.next\n",
    "\n",
    "        return None       "
   ]
  },
  {
   "cell_type": "code",
   "execution_count": 5,
   "metadata": {},
   "outputs": [],
   "source": [
    "# Follow up: Could you write a solution that runs in O(m + n) time and use only O(1) memory?\n",
    "\n",
    "from typing import Optional\n",
    "\n",
    "\n",
    "class ListNode:    \n",
    "    def __init__(self, val=0, next=None):        \n",
    "        self.val = val\n",
    "        self.next = next\n",
    "\n",
    "class Solution:\n",
    "    def getIntersectionNode(self, headA: ListNode, headB: ListNode) -> Optional[ListNode]:\n",
    "        if not headA or not headB:\n",
    "            return None\n",
    "        \n",
    "        # Initialize two pointers\n",
    "        pointerA, pointerB = headA, headB\n",
    "        \n",
    "        # Traverse both lists simultaneously\n",
    "        while pointerA != pointerB:\n",
    "            if pointerA:\n",
    "                pointerA = pointerA.next\n",
    "            else:\n",
    "                pointerA = headB\n",
    "\n",
    "            if pointerB:\n",
    "                pointerB = pointerB.next\n",
    "            else:\n",
    "                pointerB = headA\n",
    "        \n",
    "        # Either both pointers meet at the intersection or both reach null\n",
    "        return pointerA \n",
    "    \n",
    "headA = ListNode(1)\n",
    "headA.next = ListNode(2)\n",
    "headA.next.next = ListNode(3)\n",
    "headB = ListNode(10)\n",
    "headB.next = ListNode(20)\n",
    "headB.next.next = headA.next\n",
    "#Solution().getIntersectionNode(headA, headB)     \n",
    "\n",
    "headA = ListNode(1)\n",
    "headB = ListNode(10)\n",
    "headB.next = ListNode(20)\n",
    "headB.next.next = ListNode(30)\n",
    "Solution().getIntersectionNode(headA, headB)     "
   ]
  }
 ],
 "metadata": {
  "kernelspec": {
   "display_name": "venv_alg",
   "language": "python",
   "name": "python3"
  },
  "language_info": {
   "codemirror_mode": {
    "name": "ipython",
    "version": 3
   },
   "file_extension": ".py",
   "mimetype": "text/x-python",
   "name": "python",
   "nbconvert_exporter": "python",
   "pygments_lexer": "ipython3",
   "version": "3.11.5"
  }
 },
 "nbformat": 4,
 "nbformat_minor": 2
}
