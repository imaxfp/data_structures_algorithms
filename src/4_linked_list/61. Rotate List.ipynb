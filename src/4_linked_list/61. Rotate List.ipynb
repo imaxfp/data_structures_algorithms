{
 "cells": [
  {
   "cell_type": "markdown",
   "metadata": {},
   "source": [
    "### 61. Rotate List\n",
    "\n",
    "https://leetcode.com/problems/rotate-list/description"
   ]
  },
  {
   "cell_type": "code",
   "execution_count": 15,
   "metadata": {},
   "outputs": [
    {
     "name": "stdout",
     "output_type": "stream",
     "text": [
      "2\n",
      "0\n",
      "1\n"
     ]
    }
   ],
   "source": [
    "# BRUTE FORCE SOLUTION\n",
    "# Definition for singly-linked list.\n",
    "class ListNode:\n",
    "    def __init__(self, val=0, next=None):\n",
    "        self.val = val\n",
    "        self.next = next\n",
    "from typing import Optional\n",
    "\n",
    "\n",
    "class Solution:\n",
    "    def rotateRight(self, head: Optional[ListNode], k: int) -> Optional[ListNode]:\n",
    "        #brute force solution\n",
    "        #1. go to the last node. init last as a NEW head\n",
    "        #2. last[-1].next = None\n",
    "        #3. Repead 'k' times \n",
    "\n",
    "        #The number of nodes in the list is in the range [0, 500].\n",
    "        if not head:\n",
    "            return None\n",
    "\n",
    "        #if 1 node\n",
    "        if not head.next or k == 0:\n",
    "            return head    \n",
    "\n",
    "        # <= 2 nodes\n",
    "        for i in range(k):\n",
    "            prev = head\n",
    "            curr = head.next\n",
    "            while curr:\n",
    "                if curr.next == None:\n",
    "                    curr.next = head\n",
    "                    prev.next = None\n",
    "                    head = curr\n",
    "                    break\n",
    "                prev = curr    \n",
    "                curr = curr.next   \n",
    "\n",
    "        return head                                                           \n",
    "    \n",
    "    \n",
    "# head = [0,1,2]    \n",
    "# Expected [2,0,1]  \n",
    "# k = 4  \n",
    "root = ListNode(0)    \n",
    "root.next = ListNode(1)\n",
    "root.next.next = ListNode(2)\n",
    "\n",
    "r = Solution().rotateRight(root, 4)\n",
    "\n",
    "while r:\n",
    "    print(r.val)\n",
    "    r = r.next    "
   ]
  }
 ],
 "metadata": {
  "kernelspec": {
   "display_name": "venv_alg",
   "language": "python",
   "name": "python3"
  },
  "language_info": {
   "codemirror_mode": {
    "name": "ipython",
    "version": 3
   },
   "file_extension": ".py",
   "mimetype": "text/x-python",
   "name": "python",
   "nbconvert_exporter": "python",
   "pygments_lexer": "ipython3",
   "version": "3.11.5"
  }
 },
 "nbformat": 4,
 "nbformat_minor": 2
}
