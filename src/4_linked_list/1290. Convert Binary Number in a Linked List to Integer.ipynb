{
 "cells": [
  {
   "cell_type": "markdown",
   "metadata": {},
   "source": [
    "### 1290. Convert Binary Number in a Linked List to Integer\n",
    "\n",
    "https://leetcode.com/problems/convert-binary-number-in-a-linked-list-to-integer/description"
   ]
  },
  {
   "cell_type": "code",
   "execution_count": 10,
   "metadata": {},
   "outputs": [
    {
     "data": {
      "text/plain": [
       "5"
      ]
     },
     "execution_count": 10,
     "metadata": {},
     "output_type": "execute_result"
    }
   ],
   "source": [
    "# Definition for singly-linked list.\n",
    "class ListNode:    \n",
    "    def __init__(self, val=0, next=None):        \n",
    "        self.val = val\n",
    "        self.next = next\n",
    "\n",
    "class Solution:\n",
    "    def getDecimalValue(self, head: ListNode) -> int:\n",
    "        #1. collect bin to str\n",
    "        #2. str bin to decimal\n",
    "\n",
    "        #1.len of the list\n",
    "        #2 go via list 'if 1' res += len ** 2  \n",
    "        #3. len-=1 head = head.next\n",
    "        curr = head\n",
    "        len_list=0\n",
    "        while curr.next:\n",
    "            len_list+=1\n",
    "            curr = curr.next\n",
    "\n",
    "        curr = head\n",
    "        res=0\n",
    "        while curr:\n",
    "            if curr.val == 1:\n",
    "                res+=2 ** len_list\n",
    "            len_list-=1\n",
    "            curr = curr.next            \n",
    "        return res\n",
    "\n",
    "\n",
    "root = ListNode(1)\n",
    "root.next = ListNode(0)\n",
    "root.next.next = ListNode(1)\n",
    "Solution().getDecimalValue(root)\n",
    "\n",
    "        "
   ]
  },
  {
   "cell_type": "code",
   "execution_count": null,
   "metadata": {},
   "outputs": [],
   "source": [
    "class Solution:\n",
    "    def getDecimalValue(self, head: ListNode) -> int:\n",
    "        #1. collect bin to str\n",
    "        #2. str bin to decimal\n",
    "        bit_arr = []\n",
    "        while head:\n",
    "            bit_arr.append(str(head.val))\n",
    "            head=head.next\n",
    "        bin_str = \"\".join(bit_arr)\n",
    "        return int(bin_str, 2)  "
   ]
  }
 ],
 "metadata": {
  "kernelspec": {
   "display_name": "venv_alg",
   "language": "python",
   "name": "python3"
  },
  "language_info": {
   "codemirror_mode": {
    "name": "ipython",
    "version": 3
   },
   "file_extension": ".py",
   "mimetype": "text/x-python",
   "name": "python",
   "nbconvert_exporter": "python",
   "pygments_lexer": "ipython3",
   "version": "3.11.5"
  }
 },
 "nbformat": 4,
 "nbformat_minor": 2
}
