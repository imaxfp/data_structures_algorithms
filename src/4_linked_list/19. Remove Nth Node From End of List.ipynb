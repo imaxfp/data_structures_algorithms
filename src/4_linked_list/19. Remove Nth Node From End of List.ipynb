{
 "cells": [
  {
   "cell_type": "markdown",
   "metadata": {},
   "source": [
    "### 19. Remove Nth Node From End of List\n",
    "\n",
    "https://leetcode.com/problems/remove-nth-node-from-end-of-list/description"
   ]
  },
  {
   "cell_type": "code",
   "execution_count": 17,
   "metadata": {},
   "outputs": [
    {
     "data": {
      "text/plain": [
       "<__main__.ListNode at 0x1171b5d90>"
      ]
     },
     "execution_count": 17,
     "metadata": {},
     "output_type": "execute_result"
    }
   ],
   "source": [
    "# Definition for singly-linked list.\n",
    "class ListNode:    \n",
    "    def __init__(self, val=0, next=None):\n",
    "        self.val = val\n",
    "        self.next = next\n",
    "        \n",
    "from typing import Optional\n",
    "\n",
    "class Solution:\n",
    "    def removeNthFromEnd(self, head: Optional[ListNode], n: int) -> Optional[ListNode]:\n",
    "                \n",
    "        # Check if only 1 node in the list                \n",
    "        if not head.next:\n",
    "            return None \n",
    "        \n",
    "        # Count how many nodes \n",
    "        amount_nodes = 2\n",
    "        prev = head\n",
    "        curr = head.next\n",
    "        while curr.next:            \n",
    "            amount_nodes+=1\n",
    "            prev = curr\n",
    "            curr = curr.next                               \n",
    "        # if the last node for remove\n",
    "        if n == 1:\n",
    "            prev.next = None\n",
    "            return head\n",
    "        #if the first node for remove\n",
    "        if amount_nodes - n == 0:\n",
    "            return head.next   \n",
    "        \n",
    "        #2. if the middle node for remove\n",
    "        prev = head\n",
    "        curr = head.next\n",
    "        cntr=1           \n",
    "        # 1 <= n <= sz       \n",
    "        del_node = amount_nodes - n \n",
    "         \n",
    "        while curr:                                    \n",
    "            #check if node last                                             \n",
    "            if del_node == cntr:\n",
    "                prev.next = curr.next\n",
    "                return head                                                                \n",
    "            cntr+=1\n",
    "            prev = curr\n",
    "            curr = curr.next             \n",
    "            \n",
    "      \n",
    "#head = [1,2]   \n",
    "#n = 2\n",
    "l2 = ListNode(1)\n",
    "l2.next = ListNode(2)\n",
    "Solution().removeNthFromEnd(l2, 2)\n",
    "      \n",
    "            \n",
    "#Input: head = [1,2,3,4,5], n = 2\n",
    "#Output: [1,2,3,5]\n",
    "l = ListNode(1)\n",
    "l.next = ListNode(2)\n",
    "l.next.next = ListNode(3)\n",
    "l.next.next.next = ListNode(4)\n",
    "l.next.next.next.next = ListNode(5)\n",
    "\n",
    "Solution().removeNthFromEnd(l, 2)"
   ]
  }
 ],
 "metadata": {
  "kernelspec": {
   "display_name": "venv_alg",
   "language": "python",
   "name": "python3"
  },
  "language_info": {
   "codemirror_mode": {
    "name": "ipython",
    "version": 3
   },
   "file_extension": ".py",
   "mimetype": "text/x-python",
   "name": "python",
   "nbconvert_exporter": "python",
   "pygments_lexer": "ipython3",
   "version": "3.11.5"
  }
 },
 "nbformat": 4,
 "nbformat_minor": 2
}
