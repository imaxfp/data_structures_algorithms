{
 "cells": [
  {
   "cell_type": "markdown",
   "metadata": {},
   "source": [
    "### 21. Merge Two Sorted Lists\n",
    "\n",
    "https://leetcode.com/problems/merge-two-sorted-lists/description/"
   ]
  },
  {
   "cell_type": "code",
   "execution_count": 19,
   "metadata": {},
   "outputs": [
    {
     "name": "stdout",
     "output_type": "stream",
     "text": [
      "1\n",
      "2\n",
      "5\n",
      "6\n"
     ]
    }
   ],
   "source": [
    "from typing import Optional\n",
    "\n",
    "# Definition for singly-linked list.\n",
    "class ListNode:    \n",
    "    def __init__(self, val=0, next=None):\n",
    "        self.val = val\n",
    "        self.next = next\n",
    "\n",
    "class Solution:\n",
    "    def mergeTwoLists(self, list1: Optional[ListNode], list2: Optional[ListNode]) -> Optional[ListNode]:\n",
    "        #1. Check which list should start with\n",
    "        #2. r1=(1)-(6) and r2=(2)-(5)\n",
    "        #3. start from r1.val<r2.val\n",
    "        #5. curr_l1 curr_l2\n",
    "        if not list1:\n",
    "            return list2\n",
    "        if not list2:\n",
    "            return list1\n",
    "        if not list1 and not list2:            \n",
    "            return None  \n",
    "        \n",
    "\n",
    "        if list1.val < list2.val:\n",
    "            curr = ListNode(list1.val)\n",
    "            list1 = list1.next \n",
    "        else:\n",
    "            curr = ListNode(list2.val)            \n",
    "            list2 = list2.next\n",
    "        root = curr     \n",
    "                        \n",
    "        while list1 and list2:\n",
    "            if list1.val < list2.val:\n",
    "                curr.next = ListNode(list1.val)\n",
    "                list1 = list1.next \n",
    "            else:\n",
    "                curr.next = ListNode(list2.val)\n",
    "                list2 = list2.next                \n",
    "            curr = curr.next\n",
    "        if list1:\n",
    "            curr.next = list1\n",
    "        if list2:\n",
    "            curr.next = list2\n",
    "                        \n",
    "        return root\n",
    "    \n",
    "root1 = ListNode(1)    \n",
    "root1.next = ListNode(6)    \n",
    "\n",
    "root2 = ListNode(2)    \n",
    "root2.next = ListNode(5)    \n",
    "            \n",
    "res = Solution().mergeTwoLists(root1, root2)            \n",
    "while res:\n",
    "    print(res.val)\n",
    "    res = res.next"
   ]
  }
 ],
 "metadata": {
  "kernelspec": {
   "display_name": "venv_alg",
   "language": "python",
   "name": "python3"
  },
  "language_info": {
   "codemirror_mode": {
    "name": "ipython",
    "version": 3
   },
   "file_extension": ".py",
   "mimetype": "text/x-python",
   "name": "python",
   "nbconvert_exporter": "python",
   "pygments_lexer": "ipython3",
   "version": "3.11.5"
  }
 },
 "nbformat": 4,
 "nbformat_minor": 2
}
