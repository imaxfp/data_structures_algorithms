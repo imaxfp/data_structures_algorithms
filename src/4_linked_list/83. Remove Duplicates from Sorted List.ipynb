{
 "cells": [
  {
   "cell_type": "markdown",
   "metadata": {},
   "source": [
    "### 83. Remove Duplicates from Sorted List\n",
    "\n",
    "https://leetcode.com/problems/remove-duplicates-from-sorted-list/description/"
   ]
  },
  {
   "cell_type": "code",
   "execution_count": null,
   "metadata": {},
   "outputs": [],
   "source": [
    "from typing import Optional\n",
    "\n",
    "# Definition for singly-linked list.\n",
    "class ListNode:    \n",
    "    def __init__(self, val=0, next=None):\n",
    "        self.val = val\n",
    "        self.next = next\n",
    "\n",
    "class Solution:\n",
    "    def deleteDuplicates(self, head: Optional[ListNode]) -> Optional[ListNode]:\n",
    "        #1. sorted linked list \n",
    "        root = head\n",
    "        while root and root.next:\n",
    "            if root.val == root.next.val:\n",
    "                root.next = root.next.next\n",
    "            else:\n",
    "                root = root.next    \n",
    "        return head   "
   ]
  }
 ],
 "metadata": {
  "language_info": {
   "name": "python"
  }
 },
 "nbformat": 4,
 "nbformat_minor": 2
}
