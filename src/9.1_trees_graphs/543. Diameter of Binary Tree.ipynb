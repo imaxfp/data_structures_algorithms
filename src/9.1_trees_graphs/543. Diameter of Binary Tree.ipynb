{
 "cells": [
  {
   "cell_type": "markdown",
   "metadata": {},
   "source": [
    "### 543. Diameter of Binary Tree\n",
    "\n",
    "https://leetcode.com/problems/diameter-of-binary-tree/description/"
   ]
  },
  {
   "cell_type": "code",
   "execution_count": 7,
   "metadata": {},
   "outputs": [
    {
     "name": "stdout",
     "output_type": "stream",
     "text": [
      "3\n",
      "2\n"
     ]
    }
   ],
   "source": [
    "from typing import Optional\n",
    "\n",
    "class TreeNode:\n",
    "    def __init__(self, val):\n",
    "        self.val = val\n",
    "        self.left = None\n",
    "        self.right = None\n",
    "\n",
    "class Solution:\n",
    "    def diameterOfBinaryTree(self, root: Optional[TreeNode]) -> int:\n",
    "        #1. recursively ececute left and right branch\n",
    "        #2. add length_cntr to the recursion\n",
    "        #3. if code is NONE result = max(result, length_cntr)\n",
    "        if not root:\n",
    "            return 0\n",
    "        \n",
    "        result = 1\n",
    "        def dfs(node, ctr):\n",
    "            if not node:\n",
    "                return max(result, ctr)\n",
    "            \n",
    "            ctr+=1\n",
    "            left = dfs(node.left, ctr)\n",
    "            right = dfs(node.left, ctr)\n",
    "            return max(left, right)\n",
    "        \n",
    "        return dfs(root, 0)\n",
    "\n",
    "#Input: root = [1,2,3,4,5]\n",
    "#Output: 3\n",
    "\n",
    "#The diameter of a binary tree is the length of the longest path between any two nodes in a tree.\n",
    "\"\"\"\n",
    "Constructed binary tree is \n",
    "                1\n",
    "              /   \\\n",
    "            2      3\n",
    "          /  \\\n",
    "        4     5\n",
    "       /      \\\n",
    "      11         6\n",
    "      /           \\\n",
    "    12            7          \n",
    "                 /\n",
    "                8\n",
    "               /\n",
    "              9     \n",
    "\"\"\"\n",
    "treeNode = TreeNode(1)\n",
    "treeNode.left = TreeNode(2)\n",
    "treeNode.right = TreeNode(3)\n",
    "treeNode.left.left = TreeNode(4)\n",
    "treeNode.left.right = TreeNode(5)\n",
    "\n",
    "#Input: root = [1,2]\n",
    "#Output: 1\n",
    "treeNode2 = TreeNode(1)\n",
    "treeNode2.left = TreeNode(2)\n",
    "\n",
    "\n",
    "print(Solution().diameterOfBinaryTree(treeNode))\n",
    "#print(Solution().diameterOfBinaryTree(treeNode2))"
   ]
  },
  {
   "cell_type": "code",
   "execution_count": null,
   "metadata": {},
   "outputs": [],
   "source": [
    "\"\"\"\n",
    "The diameter of a tree (sometimes called the width) is the number of nodes on the longest path\n",
    "between two end nodes. \n",
    "\n",
    "                1\n",
    "              /   \\\n",
    "            2      3\n",
    "          /  \\\n",
    "        4     5\n",
    "       /      \\\n",
    "      11       6\n",
    "      /         \\\n",
    "    12          7          \n",
    "                 /\n",
    "                8\n",
    "               /\n",
    "              9  \n",
    "              \n",
    "The nodes responsible for the diameter are 12, 11, 4, 2, 5, 6, 7, 8, and 9.\n",
    "The path representing the diameter is: 12 -> 11 -> 4 -> 2 -> 5 -> 6 -> 7 -> 8 -> 9.  \n",
    "\"\"\"\n",
    "  "
   ]
  }
 ],
 "metadata": {
  "kernelspec": {
   "display_name": "venv_alg",
   "language": "python",
   "name": "python3"
  },
  "language_info": {
   "codemirror_mode": {
    "name": "ipython",
    "version": 3
   },
   "file_extension": ".py",
   "mimetype": "text/x-python",
   "name": "python",
   "nbconvert_exporter": "python",
   "pygments_lexer": "ipython3",
   "version": "3.11.5"
  }
 },
 "nbformat": 4,
 "nbformat_minor": 2
}
