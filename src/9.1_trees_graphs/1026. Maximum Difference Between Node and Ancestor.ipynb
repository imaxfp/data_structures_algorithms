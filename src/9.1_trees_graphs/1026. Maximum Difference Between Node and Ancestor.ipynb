{
 "cells": [
  {
   "cell_type": "markdown",
   "metadata": {},
   "source": [
    "### 1026. Maximum Difference Between Node and Ancestor\n",
    "\n",
    "https://leetcode.com/problems/maximum-difference-between-node-and-ancestor/description/"
   ]
  },
  {
   "cell_type": "code",
   "execution_count": 11,
   "metadata": {},
   "outputs": [
    {
     "name": "stdout",
     "output_type": "stream",
     "text": [
      "7\n"
     ]
    }
   ],
   "source": [
    "#naive approach (track all ancestors of the tree 'extra memory required')\n",
    "import copy\n",
    "# Definition for a binary tree node.\n",
    "from typing import Optional\n",
    "\n",
    "class TreeNode:\n",
    "    def __init__(self, val):\n",
    "        self.val = val\n",
    "        self.left = None\n",
    "        self.right = None\n",
    "    \n",
    "class Solution:\n",
    "    def maxAncestorDiff(self, root: Optional[TreeNode]) -> int:        \n",
    "        stack = []\n",
    "        stack.append((root, list()))\n",
    "        \n",
    "        maxDiff = -1\n",
    "        while stack:\n",
    "            node, ancestors = stack.pop()\n",
    "            #node will be the ancestor for the new left or right \n",
    "            \n",
    "            #calc max diff betwenn node val and all ancesstors \n",
    "            for anc in ancestors:\n",
    "                maxDiff = max(abs(node.val - anc.val),  maxDiff)   \n",
    "           \n",
    "            copied_anc = copy.deepcopy(ancestors) \n",
    "            copied_anc.append(node)\n",
    "            if node.left:\n",
    "                stack.append((node.left, copied_anc))\n",
    "                \n",
    "            if node.right:\n",
    "                stack.append((node.right, copied_anc))    \n",
    "                \n",
    "        return maxDiff                             \n",
    "\n",
    "#Input: root = [8,3,10,1,6,null,14,null,null,4,7,13]\n",
    "# Output: 7\n",
    "treeNode = TreeNode(8)\n",
    "treeNode.left = TreeNode(3) \n",
    "treeNode.left.left = TreeNode(1)\n",
    "treeNode.left.right = TreeNode(6)\n",
    "treeNode.left.right.left = TreeNode(4)\n",
    "treeNode.left.right.right = TreeNode(7)\n",
    "\n",
    "treeNode.right = TreeNode(10)\n",
    "treeNode.right.right = TreeNode(14)\n",
    "treeNode.right.right.left = TreeNode(13)\n",
    "\n",
    "\n",
    "print(Solution().maxAncestorDiff(treeNode))"
   ]
  },
  {
   "cell_type": "code",
   "execution_count": 12,
   "metadata": {},
   "outputs": [
    {
     "name": "stdout",
     "output_type": "stream",
     "text": [
      "7\n"
     ]
    }
   ],
   "source": [
    "#Recursive implementation, without extra memeory \n",
    "class Solution:\n",
    "    def maxAncestorDiff(self, root: Optional[TreeNode]) -> int:\n",
    "        def dfs(node, cur_min, cur_max):\n",
    "            if not node:\n",
    "                return cur_max - cur_min\n",
    "            \n",
    "            cur_min = min(cur_min, node.val)\n",
    "            cur_max = max(cur_max, node.val)\n",
    "            \n",
    "            left_diff = dfs(node.left, cur_min, cur_max)\n",
    "            right_diff = dfs(node.right, cur_min, cur_max)\n",
    "            \n",
    "            return max(left_diff, right_diff)\n",
    "        \n",
    "        return dfs(root, root.val, root.val)\n",
    "\n",
    "#Input: root = [8,3,10,1,6,null,14,null,null,4,7,13]\n",
    "# Output: 7\n",
    "treeNode = TreeNode(8)\n",
    "treeNode.left = TreeNode(3) \n",
    "treeNode.left.left = TreeNode(1)\n",
    "treeNode.left.right = TreeNode(6)\n",
    "treeNode.left.right.left = TreeNode(4)\n",
    "treeNode.left.right.right = TreeNode(7)\n",
    "\n",
    "treeNode.right = TreeNode(10)\n",
    "treeNode.right.right = TreeNode(14)\n",
    "treeNode.right.right.left = TreeNode(13)\n",
    "\n",
    "\n",
    "print(Solution().maxAncestorDiff(treeNode))    "
   ]
  }
 ],
 "metadata": {
  "kernelspec": {
   "display_name": "venv_alg",
   "language": "python",
   "name": "python3"
  },
  "language_info": {
   "codemirror_mode": {
    "name": "ipython",
    "version": 3
   },
   "file_extension": ".py",
   "mimetype": "text/x-python",
   "name": "python",
   "nbconvert_exporter": "python",
   "pygments_lexer": "ipython3",
   "version": "3.11.5"
  }
 },
 "nbformat": 4,
 "nbformat_minor": 2
}
