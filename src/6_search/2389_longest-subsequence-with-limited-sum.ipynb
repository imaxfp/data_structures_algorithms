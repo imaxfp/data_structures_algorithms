{
 "cells": [
  {
   "cell_type": "markdown",
   "metadata": {},
   "source": [
    "### 2389. longest-subsequence-with-limited-sum\n",
    "\n",
    "https://leetcode.com/problems/longest-subsequence-with-limited-sum/description/"
   ]
  },
  {
   "cell_type": "code",
   "execution_count": 32,
   "metadata": {},
   "outputs": [
    {
     "name": "stdout",
     "output_type": "stream",
     "text": [
      "[2, 3, 4]\n"
     ]
    }
   ],
   "source": [
    "from typing import List\n",
    "\n",
    "class Solution:\n",
    "    def answerQueries(self, nums: List[int], queries: List[int]) -> List[int]:\n",
    "        # Sort the nums to handle smallest elements first\n",
    "        nums.sort()\n",
    "        # Prepare a result list for the answers to the queries\n",
    "        results = []\n",
    "        # Process each query independently\n",
    "        for q in queries:\n",
    "            current_sum = 0\n",
    "            count = 0\n",
    "            # Go through sorted nums and accumulate until we exceed the query value\n",
    "            for num in nums:\n",
    "                if current_sum + num <= q:\n",
    "                    current_sum += num\n",
    "                    count += 1\n",
    "                else:\n",
    "                    break\n",
    "            results.append(count)\n",
    "        return results   \n",
    "\n",
    "print(Solution().answerQueries([4,5,2,1], [3,10,21]))  \n",
    "\n",
    "assert Solution().answerQueries([736411,184882,914641,37925,214915], [331244,273144,118983,118252,305688,718089,665450]) == [2,2,1,1,2,3,3]\n",
    "          \n",
    "\n",
    "  "
   ]
  }
 ],
 "metadata": {
  "kernelspec": {
   "display_name": "venv_alg",
   "language": "python",
   "name": "python3"
  },
  "language_info": {
   "codemirror_mode": {
    "name": "ipython",
    "version": 3
   },
   "file_extension": ".py",
   "mimetype": "text/x-python",
   "name": "python",
   "nbconvert_exporter": "python",
   "pygments_lexer": "ipython3",
   "version": "3.11.5"
  }
 },
 "nbformat": 4,
 "nbformat_minor": 2
}
