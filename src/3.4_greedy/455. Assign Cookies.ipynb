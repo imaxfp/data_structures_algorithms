{
 "cells": [
  {
   "cell_type": "markdown",
   "metadata": {},
   "source": [
    "### 455. Assign Cookies\n",
    "\n",
    "https://leetcode.com/problems/assign-cookies"
   ]
  },
  {
   "cell_type": "code",
   "execution_count": 3,
   "metadata": {},
   "outputs": [
    {
     "data": {
      "text/plain": [
       "1"
      ]
     },
     "execution_count": 3,
     "metadata": {},
     "output_type": "execute_result"
    }
   ],
   "source": [
    "from typing import List\n",
    "\n",
    "\n",
    "class Solution:\n",
    "    def findContentChildren(self, g: List[int], s: List[int]) -> int:\n",
    "        #TASK\n",
    "        #1. greed factor - g[i], which is the minimum size of a cookie \n",
    "        #2. size s[j] \n",
    "        #3. If s[j] >= g[i], we can assign the cookie j to the child i\n",
    "        \n",
    "        #SOLUTION\n",
    "        #1. sort arrs\n",
    "        #1. while g[i] > s[j] s.pop\n",
    "        s.sort()\n",
    "        g.sort()\n",
    "        content_children = 0\n",
    "\n",
    "        #g = [2,3]\n",
    "        #s = []\n",
    "        while g and s:\n",
    "            while s and s[0] < g[0]:\n",
    "                s.pop(0)\n",
    "            if s and s[0] >= g[0]:\n",
    "                content_children+=1\n",
    "                s.pop(0)\n",
    "                g.pop(0)\n",
    "        return content_children\n",
    "\n",
    "g = [1,2,3]    \n",
    "s = [1,1]\n",
    "Solution().findContentChildren(g, s)    "
   ]
  },
  {
   "cell_type": "code",
   "execution_count": 5,
   "metadata": {},
   "outputs": [
    {
     "data": {
      "text/plain": [
       "1"
      ]
     },
     "execution_count": 5,
     "metadata": {},
     "output_type": "execute_result"
    }
   ],
   "source": [
    "from typing import List\n",
    "class Solution:\n",
    "    def findContentChildren(self, g, s):\n",
    "        # Sort greed factors and cookie sizes\n",
    "        g.sort()\n",
    "        s.sort()\n",
    "        \n",
    "        child_i = 0  # Pointer for children\n",
    "        cookie_j = 0  # Pointer for cookies\n",
    "        content_children = 0  # Counter for content children\n",
    "        \n",
    "        # Iterate while there are children and cookies left\n",
    "        while child_i < len(g) and cookie_j < len(s):\n",
    "            # If the current cookie can satisfy the current child\n",
    "            if s[cookie_j] >= g[child_i]:\n",
    "                content_children += 1  # The child is content\n",
    "                child_i += 1  # Move to the next child\n",
    "            # Move to the next cookie in either case\n",
    "            cookie_j += 1\n",
    "        \n",
    "        return content_children\n",
    "\n",
    "g = [1,2,3]    \n",
    "s = [1,1]\n",
    "Solution().findContentChildren(g, s)    "
   ]
  }
 ],
 "metadata": {
  "kernelspec": {
   "display_name": "venv_alg",
   "language": "python",
   "name": "python3"
  },
  "language_info": {
   "codemirror_mode": {
    "name": "ipython",
    "version": 3
   },
   "file_extension": ".py",
   "mimetype": "text/x-python",
   "name": "python",
   "nbconvert_exporter": "python",
   "pygments_lexer": "ipython3",
   "version": "3.11.5"
  }
 },
 "nbformat": 4,
 "nbformat_minor": 2
}
