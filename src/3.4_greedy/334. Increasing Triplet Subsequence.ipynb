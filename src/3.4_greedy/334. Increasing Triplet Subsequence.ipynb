{
 "cells": [
  {
   "cell_type": "markdown",
   "metadata": {},
   "source": [
    "### 334. Increasing Triplet Subsequence\n",
    "\n"
   ]
  },
  {
   "cell_type": "code",
   "execution_count": 23,
   "metadata": {},
   "outputs": [
    {
     "name": "stdout",
     "output_type": "stream",
     "text": [
      "False\n",
      "True\n",
      "True\n",
      "False\n"
     ]
    }
   ],
   "source": [
    "#BRUTEFORCE O(n^3)\n",
    "from typing import List\n",
    "\n",
    "\n",
    "class Solution:\n",
    "    def increasingTriplet(self, nums: List[int]) -> bool:\n",
    "        #TASK\n",
    "        #1. return true if there exists a triple of indices (i, j, k) \n",
    "        #such that i < j < k and nums[i] < nums[j] < nums[k].\n",
    "        #2. If no such indices exists, return false.\n",
    "\n",
    "        # Constraints\n",
    "        #1. 1 <= nums.len \n",
    "       \n",
    "        for i in range(len(nums)):\n",
    "            for j in range(i, len(nums)):                \n",
    "                for k in range(j, len(nums)):                \n",
    "                    if nums[i] < nums[j] < nums[k]:\n",
    "                        return True\n",
    "                \n",
    "        return False     \n",
    "        \n",
    "#nums = [0,4,2,1,0,-1,-3]\n",
    "#Expected = false\n",
    "print(Solution().increasingTriplet([0,4,2,1,0,-1]))\n",
    "        \n",
    "#nums = [1,5,0,4,1,3]\n",
    "#expected = true\n",
    "print(Solution().increasingTriplet([1,5,0,4,1,3]))\n",
    "     \n",
    "\n",
    "# nums = [20,100,10,12,5,13]\n",
    "# Expected true \n",
    "print(Solution().increasingTriplet([20,100,10,12,5,13]))\n",
    "\n",
    "#nums = [2,4,-2,-3]\n",
    "#Expected false\n",
    "print(Solution().increasingTriplet([2,4,-2,-3]))\n",
    "\n"
   ]
  },
  {
   "cell_type": "code",
   "execution_count": 30,
   "metadata": {},
   "outputs": [
    {
     "name": "stdout",
     "output_type": "stream",
     "text": [
      "False\n",
      "False\n",
      "0 1 3\n",
      "True\n",
      "5 12 13\n",
      "True\n",
      "False\n"
     ]
    }
   ],
   "source": [
    "# O(n) Greedy algorithm \n",
    "from typing import List\n",
    "\n",
    "class Solution:    \n",
    "    def increasingTriplet(self, nums: List[int]) -> bool:\n",
    "        first = mid = third = float('inf')\n",
    "        \n",
    "        for n in nums:\n",
    "            #greedily choose the smallest so far\n",
    "            if n <= first:\n",
    "                first = n \n",
    "            #greedily choose the second smallest\n",
    "            elif n <= mid:\n",
    "                mid = n\n",
    "            #greedily third     \n",
    "            elif n < third:         \n",
    "                third = n\n",
    "                print(first, mid, third)\n",
    "                return True\n",
    "        \n",
    "        return False    \n",
    "\n",
    "\n",
    "\n",
    "# [1,1,1,1]\n",
    "# Expected false\n",
    "print(Solution().increasingTriplet([1,1,1,1]))\n",
    "\n",
    "#nums = [0,4,2,1,0,-1,-3]\n",
    "#Expected = false\n",
    "print(Solution().increasingTriplet([0,4,2,1,0,-1]))\n",
    "        \n",
    "#nums = [1,5,0,4,1,3]\n",
    "#expected = true\n",
    "print(Solution().increasingTriplet([1,5,0,4,1,3]))\n",
    "     \n",
    "\n",
    "# nums = [20,100,10,12,5,13]\n",
    "# Expected true \n",
    "print(Solution().increasingTriplet([20,100,10,12,5,13]))\n",
    "\n",
    "#nums = [2,4,-2,-3]\n",
    "#Expected false\n",
    "print(Solution().increasingTriplet([2,4,-2,-3]))                "
   ]
  },
  {
   "cell_type": "code",
   "execution_count": 29,
   "metadata": {},
   "outputs": [
    {
     "name": "stdout",
     "output_type": "stream",
     "text": [
      "True\n",
      "False\n",
      "True\n",
      "True\n",
      "False\n"
     ]
    }
   ],
   "source": [
    "\n",
    "from typing import List\n",
    "\n",
    "class Solution:    \n",
    "    def increasingTriplet(self, nums: List[int]) -> bool:\n",
    "        # Greedy approach:\n",
    "        # We aim to maintain the smallest and second smallest numbers in the sequence.\n",
    "        # If we find a number greater than both, we know that an increasing triplet exists.\n",
    "\n",
    "        first = second = float('inf')  # Initialize two variables with infinity (greedy placeholders)\n",
    "        \n",
    "        for num in nums:\n",
    "            if num <= first:\n",
    "                first = num  # Update 'first' with the smallest number (greedily choose the smallest so far)\n",
    "            elif num <= second:\n",
    "                second = num  # Update 'second' with the next smallest number (greedily choose the second smallest)\n",
    "            else:\n",
    "                # If the current number is greater than both 'first' and 'second', we've found our triplet\n",
    "                return True\n",
    "        \n",
    "        # If no triplet is found, return False\n",
    "        return False\n",
    "    \n",
    "# [1,1,1,1]\n",
    "# Expected false\n",
    "print(Solution().increasingTriplet([1,1,1,1]))\n",
    "\n",
    "#nums = [0,4,2,1,0,-1,-3]\n",
    "#Expected = false\n",
    "print(Solution().increasingTriplet([0,4,2,1,0,-1]))\n",
    "        \n",
    "#nums = [1,5,0,4,1,3]\n",
    "#expected = true\n",
    "print(Solution().increasingTriplet([1,5,0,4,1,3]))\n",
    "     \n",
    "\n",
    "# nums = [20,100,10,12,5,13]\n",
    "# Expected true \n",
    "print(Solution().increasingTriplet([20,100,10,12,5,13]))\n",
    "\n",
    "#nums = [2,4,-2,-3]\n",
    "#Expected false\n",
    "print(Solution().increasingTriplet([2,4,-2,-3])) "
   ]
  }
 ],
 "metadata": {
  "kernelspec": {
   "display_name": "venv_alg",
   "language": "python",
   "name": "python3"
  },
  "language_info": {
   "codemirror_mode": {
    "name": "ipython",
    "version": 3
   },
   "file_extension": ".py",
   "mimetype": "text/x-python",
   "name": "python",
   "nbconvert_exporter": "python",
   "pygments_lexer": "ipython3",
   "version": "3.11.5"
  }
 },
 "nbformat": 4,
 "nbformat_minor": 2
}
