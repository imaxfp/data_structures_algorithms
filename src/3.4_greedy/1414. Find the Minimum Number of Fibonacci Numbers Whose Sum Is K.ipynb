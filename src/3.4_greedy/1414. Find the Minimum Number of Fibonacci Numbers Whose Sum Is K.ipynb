{
 "cells": [
  {
   "cell_type": "markdown",
   "metadata": {},
   "source": [
    "### 1414. Find the Minimum Number of Fibonacci Numbers Whose Sum Is K\n",
    "\n",
    "https://leetcode.com/problems/find-the-minimum-number-of-fibonacci-numbers-whose-sum-is-k/description\n"
   ]
  },
  {
   "cell_type": "code",
   "execution_count": null,
   "metadata": {},
   "outputs": [
    {
     "name": "stdout",
     "output_type": "stream",
     "text": [
      "[1, 1, 2, 3, 5, 8]\n",
      "[1, 1, 2, 3, 5, 8, 13]\n",
      "[1, 1, 2, 3, 5, 8, 13, 21, 34, 55, 89, 144, 233, 377, 610, 987, 1597, 2584, 4181, 6765, 10946, 17711, 28657, 46368, 75025, 121393, 196418, 317811, 514229]\n"
     ]
    },
    {
     "data": {
      "text/plain": [
       "11"
      ]
     },
     "execution_count": 8,
     "metadata": {},
     "output_type": "execute_result"
    }
   ],
   "source": [
    "class Solution:\n",
    "    def findMinFibonacciNumbers(self, k: int) -> int:                \n",
    "        #1. BOTTOM-UP\n",
    "        def dp_fib(k):\n",
    "            dp = [1, 1]\n",
    "            i=2\n",
    "            while dp[-1] <= k:\n",
    "                dp.append(dp[i-2] + dp[i-1])\n",
    "                i+=1\n",
    "            return dp\n",
    "\n",
    "        fib_arr = dp_fib(k)\n",
    "        print(fib_arr)\n",
    "        \n",
    "        #2. Gready with 2 pointers\n",
    "        cntr=0\n",
    "        for i in range(len(fib_arr)-1,-1,-1):\n",
    "            if k == 0:\n",
    "                return cntr \n",
    "            if fib_arr[i] <= k:                                                \n",
    "                k-=fib_arr[i]\n",
    "                cntr +=1   \n",
    "        return -1\n",
    "        \n",
    "\n",
    "#Input: k = 7\n",
    "#Output: 2 \n",
    "Solution().findMinFibonacciNumbers(7)\n",
    "\n",
    "#Input: k = 10\n",
    "#Output: 2 \n",
    "Solution().findMinFibonacciNumbers(10)\n",
    "\n",
    "#k = 513314\n",
    "#Expected 11\n",
    "Solution().findMinFibonacciNumbers(513314)"
   ]
  }
 ],
 "metadata": {
  "kernelspec": {
   "display_name": "Python 3",
   "language": "python",
   "name": "python3"
  },
  "language_info": {
   "codemirror_mode": {
    "name": "ipython",
    "version": 3
   },
   "file_extension": ".py",
   "mimetype": "text/x-python",
   "name": "python",
   "nbconvert_exporter": "python",
   "pygments_lexer": "ipython3",
   "version": "3.9.6"
  }
 },
 "nbformat": 4,
 "nbformat_minor": 2
}
