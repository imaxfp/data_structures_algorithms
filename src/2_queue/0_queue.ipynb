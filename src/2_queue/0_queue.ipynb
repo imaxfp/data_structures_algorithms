{
 "cells": [
  {
   "cell_type": "code",
   "execution_count": 1,
   "metadata": {},
   "outputs": [
    {
     "name": "stdout",
     "output_type": "stream",
     "text": [
      "deque([1, 2, 3])\n",
      "1\n",
      "deque([2, 3])\n"
     ]
    }
   ],
   "source": [
    "import queue\n",
    "\n",
    "myQueue = queue.Queue()\n",
    "\n",
    "myQueue.put(1)\n",
    "myQueue.put(2)\n",
    "myQueue.put(3)\n",
    "\n",
    "# The queue module is designed to facilitate the safe, efficient construction of a FIFO\n",
    "# FIFO (First In, First Out) \n",
    "print(myQueue.queue)\n",
    "print(myQueue._get())\n",
    "print(myQueue.queue)"
   ]
  },
  {
   "cell_type": "code",
   "execution_count": 2,
   "metadata": {},
   "outputs": [
    {
     "name": "stdout",
     "output_type": "stream",
     "text": [
      "1\n",
      "2\n",
      "None\n"
     ]
    }
   ],
   "source": [
    "class MyQueue():        \n",
    "    def __init__(self):        \n",
    "        self.queue = []\n",
    "    \n",
    "    def put(self, data):\n",
    "        self.queue.insert(0, data)\n",
    "    \n",
    "    def get(self):\n",
    "        if len(self.queue) == 0:\n",
    "            return None\n",
    "        return self.queue.pop()\n",
    "        \n",
    "myQueue = MyQueue()             \n",
    "myQueue.put(1)\n",
    "myQueue.put(2)\n",
    "\n",
    "print(myQueue.get())\n",
    "print(myQueue.get())      \n",
    "print(myQueue.get())      "
   ]
  }
 ],
 "metadata": {
  "kernelspec": {
   "display_name": "venv_alg",
   "language": "python",
   "name": "python3"
  },
  "language_info": {
   "codemirror_mode": {
    "name": "ipython",
    "version": 3
   },
   "file_extension": ".py",
   "mimetype": "text/x-python",
   "name": "python",
   "nbconvert_exporter": "python",
   "pygments_lexer": "ipython3",
   "version": "3.11.5"
  }
 },
 "nbformat": 4,
 "nbformat_minor": 2
}
