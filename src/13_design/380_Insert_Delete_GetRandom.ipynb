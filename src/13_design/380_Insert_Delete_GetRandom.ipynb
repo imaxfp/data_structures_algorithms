{
 "cells": [
  {
   "cell_type": "markdown",
   "metadata": {},
   "source": [
    "### 380. Insert Delete GetRandom O(1)\n",
    "\n",
    "https://leetcode.com/problems/insert-delete-getrandom-o1/description/\n",
    "\n",
    "https://leetcode.com/problems/insert-delete-getrandom-o1/submissions/1291350348/\n"
   ]
  },
  {
   "cell_type": "code",
   "execution_count": 4,
   "metadata": {},
   "outputs": [
    {
     "name": "stdout",
     "output_type": "stream",
     "text": [
      "True\n",
      "False\n",
      "True\n",
      "2\n",
      "True\n",
      "True\n",
      "2\n"
     ]
    }
   ],
   "source": [
    "import random\n",
    "\n",
    "class RandomizedSet:\n",
    "\n",
    "    def __init__(self):\n",
    "        self.set_dict = {}\n",
    "        \n",
    "    def insert(self, val: int) -> bool:\n",
    "        if self.set_dict.get(val):\n",
    "            return False\n",
    "        else:\n",
    "            self.set_dict[val] = 1  \n",
    "            return True      \n",
    "\n",
    "    def remove(self, val: int) -> bool:\n",
    "        if self.set_dict.get(val):\n",
    "            del self.set_dict[val]\n",
    "            return True\n",
    "        else:\n",
    "            return False \n",
    "        \n",
    "    def getRandom(self) -> int:\n",
    "        randnum = random.randint(0, len(self.set_dict)-1)\n",
    "        key_value_pair = list(self.set_dict.items())[randnum]\n",
    "        return key_value_pair[0]    \n",
    "    \n",
    "#Input\n",
    "#[\"RandomizedSet\", \"insert\", \"remove\", \"insert\", \"getRandom\", \"remove\", \"insert\", \"getRandom\"]\n",
    "#[[], [1], [2], [2], [], [1], [2], []]\n",
    "#Output\n",
    "#[null, true, false, true, 2, true, false, 2]\n",
    "\n",
    "randomSet = RandomizedSet()\n",
    "\n",
    "print(randomSet.insert(1))\n",
    "print(randomSet.remove(2))\n",
    "print(randomSet.insert(2))\n",
    "print(randomSet.getRandom())\n",
    "print(randomSet.remove(2))\n",
    "print(randomSet.insert(2))\n",
    "print(randomSet.getRandom())"
   ]
  }
 ],
 "metadata": {
  "kernelspec": {
   "display_name": "venv_alg",
   "language": "python",
   "name": "python3"
  },
  "language_info": {
   "codemirror_mode": {
    "name": "ipython",
    "version": 3
   },
   "file_extension": ".py",
   "mimetype": "text/x-python",
   "name": "python",
   "nbconvert_exporter": "python",
   "pygments_lexer": "ipython3",
   "version": "3.11.5"
  }
 },
 "nbformat": 4,
 "nbformat_minor": 2
}
