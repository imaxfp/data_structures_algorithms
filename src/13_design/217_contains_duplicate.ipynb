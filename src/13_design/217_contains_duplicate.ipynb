{
 "cells": [
  {
   "cell_type": "markdown",
   "metadata": {},
   "source": [
    "### 217. Contains Duplicate\n",
    "\n",
    "https://leetcode.com/problems/contains-duplicate/description/\n",
    "\n",
    "\n",
    "https://leetcode.com/problems/contains-duplicate/submissions/1291358159/\n",
    "\n"
   ]
  },
  {
   "cell_type": "code",
   "execution_count": 4,
   "metadata": {},
   "outputs": [
    {
     "data": {
      "text/plain": [
       "True"
      ]
     },
     "execution_count": 4,
     "metadata": {},
     "output_type": "execute_result"
    }
   ],
   "source": [
    "from typing import List\n",
    "\n",
    "class MyHashMap:\n",
    "    def __init__(self):\n",
    "        self.size = 1000\n",
    "        self.table = [[] for _ in range(self.size)]\n",
    "        \n",
    "    def _hash(self, key):\n",
    "        return key % self.size\n",
    "    \n",
    "    def put(self, key, value):\n",
    "        hash_key = self._hash(key)\n",
    "        found = False\n",
    "        for i, kv in enumerate(self.table[hash_key]):\n",
    "            if kv[0] == key:\n",
    "                self.table[hash_key][i] = (key, value)\n",
    "                found = True\n",
    "                break\n",
    "        if not found:\n",
    "            self.table[hash_key].append((key, value))\n",
    "    \n",
    "    def get(self, key):\n",
    "        hash_key = self._hash(key)\n",
    "        for kv in self.table[hash_key]:\n",
    "            if kv[0] == key:\n",
    "                return kv[1]\n",
    "        return None\n",
    "    \n",
    "    def remove(self, key):\n",
    "        hash_key = self._hash(key)\n",
    "        for i, kv in enumerate(self.table[hash_key]):\n",
    "            if kv[0] == key:\n",
    "                del self.table[hash_key][i]\n",
    "                break\n",
    "\n",
    "\n",
    "class Solution:\n",
    "    def containsDuplicate(self, nums: List[int]) -> bool:\n",
    "        myHashMap = MyHashMap()\n",
    "        #dict_res = {}\n",
    "        for n in nums:\n",
    "            if myHashMap.get(n) is not None:\n",
    "                return True\n",
    "            myHashMap.put(n, 1)\n",
    "        return False\n",
    "    \n",
    "Solution().containsDuplicate([1,2,3,1]) \n",
    "    "
   ]
  }
 ],
 "metadata": {
  "kernelspec": {
   "display_name": "venv_alg",
   "language": "python",
   "name": "python3"
  },
  "language_info": {
   "codemirror_mode": {
    "name": "ipython",
    "version": 3
   },
   "file_extension": ".py",
   "mimetype": "text/x-python",
   "name": "python",
   "nbconvert_exporter": "python",
   "pygments_lexer": "ipython3",
   "version": "3.11.5"
  }
 },
 "nbformat": 4,
 "nbformat_minor": 2
}
