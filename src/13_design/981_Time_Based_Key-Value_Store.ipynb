{
 "cells": [
  {
   "cell_type": "markdown",
   "metadata": {},
   "source": [
    "### 981. Time Based Key-Value Store\n",
    "\n",
    "https://leetcode.com/problems/time-based-key-value-store/description/\n",
    "\n",
    "https://leetcode.com/problems/time-based-key-value-store/submissions/1291290052/\n",
    "\n"
   ]
  },
  {
   "cell_type": "code",
   "execution_count": 17,
   "metadata": {},
   "outputs": [
    {
     "name": "stdout",
     "output_type": "stream",
     "text": [
      "\n",
      "high\n",
      "high\n",
      "low\n",
      "low\n"
     ]
    }
   ],
   "source": [
    "class TimeMap:\n",
    "    # 2. val should be stack if only timestamp order is needed, \n",
    "    # val -> arr if we are looking for precisely timestamp \n",
    "    # 3. binary search for searchin by the timestamp\n",
    "\n",
    "    def __init__(self):        \n",
    "        # 1. HashMap for storing key -> val\n",
    "        self.timestamp_dict = {}\n",
    "        \n",
    "\n",
    "    def set(self, key: str, value: str, timestamp: int) -> None:\n",
    "        val_arr = self.timestamp_dict.get(key, [])\n",
    "        val_arr.append((timestamp, value))    \n",
    "        self.timestamp_dict[key] = val_arr    \n",
    "\n",
    "    def get(self, key: str, timestamp: int) -> str:\n",
    "        val_arr = self.timestamp_dict.get(key, [])\n",
    "        if not val_arr:\n",
    "            return \"rr\"\n",
    "        #bin search for excact or LARGER value if larger value out of the arr, return \"\"\n",
    "        else:\n",
    "            left = 0\n",
    "            right = len(val_arr)\n",
    "            while left < right:\n",
    "                mid = (left + right) // 2\n",
    "                #exclude left side of the arr \n",
    "                if val_arr[mid][0] <= timestamp:\n",
    "                    left = mid+1\n",
    "                #exclude right side of the arr \n",
    "                else:                      \n",
    "                    right = mid\n",
    "  \n",
    "                \n",
    "        #by defolt return latest\n",
    "        if left == 0:\n",
    "            return \"\"\n",
    "        else:\n",
    "            return val_arr[left - 1][1]      \n",
    "\n",
    "# Your TimeMap object will be instantiated and called as such:\n",
    "# obj = TimeMap()\n",
    "# obj.set(key,value,timestamp)\n",
    "# param_2 = obj.get(key,timestamp)\n",
    "\n",
    "#Input:\n",
    "#[\"TimeMap\",\"set\",\"set\",\"get\",\"get\",\"get\",\"get\",\"get\"]\n",
    "#[[],[\"love\",\"high\",10],[\"love\",\"low\",20],[\"love\",5],[\"love\",10],[\"love\",15],[\"love\",20],[\"love\",25]]\n",
    "\n",
    "#[null,null,null,\"\",\"high\",\"high\",\"low\",\"low\"]\n",
    "\n",
    "obj = TimeMap()\n",
    "obj.set(\"love\",\"high\",10)\n",
    "obj.set(\"love\",\"low\",20)\n",
    "print(obj.get(\"love\",5))\n",
    "print(obj.get(\"love\",10))\n",
    "print(obj.get(\"love\",15))\n",
    "print(obj.get(\"love\",20))\n",
    "print(obj.get(\"love\",25))"
   ]
  }
 ],
 "metadata": {
  "kernelspec": {
   "display_name": "venv_alg",
   "language": "python",
   "name": "python3"
  },
  "language_info": {
   "codemirror_mode": {
    "name": "ipython",
    "version": 3
   },
   "file_extension": ".py",
   "mimetype": "text/x-python",
   "name": "python",
   "nbconvert_exporter": "python",
   "pygments_lexer": "ipython3",
   "version": "3.11.5"
  }
 },
 "nbformat": 4,
 "nbformat_minor": 2
}
