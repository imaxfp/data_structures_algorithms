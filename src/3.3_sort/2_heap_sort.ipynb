{
 "cells": [
  {
   "cell_type": "markdown",
   "metadata": {},
   "source": [
    "### 912. Sort an Array\n",
    "\n",
    "https://leetcode.com/problems/sort-an-array/description/?envType=daily-question&envId=2024-07-25\n",
    "\n",
    "**Heap Sort**\n",
    "- **Time Complexity**: O(n log n)\n",
    "- **Space Complexity**: O(1)"
   ]
  },
  {
   "cell_type": "code",
   "execution_count": 8,
   "metadata": {},
   "outputs": [
    {
     "name": "stdout",
     "output_type": "stream",
     "text": [
      "[0, 0, 1, 1, 2, 5]\n"
     ]
    }
   ],
   "source": [
    "from typing import List\n",
    "import heapq\n",
    "\n",
    "class Solution:\n",
    "    def sortArray(self, nums: List[int]) -> List[int]:\n",
    "        heap = []\n",
    "        list(map(lambda x: heapq.heappush(heap, x), nums))\n",
    "\n",
    "        # Pop elements from the heap to form a sorted array using map and lambda\n",
    "        # [None] * len(heap) - just amout of iteration for the pop(), can be writen in classical for... \n",
    "        sorted_arr = list(map(lambda x: heapq.heappop(heap), [None] * len(heap)))\n",
    "        return sorted_arr \n",
    "        \n",
    "        \n",
    "#Output: [0,0,1,1,2,5] \n",
    "print(Solution().sortArray([5,1,1,2,0,0]))"
   ]
  }
 ],
 "metadata": {
  "kernelspec": {
   "display_name": "venv_alg",
   "language": "python",
   "name": "python3"
  },
  "language_info": {
   "codemirror_mode": {
    "name": "ipython",
    "version": 3
   },
   "file_extension": ".py",
   "mimetype": "text/x-python",
   "name": "python",
   "nbconvert_exporter": "python",
   "pygments_lexer": "ipython3",
   "version": "3.11.5"
  }
 },
 "nbformat": 4,
 "nbformat_minor": 2
}
