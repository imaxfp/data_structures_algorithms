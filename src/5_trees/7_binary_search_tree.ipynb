{
 "cells": [
  {
   "cell_type": "markdown",
   "metadata": {},
   "source": [
    "# Insertion and Search\n",
    "\n",
    "## BST (binary search tree)\n",
    "A binary search tree is a tree data structure in which nodes are arranged according to the BST property which is as follows:\n",
    "\n",
    "- The value of the left child of any node in a binary search tree will be less than whatever value we have in that node, and the value of the right child of a node will be greater than the value in that node.\n",
    "\n",
    "- If the new value is less than the value of the current node, then the new value must be inserted in the left subtree of the current node. \n",
    "\n",
    "- On the other hand, if it’s greater, it must be inserted in the right subtree to satisfy the BST property. \n",
    "\n"
   ]
  }
 ],
 "metadata": {
  "kernelspec": {
   "display_name": "venv_alg",
   "language": "python",
   "name": "python3"
  },
  "language_info": {
   "codemirror_mode": {
    "name": "ipython",
    "version": 3
   },
   "file_extension": ".py",
   "mimetype": "text/x-python",
   "name": "python",
   "nbconvert_exporter": "python",
   "pygments_lexer": "ipython3",
   "version": "3.11.5"
  }
 },
 "nbformat": 4,
 "nbformat_minor": 2
}
