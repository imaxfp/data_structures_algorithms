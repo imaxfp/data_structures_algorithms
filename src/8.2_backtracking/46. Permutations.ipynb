{
 "cells": [
  {
   "cell_type": "code",
   "execution_count": null,
   "metadata": {},
   "outputs": [
    {
     "data": {
      "text/plain": [
       "[[1, 2, 3], [1, 3, 2], [2, 1, 3], [2, 3, 1], [3, 1, 2], [3, 2, 1]]"
      ]
     },
     "execution_count": 2,
     "metadata": {},
     "output_type": "execute_result"
    }
   ],
   "source": [
    "from typing import List\n",
    "\n",
    "class Solution:\n",
    "    def permute(self, nums: List[int]) -> List[List[int]]:\n",
    "\n",
    "        ans = []\n",
    "\n",
    "        def backtrack(curr):\n",
    "            if len(curr) == len(nums):\n",
    "                #creating a shallow copy of a list \n",
    "                ans.append(curr[:])\n",
    "                return\n",
    "        \n",
    "            for num in nums:\n",
    "                if num not in curr:\n",
    "                    curr.append(num)\n",
    "                    backtrack(curr)\n",
    "                    curr.pop()\n",
    "        backtrack([])\n",
    "        return ans\n",
    "\n",
    "Solution().permute([1,2,3])\n",
    "\n",
    "# Input: nums = [1,2,3]\n",
    "# Output: [[1,2,3],[1,3,2],[2,1,3],[2,3,1],[3,1,2],[3,2,1]]"
   ]
  }
 ],
 "metadata": {
  "kernelspec": {
   "display_name": "Python 3",
   "language": "python",
   "name": "python3"
  },
  "language_info": {
   "codemirror_mode": {
    "name": "ipython",
    "version": 3
   },
   "file_extension": ".py",
   "mimetype": "text/x-python",
   "name": "python",
   "nbconvert_exporter": "python",
   "pygments_lexer": "ipython3",
   "version": "3.9.6"
  }
 },
 "nbformat": 4,
 "nbformat_minor": 2
}
