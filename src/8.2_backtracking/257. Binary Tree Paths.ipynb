{
 "cells": [
  {
   "cell_type": "code",
   "execution_count": 12,
   "metadata": {},
   "outputs": [
    {
     "name": "stdout",
     "output_type": "stream",
     "text": [
      "['1->2->5', '1->3']\n",
      "['1->2->7->8', '1->2->5', '1->3']\n"
     ]
    }
   ],
   "source": [
    "\n",
    "from typing import List, Optional\n",
    "\n",
    "\n",
    "class TreeNode:\n",
    "    def __init__(self, val=0, left=None, right=None):\n",
    "        self.val = val\n",
    "        self.left = left\n",
    "        self.right = right\n",
    "\n",
    "\n",
    "\n",
    "class Solution:\n",
    "    def binaryTreePaths(self, root: Optional[TreeNode]) -> List[str]:\n",
    "        \n",
    "        def backtrack(node, acc_path, path):            \n",
    "            if not node:\n",
    "                return\n",
    "            acc_path += str(node.val)\n",
    "            if not node.left and not node.right:                \n",
    "                path.append(acc_path)    \n",
    "            \n",
    "            acc_path += '->'\n",
    "            if node.left:                \n",
    "                backtrack(node.left, acc_path, path)\n",
    "            if node.right:\n",
    "                backtrack(node.right, acc_path, path)\n",
    "            return path       \n",
    "\n",
    "        return backtrack(root, \"\", [])\n",
    "                 \n",
    "root = TreeNode(1)\n",
    "root.left = TreeNode(2)\n",
    "root.left.right = TreeNode(5)\n",
    "root.right = TreeNode(3)\n",
    "print(Solution().binaryTreePaths(root))\n",
    "\n",
    "# Manually creating the tree\n",
    "root = TreeNode(1)\n",
    "root.left = TreeNode(2)\n",
    "root.left.right = TreeNode(5)\n",
    "root.left.left = TreeNode(7)\n",
    "root.left.left.left = TreeNode(8)\n",
    "root.right = TreeNode(3)\n",
    "print(Solution().binaryTreePaths(root))"
   ]
  }
 ],
 "metadata": {
  "kernelspec": {
   "display_name": "Python 3",
   "language": "python",
   "name": "python3"
  },
  "language_info": {
   "codemirror_mode": {
    "name": "ipython",
    "version": 3
   },
   "file_extension": ".py",
   "mimetype": "text/x-python",
   "name": "python",
   "nbconvert_exporter": "python",
   "pygments_lexer": "ipython3",
   "version": "3.9.6"
  }
 },
 "nbformat": 4,
 "nbformat_minor": 2
}
