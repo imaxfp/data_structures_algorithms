{
 "cells": [
  {
   "cell_type": "markdown",
   "metadata": {},
   "source": [
    "# 78. Subsets\n",
    "\n",
    "https://leetcode.com/problems/subsets/description"
   ]
  },
  {
   "cell_type": "code",
   "execution_count": 48,
   "metadata": {},
   "outputs": [
    {
     "name": "stdout",
     "output_type": "stream",
     "text": [
      ".subsets([1,2])\n",
      "0 => []\n",
      "1 => [1]\n",
      "2 => [1, 2]\n",
      "3 => [2]\n",
      ".subsets([1,2,3])\n",
      "0 => []\n",
      "1 => [1]\n",
      "2 => [1, 2]\n",
      "3 => [1, 2, 3]\n",
      "4 => [1, 3]\n",
      "5 => [2]\n",
      "6 => [2, 3]\n",
      "7 => [3]\n"
     ]
    }
   ],
   "source": [
    "from typing import List\n",
    "\n",
    "class Solution:\n",
    "    def subsets(self, nums: List[int]) -> List[List[int]]:\n",
    "        \n",
    "        def backtrack(curr, i, res):        \n",
    "            #shallow cp\n",
    "            res.append(curr[:])\n",
    "\n",
    "            for j in range(i, len(nums)):\n",
    "                curr.append(nums[j])\n",
    "                backtrack(curr, j+1, res)\n",
    "                curr.pop()\n",
    "            return res            \n",
    "        return backtrack([], 0, [])\n",
    "    \n",
    "#Input: nums = [1,2,3]\n",
    "#Output: [[],[1],[2],[1,2],[3],[1,3],[2,3],[1,2,3]]        \n",
    "#Solution().subsets([1,2,3,4,5,6,7,8,9,10,11,12,13,14,16,17,18,19,20,21,22,23])    \n",
    "\n",
    "'''\n",
    "DEBUG:\n",
    "subsets([1,2])  \n",
    "                     1. Add root\n",
    "                      []\n",
    "                    /   \\    \n",
    "                   /     \\\n",
    "                  /       \\\n",
    "                 /          2. Append 1 + bactrack \n",
    "4. Next 'for loop' j = 1    [1]\n",
    "after CALL STACK unwinding    \\ \n",
    "            /                  \\\n",
    "          [2]                   \\\n",
    "                                 \\\n",
    "                                 3. Append 2 + bactrack   \n",
    "                                [1,2] \n",
    "                                   \\\n",
    "                                for loop 'i' > len(nums), CALL STACK unwinding => 'pop() + pop()' => []\n",
    "          \n",
    "'''\n",
    "print('.subsets([1,2])')\n",
    "res = Solution().subsets([1,2])    \n",
    "for i in range(len(res)):    \n",
    "    print(f'{i} => {res[i]}')\n",
    "\n",
    "\n",
    "\n",
    "\n",
    "\n",
    "print('.subsets([1,2,3])')\n",
    "res = Solution().subsets([1,2,3])    \n",
    "for i in range(len(res)):    \n",
    "    print(f'{i} => {res[i]}')    \n",
    "\n"
   ]
  }
 ],
 "metadata": {
  "kernelspec": {
   "display_name": "Python 3",
   "language": "python",
   "name": "python3"
  },
  "language_info": {
   "codemirror_mode": {
    "name": "ipython",
    "version": 3
   },
   "file_extension": ".py",
   "mimetype": "text/x-python",
   "name": "python",
   "nbconvert_exporter": "python",
   "pygments_lexer": "ipython3",
   "version": "3.9.6"
  }
 },
 "nbformat": 4,
 "nbformat_minor": 2
}
