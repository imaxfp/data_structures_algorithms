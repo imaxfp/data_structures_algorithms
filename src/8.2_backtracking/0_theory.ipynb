{
 "cells": [
  {
   "cell_type": "markdown",
   "metadata": {},
   "source": [
    "<img src=\"./img/backtrack_1.png\" alt=\"nearby_objects\" width=\"700\"/>\n",
    "\n",
    "\n",
    " - **exhaustive search** => we generate all possibilities and then check them for solutions. \n",
    " - **backtracking** => prune paths that cannot lead to a solution, generating far fewer possibilities.\n",
    " - **backtracking GOOD FOR** => problem wants you to find all of something, or there isn't a clear way to find a solution without checking all logical possibilities.\n",
    " - **backtracking TIME COMPLEXITY** => is if the input constraints are very small (n <= ~15), as backtracking algorithms usually have exponential time complexities. (1 <= n <= 16, 1 <= n <= 20, etc..)"
   ]
  },
  {
   "cell_type": "markdown",
   "metadata": {},
   "source": [
    "In most backtracking problems, you will be building something, either directly (like modifying an array) or indirectly (using variables to represent some state).\n",
    "\n",
    " \n",
    "pseudocode for a general backtracking format:\n",
    "\n",
    "```\n",
    "function backtrack(curr) {\n",
    "    if (base case) {\n",
    "        Increment or add to answer\n",
    "        return\n",
    "    }\n",
    "\n",
    "    for (iterate over input) {\n",
    "        Modify curr\n",
    "        backtrack(curr)\n",
    "        Undo whatever modification was done to curr\n",
    "    }\n",
    "}\n",
    "```\n",
    "\n",
    "- **Each call of a def is like a node in the tre** => simle visualisation fo backtracking.\n",
    "- **Tree Representation** => Each call to the function backtrack represents a node in the tree. \n",
    "- **Moving to a child** => Each iteration in the for loop represents a child of the current node, and calling backtrack in that loop represents moving to a child.\n",
    "- **Base case** => The leaf nodes are complete solutions and represent when the base case is reached.\n"
   ]
  },
  {
   "cell_type": "markdown",
   "metadata": {},
   "source": [
    "#### Generation - One common type of problem that can be solved with backtracking"
   ]
  },
  {
   "cell_type": "markdown",
   "metadata": {},
   "source": [
    "# Permutations\n",
    "\n",
    "```\n",
    "Given an array nums of distinct integers, return all the possible permutations in any order.\n",
    "\n",
    "For example, given nums = [1, 2, 3], return [[1,2,3],[1,3,2],[2,1,3],[2,3,1],[3,1,2],[3,2,1]].\n",
    "```\n",
    "\n",
    "- **Base case** => would be when curr.length == nums.length - we have completed a permutation and can't go further. \n",
    "\n",
    "- **To build all permutations** => we need all elements at the first index, and for each of those elements, we need all other elements at the second index, and so on "
   ]
  },
  {
   "cell_type": "code",
   "execution_count": 46,
   "metadata": {},
   "outputs": [
    {
     "data": {
      "text/plain": [
       "[[1, 2, 3], [1, 3, 2], [2, 1, 3], [2, 3, 1], [3, 1, 2], [3, 2, 1]]"
      ]
     },
     "execution_count": 46,
     "metadata": {},
     "output_type": "execute_result"
    }
   ],
   "source": [
    "# Permutations\n",
    "# Time complexitu - O(n!)\n",
    "from typing import List\n",
    "\n",
    "class Solution:\n",
    "    def permute(self, nums: List[int]) -> List[List[int]]:\n",
    "        \n",
    "        res = []\n",
    "        def backtrack(curr):\n",
    "            #Base case \n",
    "            if len(curr) == len(nums):\n",
    "                #shallow cp\n",
    "                res.append(curr[:])\n",
    "                return\n",
    "            \n",
    "            #Main recursion - (for n in nums) will be executed n! times in total\n",
    "            for n in nums:            \n",
    "                if n not in curr:                                        \n",
    "                    curr.append(n)\n",
    "                    backtrack(curr)\n",
    "                    curr.pop()        \n",
    "        backtrack([])            \n",
    "        return res\n",
    "    \n",
    "Solution().permute([1,2,3]) "
   ]
  },
  {
   "cell_type": "markdown",
   "metadata": {},
   "source": [
    "https://www.youtube.com/watch?v=L0NxT2i-LOY&ab_channel=GregHogg\n"
   ]
  },
  {
   "cell_type": "markdown",
   "metadata": {},
   "source": [
    "# Subsets\n",
    "\n",
    "<img src=\"./img/subsets.jpeg\" alt=\"nearby_objects\" width=\"600\"/>"
   ]
  },
  {
   "cell_type": "code",
   "execution_count": 31,
   "metadata": {},
   "outputs": [
    {
     "name": "stdout",
     "output_type": "stream",
     "text": [
      ".subsets([1,2])\n",
      "0 => []\n",
      "1 => [1]\n",
      "2 => [1, 2]\n",
      "3 => [2]\n",
      ".subsets([1,2,3])\n",
      "0 => []\n",
      "1 => [1]\n",
      "2 => [1, 2]\n",
      "3 => [1, 2, 3]\n",
      "4 => [1, 3]\n",
      "5 => [2]\n",
      "6 => [2, 3]\n",
      "7 => [3]\n"
     ]
    }
   ],
   "source": [
    "# 78. Subsets - generate all possible subsets (the power set) \n",
    "# TIME complexity of the solution is O(2ⁿ × n), where n is the length of the input array nums\n",
    "\n",
    "from typing import List\n",
    "\n",
    "class Solution:\n",
    "    def subsets(self, nums: List[int]) -> List[List[int]]:\n",
    "        \n",
    "        def backtrack(curr, i, res):        \n",
    "            #shallow cp\n",
    "            res.append(curr[:])\n",
    "\n",
    "            for j in range(i, len(nums)):\n",
    "                curr.append(nums[j])\n",
    "                backtrack(curr, j+1, res)\n",
    "                curr.pop()\n",
    "            return res            \n",
    "        return backtrack([], 0, [])\n",
    "    \n",
    "#Input: nums = [1,2,3]\n",
    "#Output: [[],[1],[2],[1,2],[3],[1,3],[2,3],[1,2,3]]        \n",
    "#Solution().subsets([1,2,3,4,5,6,7,8,9,10,11,12,13,14,16,17,18,19,20,21,22,23])    \n",
    "\n",
    "'''\n",
    "DEBUG:\n",
    "                 subsets([1,2])  \n",
    "                      1. Add root\n",
    "                      []\n",
    "                    /   \\    \n",
    "                   /     \\\n",
    "                  /       \\\n",
    "                 /          2. Append 1 + bactrack \n",
    "4. Next 'for loop' j = 1    [1]\n",
    "after CALL STACK unwinding    \\ \n",
    "            /                  \\\n",
    "          [2]                   \\\n",
    "                                 \\\n",
    "                                3. Append 2 + bactrack   \n",
    "                                [1,2] \n",
    "                                   \\\n",
    "                                for loop 'i' > len(nums), CALL STACK unwinding => 'pop() + pop()' => []\n",
    "          \n",
    "'''\n",
    "print('.subsets([1,2])')\n",
    "res = Solution().subsets([1,2])    \n",
    "for i in range(len(res)):    \n",
    "    print(f'{i} => {res[i]}')\n",
    "\n",
    "\n",
    "print('.subsets([1,2,3])')\n",
    "res = Solution().subsets([1,2,3])    \n",
    "for i in range(len(res)):    \n",
    "    print(f'{i} => {res[i]}')    \n",
    "\n",
    "\n",
    "        "
   ]
  },
  {
   "cell_type": "markdown",
   "metadata": {},
   "source": [
    "# Combinations\n",
    "\n",
    "Given two integers n and k, return all combinations of k numbers out of the range [1, n] in any order.\n",
    "\n",
    "For example, given n = 4, k = 2, return [[2,4],[3,4],[2,3],[1,2],[1,3],[1,4]]."
   ]
  },
  {
   "cell_type": "code",
   "execution_count": 45,
   "metadata": {},
   "outputs": [
    {
     "data": {
      "text/plain": [
       "[[1, 2], [1, 3], [1, 4], [2, 3], [2, 4], [3, 4]]"
      ]
     },
     "execution_count": 45,
     "metadata": {},
     "output_type": "execute_result"
    }
   ],
   "source": [
    "class Solution:\n",
    "    def combine(self, n: int, k: int) -> List[List[int]]:                \n",
    "\n",
    "        res = [] \n",
    "        def backtrack(comb, start):            \n",
    "            if len(comb) == k:\n",
    "                res.append(comb[:])                \n",
    "                return          \n",
    "              \n",
    "            for i in range(start, n+1):               \n",
    "                comb.append(i)\n",
    "                backtrack(comb, i+1)\n",
    "                comb.pop()\n",
    "                \n",
    "        backtrack([], 1)                           \n",
    "        return res\n",
    "    \n",
    "# Input: n = 4, k = 2\n",
    "# Output: [[1,2],[1,3],[1,4],[2,3],[2,4],[3,4]]\n",
    "\n",
    "Solution().combine(4, 2)\n"
   ]
  }
 ],
 "metadata": {
  "kernelspec": {
   "display_name": "Python 3",
   "language": "python",
   "name": "python3"
  },
  "language_info": {
   "codemirror_mode": {
    "name": "ipython",
    "version": 3
   },
   "file_extension": ".py",
   "mimetype": "text/x-python",
   "name": "python",
   "nbconvert_exporter": "python",
   "pygments_lexer": "ipython3",
   "version": "3.9.6"
  }
 },
 "nbformat": 4,
 "nbformat_minor": 2
}
