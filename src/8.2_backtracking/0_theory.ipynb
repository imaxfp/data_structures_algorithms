{
 "cells": [
  {
   "cell_type": "markdown",
   "metadata": {},
   "source": [
    "Backtracking is a great tool whenever a problem wants you to find all of something, or there isn't a clear way to find a solution without checking all logical possibilities.\n",
    "\n",
    "mechanism to “undo” part of our current state as we return from a recursive call, which allows us to restore the path to a previous state.\n",
    "\n",
    "Hint that you should use backtracking is if the input constraints are very small (n <= ~15) 'as backtracking algorithms usually have exponential time complexities.'\n",
    "\n",
    "Backtracking is almost always implemented with recursion - it really doesn't make sense to do it iteratively.\n",
    "\n",
    "In most backtracking problems, you will be building something, either directly (like modifying an array) or indirectly (using variables to represent some state).\n",
    "\n",
    "```\n",
    "// let curr represent the thing you are building\n",
    "// it could be an array or a combination of variables\n",
    "\n",
    "function backtrack(curr) {\n",
    "    if (base case) {\n",
    "        Increment or add to answer\n",
    "        return\n",
    "    }\n",
    "\n",
    "    for (iterate over input) {\n",
    "        Modify curr\n",
    "        backtrack(curr)\n",
    "        Undo whatever modification was done to curr\n",
    "    }\n",
    "}\n",
    "```"
   ]
  }
 ],
 "metadata": {
  "language_info": {
   "name": "python"
  }
 },
 "nbformat": 4,
 "nbformat_minor": 2
}
