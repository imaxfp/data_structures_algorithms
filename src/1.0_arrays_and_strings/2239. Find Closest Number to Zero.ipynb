{
 "cells": [
  {
   "cell_type": "markdown",
   "metadata": {
    "vscode": {
     "languageId": "plaintext"
    }
   },
   "source": [
    "### 2239. Find Closest Number to Zero\n",
    "\n",
    "https://leetcode.com/problems/find-closest-number-to-zero/description/\n"
   ]
  },
  {
   "cell_type": "code",
   "execution_count": 9,
   "metadata": {},
   "outputs": [
    {
     "data": {
      "text/plain": [
       "1"
      ]
     },
     "execution_count": 9,
     "metadata": {},
     "output_type": "execute_result"
    }
   ],
   "source": [
    "from typing import List\n",
    "\n",
    "\n",
    "class Solution:\n",
    "    def findClosestNumber(self, nums: List[int]) -> int:\n",
    "\n",
    "\n",
    "        neg_close = float('inf')\n",
    "        pos_close = float('inf')\n",
    "        for n in nums:   \n",
    "            if n == 0:\n",
    "                return 0\n",
    "\n",
    "            distance = abs(n)\n",
    "                                                        \n",
    "            if n < 0 and distance < abs(neg_close):                    \n",
    "                neg_close = n\n",
    "\n",
    "            if n > 0 and n < pos_close:\n",
    "                pos_close = n   \n",
    "        \n",
    "        if abs(neg_close) < abs(pos_close):\n",
    "            return neg_close            \n",
    "        else:\n",
    "            return pos_close\n",
    "        \n",
    "#Input: nums = [-4,-2,1,4,8]\n",
    "#Output: 1        \n",
    "Solution().findClosestNumber([-4,-2,1,4,8])"
   ]
  },
  {
   "cell_type": "code",
   "execution_count": null,
   "metadata": {},
   "outputs": [],
   "source": [
    "#Solve by steps!\n",
    "#1. find the closets num to 0\n",
    "#2. check if you have -closest and +closest \n",
    "\n",
    "class Solution:\n",
    "    def findClosestNumber(self, nums: List[int]) -> int:\n",
    "        closest = nums[0]\n",
    "        for n in nums:\n",
    "            if abs(n) < abs(closest):\n",
    "                closest = n\n",
    "        if closest < 0 and abs(closest) in nums:\n",
    "            return abs(closest)        \n",
    "        else:\n",
    "            return closest         "
   ]
  }
 ],
 "metadata": {
  "kernelspec": {
   "display_name": "venv_alg",
   "language": "python",
   "name": "python3"
  },
  "language_info": {
   "codemirror_mode": {
    "name": "ipython",
    "version": 3
   },
   "file_extension": ".py",
   "mimetype": "text/x-python",
   "name": "python",
   "nbconvert_exporter": "python",
   "pygments_lexer": "ipython3",
   "version": "3.11.5"
  }
 },
 "nbformat": 4,
 "nbformat_minor": 2
}
