{
 "cells": [
  {
   "cell_type": "markdown",
   "metadata": {},
   "source": [
    "### 2191. Sort the Jumbled Numbers\n",
    "\n",
    "https://leetcode.com/problems/sort-the-jumbled-numbers/description/\n"
   ]
  },
  {
   "cell_type": "code",
   "execution_count": 25,
   "metadata": {},
   "outputs": [
    {
     "name": "stdout",
     "output_type": "stream",
     "text": [
      "[123, 456, 789]\n",
      "[338, 38, 991]\n",
      "[99, 7686, 2212638, 97012948, 84234023]\n"
     ]
    }
   ],
   "source": [
    "from typing import List\n",
    "#1. mapping[i] = j means digit i should be mapped to digit j in this system.\n",
    "#2. given another integer array nums. Return the array nums sorted in non-decreasing order based on the mapped values of its elements.\n",
    "\n",
    "#lets consider the example 2\n",
    "#0. convert nums to str\n",
    "#1. go via nums num, split to the each num and map it with mapptin arr\n",
    "#2. remove zeros int(s) and sort arr in not decreasing order \n",
    "\n",
    "#mapping = [0,1,2,3,4,5,6,7,8,9]\n",
    "#nums = [789,456,123]\n",
    "# map -> [789, 456, 123]\n",
    "# output -> [123, 456, 789]        \n",
    "class Solution:\n",
    "    def sortJumbled(self, mapping: List[int], nums: List[int]) -> List[int]:                            \n",
    "        def map_nums_to_strs(num: str, mapping) -> int:\n",
    "            res=\"\"\n",
    "            for n in num:\n",
    "                res+=str(mapping[int(n)])\n",
    "            return int(res)    \n",
    "                \n",
    "        #1.Nums to list strs \n",
    "        nums_str = list(map(lambda n: str(n), nums))\n",
    "        \n",
    "        #2. map nums and create tuple where [0] num and [1] is mapped num\n",
    "        #mapped_tuple = list(map(lambda num: (int(num), map_nums_to_strs(num, mapping)), nums_str))\n",
    "        mapped_tuple = list(map(lambda num: (int(num), map_nums_to_strs(num, mapping)), nums_str))\n",
    "        \n",
    "        #3. sort and return\n",
    "        mapped_tuple.sort(key=lambda n: n[1])\n",
    "        \n",
    "        mapped_tuple = list(map(lambda x: x[0], mapped_tuple))\n",
    "        \n",
    "        return mapped_tuple\n",
    "        \n",
    "    \n",
    "# Expected: [123,456,789]\n",
    "print(Solution().sortJumbled([0,1,2,3,4,5,6,7,8,9], [789,456,123]))\n",
    "\n",
    "# Expected: [338,38,991] \n",
    "print(Solution().sortJumbled([8,9,4,0,2,1,3,5,7,6], [991,338,38]))\n",
    "\n",
    "\n",
    "# Expected: [99,7686,2212638,97012948,84234023]\n",
    "print(Solution().sortJumbled([5,6,8,7,4,0,3,1,9,2], [7686,97012948,84234023,2212638,99]))\n",
    "\n",
    "                "
   ]
  },
  {
   "cell_type": "code",
   "execution_count": 7,
   "metadata": {},
   "outputs": [
    {
     "name": "stdout",
     "output_type": "stream",
     "text": [
      "[338, 38, 991]\n"
     ]
    }
   ],
   "source": [
    "def custom_sort(mapping, nums):\n",
    "    def map_number(num):\n",
    "        # Convert the number to a string to map each digit\n",
    "        mapped_str = ''.join(str(mapping[int(digit)]) for digit in str(num))\n",
    "        # Convert back to an integer to remove leading zeros\n",
    "        return int(mapped_str)\n",
    "    \n",
    "    # Create a list of tuples where each tuple is (mapped value, original number)\n",
    "    mapped_nums = [(map_number(num), num) for num in nums]\n",
    "    \n",
    "    # Sort the list of tuples based on the mapped value\n",
    "    mapped_nums.sort(key=lambda x: x[0])\n",
    "    \n",
    "    # Extract the sorted original numbers\n",
    "    sorted_nums = [num for _, num in mapped_nums]\n",
    "    \n",
    "    return sorted_nums\n",
    "\n",
    "\n",
    "# output -> [123, 456, 789]\n",
    "#print(custom_sort([0,1,2,3,4,5,6,7,8,9], [789,456,123]))\n",
    "\n",
    "# Output: [338,38,991] \n",
    "print(custom_sort([8,9,4,0,2,1,3,5,7,6], [991,338,38]))\n",
    "\n",
    "#mapping = [5,6,8,7,4,0,3,1,9,2]\n",
    "#"
   ]
  }
 ],
 "metadata": {
  "kernelspec": {
   "display_name": "venv_alg",
   "language": "python",
   "name": "python3"
  },
  "language_info": {
   "codemirror_mode": {
    "name": "ipython",
    "version": 3
   },
   "file_extension": ".py",
   "mimetype": "text/x-python",
   "name": "python",
   "nbconvert_exporter": "python",
   "pygments_lexer": "ipython3",
   "version": "3.11.5"
  }
 },
 "nbformat": 4,
 "nbformat_minor": 2
}
