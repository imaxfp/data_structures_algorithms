{
 "cells": [
  {
   "cell_type": "markdown",
   "metadata": {},
   "source": [
    "### 3248. Snake in Matrix\n",
    "\n",
    "https://leetcode.com/problems/snake-in-matrix/description"
   ]
  },
  {
   "cell_type": "code",
   "execution_count": 2,
   "metadata": {},
   "outputs": [],
   "source": [
    "from typing import List\n",
    "\n",
    "\n",
    "class Solution:\n",
    "    def finalPositionOfSnake(self, n: int, commands: List[str]) -> int:\n",
    "        #1. 100% sure about description \n",
    "\n",
    "        #2. DEBUG  Example 1: Input: n = 2, commands = [\"RIGHT\",\"DOWN\"]\n",
    "\n",
    "        #3. Complexity \n",
    "\n",
    "        # Constraints:\n",
    "\n",
    "        #Description:\n",
    "        # 1. n x n matrix\n",
    "        # 2. starts at cell - 0\n",
    "        # 3. no edge cases (out of boundaries)\n",
    "        # 4. return final position \n",
    "\n",
    "        # 4. ASK!!!!!\n",
    "        \n",
    "        #Solution:    \n",
    "        # 1. Matrix n*n - create new matrix n*n\n",
    "        # 2. use navigation commands for havigate to the final destination \n",
    "        # 3. Return final destination cell\n",
    "        # Time O(n)\n",
    "        # Space (n*n)\n",
    "\n",
    "        #  \"UP\", \"RIGHT\", \"DOWN\", and \"LEFT\".\n",
    "        \n",
    "\n",
    "        # Input: n = 3, commands = [\"DOWN\", \"RIGHT\", \"UP\"]\n",
    "        # Output: 1\n",
    "        # Debug => 1 3+1=4-3= 1\n",
    "        final_destination = 0\n",
    "\n",
    "        dict_com = {\"RIGHT\": 1,\n",
    "                    \"LEFT\": -1,\n",
    "                    \"DOWN\": n,\n",
    "                    \"UP\": -n}\n",
    "                    \n",
    "        for com in commands:\n",
    "            final_destination += dict_com.get(com)\n",
    "\n",
    "        return final_destination\n"
   ]
  }
 ],
 "metadata": {
  "kernelspec": {
   "display_name": "venv_alg",
   "language": "python",
   "name": "python3"
  },
  "language_info": {
   "codemirror_mode": {
    "name": "ipython",
    "version": 3
   },
   "file_extension": ".py",
   "mimetype": "text/x-python",
   "name": "python",
   "nbconvert_exporter": "python",
   "pygments_lexer": "ipython3",
   "version": "3.11.5"
  }
 },
 "nbformat": 4,
 "nbformat_minor": 2
}
