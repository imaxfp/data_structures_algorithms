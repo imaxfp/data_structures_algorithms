{
 "cells": [
  {
   "cell_type": "markdown",
   "metadata": {},
   "source": [
    "### 3248. Snake in Matrix\n",
    "\n",
    "https://leetcode.com/problems/snake-in-matrix/description"
   ]
  },
  {
   "cell_type": "code",
   "execution_count": 1,
   "metadata": {},
   "outputs": [
    {
     "ename": "NameError",
     "evalue": "name 'List' is not defined",
     "output_type": "error",
     "traceback": [
      "\u001b[0;31m---------------------------------------------------------------------------\u001b[0m",
      "\u001b[0;31mNameError\u001b[0m                                 Traceback (most recent call last)",
      "Cell \u001b[0;32mIn[1], line 1\u001b[0m\n\u001b[0;32m----> 1\u001b[0m \u001b[38;5;28;43;01mclass\u001b[39;49;00m\u001b[43m \u001b[49m\u001b[38;5;21;43;01mSolution\u001b[39;49;00m\u001b[43m:\u001b[49m\n\u001b[1;32m      2\u001b[0m \u001b[43m    \u001b[49m\u001b[38;5;28;43;01mdef\u001b[39;49;00m\u001b[43m \u001b[49m\u001b[38;5;21;43mfinalPositionOfSnake\u001b[39;49m\u001b[43m(\u001b[49m\u001b[38;5;28;43mself\u001b[39;49m\u001b[43m,\u001b[49m\u001b[43m \u001b[49m\u001b[43mn\u001b[49m\u001b[43m:\u001b[49m\u001b[43m \u001b[49m\u001b[38;5;28;43mint\u001b[39;49m\u001b[43m,\u001b[49m\u001b[43m \u001b[49m\u001b[43mcommands\u001b[49m\u001b[43m:\u001b[49m\u001b[43m \u001b[49m\u001b[43mList\u001b[49m\u001b[43m[\u001b[49m\u001b[38;5;28;43mstr\u001b[39;49m\u001b[43m]\u001b[49m\u001b[43m)\u001b[49m\u001b[43m \u001b[49m\u001b[38;5;241;43m-\u001b[39;49m\u001b[38;5;241;43m>\u001b[39;49m\u001b[43m \u001b[49m\u001b[38;5;28;43mint\u001b[39;49m\u001b[43m:\u001b[49m\n\u001b[1;32m      3\u001b[0m \u001b[43m        \u001b[49m\u001b[38;5;66;43;03m#1. 100% sure about description \u001b[39;49;00m\n\u001b[1;32m      4\u001b[0m \n\u001b[0;32m   (...)\u001b[0m\n\u001b[1;32m     30\u001b[0m \u001b[43m        \u001b[49m\u001b[38;5;66;43;03m# Output: 1\u001b[39;49;00m\n\u001b[1;32m     31\u001b[0m \u001b[43m        \u001b[49m\u001b[38;5;66;43;03m# Debug => 1 3+1=4-3= 1\u001b[39;49;00m\n\u001b[1;32m     32\u001b[0m \u001b[43m        \u001b[49m\u001b[43mfinal_destination\u001b[49m\u001b[43m \u001b[49m\u001b[38;5;241;43m=\u001b[39;49m\u001b[43m \u001b[49m\u001b[38;5;241;43m0\u001b[39;49m\n",
      "Cell \u001b[0;32mIn[1], line 2\u001b[0m, in \u001b[0;36mSolution\u001b[0;34m()\u001b[0m\n\u001b[1;32m      1\u001b[0m \u001b[38;5;28;01mclass\u001b[39;00m \u001b[38;5;21;01mSolution\u001b[39;00m:\n\u001b[0;32m----> 2\u001b[0m     \u001b[38;5;28;01mdef\u001b[39;00m \u001b[38;5;21mfinalPositionOfSnake\u001b[39m(\u001b[38;5;28mself\u001b[39m, n: \u001b[38;5;28mint\u001b[39m, commands: \u001b[43mList\u001b[49m[\u001b[38;5;28mstr\u001b[39m]) \u001b[38;5;241m-\u001b[39m\u001b[38;5;241m>\u001b[39m \u001b[38;5;28mint\u001b[39m:\n\u001b[1;32m      3\u001b[0m         \u001b[38;5;66;03m#1. 100% sure about description \u001b[39;00m\n\u001b[1;32m      4\u001b[0m \n\u001b[1;32m      5\u001b[0m         \u001b[38;5;66;03m#2. DEBUG  Example 1: Input: n = 2, commands = [\"RIGHT\",\"DOWN\"]\u001b[39;00m\n\u001b[1;32m      6\u001b[0m \n\u001b[1;32m      7\u001b[0m         \u001b[38;5;66;03m#3. Complexity \u001b[39;00m\n\u001b[1;32m      8\u001b[0m \n\u001b[1;32m      9\u001b[0m         \u001b[38;5;66;03m# Constraints:\u001b[39;00m\n\u001b[1;32m     10\u001b[0m \n\u001b[1;32m     11\u001b[0m         \u001b[38;5;66;03m#Description:\u001b[39;00m\n\u001b[1;32m     12\u001b[0m         \u001b[38;5;66;03m# 1. n x n matrix\u001b[39;00m\n\u001b[1;32m     13\u001b[0m         \u001b[38;5;66;03m# 2. starts at cell - 0\u001b[39;00m\n\u001b[1;32m     14\u001b[0m         \u001b[38;5;66;03m# 3. no edge cases (out of boundaries)\u001b[39;00m\n\u001b[1;32m     15\u001b[0m         \u001b[38;5;66;03m# 4. return final position \u001b[39;00m\n\u001b[1;32m     16\u001b[0m \n\u001b[1;32m     17\u001b[0m         \u001b[38;5;66;03m# 4. ASK!!!!!\u001b[39;00m\n\u001b[1;32m     18\u001b[0m         \n\u001b[1;32m     19\u001b[0m         \u001b[38;5;66;03m#Solution:    \u001b[39;00m\n\u001b[1;32m     20\u001b[0m         \u001b[38;5;66;03m# 1. Matrix n*n - create new matrix n*n\u001b[39;00m\n\u001b[1;32m     21\u001b[0m         \u001b[38;5;66;03m# 2. use navigation commands for havigate to the final destination \u001b[39;00m\n\u001b[1;32m     22\u001b[0m         \u001b[38;5;66;03m# 3. Return final destination cell\u001b[39;00m\n\u001b[1;32m     23\u001b[0m         \u001b[38;5;66;03m# Time O(n)\u001b[39;00m\n\u001b[1;32m     24\u001b[0m         \u001b[38;5;66;03m# Space (n*n)\u001b[39;00m\n\u001b[1;32m     25\u001b[0m \n\u001b[1;32m     26\u001b[0m         \u001b[38;5;66;03m#  \"UP\", \"RIGHT\", \"DOWN\", and \"LEFT\".\u001b[39;00m\n\u001b[1;32m     27\u001b[0m         \n\u001b[1;32m     28\u001b[0m \n\u001b[1;32m     29\u001b[0m         \u001b[38;5;66;03m# Input: n = 3, commands = [\"DOWN\", \"RIGHT\", \"UP\"]\u001b[39;00m\n\u001b[1;32m     30\u001b[0m         \u001b[38;5;66;03m# Output: 1\u001b[39;00m\n\u001b[1;32m     31\u001b[0m         \u001b[38;5;66;03m# Debug => 1 3+1=4-3= 1\u001b[39;00m\n\u001b[1;32m     32\u001b[0m         final_destination \u001b[38;5;241m=\u001b[39m \u001b[38;5;241m0\u001b[39m\n\u001b[1;32m     34\u001b[0m         dict_com \u001b[38;5;241m=\u001b[39m {\u001b[38;5;124m\"\u001b[39m\u001b[38;5;124mRIGHT\u001b[39m\u001b[38;5;124m\"\u001b[39m: \u001b[38;5;241m1\u001b[39m,\n\u001b[1;32m     35\u001b[0m                     \u001b[38;5;124m\"\u001b[39m\u001b[38;5;124mLEFT\u001b[39m\u001b[38;5;124m\"\u001b[39m: \u001b[38;5;241m-\u001b[39m\u001b[38;5;241m1\u001b[39m,\n\u001b[1;32m     36\u001b[0m                     \u001b[38;5;124m\"\u001b[39m\u001b[38;5;124mDOWN\u001b[39m\u001b[38;5;124m\"\u001b[39m: n,\n\u001b[1;32m     37\u001b[0m                     \u001b[38;5;124m\"\u001b[39m\u001b[38;5;124mUP\u001b[39m\u001b[38;5;124m\"\u001b[39m: \u001b[38;5;241m-\u001b[39mn}\n",
      "\u001b[0;31mNameError\u001b[0m: name 'List' is not defined"
     ]
    }
   ],
   "source": [
    "from typing import List\n",
    "\n",
    "\n",
    "class Solution:\n",
    "    def finalPositionOfSnake(self, n: int, commands: List[str]) -> int:\n",
    "        #1. 100% sure about description \n",
    "\n",
    "        #2. DEBUG  Example 1: Input: n = 2, commands = [\"RIGHT\",\"DOWN\"]\n",
    "\n",
    "        #3. Complexity \n",
    "\n",
    "        # Constraints:\n",
    "\n",
    "        #Description:\n",
    "        # 1. n x n matrix\n",
    "        # 2. starts at cell - 0\n",
    "        # 3. no edge cases (out of boundaries)\n",
    "        # 4. return final position \n",
    "\n",
    "        # 4. ASK!!!!!\n",
    "        \n",
    "        #Solution:    \n",
    "        # 1. Matrix n*n - create new matrix n*n\n",
    "        # 2. use navigation commands for havigate to the final destination \n",
    "        # 3. Return final destination cell\n",
    "        # Time O(n)\n",
    "        # Space (n*n)\n",
    "\n",
    "        #  \"UP\", \"RIGHT\", \"DOWN\", and \"LEFT\".\n",
    "        \n",
    "\n",
    "        # Input: n = 3, commands = [\"DOWN\", \"RIGHT\", \"UP\"]\n",
    "        # Output: 1\n",
    "        # Debug => 1 3+1=4-3= 1\n",
    "        final_destination = 0\n",
    "\n",
    "        dict_com = {\"RIGHT\": 1,\n",
    "                    \"LEFT\": -1,\n",
    "                    \"DOWN\": n,\n",
    "                    \"UP\": -n}\n",
    "                    \n",
    "        for com in commands:\n",
    "            final_destination += dict_com.get(com)\n",
    "\n",
    "        return final_destination\n"
   ]
  }
 ],
 "metadata": {
  "kernelspec": {
   "display_name": "venv_alg",
   "language": "python",
   "name": "python3"
  },
  "language_info": {
   "codemirror_mode": {
    "name": "ipython",
    "version": 3
   },
   "file_extension": ".py",
   "mimetype": "text/x-python",
   "name": "python",
   "nbconvert_exporter": "python",
   "pygments_lexer": "ipython3",
   "version": "3.11.5"
  }
 },
 "nbformat": 4,
 "nbformat_minor": 2
}
