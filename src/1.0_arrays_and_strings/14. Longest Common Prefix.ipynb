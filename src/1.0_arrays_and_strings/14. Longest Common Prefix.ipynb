{
 "cells": [
  {
   "cell_type": "markdown",
   "metadata": {},
   "source": [
    "### 14. Longest Common Prefix\n",
    "\n",
    "https://leetcode.com/problems/longest-common-prefix/description"
   ]
  },
  {
   "cell_type": "code",
   "execution_count": 1,
   "metadata": {},
   "outputs": [],
   "source": [
    "from typing import List\n",
    "\n",
    "class Solution:\n",
    "    def longestCommonPrefix(self, strs: List[str]) -> str:\n",
    "        #two pointers \n",
    "        #move 'two pointers' while the same chars \n",
    "      \n",
    "        min_w_len = float('inf')\n",
    "        #find min len\n",
    "        for s in strs:            \n",
    "            min_w_len = min(len(s), min_w_len)\n",
    "\n",
    "        ptr = 0\n",
    "        res = []\n",
    "        while ptr < min_w_len:\n",
    "            ch = strs[0][ptr]\n",
    "            for i in range(1, len(strs)):                \n",
    "                if ch != strs[i][ptr]:\n",
    "                    return \"\".join(res)\n",
    "            res.append(ch)        \n",
    "            ptr +=1        \n",
    "                \n",
    "        return \"\".join(res) "
   ]
  }
 ],
 "metadata": {
  "kernelspec": {
   "display_name": "venv_alg",
   "language": "python",
   "name": "python3"
  },
  "language_info": {
   "codemirror_mode": {
    "name": "ipython",
    "version": 3
   },
   "file_extension": ".py",
   "mimetype": "text/x-python",
   "name": "python",
   "nbconvert_exporter": "python",
   "pygments_lexer": "ipython3",
   "version": "3.11.5"
  }
 },
 "nbformat": 4,
 "nbformat_minor": 2
}
