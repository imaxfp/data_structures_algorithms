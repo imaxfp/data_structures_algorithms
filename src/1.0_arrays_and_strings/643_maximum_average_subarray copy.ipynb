{
 "cells": [
  {
   "cell_type": "markdown",
   "metadata": {},
   "source": [
    "### Max Consecutive Ones\n",
    "Given a binary array nums and an integer k, return the maximum number of consecutive 1's in the array if you can flip at most k 0's.\n",
    "\n",
    "```\n",
    "Example 1:\n",
    "\n",
    "Input: nums = [1,1,1,0,0,0,1,1,1,1,0], k = 2\n",
    "Output: 6\n",
    "Explanation: [1,1,1,0,0,1,1,1,1,1,1]\n",
    "Bolded numbers were flipped from 0 to 1. The longest subarray is underlined.\n",
    "```"
   ]
  },
  {
   "cell_type": "code",
   "execution_count": 10,
   "metadata": {},
   "outputs": [
    {
     "name": "stdout",
     "output_type": "stream",
     "text": [
      "0\n"
     ]
    }
   ],
   "source": [
    "from typing import List\n",
    "\n",
    "class Solution:\n",
    "    def longestOnes(self, nums: List[int], k: int) -> int:\n",
    "        #1. two pointers \n",
    "        #2. counter for 'flip'\n",
    "        #3. find max len of 1\n",
    "        left = right = 0\n",
    "        flip = k\n",
    "        max_num_1 = 0\n",
    "        tmp_num=0\n",
    "        while right < len(nums):            \n",
    "            if nums[right] == 0:\n",
    "                flip-=1\n",
    "                    \n",
    "            if flip == -1:\n",
    "                max_num_1 = max(max_num_1, tmp_num)\n",
    "                tmp_num=0\n",
    "                flip=k  \n",
    "                left+=1\n",
    "                right=left\n",
    "            else:              \n",
    "                tmp_num+=1    \n",
    "                right+=1\n",
    "        return max_num_1     \n",
    "                \n",
    "#print(Solution().longestOnes([1,1,1,0,0,0,1,1,1,1,0], 2)) \n",
    "#print(Solution().longestOnes([1,1,0,0,1,1,1,0,1,1,0,0,0,1,1,1,1], 3))  \n",
    "print(Solution().longestOnes([0,0,0,1], 4))  \n",
    "\n",
    "\n",
    "      "
   ]
  }
 ],
 "metadata": {
  "kernelspec": {
   "display_name": "venv_alg",
   "language": "python",
   "name": "python3"
  },
  "language_info": {
   "codemirror_mode": {
    "name": "ipython",
    "version": 3
   },
   "file_extension": ".py",
   "mimetype": "text/x-python",
   "name": "python",
   "nbconvert_exporter": "python",
   "pygments_lexer": "ipython3",
   "version": "3.11.5"
  }
 },
 "nbformat": 4,
 "nbformat_minor": 2
}
