{
 "cells": [
  {
   "cell_type": "markdown",
   "metadata": {},
   "source": [
    "# Two pointers\n",
    "\n",
    "## Slow and Steady, Fast and Ready\n",
    "This phrase encapsulates the essence of the two-pointer technique, where often one pointer (the \"slow\" pointer) moves through the data structure at a regular pace, while the other pointer (the \"fast\" pointer) either scouts ahead under certain conditions or starts from the opposite end and moves toward the slow pointer. Here's how this mnemonic applies to common uses of two pointers:"
   ]
  },
  {
   "cell_type": "markdown",
   "metadata": {},
   "source": [
    "Two pointers is an extremely common technique used to solve array and string problems.\n",
    "\n",
    "- This means we will have **two integers**, usually named something like **i and j**, or **left** and **right** which each represent an index of the array or string.\n",
    "\n",
    "- Start the pointers at the edges of the input. Move them **towards each other** until they meet.\n",
    "\n",
    "- The strength of this technique is that we will never have more than O(n)"
   ]
  },
  {
   "cell_type": "code",
   "execution_count": 1,
   "metadata": {},
   "outputs": [],
   "source": [
    "def fn(arr):\n",
    "    left = 0\n",
    "    right = len(arr) - 1\n",
    "\n",
    "    while left < right:\n",
    "        # Do some logic here depending on the problem\n",
    "        # Do some more logic here to decide on one of the following:\n",
    "        left += 1\n",
    "        # 2. right -= 1\n",
    "        # 3. Both left += 1 and right -= 1\n",
    "        pass  # Placeholder for the logic\n",
    "\n",
    "# Example usage:\n",
    "arr = [1, 2, 3, 4, 5]\n",
    "fn(arr)\n"
   ]
  },
  {
   "cell_type": "markdown",
   "metadata": {},
   "source": [
    "### Example 1:\n",
    "Given a string s, return true if it is a palindrome, false otherwise."
   ]
  },
  {
   "cell_type": "code",
   "execution_count": 6,
   "metadata": {},
   "outputs": [
    {
     "name": "stdout",
     "output_type": "stream",
     "text": [
      "True\n",
      "True\n",
      "False\n"
     ]
    }
   ],
   "source": [
    "def is_palindrome(str):\n",
    "    left = 0\n",
    "    right = len(str)-1\n",
    "    \n",
    "    while left < right:\n",
    "        if str[left] != str[right]:\n",
    "            return False\n",
    "        left+=1\n",
    "        right-=1\n",
    "    return True         \n",
    "\n",
    "#True\n",
    "print(is_palindrome(\"madamimadam\"))\n",
    "print(is_palindrome(\"racecar\"))\n",
    "#False\n",
    "print(is_palindrome(\"racecFar\"))\n"
   ]
  },
  {
   "cell_type": "markdown",
   "metadata": {},
   "source": [
    "### Example 2:\n",
    "Given a sorted array of unique integers and a target integer, return true if there exists a pair of numbers that sum to target, false otherwise. This problem is similar to **Two Sum**. (In Two Sum, the input is **not sorted**).\n",
    "\n",
    "[1, 2, 4, 6, 8, 9, 14, 15]"
   ]
  },
  {
   "cell_type": "code",
   "execution_count": 9,
   "metadata": {},
   "outputs": [
    {
     "data": {
      "text/plain": [
       "(4, 9)"
      ]
     },
     "execution_count": 9,
     "metadata": {},
     "output_type": "execute_result"
    }
   ],
   "source": [
    "# Return indecex of the target summ\n",
    "# The reason this algorithm works: because the numbers are sorted\n",
    "def find_sum_sorted_arr(arr, target_sum):\n",
    "    l = 0\n",
    "    r = len(arr) - 1\n",
    "    while l < r: \n",
    "        if arr[l] + arr[r] == target_sum:\n",
    "            return arr[l], arr[r]\n",
    "        if arr[r] > target_sum:\n",
    "            r-=1\n",
    "        else:\n",
    "            l+=1\n",
    "    return None\n",
    "\n",
    "test_arr = [1, 2, 4, 6, 8, 9, 14, 15]\n",
    "find_sum_sorted_arr(arr=test_arr, target_sum=13)                         "
   ]
  },
  {
   "cell_type": "markdown",
   "metadata": {},
   "source": [
    "### Summary\n",
    " Algorithms are beautiful because of how abstract they are - \"two pointers\" is just an idea, and it can be implemented in many different ways."
   ]
  },
  {
   "cell_type": "code",
   "execution_count": 19,
   "metadata": {},
   "outputs": [
    {
     "name": "stdout",
     "output_type": "stream",
     "text": [
      "[1, 3, 4, 5, 6, 7, 20]\n"
     ]
    }
   ],
   "source": [
    "# Merge two sorted arrays\n",
    "\n",
    "#Time O(n)\n",
    "#Space O(n)\n",
    "def merge_two_sorted_arrs(arr1, arr2):\n",
    "    first_idx = 0\n",
    "    second_idx = 0\n",
    "    res = []\n",
    "    #Merge results, traverse via 2 lists with MIN len list\n",
    "    while first_idx <= len(arr1)-1 and second_idx <= len(arr2)-1:\n",
    "        if arr1[first_idx] < arr2[second_idx]:\n",
    "            res.append(arr1[first_idx])\n",
    "            first_idx+=1\n",
    "        else: \n",
    "            res.append(arr2[second_idx])   \n",
    "            second_idx+=1\n",
    "    #Add a reminder from the first list if the list has not been traversed.\n",
    "    while first_idx <= len(arr1)-1:\n",
    "        res.append(arr1[first_idx])\n",
    "        first_idx+=1\n",
    "        \n",
    "    #Add a reminder from the second list if the list has not been traversed.\n",
    "    while second_idx <= len(arr2)-1:\n",
    "        res.append(arr2[second_idx])\n",
    "        second_idx+=1    \n",
    "                     \n",
    "    return res\n",
    "\n",
    "arr1 = [1,4,7,20]\n",
    "arr2 = [3,5,6]\n",
    "print(merge_two_sorted_arrs(arr1, arr2))                   "
   ]
  },
  {
   "cell_type": "markdown",
   "metadata": {},
   "source": [
    "### Example 4: 392. Is Subsequence.\n",
    "\n",
    "Given two strings s and t, return true if s is a subsequence of t, or false otherwise.\n",
    "\n",
    "A subsequence of a string is a sequence of characters that can be obtained by deleting some (or none) of the characters from the original string, while maintaining the relative order of the remaining characters. For example, \"ace\" is a subsequence of \"abcde\" while \"aec\" is not."
   ]
  },
  {
   "cell_type": "code",
   "execution_count": 23,
   "metadata": {},
   "outputs": [
    {
     "data": {
      "text/plain": [
       "True"
      ]
     },
     "execution_count": 23,
     "metadata": {},
     "output_type": "execute_result"
    }
   ],
   "source": [
    "#Time O(n)\n",
    "#Space O(1)\n",
    "def isSubsequence(s: str, t: str) -> bool:        \n",
    "    #1. counter_s ++ 's'  if later in 't'\n",
    "    #2. len(s) == counter_s\n",
    "    cntr_s= cntr_t = 0\n",
    "    while cntr_t < len(t) and cntr_s<len(s):\n",
    "        if t[cntr_t] == s[cntr_s]:\n",
    "            cntr_s+=1\n",
    "        cntr_t+=1\n",
    "    return len(s) == cntr_s   \n",
    "\n",
    "t = \"abcde\"\n",
    "s = \"ace\"\n",
    "isSubsequence(s,t)"
   ]
  },
  {
   "cell_type": "markdown",
   "metadata": {},
   "source": [
    "### Reverse string\n",
    "Write a function that reverses a string. The input string is given as an array of characters s.\n",
    "\n",
    "You must do this by modifying the input array in-place with O(1) extra memory."
   ]
  },
  {
   "cell_type": "code",
   "execution_count": 25,
   "metadata": {},
   "outputs": [
    {
     "name": "stdout",
     "output_type": "stream",
     "text": [
      "['o', 'l', 'l', 'e', 'h']\n"
     ]
    }
   ],
   "source": [
    "from typing import List\n",
    "def reverseString(s: List[str]) -> List[str]:    \n",
    "    \"\"\"\n",
    "    Do not return anything, modify s in-place instead.\n",
    "    \"\"\"\n",
    "    l = 0\n",
    "    r = len(s)-1\n",
    "    while l < r:        \n",
    "        tmp = s[l]\n",
    "        s[l]=s[r]\n",
    "        s[r]=tmp\n",
    "        l+=1\n",
    "        r-=1\n",
    "    return s    \n",
    "\n",
    "print(reverseString([\"h\",\"e\",\"l\",\"l\",\"o\"]))"
   ]
  },
  {
   "cell_type": "markdown",
   "metadata": {},
   "source": [
    "### Square and sort  -  Squaring each element and sorting the new array is very trivial, could you find an O(n) solution using a different approach?\n",
    "\n",
    "Given an integer array nums sorted in non-decreasing order, return an array of the squares of each number sorted in non-decreasing order."
   ]
  },
  {
   "cell_type": "code",
   "execution_count": 26,
   "metadata": {},
   "outputs": [
    {
     "name": "stdout",
     "output_type": "stream",
     "text": [
      "[0, 1, 9, 16, 100]\n"
     ]
    }
   ],
   "source": [
    "class Solution:\n",
    "    def sortedSquares(self, nums: List[int]) -> List[int]:\n",
    "        res = []\n",
    "        l=0\n",
    "        r=len(nums)-1\n",
    "        while l<=r:\n",
    "            if abs(nums[l]) > abs(nums[r]):\n",
    "                res.append(nums[l]**2)\n",
    "                l+=1\n",
    "            else:\n",
    "                res.append(nums[r]**2)\n",
    "                r-=1            \n",
    "        return res[::-1]   \n",
    "    \n",
    "sol = Solution()\n",
    "# Input: nums = [-4,-1,0,3,10]\n",
    "# Output: [0,1,9,16,100]\n",
    "print(sol.sortedSquares([-4,-1,0,3,10]))                 "
   ]
  }
 ],
 "metadata": {
  "kernelspec": {
   "display_name": "venv_alg",
   "language": "python",
   "name": "python3"
  },
  "language_info": {
   "codemirror_mode": {
    "name": "ipython",
    "version": 3
   },
   "file_extension": ".py",
   "mimetype": "text/x-python",
   "name": "python",
   "nbconvert_exporter": "python",
   "pygments_lexer": "ipython3",
   "version": "3.11.5"
  }
 },
 "nbformat": 4,
 "nbformat_minor": 2
}
