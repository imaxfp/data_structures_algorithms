{
 "cells": [
  {
   "cell_type": "markdown",
   "metadata": {},
   "source": [
    "### 13. Roman to Integer\n",
    "\n",
    "https://leetcode.com/problems/roman-to-integer/description/"
   ]
  },
  {
   "cell_type": "code",
   "execution_count": 8,
   "metadata": {},
   "outputs": [
    {
     "data": {
      "text/plain": [
       "1994"
      ]
     },
     "execution_count": 8,
     "metadata": {},
     "output_type": "execute_result"
    }
   ],
   "source": [
    "class Solution:\n",
    "    def romanToInt(self, s: str) -> int:\n",
    "        #consider cases:\n",
    "        \"\"\"\n",
    "        I             1\n",
    "        V             5\n",
    "        X             10\n",
    "        L             50\n",
    "        C             100\n",
    "        D             500\n",
    "        M             1000\n",
    "\n",
    "        I can be placed before V (5) and X (10) to make 4 and 9. \n",
    "        X can be placed before L (50) and C (100) to make 40 and 90. \n",
    "        C can be placed before D (500) and M (1000) to make 400 and 900.                \n",
    "        \"\"\"\n",
    "        nums_dict = {\n",
    "            'I': 1,\n",
    "            'V': 5,\n",
    "            'X': 10,\n",
    "            'L': 50,\n",
    "            'C': 100,\n",
    "            'D': 500,\n",
    "            'M': 1000\n",
    "        }    \n",
    "        #Process special cases \n",
    "        \n",
    "        def process(s1, s2, i):        \n",
    "            if s1 == 'I' and (s2 == 'V' or s2 == 'X'):\n",
    "                i+=1\n",
    "                return i, nums_dict.get(s2) - nums_dict.get(s1) \n",
    "            \n",
    "            if s1 == 'X' and (s2 == 'L' or s2 == 'C'):\n",
    "                 i+=1\n",
    "                 return i, nums_dict.get(s2) - nums_dict.get(s1) \n",
    "\n",
    "            if s1 == 'C' and (s2 == 'D' or s2 == 'M'):\n",
    "                 i+=1\n",
    "                 return i, nums_dict.get(s2) - nums_dict.get(s1) \n",
    "            \n",
    "            return i, nums_dict.get(s1)    \n",
    "        \n",
    "        #Process general cases \n",
    "        res = 0\n",
    "        i=0\n",
    "        while i < len(s):\n",
    "            if i+1 < len(s):\n",
    "                i, r = process(s[i], s[i+1], i) \n",
    "                res += r\n",
    "            else:\n",
    "                res += nums_dict.get(s[i])  \n",
    "            i+=1      \n",
    "        return res                       \n",
    "        \n",
    "#Input: s = \"MCMXCIV\"\n",
    "#Output: 1994\n",
    "#Explanation: M = 1000, CM = 900, XC = 90 and IV = 4.        \n",
    "Solution().romanToInt(\"MCMXCIV\")"
   ]
  },
  {
   "cell_type": "code",
   "execution_count": 9,
   "metadata": {},
   "outputs": [
    {
     "name": "stdout",
     "output_type": "stream",
     "text": [
      "1994\n"
     ]
    }
   ],
   "source": [
    "class Solution:\n",
    "    def romanToInt(self, s: str) -> int:\n",
    "        # Dictionary for basic Roman numeral values\n",
    "        nums_dict = {\n",
    "            'I': 1,\n",
    "            'V': 5,\n",
    "            'X': 10,\n",
    "            'L': 50,\n",
    "            'C': 100,\n",
    "            'D': 500,\n",
    "            'M': 1000\n",
    "        }\n",
    "\n",
    "        # Initialize result\n",
    "        res = 0\n",
    "        n = len(s)\n",
    "\n",
    "        # Iterate over the string\n",
    "        for i in range(n):\n",
    "            # Check if this is a subtractive combination\n",
    "            if i < n - 1 and nums_dict[s[i]] < nums_dict[s[i + 1]]:\n",
    "                res -= nums_dict[s[i]]\n",
    "            else:\n",
    "                res += nums_dict[s[i]]\n",
    "        \n",
    "        return res\n",
    "\n",
    "# Input: s = \"MCMXCIV\"\n",
    "# Output: 1994\n",
    "# Explanation: M = 1000, CM = 900, XC = 90 and IV = 4.\n",
    "print(Solution().romanToInt(\"MCMXCIV\"))  # Output: 1994\n"
   ]
  }
 ],
 "metadata": {
  "kernelspec": {
   "display_name": "venv_alg",
   "language": "python",
   "name": "python3"
  },
  "language_info": {
   "codemirror_mode": {
    "name": "ipython",
    "version": 3
   },
   "file_extension": ".py",
   "mimetype": "text/x-python",
   "name": "python",
   "nbconvert_exporter": "python",
   "pygments_lexer": "ipython3",
   "version": "3.11.5"
  }
 },
 "nbformat": 4,
 "nbformat_minor": 2
}
