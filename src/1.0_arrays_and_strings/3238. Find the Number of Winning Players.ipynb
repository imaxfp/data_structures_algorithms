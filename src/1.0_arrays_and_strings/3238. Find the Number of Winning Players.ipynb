{
 "cells": [
  {
   "cell_type": "markdown",
   "metadata": {},
   "source": [
    "### 3238. Find the Number of Winning Players\n",
    "\n",
    "https://leetcode.com/problems/find-the-number-of-winning-players/description\n"
   ]
  },
  {
   "cell_type": "code",
   "execution_count": 10,
   "metadata": {},
   "outputs": [
    {
     "name": "stdout",
     "output_type": "stream",
     "text": [
      "2\n"
     ]
    }
   ],
   "source": [
    "from typing import List\n",
    "\n",
    "\n",
    "class Solution:\n",
    "    def winningPlayerCount(self, n: int, pick: List[List[int]]) -> int:\n",
    "        # Player 0 wins if they pick any ball.\n",
    "        # Player 1 wins if they pick at least two balls of the same color.\n",
    "        \n",
    "        #1. count how many bols of the same collor have been picket of the each playere\n",
    "        #2. hash map, where key is player, and tuple is color (0, 1)\n",
    "        players_counter = {}\n",
    "        for p in pick:         \n",
    "            player = p[0]   \n",
    "            ball = p[1]\n",
    "            game = players_counter.get(player, [])\n",
    "            game.append(ball)\n",
    "            players_counter[player] = game            \n",
    "        \n",
    "        count_bols = {}\n",
    "        count_wins = 0\n",
    "        for player, bols in players_counter.items():\n",
    "            for b in bols:\n",
    "                count_bols[b] = count_bols.get(b, 0)+1\n",
    "                \n",
    "            max_bols_same_color = max(list(count_bols.values()))\n",
    "            if max_bols_same_color > player:\n",
    "                count_wins+=1\n",
    "            count_bols.clear()    \n",
    "        \n",
    "        return count_wins     \n",
    "\n",
    "r = Solution().winningPlayerCount(4, [[0,0],[1,0],[1,0],[2,1],[2,1],[2,0]])       \n",
    "print(r)"
   ]
  }
 ],
 "metadata": {
  "kernelspec": {
   "display_name": "venv_alg",
   "language": "python",
   "name": "python3"
  },
  "language_info": {
   "codemirror_mode": {
    "name": "ipython",
    "version": 3
   },
   "file_extension": ".py",
   "mimetype": "text/x-python",
   "name": "python",
   "nbconvert_exporter": "python",
   "pygments_lexer": "ipython3",
   "version": "3.11.5"
  }
 },
 "nbformat": 4,
 "nbformat_minor": 2
}
