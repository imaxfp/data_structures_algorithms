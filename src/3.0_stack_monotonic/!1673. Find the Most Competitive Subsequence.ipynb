{
 "cells": [
  {
   "cell_type": "markdown",
   "metadata": {
    "vscode": {
     "languageId": "plaintext"
    }
   },
   "source": [
    "### 1673. Find the Most Competitive Subsequence\n",
    "\n",
    "https://leetcode.com/problems/find-the-most-competitive-subsequence/description/\n"
   ]
  },
  {
   "cell_type": "code",
   "execution_count": null,
   "metadata": {},
   "outputs": [],
   "source": [
    "from typing import List\n",
    "\n",
    "# 1. Return the most competitive subsequence of nums of size k. \n",
    "# 2. \n",
    "class Solution:\n",
    "    def mostCompetitive(self, nums: List[int], k: int) -> List[int]:\n",
    "        return None\n",
    "        \n",
    "        \n",
    "        \n",
    "        \n",
    "                                                             \n",
    "\n",
    "\n",
    "#Input: prices = [8,4,6,2,3]\n",
    "#Output: [4,2,4,2,3]        \n",
    "print(Solution().finalPrices([8,4,6,2,3]))\n",
    "\n",
    "#Input: prices = [1,2,3,4,5]\n",
    "#Output: [1,2,3,4,5]    \n",
    "print(Solution().finalPrices([1,2,3,4,5]))\n",
    "\n",
    "\n",
    "#Input: prices = [10,1,1,6]\n",
    "#Output: [9,0,1,6]\n",
    "print(Solution().finalPrices([10,1,1,6]))"
   ]
  }
 ],
 "metadata": {
  "kernelspec": {
   "display_name": "venv_alg",
   "language": "python",
   "name": "python3"
  },
  "language_info": {
   "codemirror_mode": {
    "name": "ipython",
    "version": 3
   },
   "file_extension": ".py",
   "mimetype": "text/x-python",
   "name": "python",
   "nbconvert_exporter": "python",
   "pygments_lexer": "ipython3",
   "version": "3.11.5"
  }
 },
 "nbformat": 4,
 "nbformat_minor": 2
}
