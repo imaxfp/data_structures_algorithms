{
 "cells": [
  {
   "cell_type": "markdown",
   "metadata": {
    "vscode": {
     "languageId": "plaintext"
    }
   },
   "source": [
    "### 496. Next Greater Element I\n",
    "\n",
    "https://leetcode.com/problems/next-greater-element-i/description/"
   ]
  },
  {
   "cell_type": "code",
   "execution_count": null,
   "metadata": {},
   "outputs": [],
   "source": [
    "from typing import List\n",
    "\n",
    "# The next greater element of some element x in an array is the first greater element \n",
    "# that is to the right of x in the same array.\n",
    "\n",
    "\n",
    "\n",
    "class Solution:\n",
    "    def nextGreaterElement(self, nums1: List[int], nums2: List[int]) -> List[int]:\n",
    "        \n",
    "        return None        \n",
    "\n",
    "\n",
    "#Input: nums1 = [4,1,2], nums2 = [1,3,4,2]\n",
    "#Output: [-1,3,-1]     \n",
    "print(Solution().finalPrices([4,1,2], [1,3,4,2]))\n",
    "\n",
    "#Input: nums1 = [2,4], nums2 = [1,2,3,4]\n",
    "#Output: [3,-1]   \n",
    "print(Solution().finalPrices([2,4], [1,2,3,4]))\n"
   ]
  }
 ],
 "metadata": {
  "kernelspec": {
   "display_name": "venv_alg",
   "language": "python",
   "name": "python3"
  },
  "language_info": {
   "codemirror_mode": {
    "name": "ipython",
    "version": 3
   },
   "file_extension": ".py",
   "mimetype": "text/x-python",
   "name": "python",
   "nbconvert_exporter": "python",
   "pygments_lexer": "ipython3",
   "version": "3.11.5"
  }
 },
 "nbformat": 4,
 "nbformat_minor": 2
}
