{
 "cells": [
  {
   "cell_type": "markdown",
   "metadata": {
    "vscode": {
     "languageId": "plaintext"
    }
   },
   "source": [
    "### 1475. Final Prices With a Special Discount in a Shop\n",
    "\n",
    "12:32 - "
   ]
  },
  {
   "cell_type": "code",
   "execution_count": 28,
   "metadata": {},
   "outputs": [
    {
     "name": "stdout",
     "output_type": "stream",
     "text": [
      "[4, 2, 4, 2, 3]\n",
      "[1, 2, 3, 4, 5]\n",
      "[9, 0, 1, 6]\n"
     ]
    }
   ],
   "source": [
    "from typing import List\n",
    "\n",
    "# 1.  prices[i] is the price of the ith item in a shop.\n",
    "# 2.  special discount for items in the shop. If you buy the ith item, then you will receive\n",
    "# a discount equivalent to prices[j] where j is the minimum index such that j > i\n",
    "class Solution:\n",
    "    def finalPrices(self, prices: List[int]) -> List[int]:\n",
    "        stack = []\n",
    "        #1. go via 'prices' and collect idexes to the stack \n",
    "        for i in range(len(prices)):\n",
    "            \n",
    "            #2. while prices[stack.peek()] >= prices[i], update arr\n",
    "            while stack and prices[stack[-1]] >= prices[i]:                \n",
    "                discount_idx = stack.pop()\n",
    "                prices[discount_idx] = prices[discount_idx] - prices[i]                            \n",
    "            stack.append(i)\n",
    "        return prices\n",
    "        \n",
    "        \n",
    "        \n",
    "        \n",
    "                                                             \n",
    "\n",
    "\n",
    "#Input: prices = [8,4,6,2,3]\n",
    "#Output: [4,2,4,2,3]        \n",
    "print(Solution().finalPrices([8,4,6,2,3]))\n",
    "\n",
    "#Input: prices = [1,2,3,4,5]\n",
    "#Output: [1,2,3,4,5]    \n",
    "print(Solution().finalPrices([1,2,3,4,5]))\n",
    "\n",
    "\n",
    "#Input: prices = [10,1,1,6]\n",
    "#Output: [9,0,1,6]\n",
    "print(Solution().finalPrices([10,1,1,6]))"
   ]
  }
 ],
 "metadata": {
  "kernelspec": {
   "display_name": "venv_alg",
   "language": "python",
   "name": "python3"
  },
  "language_info": {
   "codemirror_mode": {
    "name": "ipython",
    "version": 3
   },
   "file_extension": ".py",
   "mimetype": "text/x-python",
   "name": "python",
   "nbconvert_exporter": "python",
   "pygments_lexer": "ipython3",
   "version": "3.11.5"
  }
 },
 "nbformat": 4,
 "nbformat_minor": 2
}
