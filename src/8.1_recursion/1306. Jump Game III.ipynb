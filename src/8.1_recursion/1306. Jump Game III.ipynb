{
 "cells": [
  {
   "cell_type": "markdown",
   "metadata": {},
   "source": [
    "1306. Jump Game III\n",
    "\n",
    "https://leetcode.com/problems/jump-game-iii/description/"
   ]
  },
  {
   "cell_type": "code",
   "execution_count": null,
   "metadata": {},
   "outputs": [
    {
     "data": {
      "text/plain": [
       "True"
      ]
     },
     "execution_count": 11,
     "metadata": {},
     "output_type": "execute_result"
    }
   ],
   "source": [
    "from typing import List\n",
    "\n",
    "class Solution:\n",
    "    def canReach(self, arr: List[int], start: int) -> bool:\n",
    "        #DFS\n",
    "        visited = set()        \n",
    "        def dfs(idx):\n",
    "            #BASE CASE            \n",
    "            if idx < 0 or idx >= len(arr):  # Out of bounds\n",
    "                return False\n",
    "            if idx in visited:  # Already visited to prevent cycles\n",
    "                return False\n",
    "            if arr[idx] == 0:  # Found target, stop search\n",
    "                return True\n",
    "\n",
    "            visited.add(idx)    \n",
    "                     \n",
    "            #check left branch\n",
    "            left = dfs(idx - arr[idx])\n",
    "            #STOP recursion emideatly if TRUE. Do not consider right branch\n",
    "            if left:\n",
    "                return True\n",
    "            #check right branch\n",
    "            right = dfs(idx + arr[idx])  \n",
    "\n",
    "            #return 'left' + 'right' From bottom to UP. if ONE TRUE exists ir will appear.                                    \n",
    "            return left or right                        \n",
    "        return dfs(start)         \n",
    "        \n",
    "\n",
    "#arr = [3,0,2,1,2]\n",
    "#start = 2\n",
    "#Solution().canReach([3,0,2,1,2], 2)\n",
    "\n",
    "#Input: arr = [4,2,3,0,3,1,2], start = 0\n",
    "#Output: true \n",
    "Solution().canReach([4,2,3,0,1,1,2], 0)\n",
    "\n",
    "#arr = [0,1]\n",
    "#start = 1\n",
    "#Solution().canReach([0], 0)"
   ]
  }
 ],
 "metadata": {
  "kernelspec": {
   "display_name": "Python 3",
   "language": "python",
   "name": "python3"
  },
  "language_info": {
   "codemirror_mode": {
    "name": "ipython",
    "version": 3
   },
   "file_extension": ".py",
   "mimetype": "text/x-python",
   "name": "python",
   "nbconvert_exporter": "python",
   "pygments_lexer": "ipython3",
   "version": "3.9.6"
  }
 },
 "nbformat": 4,
 "nbformat_minor": 2
}
