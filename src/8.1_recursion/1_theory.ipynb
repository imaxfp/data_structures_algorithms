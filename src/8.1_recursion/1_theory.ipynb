{
 "cells": [
  {
   "cell_type": "markdown",
   "metadata": {},
   "source": [
    "### TailRec VS Headrec\n",
    "\n",
    "<img src=\"./img/tail_rec_head_rec1.png\" alt=\"nearby_objects\" width=\"500\"/>\n",
    "\n",
    "- **tail recursion** is very similar to iteration - and usually it is transformed into an iteration\n",
    "\n",
    "- **head recursion** is a bit more complex because the function calls must be tracked - this is why these function calls are pushed onto the stack (call-stack)"
   ]
  },
  {
   "cell_type": "code",
   "execution_count": 6,
   "metadata": {},
   "outputs": [
    {
     "name": "stdout",
     "output_type": "stream",
     "text": [
      "tail rec like loop = 5\n",
      "do something 5\n",
      "tail rec like loop = 4\n",
      "do something 4\n",
      "tail rec like loop = 3\n",
      "do something 3\n",
      "tail rec like loop = 2\n",
      "do something 2\n",
      "tail rec like loop = 1\n"
     ]
    }
   ],
   "source": [
    "def tail(n):\n",
    "    print(f'tail rec like loop = {n}')\n",
    "    if n == 1:\n",
    "        return\n",
    "    print(f'do something {n}')  \n",
    "    tail(n-1)  \n",
    "\n",
    "tail(5)\n"
   ]
  },
  {
   "cell_type": "code",
   "execution_count": 7,
   "metadata": {},
   "outputs": [
    {
     "name": "stdout",
     "output_type": "stream",
     "text": [
      "head rec push to the stack = 5\n",
      "head rec push to the stack = 4\n",
      "head rec push to the stack = 3\n",
      "head rec push to the stack = 2\n",
      "head rec push to the stack = 1\n",
      "do something 2\n",
      "do something 3\n",
      "do something 4\n",
      "do something 5\n"
     ]
    }
   ],
   "source": [
    "def head(n):\n",
    "    print(f'head rec push to the stack = {n}')\n",
    "    if n == 1:\n",
    "        return      \n",
    "    head(n-1)  \n",
    "    print(f'do something {n}') \n",
    "\n",
    "head(5)"
   ]
  },
  {
   "cell_type": "markdown",
   "metadata": {},
   "source": [
    "<img src=\"./img/tail_rec_head_rec2.png\" alt=\"nearby_objects\" width=\"500\"/>"
   ]
  }
 ],
 "metadata": {
  "kernelspec": {
   "display_name": "Python 3",
   "language": "python",
   "name": "python3"
  },
  "language_info": {
   "codemirror_mode": {
    "name": "ipython",
    "version": 3
   },
   "file_extension": ".py",
   "mimetype": "text/x-python",
   "name": "python",
   "nbconvert_exporter": "python",
   "pygments_lexer": "ipython3",
   "version": "3.9.6"
  }
 },
 "nbformat": 4,
 "nbformat_minor": 2
}
