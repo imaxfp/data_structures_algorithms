{
 "cells": [
  {
   "cell_type": "markdown",
   "metadata": {},
   "source": [
    "1823. Find the Winner of the Circular Game\n",
    "\n",
    "https://leetcode.com/problems/find-the-winner-of-the-circular-game/description/"
   ]
  },
  {
   "cell_type": "code",
   "execution_count": 6,
   "metadata": {},
   "outputs": [],
   "source": [
    "class Solution:   \n",
    "\n",
    "    def findTheWinner(self, n: int, k: int) -> int:        \n",
    "        def del_friend_rec(k, step, friends):\n",
    "            #base case\n",
    "            #print(f'friends {friends} step {step}')\n",
    "            if len(friends) == 1:\n",
    "                return friends[-1]\n",
    "            \n",
    "            # Calculate next friend to remove, wrapping around with modulo\n",
    "            step = (step + k - 1) % len(friends)  \n",
    "            #print(f'step = {step}')          \n",
    "            friends.pop(step)    \n",
    "            return del_friend_rec(k, step, friends) \n",
    "\n",
    "        friends = list(range(1, n+1))        \n",
    "        return del_friend_rec(k, 0, friends)\n",
    "    \n",
    "    #TASK TODO can be solved O(n) - Josephus Problem Approach\n",
    "    def josephus(self, n: int, k: int) -> int:\n",
    "        position = 0  # Initial position for Josephus problem            \n",
    "        for i in range(1, n + 1):\n",
    "            position = (position + k) % i                \n",
    "        return position + 1  # Convert zero-indexed to one-indexed     \n",
    "\n",
    "#Input: n = 5, k = 2\n",
    "#Output: 3\n",
    "Solution().findTheWinner(5,2)    \n",
    "assert Solution().findTheWinner(5,2) == Solution().josephus(5,2)             "
   ]
  }
 ],
 "metadata": {
  "kernelspec": {
   "display_name": "Python 3",
   "language": "python",
   "name": "python3"
  },
  "language_info": {
   "codemirror_mode": {
    "name": "ipython",
    "version": 3
   },
   "file_extension": ".py",
   "mimetype": "text/x-python",
   "name": "python",
   "nbconvert_exporter": "python",
   "pygments_lexer": "ipython3",
   "version": "3.9.6"
  }
 },
 "nbformat": 4,
 "nbformat_minor": 2
}
