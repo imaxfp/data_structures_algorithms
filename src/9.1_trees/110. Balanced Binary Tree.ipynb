{
 "cells": [
  {
   "cell_type": "markdown",
   "metadata": {},
   "source": [
    "### 110. Balanced Binary Tree\n",
    "\n",
    "https://leetcode.com/problems/balanced-binary-tree/description\n"
   ]
  },
  {
   "cell_type": "code",
   "execution_count": 6,
   "metadata": {},
   "outputs": [
    {
     "name": "stdout",
     "output_type": "stream",
     "text": [
      "True\n",
      "True\n",
      "False\n"
     ]
    }
   ],
   "source": [
    "# Definition for a binary tree node.\n",
    "from typing import Optional\n",
    "\n",
    "\n",
    "class TreeNode:    \n",
    "    def __init__(self, val=0, left=None, right=None):\n",
    "        self.val = val\n",
    "        self.left = left\n",
    "        self.right = right\n",
    "\n",
    "\n",
    "from collections import deque\n",
    "# Every node has left and right subtrees with a height difference of at most 1.\n",
    "class Solution:\n",
    "    \n",
    "    def checkDepth(self, node):       \n",
    "        if not node:\n",
    "            return 0\n",
    "        stack = [(node, 1)]\n",
    "        \n",
    "        res = 0\n",
    "        while stack:\n",
    "            node, depth = stack.pop()\n",
    "            if node:\n",
    "                res = max(res, depth)\n",
    "                if node.left:\n",
    "                    stack.append((node.left, depth+1))                 \n",
    "                if node.right:    \n",
    "                    stack.append((node.right, depth+1))\n",
    "        return res                        \n",
    "        \n",
    "    \n",
    "    def isBalanced(self, root: Optional[TreeNode]) -> bool:\n",
    "        if not root:\n",
    "            return True\n",
    "        left_depth = self.checkDepth(root.left)\n",
    "        right_depth = self.checkDepth(root.right)\n",
    "        \n",
    "        if left_depth == right_depth or abs(left_depth - right_depth) == 1:\n",
    "            return True\n",
    "        \n",
    "        return False     \n",
    "\n",
    "treeNode = TreeNode(1)\n",
    "treeNode.left = TreeNode(2) \n",
    "treeNode.right = TreeNode(3) \n",
    "\n",
    "\n",
    "print(Solution().isBalanced(treeNode))\n",
    "\n",
    "treeNode.right.right = TreeNode(4) \n",
    "print(Solution().isBalanced(treeNode))\n",
    "\n",
    "treeNode.right.right.right = TreeNode(4) \n",
    "print(Solution().isBalanced(treeNode))"
   ]
  }
 ],
 "metadata": {
  "kernelspec": {
   "display_name": "venv_alg",
   "language": "python",
   "name": "python3"
  },
  "language_info": {
   "codemirror_mode": {
    "name": "ipython",
    "version": 3
   },
   "file_extension": ".py",
   "mimetype": "text/x-python",
   "name": "python",
   "nbconvert_exporter": "python",
   "pygments_lexer": "ipython3",
   "version": "3.11.5"
  }
 },
 "nbformat": 4,
 "nbformat_minor": 2
}
