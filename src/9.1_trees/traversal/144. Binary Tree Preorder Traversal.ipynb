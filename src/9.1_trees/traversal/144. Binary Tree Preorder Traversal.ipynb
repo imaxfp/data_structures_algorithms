{
 "cells": [
  {
   "cell_type": "markdown",
   "metadata": {},
   "source": [
    "### 144. Binary Tree Preorder Traversal\n",
    "\n",
    "https://leetcode.com/problems/binary-tree-preorder-traversal"
   ]
  },
  {
   "cell_type": "code",
   "execution_count": 5,
   "metadata": {},
   "outputs": [
    {
     "name": "stdout",
     "output_type": "stream",
     "text": [
      "[1, 2, 3]\n",
      "[3, 1, 2]\n"
     ]
    }
   ],
   "source": [
    "# Definition for a binary tree node.\n",
    "class TreeNode:\n",
    "     def __init__(self, val=0, left=None, right=None):\n",
    "         self.val = val\n",
    "         self.left = left\n",
    "         self.right = right\n",
    "from typing import List, Optional\n",
    "\n",
    "\n",
    "# Definition for a binary tree node.\n",
    "# class TreeNode:\n",
    "#     def __init__(self, val=0, left=None, right=None):\n",
    "#         self.val = val\n",
    "#         self.left = left\n",
    "#         self.right = right\n",
    "\n",
    "# ITERATIVE Preorder traversal instead\n",
    "class Solution:\n",
    "    def preorderTraversal(self, root: Optional[TreeNode]) -> List[int]:\n",
    "        stack = [root]\n",
    "        res = []\n",
    "        while stack:\n",
    "            node = stack.pop()\n",
    "            if node:\n",
    "            # Preorder traversal instead\n",
    "               res.append(node.val)\n",
    "               stack.append(node.right)\n",
    "               stack.append(node.left)\n",
    "               \n",
    "        return res        \n",
    "\n",
    "#Input: root = [1,null,2,3]\n",
    "#Output: [1,2,3]\n",
    "treeNode = TreeNode(1)\n",
    "treeNode.right = TreeNode(2)\n",
    "treeNode.right.left = TreeNode(3)\n",
    "print(Solution().preorderTraversal(treeNode))\n",
    "\n",
    "#Input: root = [3,1,2]\n",
    "#Output: [3,1,2]\n",
    "treeNode = TreeNode(3)\n",
    "treeNode.left = TreeNode(1)\n",
    "treeNode.right = TreeNode(2)\n",
    "print(Solution().preorderTraversal(treeNode))\n"
   ]
  }
 ],
 "metadata": {
  "kernelspec": {
   "display_name": "venv_alg",
   "language": "python",
   "name": "python3"
  },
  "language_info": {
   "codemirror_mode": {
    "name": "ipython",
    "version": 3
   },
   "file_extension": ".py",
   "mimetype": "text/x-python",
   "name": "python",
   "nbconvert_exporter": "python",
   "pygments_lexer": "ipython3",
   "version": "3.11.5"
  }
 },
 "nbformat": 4,
 "nbformat_minor": 2
}
