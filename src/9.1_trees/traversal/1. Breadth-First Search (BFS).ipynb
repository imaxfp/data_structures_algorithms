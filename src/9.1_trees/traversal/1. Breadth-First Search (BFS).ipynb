{
 "cells": [
  {
   "cell_type": "markdown",
   "metadata": {},
   "source": [
    "### Breadth-First Search (BFS)\n",
    "\n",
    "Breadth-First Search (BFS) is a general algorithm used for traversing or searching through tree or graph data structures. The fundamental principle of BFS is to explore all nodes at the present \"depth\" (or level) before moving on to nodes at the next depth level. While BFS itself is a single algorithm, there are different variations and applications of BFS depending on the problem context:"
   ]
  },
  {
   "cell_type": "markdown",
   "metadata": {},
   "source": [
    "### Standard BFS\n",
    "Description: The basic form of BFS used for traversing graphs and trees. It starts from a given node (often called the \"root\") and explores all its neighboring nodes before moving on to the neighbors of those neighbors, and so on.\n",
    "Applications:\n",
    "Finding the shortest path in an unweighted graph.\n",
    "Finding connected components in a graph.\n",
    "Level-order traversal of a tree."
   ]
  },
  {
   "cell_type": "markdown",
   "metadata": {
    "vscode": {
     "languageId": "plaintext"
    }
   },
   "source": [
    "### Multi-Source BFS\n",
    "\n",
    "Description: A variation of BFS that begins from multiple source nodes simultaneously. This is often used when you need to explore from multiple starting points at once.\n",
    "Applications:\n",
    "Finding the shortest distance from multiple sources to a target.\n",
    "Solving problems where multiple points need to spread or propagate information simultaneously, like in flood-fill algorithms."
   ]
  }
 ],
 "metadata": {
  "kernelspec": {
   "display_name": "venv_alg",
   "language": "python",
   "name": "python3"
  },
  "language_info": {
   "codemirror_mode": {
    "name": "ipython",
    "version": 3
   },
   "file_extension": ".py",
   "mimetype": "text/x-python",
   "name": "python",
   "nbconvert_exporter": "python",
   "pygments_lexer": "ipython3",
   "version": "3.11.5"
  }
 },
 "nbformat": 4,
 "nbformat_minor": 2
}
