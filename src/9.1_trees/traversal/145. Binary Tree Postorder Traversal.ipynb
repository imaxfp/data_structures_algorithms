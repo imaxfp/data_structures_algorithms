{
 "cells": [
  {
   "cell_type": "markdown",
   "metadata": {},
   "source": [
    "### 145. Binary Tree Postorder Traversal\n",
    "\n",
    "Visit the left subtree, the right subtree, and then the node (root).\n",
    "\n",
    "Follow up: Recursive solution is trivial, could you do it iteratively?\n",
    "\n",
    "https://leetcode.com/problems/binary-tree-postorder-traversal/description/"
   ]
  },
  {
   "cell_type": "code",
   "execution_count": 16,
   "metadata": {},
   "outputs": [
    {
     "name": "stdout",
     "output_type": "stream",
     "text": [
      "[1, 2, 3]\n",
      "[3, 2, 1]\n"
     ]
    }
   ],
   "source": [
    "# Definition for a binary tree node.\n",
    "class TreeNode:\n",
    "     def __init__(self, val=0, left=None, right=None):\n",
    "         self.val = val\n",
    "         self.left = left\n",
    "         self.right = right\n",
    "from typing import List, Optional\n",
    "\n",
    "# ITERATIVE\n",
    "class Solution:\n",
    "    def postorderTraversal(self, root: Optional[TreeNode]) -> List[int]:\n",
    "        if not root:\n",
    "            return []\n",
    "        \n",
    "        candidate_stack = [root]\n",
    "        result_stack = []\n",
    "        result = []\n",
    "\n",
    "        while candidate_stack:\n",
    "            node = candidate_stack.pop()\n",
    "            result_stack.append(node)\n",
    "\n",
    "            if node.left:\n",
    "                candidate_stack.append(node.left)\n",
    "            if node.right:\n",
    "                candidate_stack.append(node.right)\n",
    "\n",
    "        while result_stack:\n",
    "            node = result_stack.pop()\n",
    "            result.append(node.val)\n",
    "\n",
    "        return result\n",
    "                \n",
    "                \n",
    "#root = [3,1,2]\n",
    "#Expected [1,2,3]\n",
    "treeNode = TreeNode(3)\n",
    "treeNode.left = TreeNode(1)\n",
    "treeNode.right = TreeNode(2)\n",
    "print(Solution().postorderTraversal(treeNode))\n",
    "\n",
    "        \n",
    "#Input: root = [1,null,2,3]\n",
    "#Output: [3,2,1]\n",
    "treeNode = TreeNode(1)\n",
    "treeNode.right = TreeNode(2)\n",
    "treeNode.right.left = TreeNode(3)\n",
    "print(Solution().postorderTraversal(treeNode))"
   ]
  },
  {
   "cell_type": "code",
   "execution_count": 22,
   "metadata": {},
   "outputs": [
    {
     "name": "stdout",
     "output_type": "stream",
     "text": [
      "[1, 2, 3]\n",
      "[3, 2, 1]\n"
     ]
    }
   ],
   "source": [
    "# Definition for a binary tree node.\n",
    "class TreeNode:\n",
    "     def __init__(self, val=0, left=None, right=None):\n",
    "         self.val = val\n",
    "         self.left = left\n",
    "         self.right = right\n",
    "from typing import List, Optional\n",
    "\n",
    "# RECURSIVE\n",
    "class Solution:\n",
    "    def postorderTraversal(self, root: Optional[TreeNode]) -> List[int]:\n",
    "        \n",
    "        if not root:\n",
    "            return []\n",
    "        result = []\n",
    "        \n",
    "        def traverse(node):            \n",
    "            if node:        \n",
    "                traverse(node.left)  # Visit left subtree\n",
    "                traverse(node.right)  # Visit right subtree\n",
    "                result.append(node.val)  # Visit node (root)\n",
    "        \n",
    "        traverse(root)        \n",
    "        return result        \n",
    "\n",
    "\n",
    "#root = [3,1,2]\n",
    "#Expected [1,2,3]\n",
    "treeNode = TreeNode(3)\n",
    "treeNode.left = TreeNode(1)\n",
    "treeNode.right = TreeNode(2)\n",
    "print(Solution().postorderTraversal(treeNode))\n",
    "\n",
    "        \n",
    "#Input: root = [1,null,2,3]\n",
    "#Output: [3,2,1]\n",
    "treeNode = TreeNode(1)\n",
    "treeNode.right = TreeNode(2)\n",
    "treeNode.right.left = TreeNode(3)\n",
    "print(Solution().postorderTraversal(treeNode))        "
   ]
  }
 ],
 "metadata": {
  "kernelspec": {
   "display_name": "venv_alg",
   "language": "python",
   "name": "python3"
  },
  "language_info": {
   "codemirror_mode": {
    "name": "ipython",
    "version": 3
   },
   "file_extension": ".py",
   "mimetype": "text/x-python",
   "name": "python",
   "nbconvert_exporter": "python",
   "pygments_lexer": "ipython3",
   "version": "3.11.5"
  }
 },
 "nbformat": 4,
 "nbformat_minor": 2
}
