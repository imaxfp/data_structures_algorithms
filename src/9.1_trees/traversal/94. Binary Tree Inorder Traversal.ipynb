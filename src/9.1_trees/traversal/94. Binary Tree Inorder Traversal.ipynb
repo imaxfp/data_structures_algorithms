{
 "cells": [
  {
   "cell_type": "markdown",
   "metadata": {},
   "source": [
    "### 94. Binary Tree Inorder Traversal\n",
    "\n",
    "Tree Inorder Traversal\n",
    "Inorder traversal is a depth-first traversal method for binary trees. The nodes are recursively visited in the following order:\n",
    "\n",
    "- Left subtree\n",
    "- Root node\n",
    "- Right subtree\n",
    "\n",
    "https://leetcode.com/problems/binary-tree-inorder-traversal/description"
   ]
  },
  {
   "cell_type": "code",
   "execution_count": 3,
   "metadata": {},
   "outputs": [
    {
     "name": "stdout",
     "output_type": "stream",
     "text": [
      "[1, 2, 3]\n",
      "[]\n",
      "[1]\n"
     ]
    }
   ],
   "source": [
    "# Definition for a binary tree node.\n",
    "class TreeNode:\n",
    "     def __init__(self, val=0, left=None, right=None):\n",
    "         self.val = val\n",
    "         self.left = left\n",
    "         self.right = right\n",
    "from typing import List, Optional\n",
    "\n",
    "# ITERATIVE Preorder traversal instead\n",
    "class Solution:\n",
    "    def inorderTraversal(self, root: Optional[TreeNode]) -> List[int]:\n",
    "        #- Left subtree\n",
    "        #- Root node\n",
    "        #- Right subtree\n",
    "        return None\n",
    "\n",
    "            \n",
    "\n",
    "#Input: root = [1,null,2,3]\n",
    "#Output: [1,3,2]\n",
    "treeNode = TreeNode(1)\n",
    "treeNode.right = TreeNode(2)\n",
    "treeNode.right.left = TreeNode(3)\n",
    "print(Solution().inorderTraversal(treeNode))\n",
    "\n",
    "#Example 2:\n",
    "#Input: root = []\n",
    "#Output: []\n",
    "print(Solution().inorderTraversal(None))\n",
    "\n",
    "#Example 3:\n",
    "#Input: root = [1]\n",
    "#Output: [1]\n",
    "treeNode2 = TreeNode(1)\n",
    "print(Solution().inorderTraversal(treeNode2))"
   ]
  },
  {
   "cell_type": "code",
   "execution_count": 4,
   "metadata": {},
   "outputs": [
    {
     "name": "stdout",
     "output_type": "stream",
     "text": [
      "[1, 3, 2]\n",
      "[]\n",
      "[1]\n"
     ]
    }
   ],
   "source": [
    "# Definition for a binary tree node.\n",
    "class TreeNode:\n",
    "     def __init__(self, val=0, left=None, right=None):\n",
    "         self.val = val\n",
    "         self.left = left\n",
    "         self.right = right\n",
    "from typing import List, Optional\n",
    "\n",
    "#RECURSIVE\n",
    "class Solution:\n",
    "    def inorderTraversal(self, root: Optional[TreeNode]) -> List[int]:\n",
    "        res = []\n",
    "        if not root:\n",
    "            return []\n",
    "        \n",
    "        def traversal(node):\n",
    "            if not node:\n",
    "                return                        \n",
    "            #1. Left subtree\n",
    "            traversal(node.left)\n",
    "            #2. Root node\n",
    "            res.append(node.val)\n",
    "            #3. Right subtree\n",
    "            traversal(node.right)\n",
    "        \n",
    "        traversal(root)\n",
    "        return res    \n",
    "            \n",
    "        \n",
    "        \n",
    "#Input: root = [1,null,2,3]\n",
    "#Output: [1,3,2]\n",
    "treeNode = TreeNode(1)\n",
    "treeNode.right = TreeNode(2)\n",
    "treeNode.right.left = TreeNode(3)\n",
    "print(Solution().inorderTraversal(treeNode))\n",
    "\n",
    "#Example 2:\n",
    "#Input: root = []\n",
    "#Output: []\n",
    "print(Solution().inorderTraversal(None))\n",
    "\n",
    "#Example 3:\n",
    "#Input: root = [1]\n",
    "#Output: [1]\n",
    "treeNode2 = TreeNode(1)\n",
    "print(Solution().inorderTraversal(treeNode2))        "
   ]
  }
 ],
 "metadata": {
  "kernelspec": {
   "display_name": "venv_alg",
   "language": "python",
   "name": "python3"
  },
  "language_info": {
   "codemirror_mode": {
    "name": "ipython",
    "version": 3
   },
   "file_extension": ".py",
   "mimetype": "text/x-python",
   "name": "python",
   "nbconvert_exporter": "python",
   "pygments_lexer": "ipython3",
   "version": "3.11.5"
  }
 },
 "nbformat": 4,
 "nbformat_minor": 2
}
