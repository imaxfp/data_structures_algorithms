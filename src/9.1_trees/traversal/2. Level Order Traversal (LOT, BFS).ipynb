{
 "cells": [
  {
   "cell_type": "markdown",
   "metadata": {},
   "source": [
    "### Breadth-First Search (BFS)\n",
    "\n",
    "Level Order Traversal (LOT) is a type of Breadth-First Search (BFS).\n",
    "\n",
    "BFS explores all nodes at the present depth level before moving on to nodes at the next depth level, which is exactly what Level Order Traversal does.\n",
    "DFS (Depth-First Search), on the other hand, explores as far as possible along a branch before backtracking, which is different from Level Order Traversal."
   ]
  },
  {
   "cell_type": "code",
   "execution_count": 7,
   "metadata": {},
   "outputs": [
    {
     "name": "stdout",
     "output_type": "stream",
     "text": [
      "[1]\n",
      "[2, 3]\n",
      "[None, None, 4, 5]\n",
      "[None, None, None, 10]\n",
      "[None, None]\n"
     ]
    }
   ],
   "source": [
    "#ITERATIVE\n",
    "class TreeNode:\n",
    "    def __init__(self, val, left=None, right=None):\n",
    "        self.val = val\n",
    "        self.left = left\n",
    "        self.right = right\n",
    "        \n",
    "from collections import deque         \n",
    "\n",
    "class Solution:\n",
    "    def levelOrderTraversal(self, root: TreeNode):        \n",
    "        \n",
    "        def print_level(level_q: deque):            \n",
    "            next_level_q = deque([])\n",
    "            level = []\n",
    "            while level_q:\n",
    "                node = level_q.popleft()\n",
    "                \n",
    "                if node:\n",
    "                    level.append(node.val)\n",
    "                    next_level_q.append(node.left)\n",
    "                    next_level_q.append(node.right)\n",
    "                else:\n",
    "                    level.append(None)    \n",
    "            print(level)                                    \n",
    "            return next_level_q        \n",
    "                                        \n",
    "        level_queue = deque([root])\n",
    "        while level_queue:\n",
    "            level_queue = print_level(level_queue)\n",
    " \n",
    "                \n",
    "tree = TreeNode(1)\n",
    "tree.left = TreeNode(2) \n",
    "tree.right = TreeNode(3)\n",
    "tree.right.left = TreeNode(4)\n",
    "tree.right.right = TreeNode(5)\n",
    "tree.right.right.right = TreeNode(10)\n",
    "\n",
    "Solution().levelOrderTraversal(tree)           "
   ]
  },
  {
   "cell_type": "code",
   "execution_count": 15,
   "metadata": {},
   "outputs": [
    {
     "name": "stdout",
     "output_type": "stream",
     "text": [
      "[1]\n",
      "[2, 3]\n",
      "[None, None, 4, 5]\n",
      "[None, None, None, 10]\n",
      "[None, None]\n"
     ]
    }
   ],
   "source": [
    "#ITERATIVE IMPROVED\n",
    "class TreeNode:\n",
    "    def __init__(self, val, left=None, right=None):\n",
    "        self.val = val\n",
    "        self.left = left\n",
    "        self.right = right\n",
    "\n",
    "class Solution:\n",
    "    def levelOrderTraversal(self, root: TreeNode):\n",
    "        if not root:\n",
    "            return []\n",
    "        \n",
    "        queue = deque([root])\n",
    "\n",
    "        while queue:           \n",
    "            level = []\n",
    "            for _ in range(len(queue)):\n",
    "                node = queue.popleft()\n",
    "                if node:\n",
    "                    level.append(node.val)                    \n",
    "                    queue.append(node.left)                    \n",
    "                    queue.append(node.right)\n",
    "                else: \n",
    "                    level.append(None)                   \n",
    "            print(level)\n",
    "    \n",
    "tree = TreeNode(1)\n",
    "tree.left = TreeNode(2) \n",
    "tree.right = TreeNode(3)\n",
    "tree.right.left = TreeNode(4)\n",
    "tree.right.right = TreeNode(5)\n",
    "tree.right.right.right = TreeNode(10)\n",
    "\n",
    "Solution().levelOrderTraversal(tree)     "
   ]
  },
  {
   "cell_type": "code",
   "execution_count": 18,
   "metadata": {},
   "outputs": [
    {
     "name": "stdout",
     "output_type": "stream",
     "text": [
      "[[1], [2, 3], [4, 5], [10]]\n"
     ]
    }
   ],
   "source": [
    "#RECURSIVE \n",
    "class TreeNode:\n",
    "    def __init__(self, val, left=None, right=None):\n",
    "        self.val = val\n",
    "        self.left = left\n",
    "        self.right = right\n",
    "        \n",
    "class Solution:\n",
    "    def levelOrderTraversal(self, root: TreeNode):                \n",
    "        res = []        \n",
    "        def level_order_traverse(node: TreeNode, level):\n",
    "            if not node:\n",
    "                return \n",
    "            \n",
    "            #create new 'empty' level\n",
    "            if len(res) == level:\n",
    "                res.append([])            \n",
    "            res[level].append(node.val)    \n",
    "            \n",
    "            level_order_traverse(node.left, level+1)\n",
    "            level_order_traverse(node.right, level+1)\n",
    "        \n",
    "        level_order_traverse(root, 0)  \n",
    "        \n",
    "        return res  \n",
    "            \n",
    "tree = TreeNode(1)\n",
    "tree.left = TreeNode(2) \n",
    "tree.right = TreeNode(3)\n",
    "tree.right.left = TreeNode(4)\n",
    "tree.right.right = TreeNode(5)\n",
    "tree.right.right.right = TreeNode(10)\n",
    "\n",
    "print(Solution().levelOrderTraversal(tree))\n",
    "\n"
   ]
  },
  {
   "cell_type": "code",
   "execution_count": 21,
   "metadata": {},
   "outputs": [
    {
     "name": "stdout",
     "output_type": "stream",
     "text": [
      "[1]\n",
      "[2, 3]\n",
      "[4, 5]\n",
      "[10]\n",
      "[]\n",
      "[]\n"
     ]
    }
   ],
   "source": [
    "#ITERATIVE 2\n",
    "class TreeNode:\n",
    "    def __init__(self, val, left=None, right=None):\n",
    "        self.val = val\n",
    "        self.left = left\n",
    "        self.right = right\n",
    "\n",
    "from collections import deque\n",
    "\n",
    "class Solution:    \n",
    "    def levelOrderTraversal(self, root: TreeNode):                        \n",
    "        res = [[]]\n",
    "        level = deque([root]) \n",
    "        \n",
    "        while level:                        \n",
    "            for _ in range(len(level)):\n",
    "                node = level.popleft()\n",
    "                if node:\n",
    "                    res[-1].append(node.val)\n",
    "                    level.append(node.left)\n",
    "                    level.append(node.right)\n",
    "            res.append([])        \n",
    "        return res                   \n",
    "                \n",
    "tree = TreeNode(1)\n",
    "tree.left = TreeNode(2) \n",
    "tree.right = TreeNode(3)\n",
    "tree.right.left = TreeNode(4)\n",
    "tree.right.right = TreeNode(5)\n",
    "tree.right.right.right = TreeNode(10)\n",
    "\n",
    "res = Solution().levelOrderTraversal(tree)\n",
    "for r in res:\n",
    "    print(r)"
   ]
  }
 ],
 "metadata": {
  "kernelspec": {
   "display_name": "venv_alg",
   "language": "python",
   "name": "python3"
  },
  "language_info": {
   "codemirror_mode": {
    "name": "ipython",
    "version": 3
   },
   "file_extension": ".py",
   "mimetype": "text/x-python",
   "name": "python",
   "nbconvert_exporter": "python",
   "pygments_lexer": "ipython3",
   "version": "3.11.5"
  }
 },
 "nbformat": 4,
 "nbformat_minor": 2
}
