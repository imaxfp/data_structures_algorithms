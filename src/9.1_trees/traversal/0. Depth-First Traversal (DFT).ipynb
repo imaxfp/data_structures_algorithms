{
 "cells": [
  {
   "cell_type": "markdown",
   "metadata": {},
   "source": [
    "### 1. Inorder Traversal\n",
    "\n",
    "Order: Left subtree → Root node → Right subtree\n",
    "\n",
    "#### Description:\n",
    "- Visit the left subtree.\n",
    "- Visit the root node.\n",
    "- Visit the right subtree.\n",
    "\n",
    "##### Use Case:\n",
    "Commonly used in binary search trees (BSTs) to retrieve nodes in non-decreasing order.\n",
    "\n"
   ]
  },
  {
   "cell_type": "markdown",
   "metadata": {},
   "source": [
    "### Depth-First Traversal (DFT)\n",
    "\n",
    "Depth-First Traversal (DFT) is a category of tree traversal where the algorithm starts at the root node and explores as far as possible along each branch before backtracking. There are three common types of depth-first traversal: Inorder, Preorder, and Postorder."
   ]
  },
  {
   "cell_type": "code",
   "execution_count": 2,
   "metadata": {},
   "outputs": [
    {
     "name": "stdout",
     "output_type": "stream",
     "text": [
      "[1, 3, 2]\n"
     ]
    }
   ],
   "source": [
    "class TreeNode:\n",
    "     def __init__(self, val=0, left=None, right=None):\n",
    "         self.val = val\n",
    "         self.left = left\n",
    "         self.right = right\n",
    "from typing import List, Optional\n",
    "\n",
    "# RECURSIVE \n",
    "class Solution:\n",
    "    def inorderTraversal(self, root: Optional[TreeNode]) -> List[int]:                \n",
    "        #1. Visit the left subtree.\n",
    "        #2. Visit the root node.\n",
    "        #3. Visit the right subtree.\n",
    "        if not root:\n",
    "            return []\n",
    "        \n",
    "        res = []\n",
    "        def traverse(node):\n",
    "            if not node:\n",
    "                return                                    \n",
    "            traverse(node.left)\n",
    "            res.append(node.val)\n",
    "            traverse(node.right)\n",
    "        traverse(root)\n",
    "        return res    \n",
    "#Input: root = [1,null,2,3]\n",
    "#Output: [1,3,2]\n",
    "treeNode = TreeNode(1)\n",
    "treeNode.right = TreeNode(2)\n",
    "treeNode.right.left = TreeNode(3)\n",
    "print(Solution().inorderTraversal(treeNode))        "
   ]
  },
  {
   "cell_type": "code",
   "execution_count": 5,
   "metadata": {},
   "outputs": [
    {
     "name": "stdout",
     "output_type": "stream",
     "text": [
      "[3, 2, 1]\n"
     ]
    }
   ],
   "source": [
    "# ITERATIVE \n",
    "class Solution:\n",
    "    def inorderTraversal(self, root: Optional[TreeNode]) -> List[int]:                \n",
    "        #1. Visit the left subtree.\n",
    "        #2. Visit the root node.\n",
    "        #3. Visit the right subtree.\n",
    "        if not root:\n",
    "            return []\n",
    "        stack_candidate = [root]\n",
    "        stack_res = []\n",
    "        res = []\n",
    "        while stack_candidate:\n",
    "            node = stack_candidate.pop()\n",
    "            stack_res.append(node)\n",
    "            if node.left:\n",
    "                stack_candidate.append(node.left)\n",
    "            if node.right:\n",
    "                stack_candidate.append(node.right)\n",
    "                    \n",
    "        while stack_res:\n",
    "            node = stack_res.pop()\n",
    "            res.append(node.val)        \n",
    "                         \n",
    "        return res    \n",
    "    \n",
    "#Input: root = [1,null,2,3]\n",
    "#Output: [1,3,2]\n",
    "treeNode = TreeNode(1)\n",
    "treeNode.right = TreeNode(2)\n",
    "treeNode.right.left = TreeNode(3)\n",
    "print(Solution().inorderTraversal(treeNode))      "
   ]
  },
  {
   "cell_type": "code",
   "execution_count": null,
   "metadata": {},
   "outputs": [],
   "source": []
  },
  {
   "cell_type": "markdown",
   "metadata": {},
   "source": [
    "\n",
    "#### 2. Preorder Traversal\n",
    "\n",
    "Order: Root node → Left subtree → Right subtree\n",
    "\n",
    "#### Description:\n",
    "- Visit the root node.\n",
    "- Visit the left subtree.\n",
    "- Visit the right subtree.\n",
    "\n",
    "##### Use Case:\n",
    "Useful for creating a copy of the tree, or for prefix expression evaluation."
   ]
  },
  {
   "cell_type": "markdown",
   "metadata": {},
   "source": [
    "#### 3. Postorder Traversal\n",
    "\n",
    "Order: Left subtree → Right subtree → Root node\n",
    "\n",
    "#### Description:\n",
    "- Visit the left subtree.\n",
    "- Visit the right subtree.\n",
    "- Visit the root node.\n",
    "\n",
    "##### Use Case:\n",
    "Commonly used for deleting or freeing nodes in a tree and for postfix expression evaluation."
   ]
  }
 ],
 "metadata": {
  "kernelspec": {
   "display_name": "venv_alg",
   "language": "python",
   "name": "python3"
  },
  "language_info": {
   "codemirror_mode": {
    "name": "ipython",
    "version": 3
   },
   "file_extension": ".py",
   "mimetype": "text/x-python",
   "name": "python",
   "nbconvert_exporter": "python",
   "pygments_lexer": "ipython3",
   "version": "3.11.5"
  }
 },
 "nbformat": 4,
 "nbformat_minor": 2
}
