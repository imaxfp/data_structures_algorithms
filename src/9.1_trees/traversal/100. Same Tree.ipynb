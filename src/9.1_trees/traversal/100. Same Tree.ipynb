{
 "cells": [
  {
   "cell_type": "markdown",
   "metadata": {},
   "source": [
    "### 100. Same Tree\n",
    "\n",
    "https://leetcode.com/problems/same-tree/description\n"
   ]
  },
  {
   "cell_type": "code",
   "execution_count": 18,
   "metadata": {},
   "outputs": [
    {
     "name": "stdout",
     "output_type": "stream",
     "text": [
      "False\n",
      "True\n"
     ]
    }
   ],
   "source": [
    "# Definition for a binary tree node.\n",
    "class TreeNode:\n",
    "    def __init__(self, val=0, left=None, right=None):\n",
    "        self.val = val\n",
    "        self.left = left\n",
    "        self.right = right\n",
    "\n",
    "from collections import deque\n",
    "        \n",
    "class Solution:    \n",
    "    def isSameTree(self, p: Optional[TreeNode], q: Optional[TreeNode]) -> bool:  \n",
    "        #1. put p and q nodes to the stack in the typle \n",
    "        stack = deque([(p, q)])\n",
    "        \n",
    "        while stack:            \n",
    "            p_node, q_node = stack.popleft()\n",
    "            \n",
    "            if not p_node and not q_node:\n",
    "                continue\n",
    "            if not p_node or not q_node or p_node.val != q_node.val:\n",
    "                return False\n",
    "            \n",
    "            stack.append((p_node.left, q_node.left))\n",
    "            stack.append((p_node.right, q_node.right))\n",
    "        \n",
    "        return True \n",
    "    \n",
    "#p =[10,5,15]\n",
    "#q =[10,5,null,null,15]\n",
    "\n",
    "#Input: p = [1,2], q = [1,null,2]\n",
    "#Output: false\n",
    "p = TreeNode(1)\n",
    "p.left = TreeNode(2)\n",
    "\n",
    "q = TreeNode(1)\n",
    "q.right = TreeNode(2) \n",
    "\n",
    "print(Solution().isSameTree(p, q))  \n",
    "    \n",
    "    \n",
    "#Input: p = [1,2,3], q = [1,2,3]\n",
    "#Output: true    \n",
    "p = TreeNode(1)\n",
    "p.left = TreeNode(2)\n",
    "p.right = TreeNode(3)\n",
    "\n",
    "q = TreeNode(1)\n",
    "q.left = TreeNode(2)\n",
    "q.right = TreeNode(3) \n",
    "\n",
    "print(Solution().isSameTree(p, q))                                 "
   ]
  },
  {
   "cell_type": "code",
   "execution_count": 19,
   "metadata": {},
   "outputs": [
    {
     "name": "stdout",
     "output_type": "stream",
     "text": [
      "False\n",
      "True\n"
     ]
    }
   ],
   "source": [
    "# Definition for a binary tree node.\n",
    "class TreeNode:\n",
    "    def __init__(self, val=0, left=None, right=None):\n",
    "        self.val = val\n",
    "        self.left = left\n",
    "        self.right = right\n",
    "\n",
    "from typing import Optional\n",
    "from collections import deque \n",
    "\n",
    "class Solution:    \n",
    "    def isSameTree(self, p: Optional[TreeNode], q: Optional[TreeNode]) -> bool:\n",
    "        if not p and not q:\n",
    "            return True\n",
    "        if not p and q or p and not q:\n",
    "            return False    \n",
    "        \n",
    "        p_queue = deque([(p, 'root')])\n",
    "        q_queue = deque([(q, 'root')])  \n",
    "        \n",
    "        while p_queue or q_queue: \n",
    "\n",
    "            if len(p_queue) != len(q_queue):                \n",
    "                return False                \n",
    "                    \n",
    "            p_node, p_b = p_queue.popleft() \n",
    "            q_node, q_b = q_queue.popleft()\n",
    "            \n",
    "\n",
    "                \n",
    "            if p_node.val != q_node.val or p_b != q_b:\n",
    "                return False \n",
    "                                \n",
    "            if p_node.left:\n",
    "                p_queue.append((p_node.left, 'l'))\n",
    "            if p_node.right:\n",
    "                p_queue.append((p_node.right, 'r'))\n",
    "            if q_node.left:\n",
    "                q_queue.append((q_node.left, 'l'))\n",
    "            if q_node.right:\n",
    "                q_queue.append((q_node.right, 'r'))                                                                \n",
    "        return True\n",
    "\n",
    "\n",
    "#p =[10,5,15]\n",
    "#q =[10,5,null,null,15]\n",
    "\n",
    "#Input: p = [1,2], q = [1,null,2]\n",
    "#Output: false\n",
    "p = TreeNode(1)\n",
    "p.left = TreeNode(2)\n",
    "\n",
    "q = TreeNode(1)\n",
    "q.right = TreeNode(2) \n",
    "\n",
    "print(Solution().isSameTree(p, q))  \n",
    "    \n",
    "    \n",
    "#Input: p = [1,2,3], q = [1,2,3]\n",
    "#Output: true    \n",
    "p = TreeNode(1)\n",
    "p.left = TreeNode(2)\n",
    "p.right = TreeNode(3)\n",
    "\n",
    "q = TreeNode(1)\n",
    "q.left = TreeNode(2)\n",
    "q.right = TreeNode(3) \n",
    "\n",
    "print(Solution().isSameTree(p, q))    "
   ]
  }
 ],
 "metadata": {
  "kernelspec": {
   "display_name": "venv_alg",
   "language": "python",
   "name": "python3"
  },
  "language_info": {
   "codemirror_mode": {
    "name": "ipython",
    "version": 3
   },
   "file_extension": ".py",
   "mimetype": "text/x-python",
   "name": "python",
   "nbconvert_exporter": "python",
   "pygments_lexer": "ipython3",
   "version": "3.11.5"
  }
 },
 "nbformat": 4,
 "nbformat_minor": 2
}
