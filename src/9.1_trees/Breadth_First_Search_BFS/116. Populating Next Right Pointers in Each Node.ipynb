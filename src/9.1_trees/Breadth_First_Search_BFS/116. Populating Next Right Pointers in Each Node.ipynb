{
 "cells": [
  {
   "cell_type": "markdown",
   "metadata": {},
   "source": [
    "### 116. Populating Next Right Pointers in Each Node\n",
    "\n",
    "https://leetcode.com/problems/populating-next-right-pointers-in-each-node/description/"
   ]
  },
  {
   "cell_type": "code",
   "execution_count": 21,
   "metadata": {},
   "outputs": [
    {
     "name": "stdout",
     "output_type": "stream",
     "text": [
      "<__main__.Node object at 0x10f0c8a50>\n"
     ]
    }
   ],
   "source": [
    "# Definition for a binary tree node.\n",
    "class Node:\n",
    "    def __init__(self, val: int = 0, left: 'Node' = None, right: 'Node' = None, next: 'Node' = None):\n",
    "        self.val = val\n",
    "        self.left = left\n",
    "        self.right = right\n",
    "        self.next = next\n",
    "        \n",
    "        \n",
    "from typing import Optional\n",
    "from collections import deque\n",
    "\n",
    "\n",
    "#1. task - populate 'next' with right pointer on the same level\n",
    "#2. return 'next' vals with # delimeter\n",
    "class Solution:\n",
    "    def connect(self, root: 'Optional[Node]') -> 'Optional[Node]':\n",
    "        #1. BSF collect all level\n",
    "        #2. traverse via level and curr -> next for the  self.next \n",
    "        if not root:                    \n",
    "            return None\n",
    "\n",
    "        qu = deque([root])\n",
    "        while qu:\n",
    "            level_length = len(qu)\n",
    "            for i in range(level_length):\n",
    "                # Pop a node from the queue\n",
    "                node = qu.popleft()\n",
    "                \n",
    "                # If it's not the last node in this level, set the next pointer\n",
    "                if i < level_length - 1:\n",
    "                    #qu[0] realy this is firts node \"not POPED from the queue\" \n",
    "                    node.next = qu[0]\n",
    "                \n",
    "                # Enqueue left and right children of the node\n",
    "                if node.left:\n",
    "                    qu.append(node.left)\n",
    "                if node.right:\n",
    "                    qu.append(node.right)\n",
    "        \n",
    "        # Return the root as the problem requires returning the modified tree\n",
    "        return root   \n",
    "        \n",
    "#Input: root = [1,2,3,4,5,6,7]\n",
    "#Output: [1,#,2,3,#,4,5,6,7,#]\n",
    "        \n",
    "node = Node(1)    \n",
    "node.left = Node(2) \n",
    "node.right = Node(3) \n",
    "\n",
    "node.left.left = Node(4)\n",
    "node.left.right = Node(5)\n",
    "\n",
    "node.right.left = Node(6) \n",
    "node.right.right = Node(7) \n",
    "\n",
    "res = Solution().connect(node)\n",
    "    "
   ]
  }
 ],
 "metadata": {
  "kernelspec": {
   "display_name": "venv_alg",
   "language": "python",
   "name": "python3"
  },
  "language_info": {
   "codemirror_mode": {
    "name": "ipython",
    "version": 3
   },
   "file_extension": ".py",
   "mimetype": "text/x-python",
   "name": "python",
   "nbconvert_exporter": "python",
   "pygments_lexer": "ipython3",
   "version": "3.11.5"
  }
 },
 "nbformat": 4,
 "nbformat_minor": 2
}
