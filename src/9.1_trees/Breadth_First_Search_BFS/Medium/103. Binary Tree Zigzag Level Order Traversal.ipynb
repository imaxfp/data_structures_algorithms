{
 "cells": [
  {
   "cell_type": "markdown",
   "metadata": {},
   "source": [
    "### 103. Binary Tree Zigzag Level Order Traversal\n",
    "\n",
    "https://leetcode.com/problems/binary-tree-zigzag-level-order-traversal/description/"
   ]
  },
  {
   "cell_type": "code",
   "execution_count": 12,
   "metadata": {},
   "outputs": [
    {
     "data": {
      "text/plain": [
       "[[3], [20, 9], [15, 7]]"
      ]
     },
     "execution_count": 12,
     "metadata": {},
     "output_type": "execute_result"
    }
   ],
   "source": [
    "# Definition for a binary tree node.\n",
    "class TreeNode:\n",
    "    def __init__(self, val=0, left=None, right=None):        \n",
    "        self.val = val\n",
    "        self.left = left\n",
    "        self.right = right\n",
    "from typing import List, Optional\n",
    "from collections import deque\n",
    "\n",
    "from collections import deque\n",
    "\n",
    "class Solution:\n",
    "    def zigzagLevelOrder(self, root: Optional[TreeNode]) -> List[List[int]]:        \n",
    "        # Return the level order traversal of its nodes' values. (i.e., from left to right, level by level).\n",
    "        # deque with nodes\n",
    "        if not root:\n",
    "            return []\n",
    "         \n",
    "        res = []\n",
    "        que = deque([root])\n",
    "        \n",
    "        while que:            \n",
    "            level = []\n",
    "            for _ in range(len(que)):                \n",
    "                node = que.popleft()                                                    \n",
    "                level.append(node.val)\n",
    "                if node.left: \n",
    "                    que.append(node.left)\n",
    "                if node.right:    \n",
    "                    que.append(node.right)                        \n",
    "            res.append(level)\n",
    "            \n",
    "        #BE SIMPLE! Just reverse some arrs      \n",
    "        for i in range(len(res)):\n",
    "            if i % 2 != 0:            \n",
    "                res[i] = list(reversed(res[i]))\n",
    "        return res  \n",
    "                \n",
    "    \n",
    "#Input: root = [3,9,20,null,null,15,7]\n",
    "#Output: [[3],[20, 9],[15,7]]        \n",
    "root = TreeNode(3)    \n",
    "root.left = TreeNode(9) \n",
    "root.right = TreeNode(20) \n",
    "\n",
    "root.right.left = TreeNode(15) \n",
    "root.right.right = TreeNode(7) \n",
    "\n",
    "Solution().zigzagLevelOrder(root)     "
   ]
  },
  {
   "cell_type": "code",
   "execution_count": 13,
   "metadata": {},
   "outputs": [
    {
     "data": {
      "text/plain": [
       "[[3], [20, 9], [15, 7]]"
      ]
     },
     "execution_count": 13,
     "metadata": {},
     "output_type": "execute_result"
    }
   ],
   "source": [
    "from collections import deque\n",
    "\n",
    "def zigzagLevelOrder(root):\n",
    "    if not root:\n",
    "        return []\n",
    "\n",
    "    results = []\n",
    "    queue = deque([root])\n",
    "    left_to_right = True\n",
    "\n",
    "    while queue:\n",
    "        level_size = len(queue)\n",
    "        level_nodes = []\n",
    "\n",
    "        for _ in range(level_size):\n",
    "            node = queue.popleft()\n",
    "            level_nodes.append(node.val)\n",
    "\n",
    "            if node.left:\n",
    "                queue.append(node.left)\n",
    "            if node.right:\n",
    "                queue.append(node.right)\n",
    "\n",
    "        if not left_to_right:\n",
    "            level_nodes.reverse()\n",
    "\n",
    "        results.append(level_nodes)\n",
    "        #TODO Good trick\n",
    "        left_to_right = not left_to_right\n",
    "\n",
    "    return results\n",
    "\n",
    "#Input: root = [3,9,20,null,null,15,7]\n",
    "#Output: [[3],[20, 9],[15,7]]        \n",
    "root = TreeNode(3)    \n",
    "root.left = TreeNode(9) \n",
    "root.right = TreeNode(20) \n",
    "\n",
    "root.right.left = TreeNode(15) \n",
    "root.right.right = TreeNode(7) \n",
    "\n",
    "Solution().zigzagLevelOrder(root)  "
   ]
  }
 ],
 "metadata": {
  "kernelspec": {
   "display_name": "venv_alg",
   "language": "python",
   "name": "python3"
  },
  "language_info": {
   "codemirror_mode": {
    "name": "ipython",
    "version": 3
   },
   "file_extension": ".py",
   "mimetype": "text/x-python",
   "name": "python",
   "nbconvert_exporter": "python",
   "pygments_lexer": "ipython3",
   "version": "3.11.5"
  }
 },
 "nbformat": 4,
 "nbformat_minor": 2
}
