{
 "cells": [
  {
   "cell_type": "markdown",
   "metadata": {},
   "source": [
    "### 102. Binary Tree Level Order Traversal\n",
    "\n",
    "https://leetcode.com/problems/binary-tree-level-order-traversal/description/"
   ]
  },
  {
   "cell_type": "code",
   "execution_count": 11,
   "metadata": {},
   "outputs": [
    {
     "data": {
      "text/plain": [
       "[[3], [9, 20], [15, 7], []]"
      ]
     },
     "execution_count": 11,
     "metadata": {},
     "output_type": "execute_result"
    }
   ],
   "source": [
    "# Definition for a binary tree node.\n",
    "class TreeNode:\n",
    "    def __init__(self, val=0, left=None, right=None):        \n",
    "        self.val = val\n",
    "        self.left = left\n",
    "        self.right = right\n",
    "from typing import List, Optional\n",
    "from collections import deque\n",
    "\n",
    "class Solution:\n",
    "    def levelOrder(self, root: Optional[TreeNode]) -> List[List[int]]:        \n",
    "        # Return the level order traversal of its nodes' values. (i.e., from left to right, level by level).\n",
    "        # deque with nodes\n",
    "        if not root:\n",
    "            return []\n",
    "         \n",
    "        res = []\n",
    "        que = deque([root])\n",
    "        \n",
    "        while que:            \n",
    "            level = []\n",
    "            for _ in range(len(que)):                \n",
    "                node = que.popleft()                                    \n",
    "                if node:\n",
    "                    level.append(node.val)\n",
    "                    que.append(node.left)\n",
    "                    que.append(node.right)\n",
    "            \n",
    "            #if len(level) > 0:\n",
    "            res.append(level)        \n",
    "        return res\n",
    "                \n",
    "    \n",
    "#Input: root = [3,9,20,null,null,15,7]\n",
    "#Output: [[3],[9,20],[15,7]]        \n",
    "root = TreeNode(3)    \n",
    "root.left = TreeNode(9) \n",
    "root.right = TreeNode(20) \n",
    "\n",
    "root.right.left = TreeNode(15) \n",
    "root.right.right = TreeNode(7) \n",
    "\n",
    "Solution().levelOrder(root)     "
   ]
  },
  {
   "cell_type": "code",
   "execution_count": 14,
   "metadata": {},
   "outputs": [
    {
     "name": "stdout",
     "output_type": "stream",
     "text": [
      "[[3], [9, 20], [15, 7], [77]]\n"
     ]
    }
   ],
   "source": [
    "from collections import deque\n",
    "\n",
    "def levelOrder(root):\n",
    "    if not root:\n",
    "        return []\n",
    "\n",
    "    result = []\n",
    "    queue = deque([root])\n",
    "\n",
    "    while queue:        \n",
    "        current_level = []\n",
    "        for _ in range(len(queue)):\n",
    "            node = queue.popleft()\n",
    "            current_level.append(node.val)\n",
    "            \n",
    "            if node.left:\n",
    "                queue.append(node.left)\n",
    "            if node.right:\n",
    "                queue.append(node.right)\n",
    "\n",
    "        result.append(current_level)\n",
    "\n",
    "    return result\n",
    "\n",
    "\n",
    "\n",
    "\n",
    "#Input: root = [3,9,20,null,null,15,7]\n",
    "#Output: [[3],[9,20],[15,7]]        \n",
    "root = TreeNode(3)    \n",
    "root.left = TreeNode(9) \n",
    "root.right = TreeNode(20) \n",
    "\n",
    "root.right.left = TreeNode(15) \n",
    "root.right.right = TreeNode(7)\n",
    "root.right.right.right = TreeNode(77) \n",
    " \n",
    "print(levelOrder(root))"
   ]
  }
 ],
 "metadata": {
  "kernelspec": {
   "display_name": "venv_alg",
   "language": "python",
   "name": "python3"
  },
  "language_info": {
   "codemirror_mode": {
    "name": "ipython",
    "version": 3
   },
   "file_extension": ".py",
   "mimetype": "text/x-python",
   "name": "python",
   "nbconvert_exporter": "python",
   "pygments_lexer": "ipython3",
   "version": "3.11.5"
  }
 },
 "nbformat": 4,
 "nbformat_minor": 2
}
