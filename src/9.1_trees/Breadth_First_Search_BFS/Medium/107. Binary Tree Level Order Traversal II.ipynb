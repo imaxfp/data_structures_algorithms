{
 "cells": [
  {
   "cell_type": "markdown",
   "metadata": {},
   "source": [
    "### 107. Binary Tree Level Order Traversal II\n",
    "\n",
    "https://leetcode.com/problems/binary-tree-level-order-traversal-ii/description/\n",
    "\n",
    "Given the root of a binary tree, return the bottom-up level order traversal of its nodes' values. (i.e., from left to right, level by level from leaf to root)."
   ]
  },
  {
   "cell_type": "code",
   "execution_count": 4,
   "metadata": {},
   "outputs": [
    {
     "data": {
      "text/plain": [
       "[[15, 7], [9, 20], [3]]"
      ]
     },
     "execution_count": 4,
     "metadata": {},
     "output_type": "execute_result"
    }
   ],
   "source": [
    "# Definition for a binary tree node.\n",
    "class TreeNode:\n",
    "    def __init__(self, val=0, left=None, right=None):        \n",
    "        self.val = val\n",
    "        self.left = left\n",
    "        self.right = right\n",
    "\n",
    "from typing import List, Optional\n",
    "from collections import deque\n",
    "\n",
    "class Solution:\n",
    "    def levelOrderBottom(self, root: Optional[TreeNode]) -> List[List[int]]:\n",
    "        if not root:\n",
    "            return []\n",
    "                        \n",
    "        qu = deque([root])\n",
    "        res = []\n",
    "                \n",
    "        while qu:\n",
    "            level = []\n",
    "            for _ in range(len(qu)):\n",
    "                node = qu.popleft()\n",
    "                level.append(node.val)\n",
    "                \n",
    "                if node.left:\n",
    "                    qu.append(node.left)\n",
    "                if node.right:\n",
    "                    qu.append(node.right)    \n",
    "            res.insert(0, level)\n",
    "        return res\n",
    "        \n",
    "    \n",
    "#Input: root = [3,9,20,null,null,15,7]\n",
    "#Output: [[15,7],[9,20],[3]]\n",
    "        \n",
    "node = TreeNode(3)    \n",
    "node.left = TreeNode(9) \n",
    "node.right = TreeNode(20) \n",
    "\n",
    "node.right.left = TreeNode(15)   \n",
    "node.right.right = TreeNode(7) \n",
    "\n",
    "Solution().levelOrderBottom(node)     "
   ]
  }
 ],
 "metadata": {
  "kernelspec": {
   "display_name": "venv_alg",
   "language": "python",
   "name": "python3"
  },
  "language_info": {
   "codemirror_mode": {
    "name": "ipython",
    "version": 3
   },
   "file_extension": ".py",
   "mimetype": "text/x-python",
   "name": "python",
   "nbconvert_exporter": "python",
   "pygments_lexer": "ipython3",
   "version": "3.11.5"
  }
 },
 "nbformat": 4,
 "nbformat_minor": 2
}
