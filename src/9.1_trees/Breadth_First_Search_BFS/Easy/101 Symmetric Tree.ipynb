{
 "cells": [
  {
   "cell_type": "markdown",
   "metadata": {},
   "source": [
    "### 101. Symmetric Tree\n",
    "\n",
    "https://leetcode.com/problems/symmetric-tree/description\n",
    "\n",
    "This is because it processes nodes level by level (breadth-wise) rather than going deep along one branch before moving to the next."
   ]
  },
  {
   "cell_type": "code",
   "execution_count": 3,
   "metadata": {},
   "outputs": [
    {
     "data": {
      "text/plain": [
       "True"
      ]
     },
     "execution_count": 3,
     "metadata": {},
     "output_type": "execute_result"
    }
   ],
   "source": [
    "# Definition for a binary tree node.\n",
    "class TreeNode:\n",
    "    def __init__(self, val=0, left=None, right=None):        \n",
    "        self.val = val\n",
    "        self.left = left\n",
    "        self.right = right\n",
    "from typing import Optional\n",
    "from collections import deque\n",
    "\n",
    "class Solution:\n",
    "    def isSymmetric(self, root: Optional[TreeNode]) -> bool:\n",
    "        #1. BFS with 2 queues - l_queue and r_queue \n",
    "        #2. left queue starts from left bracnh, right queue start from right \"mirrior effect\"  \n",
    "        #3. pop from queus and compare nodes\n",
    "        if not root:\n",
    "            return False\n",
    "        \n",
    "        l_que = deque([root.left])\n",
    "        r_que = deque([root.right])\n",
    "        \n",
    "        while l_que and r_que:\n",
    "            l_node = l_que.popleft()\n",
    "            r_node = r_que.popleft()\n",
    "            \n",
    "            #not of the both nodes in mirror \n",
    "            if not l_node and not r_node:                \n",
    "                continue \n",
    "            \n",
    "            # if one node is empty\n",
    "            if not l_node or not r_node:\n",
    "                return False\n",
    "            \n",
    "            if l_node.val != r_node.val:\n",
    "                return False \n",
    "            # Add nodes \"mirror approach\"\n",
    "            l_que.append(l_node.left)\n",
    "            l_que.append(l_node.right)\n",
    "            \n",
    "            r_que.append(r_node.right)\n",
    "            r_que.append(r_node.left)\n",
    "            \n",
    "        return True    \n",
    "                \n",
    "    \n",
    "#Input: root = [1,2,2,3,4,4,3]\n",
    "#Output: true\n",
    "        \n",
    "node = TreeNode(1)    \n",
    "node.left = TreeNode(2) \n",
    "node.right = TreeNode(2) \n",
    "\n",
    "node.left.left = TreeNode(3) \n",
    "node.left.right = TreeNode(4) \n",
    "\n",
    "node.right.right = TreeNode(3) \n",
    "node.right.left = TreeNode(4)   \n",
    "\n",
    "Solution().isSymmetric(node)     "
   ]
  }
 ],
 "metadata": {
  "kernelspec": {
   "display_name": "venv_alg",
   "language": "python",
   "name": "python3"
  },
  "language_info": {
   "codemirror_mode": {
    "name": "ipython",
    "version": 3
   },
   "file_extension": ".py",
   "mimetype": "text/x-python",
   "name": "python",
   "nbconvert_exporter": "python",
   "pygments_lexer": "ipython3",
   "version": "3.11.5"
  }
 },
 "nbformat": 4,
 "nbformat_minor": 2
}
