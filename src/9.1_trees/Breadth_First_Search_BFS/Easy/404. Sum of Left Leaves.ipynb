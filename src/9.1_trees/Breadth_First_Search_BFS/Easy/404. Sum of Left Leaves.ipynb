{
 "cells": [
  {
   "cell_type": "markdown",
   "metadata": {},
   "source": [
    "### 404. Sum of Left Leaves\n",
    "\n",
    "https://leetcode.com/problems/sum-of-left-leaves/description"
   ]
  },
  {
   "cell_type": "code",
   "execution_count": null,
   "metadata": {},
   "outputs": [],
   "source": [
    "# Definition for a binary tree node.\n",
    "class TreeNode:\n",
    "    def __init__(self, val=0, left=None, right=None):\n",
    "        self.val = val\n",
    "        self.left = left\n",
    "        self.right = right\n",
    "from collections import deque\n",
    "from typing import Optional \n",
    "\n",
    "class Solution:\n",
    "    def sumOfLeftLeaves(self, root: Optional[TreeNode]) -> int:\n",
    "        #TASK:\n",
    "        #1. return the sum of all LEFT leaf. A leaf is a node with no children.\n",
    "\n",
    "        #SOLUTION\n",
    "        #1. BSF for the each level\n",
    "        #2. if LEFT level node is leaf - sum+=node.val\n",
    "        que = deque([root])\n",
    "\n",
    "        sumLeftLeafs=0\n",
    "        while que:                        \n",
    "            node = que.popleft()        \n",
    "            if node.left:                \n",
    "                que.append(node.left)\n",
    "                #left node with no leaf \n",
    "                if not node.left.left and not node.left.right:                    \n",
    "                    sumLeftLeafs+=node.left.val\n",
    "            if node.right:\n",
    "                que.append(node.right)\n",
    "        \n",
    "        return sumLeftLeafs \n",
    "    \n",
    "    \n",
    "node = TreeNode(3)    \n",
    "node.left = TreeNode(9) \n",
    "node.right = TreeNode(20) \n",
    "\n",
    "node.right.left = TreeNode(15)   \n",
    "node.right.right = TreeNode(7) \n",
    "\n",
    "Solution().sumOfLeftLeaves(node)       "
   ]
  },
  {
   "cell_type": "code",
   "execution_count": 12,
   "metadata": {},
   "outputs": [
    {
     "data": {
      "text/plain": [
       "24"
      ]
     },
     "execution_count": 12,
     "metadata": {},
     "output_type": "execute_result"
    }
   ],
   "source": [
    "# RECURSIVE\n",
    "class TreeNode:\n",
    "    def __init__(self, val=0, left=None, right=None):\n",
    "        self.val = val\n",
    "        self.left = left\n",
    "        self.right = right\n",
    "class Solution:\n",
    "    def sumOfLeftLeaves(self, root: TreeNode) -> int:\n",
    "        # Helper function to check if a node is a leaf\n",
    "        def isLeaf(node):            \n",
    "            return node.left is None and node.right is None\n",
    "\n",
    "        if root is None:\n",
    "            return 0\n",
    "\n",
    "        left_sum = 0\n",
    "\n",
    "        # Check if left child is a leaf\n",
    "        if root.left and isLeaf(root.left):\n",
    "            left_sum += root.left.val\n",
    "\n",
    "        # Recursively find sum of left leaves in left and right subtree\n",
    "        return left_sum + self.sumOfLeftLeaves(root.left) + self.sumOfLeftLeaves(root.right)\n",
    "    \n",
    "    \n",
    "node = TreeNode(3)    \n",
    "node.left = TreeNode(9) \n",
    "node.right = TreeNode(20) \n",
    "\n",
    "node.right.left = TreeNode(15)   \n",
    "node.right.right = TreeNode(7) \n",
    "\n",
    "Solution().sumOfLeftLeaves(node)       "
   ]
  }
 ],
 "metadata": {
  "kernelspec": {
   "display_name": "venv_alg",
   "language": "python",
   "name": "python3"
  },
  "language_info": {
   "codemirror_mode": {
    "name": "ipython",
    "version": 3
   },
   "file_extension": ".py",
   "mimetype": "text/x-python",
   "name": "python",
   "nbconvert_exporter": "python",
   "pygments_lexer": "ipython3",
   "version": "3.12.5"
  }
 },
 "nbformat": 4,
 "nbformat_minor": 2
}
