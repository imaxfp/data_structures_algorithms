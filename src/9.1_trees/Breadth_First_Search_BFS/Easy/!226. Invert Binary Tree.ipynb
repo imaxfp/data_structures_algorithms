{
 "cells": [
  {
   "cell_type": "markdown",
   "metadata": {},
   "source": [
    "### 226. Invert Binary Tree\n",
    "\n",
    "https://leetcode.com/problems/invert-binary-tree/description/\n"
   ]
  },
  {
   "cell_type": "code",
   "execution_count": 1,
   "metadata": {},
   "outputs": [
    {
     "data": {
      "text/plain": [
       "<__main__.TreeNode at 0x104c003d0>"
      ]
     },
     "execution_count": 1,
     "metadata": {},
     "output_type": "execute_result"
    }
   ],
   "source": [
    "# Definition for a binary tree node.\n",
    "from typing import Optional\n",
    "\n",
    "\n",
    "class TreeNode:\n",
    "    def __init__(self, val=0, left=None, right=None):        \n",
    "        self.val = val\n",
    "        self.left = left\n",
    "        self.right = right\n",
    "\n",
    "class Solution:\n",
    "    def invertTree(self, root: Optional[TreeNode]) -> Optional[TreeNode]:\n",
    "        if not root:\n",
    "            return None\n",
    "        tmp = root.right\n",
    "        root.right = root.left\n",
    "        root.left = tmp\n",
    "        self.invertTree(root.right)\n",
    "        self.invertTree(root.left)\n",
    "\n",
    "        return root     \n",
    "\n",
    "def print_levels(root):\n",
    "    from collections import deque\n",
    "    qu = [root]\n",
    "    \n",
    "    while qu:\n",
    "        for _ in range(len(qu)):\n",
    "                            \n",
    "        \n",
    "    \n",
    "#Input: root = [4,2,7,1,3,6,9]\n",
    "#Output: [4,7,2,9,6,3,1]\n",
    "        \n",
    "node = TreeNode(4)    \n",
    "node.left = TreeNode(2) \n",
    "node.right = TreeNode(7) \n",
    "\n",
    "node.left.left = TreeNode(1)\n",
    "node.left.right = TreeNode(3)\n",
    "\n",
    "node.right.left = TreeNode(6) \n",
    "node.right.right = TreeNode(9)  \n",
    "\n",
    "\n",
    "Solution().invertTree(node)     "
   ]
  }
 ],
 "metadata": {
  "kernelspec": {
   "display_name": "venv_alg",
   "language": "python",
   "name": "python3"
  },
  "language_info": {
   "codemirror_mode": {
    "name": "ipython",
    "version": 3
   },
   "file_extension": ".py",
   "mimetype": "text/x-python",
   "name": "python",
   "nbconvert_exporter": "python",
   "pygments_lexer": "ipython3",
   "version": "3.11.5"
  }
 },
 "nbformat": 4,
 "nbformat_minor": 2
}
