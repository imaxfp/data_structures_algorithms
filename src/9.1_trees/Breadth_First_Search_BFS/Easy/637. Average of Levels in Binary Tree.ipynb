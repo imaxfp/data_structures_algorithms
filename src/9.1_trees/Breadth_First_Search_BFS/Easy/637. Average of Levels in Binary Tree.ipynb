{
 "cells": [
  {
   "cell_type": "markdown",
   "metadata": {},
   "source": [
    "### 637. Average of Levels in Binary Tree\n",
    "\n",
    "https://leetcode.com/problems/average-of-levels-in-binary-tree"
   ]
  },
  {
   "cell_type": "code",
   "execution_count": null,
   "metadata": {},
   "outputs": [],
   "source": [
    "# Definition for a binary tree node.\n",
    "class TreeNode:\n",
    "    def __init__(self, val=0, left=None, right=None):        \n",
    "        self.val = val\n",
    "        self.left = left\n",
    "        self.right = right\n",
    "from typing import List, Optional\n",
    "\n",
    "\n",
    "class Solution:\n",
    "    def averageOfLevels(self, root: Optional[TreeNode]) -> List[float]:\n",
    "        #TASK\n",
    "        #1. Return the average value of the nodes on each level \n",
    "        #2. BFS for the each level + sum / len\n",
    "        stack = [root]\n",
    "        res_arr = []    \n",
    "        while stack:\n",
    "            level = []\n",
    "            tmp_val=0\n",
    "            tmp_len=len(stack)\n",
    "            while stack:\n",
    "                node = stack.pop()\n",
    "                tmp_val+=node.val                \n",
    "                if node.left:                    \n",
    "                    level.append(node.left)\n",
    "                if node.right:    \n",
    "                    level.append(node.right)\n",
    "            res_arr.append(tmp_val / tmp_len) \n",
    "            stack = level\n",
    "        return res_arr            \n"
   ]
  }
 ],
 "metadata": {
  "kernelspec": {
   "display_name": "venv_alg",
   "language": "python",
   "name": "python3"
  },
  "language_info": {
   "codemirror_mode": {
    "name": "ipython",
    "version": 3
   },
   "file_extension": ".py",
   "mimetype": "text/x-python",
   "name": "python",
   "nbconvert_exporter": "python",
   "pygments_lexer": "ipython3",
   "version": "3.11.5"
  }
 },
 "nbformat": 4,
 "nbformat_minor": 2
}
