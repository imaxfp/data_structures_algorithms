{
 "cells": [
  {
   "cell_type": "markdown",
   "metadata": {},
   "source": [
    "### 559. Maximum Depth of N-ary Tree\n",
    "\n",
    "https://leetcode.com/problems/maximum-depth-of-n-ary-tree/description/"
   ]
  },
  {
   "cell_type": "code",
   "execution_count": null,
   "metadata": {},
   "outputs": [],
   "source": [
    "from typing import List, Optional\n",
    "\n",
    "\n",
    "class Node:    \n",
    "    def __init__(self, val: Optional[int] = None, children: Optional[List['Node']] = None):\n",
    "        self.val = val\n",
    "        self.children = children\n",
    "\n",
    "\n",
    "class Solution:\n",
    "    def maxDepth(self, root: 'Node') -> int:\n",
    "        #TASK\n",
    "        #1.  maximum depth is the number of nodes along the longest path from the root node down to the farthest leaf node.\n",
    "        if not root:\n",
    "            return 0\n",
    "\n",
    "        #BFS Solution\n",
    "        #1. traverse via each level\n",
    "        #2. calculate amount of layers \n",
    "        layer_cntr = 0\n",
    "        stack = [root]\n",
    "        while stack:\n",
    "            layer = []\n",
    "            for node in stack:\n",
    "                if node.children:  # Correct way to access children as a list\n",
    "                    layer.extend(node.children)  # Add the children to the next layer\n",
    "            layer_cntr += 1\n",
    "            stack = layer  # Move to the next layer     \n",
    "        return layer_cntr    "
   ]
  }
 ],
 "metadata": {
  "kernelspec": {
   "display_name": "venv_alg",
   "language": "python",
   "name": "python3"
  },
  "language_info": {
   "codemirror_mode": {
    "name": "ipython",
    "version": 3
   },
   "file_extension": ".py",
   "mimetype": "text/x-python",
   "name": "python",
   "nbconvert_exporter": "python",
   "pygments_lexer": "ipython3",
   "version": "3.12.5"
  }
 },
 "nbformat": 4,
 "nbformat_minor": 2
}
