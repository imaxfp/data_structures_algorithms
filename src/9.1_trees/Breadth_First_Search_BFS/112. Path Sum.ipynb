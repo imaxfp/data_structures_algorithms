{
 "cells": [
  {
   "cell_type": "markdown",
   "metadata": {},
   "source": [
    "### 112. Path Sum\n",
    "\n",
    "https://leetcode.com/problems/path-sum/description\n",
    "\n"
   ]
  },
  {
   "cell_type": "code",
   "execution_count": 26,
   "metadata": {},
   "outputs": [
    {
     "name": "stdout",
     "output_type": "stream",
     "text": [
      "True\n",
      "True\n",
      "False\n"
     ]
    }
   ],
   "source": [
    "# Definition for a binary tree node.\n",
    "class TreeNode:\n",
    "    def __init__(self, val=0, left=None, right=None):        \n",
    "        self.val = val\n",
    "        self.left = left\n",
    "        self.right = right\n",
    "from typing import Optional\n",
    "from collections import deque\n",
    "\n",
    "class Solution:\n",
    "    def hasPathSum(self, root: Optional[TreeNode], targetSum: int) -> bool:\n",
    "        #0. ATTENTION!!! a leaf node -> node with NO children! The root-to-leaf path with the target sum is shown.\n",
    "        #1. recursively from left to right brabch \n",
    "        #2. manage sum with + and \n",
    "        \n",
    "        self.res = False\n",
    "                        \n",
    "        def search_sum(target, sum, node: TreeNode):    \n",
    "            if self.res:\n",
    "                return True\n",
    "                               \n",
    "                    \n",
    "            if node:                                                                                                    \n",
    "                sum += node.val\n",
    "                #Check LEAF sum left branch  \n",
    "                search_sum(target, sum, node.left)\n",
    "                #Check LEAF sum right branch                     \n",
    "                search_sum(target, sum, node.right)                         \n",
    "                # Achieved LEAF \"Do not have left and right\" clield  \n",
    "                if node and not node.right and not node.left and target == sum:                                    \n",
    "                    self.res = True     \n",
    "\n",
    "                sum -= node.val\n",
    "                \n",
    "            return self.res               \n",
    "                                         \n",
    "        return search_sum(targetSum, 0, root)\n",
    "         \n",
    "                \n",
    "    \n",
    "#Input: root = [5,4,8,11,null,13,4,7,2,null,null,null,1],\n",
    "#targetSum = 22\n",
    "        \n",
    "node = TreeNode(5)    \n",
    "node.left = TreeNode(4) \n",
    "node.right = TreeNode(8) \n",
    "\n",
    "node.left.left = TreeNode(11)\n",
    "node.left.left.left = TreeNode(7)\n",
    "#node.left.left.left.right = TreeNode(1)  \n",
    "node.left.left.right = TreeNode(2) \n",
    "\n",
    "node.right.left = TreeNode(13)  \n",
    "node.right.right = TreeNode(4)\n",
    "node.right.right.right = TreeNode(1)  \n",
    " \n",
    "\n",
    "print(Solution().hasPathSum(node, 18)) \n",
    "print(Solution().hasPathSum(node, 22))   \n",
    "print(Solution().hasPathSum(node, 240))  "
   ]
  },
  {
   "cell_type": "code",
   "execution_count": 29,
   "metadata": {},
   "outputs": [
    {
     "name": "stdout",
     "output_type": "stream",
     "text": [
      "True\n",
      "True\n",
      "False\n"
     ]
    }
   ],
   "source": [
    "#IMPROVED VERSION\n",
    "class Solution:\n",
    "    def hasPathSumImroved(self, root: Optional[TreeNode], targetSum: int) -> bool:\n",
    "        def search_sum(node: TreeNode, current_sum: int) -> bool:\n",
    "            if not node:\n",
    "                return False\n",
    "            \n",
    "            # Update the current path sum by adding the current node's value\n",
    "            current_sum += node.val\n",
    "            \n",
    "            # Check if it's a leaf node and the path sum equals targetSum\n",
    "            if node and not node.left and not node.right:\n",
    "                return current_sum == targetSum\n",
    "            \n",
    "            # Recursively check left and right subtrees\n",
    "            return (search_sum(node.left, current_sum) or \n",
    "                    search_sum(node.right, current_sum))\n",
    "        \n",
    "        return search_sum(root, 0)\n",
    "    \n",
    "#Input: root = [5,4,8,11,null,13,4,7,2,null,null,null,1],\n",
    "#targetSum = 22\n",
    "        \n",
    "node = TreeNode(5)    \n",
    "node.left = TreeNode(4) \n",
    "node.right = TreeNode(8) \n",
    "\n",
    "node.left.left = TreeNode(11)\n",
    "node.left.left.left = TreeNode(7)\n",
    "#node.left.left.left.right = TreeNode(1)  \n",
    "node.left.left.right = TreeNode(2) \n",
    "\n",
    "node.right.left = TreeNode(13)  \n",
    "node.right.right = TreeNode(4)\n",
    "node.right.right.right = TreeNode(1)  \n",
    " \n",
    "\n",
    "print(Solution().hasPathSumImroved(node, 18)) \n",
    "print(Solution().hasPathSumImroved(node, 22))   \n",
    "print(Solution().hasPathSumImroved(node, 240))      "
   ]
  }
 ],
 "metadata": {
  "kernelspec": {
   "display_name": "venv_alg",
   "language": "python",
   "name": "python3"
  },
  "language_info": {
   "codemirror_mode": {
    "name": "ipython",
    "version": 3
   },
   "file_extension": ".py",
   "mimetype": "text/x-python",
   "name": "python",
   "nbconvert_exporter": "python",
   "pygments_lexer": "ipython3",
   "version": "3.11.5"
  }
 },
 "nbformat": 4,
 "nbformat_minor": 2
}
