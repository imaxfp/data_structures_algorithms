{
 "cells": [
  {
   "cell_type": "markdown",
   "metadata": {},
   "source": [
    "### 104. Maximum Depth of Binary Tree\n",
    "\n",
    "https://leetcode.com/problems/maximum-depth-of-binary-tree/description/\n"
   ]
  },
  {
   "cell_type": "markdown",
   "metadata": {},
   "source": [
    "Another alternative way to calculate the maximum depth of a binary tree is by using a depth-first search (DFS) approach with an explicit stack. This method simulates the recursive call stack using a stack data structure.\n",
    "\n",
    "- We make use of a stack and use a while loop until the stack is empty. I\n",
    "- The format for performing the traversal with the stack is something that can be easily re-used between problems."
   ]
  },
  {
   "cell_type": "code",
   "execution_count": 2,
   "metadata": {},
   "outputs": [
    {
     "data": {
      "text/plain": [
       "4"
      ]
     },
     "execution_count": 2,
     "metadata": {},
     "output_type": "execute_result"
    }
   ],
   "source": [
    "# Definition for a binary tree node.\n",
    "from typing import Optional\n",
    "\n",
    "\n",
    "class TreeNode:    \n",
    "    def __init__(self, val=0, left=None, right=None):\n",
    "        self.val = val\n",
    "        self.left = left\n",
    "        self.right = right\n",
    "\n",
    "class Solution:\n",
    "    def maxDepth(self, root: Optional[TreeNode]) -> int:\n",
    "        if not root:\n",
    "            return 0\n",
    "\n",
    "        res = 0\n",
    "        stack = [(root, 1)]\n",
    "\n",
    "        while stack:\n",
    "            node, depth = stack.pop()\n",
    "            if node:\n",
    "                res = max(depth, res)\n",
    "                if node.left:\n",
    "                    stack.append((node.left, depth+1))\n",
    "                \n",
    "                if node.right:\n",
    "                    stack.append((node.right, depth+1))\n",
    "        return res      \n",
    "\n",
    "treeNode = TreeNode(1)\n",
    "treeNode.left = TreeNode(2) \n",
    "treeNode.left.left = TreeNode(3) \n",
    "treeNode.left.left.right = TreeNode(4) \n",
    "\n",
    "Solution().maxDepth(treeNode)"
   ]
  }
 ],
 "metadata": {
  "kernelspec": {
   "display_name": "venv_alg",
   "language": "python",
   "name": "python3"
  },
  "language_info": {
   "codemirror_mode": {
    "name": "ipython",
    "version": 3
   },
   "file_extension": ".py",
   "mimetype": "text/x-python",
   "name": "python",
   "nbconvert_exporter": "python",
   "pygments_lexer": "ipython3",
   "version": "3.11.5"
  }
 },
 "nbformat": 4,
 "nbformat_minor": 2
}
