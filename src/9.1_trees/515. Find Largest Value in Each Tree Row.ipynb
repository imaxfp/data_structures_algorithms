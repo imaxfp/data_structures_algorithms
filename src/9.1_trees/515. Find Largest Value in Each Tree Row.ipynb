{
 "cells": [
  {
   "cell_type": "markdown",
   "metadata": {},
   "source": [
    "### 515. Find Largest Value in Each Tree Row\n",
    "\n",
    "https://leetcode.com/problems/find-largest-value-in-each-tree-row/description"
   ]
  },
  {
   "cell_type": "code",
   "execution_count": 4,
   "metadata": {},
   "outputs": [
    {
     "name": "stdout",
     "output_type": "stream",
     "text": [
      "[1, 3, 9]\n"
     ]
    }
   ],
   "source": [
    "# Definition for a binary tree node.\n",
    "class TreeNode:        \n",
    "    def __init__(self, val=0, left=None, right=None):                        \n",
    "        self.val = val\n",
    "        self.left = left\n",
    "        self.right = right\n",
    "\n",
    "from typing import List, Optional\n",
    "from collections import deque\n",
    "\n",
    "# Given the root of a binary tree, \n",
    "# return an array of the largest value in each row of the tree (0-indexed).\n",
    "\n",
    "class Solution:\n",
    "    def largestValues(self, root: Optional[TreeNode]) -> List[int]:\n",
    "        if not root:\n",
    "            return []\n",
    "        res = []\n",
    "            \n",
    "        qu = deque([root])\n",
    "                \n",
    "        #1. Breadth First Search traversal\n",
    "        #2. find max for the each level\n",
    "        while qu:            \n",
    "            tmp_max = float('-inf')\n",
    "            for _ in range(len(qu)):\n",
    "                node = qu.popleft()\n",
    "                if node:                    \n",
    "                    if tmp_max < node.val:                        \n",
    "                        tmp_max = node.val     \n",
    "                                                                   \n",
    "                    qu.append(node.left)\n",
    "                    qu.append(node.right)  \n",
    "                    \n",
    "            if tmp_max != float('-inf'):\n",
    "                res.append(tmp_max)\n",
    "        \n",
    "        return res                \n",
    "                        \n",
    "#Input: root = [1,3,2,5,3,null,9]\n",
    "#Output: [1,3,9]\n",
    "\n",
    "node = TreeNode(1)\n",
    "node.left = TreeNode(3) \n",
    "node.right = TreeNode(2)\n",
    "node.left.left = TreeNode(5)\n",
    "node.left.right = TreeNode(3)\n",
    "\n",
    "\n",
    "node.right.right = TreeNode(9)\n",
    "\n",
    "print(Solution().largestValues(node))"
   ]
  }
 ],
 "metadata": {
  "kernelspec": {
   "display_name": "venv_alg",
   "language": "python",
   "name": "python3"
  },
  "language_info": {
   "codemirror_mode": {
    "name": "ipython",
    "version": 3
   },
   "file_extension": ".py",
   "mimetype": "text/x-python",
   "name": "python",
   "nbconvert_exporter": "python",
   "pygments_lexer": "ipython3",
   "version": "3.11.5"
  }
 },
 "nbformat": 4,
 "nbformat_minor": 2
}
