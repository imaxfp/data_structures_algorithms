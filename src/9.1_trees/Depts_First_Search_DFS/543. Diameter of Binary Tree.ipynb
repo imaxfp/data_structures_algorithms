{
 "cells": [
  {
   "cell_type": "markdown",
   "metadata": {},
   "source": [
    "### 543. Diameter of Binary Tree\n",
    "\n",
    "https://leetcode.com/problems/diameter-of-binary-tree/description/\n"
   ]
  },
  {
   "cell_type": "code",
   "execution_count": 1,
   "metadata": {},
   "outputs": [
    {
     "name": "stdout",
     "output_type": "stream",
     "text": [
      "3\n",
      "20\n",
      "7\n",
      "15\n",
      "9\n"
     ]
    }
   ],
   "source": [
    "# Definition for a binary tree node.\n",
    "class TreeNode:\n",
    "     def __init__(self, val=0, left=None, right=None):\n",
    "         self.val = val\n",
    "         self.left = left\n",
    "         self.right = right\n",
    "from typing import Optional\n",
    "\n",
    "\n",
    "# The diameter of a binary tree is the length of the longest path between any two nodes in a tree.\n",
    "# This path may or may not pass through the root.\n",
    "# The length of a path between two nodes is represented by the number of edges between them.\n",
    "\n",
    "class Solution:\n",
    "    def diameterOfBinaryTree(self, root: Optional[TreeNode]) -> int:\n",
    "        #1. start from DFS \n",
    "        \n",
    "        return None\n",
    "       \n",
    "            \n",
    "#Input: root = [1,2,3,4,5]\n",
    "#Output: 3\n",
    "#Explanation: 3 is the length of the path [4,2,1,3] or [5,2,1,3].\n",
    "\n",
    "treeNode = TreeNode(1)\n",
    "treeNode.left = TreeNode(2) \n",
    "treeNode.right = TreeNode(3)\n",
    "treeNode.left.left = TreeNode(4)\n",
    "treeNode.left.right = TreeNode(5)"
   ]
  }
 ],
 "metadata": {
  "kernelspec": {
   "display_name": "venv_alg",
   "language": "python",
   "name": "python3"
  },
  "language_info": {
   "codemirror_mode": {
    "name": "ipython",
    "version": 3
   },
   "file_extension": ".py",
   "mimetype": "text/x-python",
   "name": "python",
   "nbconvert_exporter": "python",
   "pygments_lexer": "ipython3",
   "version": "3.11.5"
  }
 },
 "nbformat": 4,
 "nbformat_minor": 2
}
