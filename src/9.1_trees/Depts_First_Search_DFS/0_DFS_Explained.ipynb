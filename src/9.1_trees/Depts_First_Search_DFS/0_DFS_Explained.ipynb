{
 "cells": [
  {
   "cell_type": "markdown",
   "metadata": {},
   "source": [
    "### DFS iteratively\n",
    "\n",
    "Depth-First Search (DFS) on the binary tree using a stack to manage the traversal.\n",
    "\n",
    "Depth-First Search (DFS) is a fundamental algorithm used for traversing or searching through data structures like trees and graphs. The core idea behind DFS is to explore as far as possible along each branch before backing up and exploring other branches.\n"
   ]
  },
  {
   "cell_type": "code",
   "execution_count": 1,
   "metadata": {},
   "outputs": [
    {
     "name": "stdout",
     "output_type": "stream",
     "text": [
      "3\n",
      "20\n",
      "7\n",
      "15\n",
      "9\n"
     ]
    }
   ],
   "source": [
    "# Definition for a binary tree node.\n",
    "class TreeNode:\n",
    "     def __init__(self, val=0, left=None, right=None):\n",
    "         self.val = val\n",
    "         self.left = left\n",
    "         self.right = right\n",
    "from typing import Optional\n",
    "\n",
    "\n",
    "def preorder(root: TreeNode):    \n",
    "    stack = []\n",
    "    stack.append(root)\n",
    "    \n",
    "    while stack:\n",
    "        node = stack.pop()\n",
    "        if node:  \n",
    "            print(node.val)          \n",
    "            stack.append(node.left)            \n",
    "            stack.append(node.right)\n",
    "            \n",
    "        \n",
    "\n",
    "#root = [3,9,20,null,null,15,7]\n",
    "#Output: 2 \n",
    "treeNode = TreeNode(3)\n",
    "treeNode.left = TreeNode(9) \n",
    "treeNode.right = TreeNode(20)\n",
    "treeNode.right.left = TreeNode(15)\n",
    "treeNode.right.right = TreeNode(7)\n",
    "\n",
    "preorder(treeNode)"
   ]
  }
 ],
 "metadata": {
  "kernelspec": {
   "display_name": "venv_alg",
   "language": "python",
   "name": "python3"
  },
  "language_info": {
   "codemirror_mode": {
    "name": "ipython",
    "version": 3
   },
   "file_extension": ".py",
   "mimetype": "text/x-python",
   "name": "python",
   "nbconvert_exporter": "python",
   "pygments_lexer": "ipython3",
   "version": "3.11.5"
  }
 },
 "nbformat": 4,
 "nbformat_minor": 2
}
