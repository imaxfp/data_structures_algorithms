{
 "cells": [
  {
   "cell_type": "markdown",
   "metadata": {},
   "source": [
    "### 1022. Sum of Root To Leaf Binary Numbers\n",
    "\n",
    "https://leetcode.com/problems/sum-of-root-to-leaf-binary-numbers/description/\n"
   ]
  },
  {
   "cell_type": "code",
   "execution_count": 12,
   "metadata": {},
   "outputs": [
    {
     "name": "stdout",
     "output_type": "stream",
     "text": [
      "[1, 0, 0]\n",
      "4\n",
      "[1, 0, 0]\n",
      "[1, 0, 0]\n",
      "[1, 0, 1]\n",
      "5\n",
      "[1, 0, 1]\n",
      "[1, 0, 1]\n",
      "[1, 1, 0]\n",
      "6\n",
      "[1, 1, 0]\n",
      "[1, 1, 0]\n",
      "[1, 1, 1]\n",
      "7\n",
      "[1, 1, 1]\n",
      "[1, 1, 1]\n"
     ]
    },
    {
     "data": {
      "text/plain": [
       "22"
      ]
     },
     "execution_count": 12,
     "metadata": {},
     "output_type": "execute_result"
    }
   ],
   "source": [
    "# Overlaping \n",
    "class TreeNode:\n",
    "     def __init__(self, val=0, left=None, right=None):\n",
    "         self.val = val\n",
    "         self.left = left\n",
    "         self.right = right\n",
    "from typing import Optional\n",
    "\n",
    "class Solution:\n",
    "\n",
    "    def __init__(self):\n",
    "        self.total = 0\n",
    "\n",
    "    def sumRootToLeaf(self, root: Optional[TreeNode]) -> int:\n",
    "        def trackPath(node, path):\n",
    "            if not node:\n",
    "                print(path)                \n",
    "                return\n",
    "            \n",
    "            path.append(node.val)\n",
    "            \n",
    "            if not node.left and not node.right:\n",
    "                tmp = int(''.join(str(c) for c in path), 2)\n",
    "                print(path)\n",
    "                print(tmp)\n",
    "                self.total += tmp\n",
    "\n",
    "            \n",
    "            trackPath(node.left, path)            \n",
    "            trackPath(node.right, path)\n",
    "            path.pop()            \n",
    "        trackPath(root, [])\n",
    "\n",
    "        return self.total \n",
    "       \n",
    "            \n",
    "#Input: root = [1,2,3,4,5]\n",
    "#Output: 3\n",
    "#Explanation: 3 is the length of the path [4,2,1,3] or [5,2,1,3].\n",
    "treeNode = TreeNode(1)\n",
    "treeNode.left = TreeNode(0) \n",
    "treeNode.left.left = TreeNode(0)\n",
    "treeNode.left.right = TreeNode(1)\n",
    "\n",
    "treeNode.right = TreeNode(1)\n",
    "treeNode.right.right = TreeNode(1)\n",
    "treeNode.right.left = TreeNode(0)\n",
    "\n",
    "Solution().sumRootToLeaf(treeNode)\n"
   ]
  }
 ],
 "metadata": {
  "kernelspec": {
   "display_name": "Python 3",
   "language": "python",
   "name": "python3"
  },
  "language_info": {
   "codemirror_mode": {
    "name": "ipython",
    "version": 3
   },
   "file_extension": ".py",
   "mimetype": "text/x-python",
   "name": "python",
   "nbconvert_exporter": "python",
   "pygments_lexer": "ipython3",
   "version": "3.9.6"
  }
 },
 "nbformat": 4,
 "nbformat_minor": 2
}
