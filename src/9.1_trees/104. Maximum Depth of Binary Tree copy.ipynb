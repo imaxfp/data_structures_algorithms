{
 "cells": [
  {
   "cell_type": "markdown",
   "metadata": {},
   "source": [
    "### 104. Maximum Depth of Binary Tree\n",
    "\n",
    "https://leetcode.com/problems/maximum-depth-of-binary-tree/description/\n"
   ]
  },
  {
   "cell_type": "code",
   "execution_count": 6,
   "metadata": {},
   "outputs": [
    {
     "data": {
      "text/plain": [
       "6"
      ]
     },
     "execution_count": 6,
     "metadata": {},
     "output_type": "execute_result"
    }
   ],
   "source": [
    "# Definition for a binary tree node.\n",
    "class TreeNode:    \n",
    "    def __init__(self, val=0, left=None, right=None):\n",
    "        self.val = val\n",
    "        self.left = left\n",
    "        self.right = right\n",
    "\n",
    "from typing import Optional\n",
    "\n",
    "class Solution:       \n",
    "    def __init__(self):\n",
    "        self.depth=0\n",
    "        self.depth_tmp=0\n",
    "     \n",
    "\n",
    "    def maxDepth(self, root: Optional[TreeNode], tmp_min=0) -> int:\n",
    "        if root == None:\n",
    "            return    \n",
    "        tmp_min+=1            \n",
    "        self.maxDepth(root.left)        \n",
    "        self.maxDepth(root.right)\n",
    "        self.depth = max(self.depth, tmp_min)\n",
    "        tmp_min = 0\n",
    "        \n",
    "        return self.depth\n",
    "    \n",
    "treeNode = TreeNode(1)\n",
    "treeNode.right = TreeNode(100)\n",
    "treeNode.left = TreeNode(2) \n",
    "treeNode.left.left = TreeNode(3) \n",
    "treeNode.left.left.left = TreeNode(4)\n",
    "treeNode.left.left.left.right = TreeNode(5) \n",
    "treeNode.left.left.left.right.left = TreeNode(6) \n",
    "\n",
    "Solution().maxDepth(treeNode)"
   ]
  },
  {
   "cell_type": "markdown",
   "metadata": {},
   "source": [
    "Another alternative way to calculate the maximum depth of a binary tree is by using a depth-first search (DFS) approach with an explicit stack. This method simulates the recursive call stack using a stack data structure.\n",
    "\n",
    "- We make use of a stack and use a while loop until the stack is empty. I\n",
    "- The format for performing the traversal with the stack is something that can be easily re-used between problems."
   ]
  },
  {
   "cell_type": "code",
   "execution_count": 13,
   "metadata": {},
   "outputs": [
    {
     "data": {
      "text/plain": [
       "4"
      ]
     },
     "execution_count": 13,
     "metadata": {},
     "output_type": "execute_result"
    }
   ],
   "source": [
    "# Definition for a binary tree node.\n",
    "class TreeNode:    \n",
    "    def __init__(self, val=0, left=None, right=None):\n",
    "        self.val = val\n",
    "        self.left = left\n",
    "        self.right = right\n",
    "\n",
    "def maxDepth(root: TreeNode) -> int:\n",
    "    if not root:\n",
    "        return 0\n",
    "\n",
    "    stack = [(root, 1)]\n",
    "    max_depth = 0\n",
    "\n",
    "    while stack:\n",
    "        node, depth = stack.pop()\n",
    "        if node:\n",
    "            max_depth = max(max_depth, depth)\n",
    "            stack.append((node.left, depth + 1))\n",
    "            stack.append((node.right, depth + 1))\n",
    "\n",
    "    return max_depth\n",
    "\n",
    "treeNode = TreeNode(1)\n",
    "treeNode.left = TreeNode(2) \n",
    "treeNode.left.left = TreeNode(3) \n",
    "treeNode.left.left.right = TreeNode(4) \n",
    "\n",
    "maxDepth(treeNode)"
   ]
  }
 ],
 "metadata": {
  "kernelspec": {
   "display_name": "venv_alg",
   "language": "python",
   "name": "python3"
  },
  "language_info": {
   "codemirror_mode": {
    "name": "ipython",
    "version": 3
   },
   "file_extension": ".py",
   "mimetype": "text/x-python",
   "name": "python",
   "nbconvert_exporter": "python",
   "pygments_lexer": "ipython3",
   "version": "3.11.5"
  }
 },
 "nbformat": 4,
 "nbformat_minor": 2
}
