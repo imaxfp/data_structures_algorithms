{
 "cells": [
  {
   "cell_type": "markdown",
   "metadata": {},
   "source": [
    "### 173. Binary Search Tree Iterator\n",
    "\n",
    "https://leetcode.com/problems/binary-search-tree-iterator/description\n"
   ]
  },
  {
   "cell_type": "code",
   "execution_count": 2,
   "metadata": {},
   "outputs": [],
   "source": [
    "# Definition for a binary tree node.\n",
    "class TreeNode:\n",
    "    def __init__(self, val=0, left=None, right=None):\n",
    "        self.val = val\n",
    "        self.left = left\n",
    "        self.right = right\n",
    "\n",
    "\n",
    "from typing import Optional\n",
    "class BSTIterator:\n",
    "    #TASK 20 mins\n",
    "    # 13:40 - \n",
    "    # 1. pointer should be initialized to a non-existent number smaller than any element in the BST.\n",
    "    # 2. next() Moves the pointer to the right, then returns the number at the pointer.\n",
    "\n",
    "    #SOLUTION\n",
    "    #1. Use stack for collection of the nodes\n",
    "    #2. collect left subtree and collect right subtree\n",
    "    #3. add root between left and right subtrees\n",
    "\n",
    "\n",
    "    def traverse(self, node, stack):\n",
    "        if not node:                                \n",
    "            return []            \n",
    "        self.traverse(node.right, stack)\n",
    "        stack.append(node.val)\n",
    "        self.traverse(node.left, stack)\n",
    "        return stack \n",
    "    \n",
    "    def __init__(self, root: Optional[TreeNode]):\n",
    "        self.root = root        \n",
    "        val_l = self.traverse(root.left, [])       \n",
    "        print(val_l)\n",
    "        val_r = self.traverse(root.right, [])\n",
    "        print(val_r)\n",
    "        self.stack = val_r + [root.val] + val_l\n",
    "        print(self.stack)\n",
    "                 \n",
    "        \n",
    "    #next() Moves the pointer to the right, then returns the number at the pointer.        \n",
    "    def next(self) -> int:\n",
    "        return self.stack.pop()\n",
    "\n",
    "        \n",
    "    #Returns true if there exists a number in the traversal to the right of the pointer, otherwise returns false.    \n",
    "    def hasNext(self) -> bool:        \n",
    "        return len(self.stack) > 0\n",
    "        \n",
    "\n",
    "\n",
    "# Your BSTIterator object will be instantiated and called as such:\n",
    "# obj = BSTIterator(root)\n",
    "# param_1 = obj.next()\n",
    "# param_2 = obj.hasNext()"
   ]
  }
 ],
 "metadata": {
  "kernelspec": {
   "display_name": "Python 3",
   "language": "python",
   "name": "python3"
  },
  "language_info": {
   "codemirror_mode": {
    "name": "ipython",
    "version": 3
   },
   "file_extension": ".py",
   "mimetype": "text/x-python",
   "name": "python",
   "nbconvert_exporter": "python",
   "pygments_lexer": "ipython3",
   "version": "3.9.6"
  }
 },
 "nbformat": 4,
 "nbformat_minor": 2
}
