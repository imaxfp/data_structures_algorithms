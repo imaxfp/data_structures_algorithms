{
 "cells": [
  {
   "cell_type": "markdown",
   "metadata": {},
   "source": [
    "### 105. Construct Binary Tree from Preorder and Inorder Traversal\n",
    "\n",
    "https://leetcode.com/problems/construct-binary-tree-from-preorder-and-inorder-traversal/description\n",
    "\n"
   ]
  },
  {
   "cell_type": "code",
   "execution_count": 1,
   "metadata": {},
   "outputs": [
    {
     "name": "stdout",
     "output_type": "stream",
     "text": [
      "4\n"
     ]
    }
   ],
   "source": [
    "from typing import List, Optional\n",
    "\n",
    "# Definition for a binary tree node.\n",
    "class TreeNode:    \n",
    "    def __init__(self, val=0, left=None, right=None):\n",
    "        self.val = val\n",
    "        self.left = left\n",
    "        self.right = right\n",
    "\n",
    "class Solution:\n",
    "    def buildTree(self, preorder: List[int], inorder: List[int]) -> Optional[TreeNode]:\n",
    "        #TASK\n",
    "        #1 preorder - construct and return bin tree\n",
    "\n",
    "        #SOLUTOIN\n",
    "        # 1. each level consist of 2^n or less \n",
    "        # 2^0=1\n",
    "        # 2^1=2\n",
    "        # 2^2=4        \n",
    "        def construct_return_layer(nodes: List[TreeNode], children: List[int]):            \n",
    "            l=0\n",
    "            r=1\n",
    "            layer = []\n",
    "            for n in nodes:\n",
    "                if children[l]: \n",
    "                    n.left = TreeNode(n)                     \n",
    "                if children[r]:\n",
    "                    n.right = TreeNode(n)                     \n",
    "                layer.append(n.left)    \n",
    "                layer.append(n.right)\n",
    "                l+=1\n",
    "                r+=1   \n",
    "             \n",
    "        #r <= len()        \n",
    "        #while         \n",
    "        return None\n"
   ]
  }
 ],
 "metadata": {
  "kernelspec": {
   "display_name": "venv_alg",
   "language": "python",
   "name": "python3"
  },
  "language_info": {
   "codemirror_mode": {
    "name": "ipython",
    "version": 3
   },
   "file_extension": ".py",
   "mimetype": "text/x-python",
   "name": "python",
   "nbconvert_exporter": "python",
   "pygments_lexer": "ipython3",
   "version": "3.12.5"
  }
 },
 "nbformat": 4,
 "nbformat_minor": 2
}
