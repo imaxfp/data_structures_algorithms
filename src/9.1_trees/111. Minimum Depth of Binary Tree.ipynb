{
 "cells": [
  {
   "cell_type": "markdown",
   "metadata": {},
   "source": [
    "### 111. Minimum Depth of Binary Tree\n",
    "\n",
    "https://leetcode.com/problems/minimum-depth-of-binary-tree/description/"
   ]
  },
  {
   "cell_type": "code",
   "execution_count": 10,
   "metadata": {},
   "outputs": [
    {
     "name": "stdout",
     "output_type": "stream",
     "text": [
      "2\n",
      "5\n"
     ]
    }
   ],
   "source": [
    "# Definition for a binary tree node.\n",
    "from typing import Optional\n",
    "\n",
    "class TreeNode:\n",
    "    def __init__(self, val):\n",
    "        self.val = val\n",
    "        self.left = None\n",
    "        self.right = None\n",
    "    \n",
    "class Solution:\n",
    "    def minDepth(self, root: Optional[TreeNode]) -> int:\n",
    "        if not root:\n",
    "            return 0\n",
    "        \n",
    "        minDepth = float(\"inf\")\n",
    "        \n",
    "        stack = []\n",
    "        cntr=0\n",
    "        stack.append((root, cntr))\n",
    "        \n",
    "        while stack:\n",
    "            node, cntr = stack.pop()\n",
    "                        \n",
    "            #1. if do not have leafs, we found bottom of the tree\n",
    "            if node:\n",
    "                cntr+=1\n",
    "                if node.left is None and node.right is None:\n",
    "                    minDepth = min(minDepth, cntr)\n",
    "                    cntr-=1\n",
    "                else:\n",
    "                    stack.append((node.left, cntr))    \n",
    "                    stack.append((node.right, cntr))  \n",
    "        return minDepth                \n",
    "                                        \n",
    "\n",
    "#root = [3,9,20,null,null,15,7]\n",
    "#Output: 2 \n",
    "treeNode = TreeNode(3)\n",
    "treeNode.left = TreeNode(9) \n",
    "treeNode.right = TreeNode(20)\n",
    "treeNode.right.left = TreeNode(15)\n",
    "treeNode.right.right = TreeNode(7)\n",
    "\n",
    "print(Solution().minDepth(treeNode))\n",
    "\n",
    "#root = [2,null,3,null,4,null,5,null,6]\n",
    "#Output: 5\n",
    "tNode2 = TreeNode(2)\n",
    "tNode2.right = TreeNode(3)\n",
    "tNode2.right.right = TreeNode(4)\n",
    "tNode2.right.right.right = TreeNode(5)\n",
    "tNode2.right.right.right.right = TreeNode(6)\n",
    "print(Solution().minDepth(tNode2))\n"
   ]
  }
 ],
 "metadata": {
  "kernelspec": {
   "display_name": "venv_alg",
   "language": "python",
   "name": "python3"
  },
  "language_info": {
   "codemirror_mode": {
    "name": "ipython",
    "version": 3
   },
   "file_extension": ".py",
   "mimetype": "text/x-python",
   "name": "python",
   "nbconvert_exporter": "python",
   "pygments_lexer": "ipython3",
   "version": "3.11.5"
  }
 },
 "nbformat": 4,
 "nbformat_minor": 2
}
