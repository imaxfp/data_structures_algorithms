{
 "cells": [
  {
   "cell_type": "markdown",
   "metadata": {},
   "source": [
    "### 2090. K Radius Subarray Averages\n",
    "\n",
    "https://leetcode.com/problems/k-radius-subarray-averages/description"
   ]
  },
  {
   "cell_type": "code",
   "execution_count": 6,
   "metadata": {},
   "outputs": [
    {
     "name": "stdout",
     "output_type": "stream",
     "text": [
      "[18334, 25764, 19780, 92480, 69842, 73255, 89893]\n"
     ]
    }
   ],
   "source": [
    "from typing import List\n",
    "\n",
    "class Solution:\n",
    "    def subarray_sum(self, prefix, left, right):\n",
    "        if left == 0:\n",
    "            return prefix[right]\n",
    "        else:\n",
    "            return prefix[right] - prefix[left - 1]\n",
    "\n",
    "    def getAverages(self, nums: List[int], k: int) -> List[int]:\n",
    "        #1. calculate prefix sum \n",
    "        #2. subarray of the prefix sum \n",
    "        \n",
    "        #NO radius\n",
    "        if k == 0:            \n",
    "            return nums\n",
    "        \n",
    "        prefix_sum = [nums[0]]\n",
    "        for i in range(1, len(nums)):            \n",
    "            prefix_sum.append(prefix_sum[-1] + nums[i])\n",
    "        #print(prefix_sum)    \n",
    "     \n",
    "        res_arr = []\n",
    "        #1. limit with radius \n",
    "        index = 0\n",
    "        while index < len(nums) - k:\n",
    "            if index < k:\n",
    "                res_arr.append(-1)\n",
    "            else:\n",
    "                res_arr.append(int(self.subarray_sum(prefix_sum, index-k, index+k) // (k*2+1)))\n",
    "            index+=1  \n",
    "        #fill reminder of arr     \n",
    "        while index < len(nums):\n",
    "            res_arr.append(-1)\n",
    "            index+=1\n",
    "        return res_arr        \n",
    "    \n",
    "\n",
    "print(Solution().getAverages([18334,25764,19780,92480,69842,73255,89893], 0))       "
   ]
  },
  {
   "cell_type": "code",
   "execution_count": null,
   "metadata": {},
   "outputs": [],
   "source": [
    "#IMPROVED VERSION\n",
    "from typing import List\n",
    "\n",
    "class Solution:\n",
    "\n",
    "    def getAverages(self, nums: List[int], k: int) -> List[int]:\n",
    "        n = len(nums)\n",
    "        if k == 0:\n",
    "            return nums\n",
    "        \n",
    "        # Calculate prefix sums\n",
    "        prefix_sum = [0] * n\n",
    "        prefix_sum[0] = nums[0]\n",
    "        for i in range(1, n):\n",
    "            prefix_sum[i] = prefix_sum[i - 1] + nums[i]\n",
    "     \n",
    "        # Initialize the result array with -1\n",
    "        result = [-1] * n\n",
    "        \n",
    "        # Calculate k-radius averages\n",
    "        for i in range(k, n - k):\n",
    "            left = i - k\n",
    "            right = i + k\n",
    "            total_sum = prefix_sum[right] - (prefix_sum[left - 1] if left > 0 else 0)\n",
    "            result[i] = total_sum // (2 * k + 1)\n",
    "        \n",
    "        return result \n",
    "    \n",
    "print(Solution().getAverages([18334,25764,19780,92480,69842,73255,89893], 0))       "
   ]
  }
 ],
 "metadata": {
  "kernelspec": {
   "display_name": "venv_alg",
   "language": "python",
   "name": "python3"
  },
  "language_info": {
   "codemirror_mode": {
    "name": "ipython",
    "version": 3
   },
   "file_extension": ".py",
   "mimetype": "text/x-python",
   "name": "python",
   "nbconvert_exporter": "python",
   "pygments_lexer": "ipython3",
   "version": "3.11.5"
  }
 },
 "nbformat": 4,
 "nbformat_minor": 2
}
