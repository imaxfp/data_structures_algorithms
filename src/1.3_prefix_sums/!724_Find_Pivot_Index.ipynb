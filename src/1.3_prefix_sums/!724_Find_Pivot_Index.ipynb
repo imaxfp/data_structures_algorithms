{
 "cells": [
  {
   "cell_type": "markdown",
   "metadata": {},
   "source": [
    "### 724. Find Pivot Index\n",
    "\n",
    "https://leetcode.com/problems/find-pivot-index/description/\n"
   ]
  },
  {
   "cell_type": "code",
   "execution_count": 3,
   "metadata": {},
   "outputs": [
    {
     "data": {
      "text/plain": [
       "5"
      ]
     },
     "execution_count": 3,
     "metadata": {},
     "output_type": "execute_result"
    }
   ],
   "source": [
    "from typing import List\n",
    "\n",
    "class Solution: \n",
    "    def pivotIndex(self, nums):\n",
    "        if not nums:\n",
    "            return -1\n",
    "\n",
    "        # Create the prefix sum array without the extra element\n",
    "        prefix_sum = [0] * len(nums)\n",
    "        prefix_sum[0] = nums[0]\n",
    "        for i in range(1, len(nums)):\n",
    "            prefix_sum[i] = prefix_sum[i - 1] + nums[i]\n",
    "\n",
    "        total_sum = prefix_sum[-1]\n",
    "        for i in range(len(nums)):\n",
    "            left_sum = prefix_sum[i - 1] if i > 0 else 0\n",
    "            right_sum = total_sum - prefix_sum[i]\n",
    "            if left_sum == right_sum:\n",
    "                return i\n",
    "        \n",
    "        return -1\n",
    "\n",
    "Solution().pivotIndex([-1,-1,0,1,1,0])    "
   ]
  },
  {
   "cell_type": "code",
   "execution_count": 4,
   "metadata": {},
   "outputs": [
    {
     "name": "stdout",
     "output_type": "stream",
     "text": [
      "[0, -1, -2, -2, -1, 0, 0]\n"
     ]
    },
    {
     "data": {
      "text/plain": [
       "5"
      ]
     },
     "execution_count": 4,
     "metadata": {},
     "output_type": "execute_result"
    }
   ],
   "source": [
    "#Solution with HINT +1 ZERO - in pref_sum_arr (len(nums) + 1) \n",
    "from typing import List\n",
    "\n",
    "class Solution:    \n",
    "    def pivotIndex(self, nums: List[int]) -> int:  \n",
    "        if not nums:\n",
    "            return -1      \n",
    "        #1. create prefix sum arr\n",
    "        #2. go via `nums`, if left pref sum from index == right prefix sum from index\n",
    "        #3. else return -1\n",
    "        # Create the prefix sum array\n",
    "        prefix_sum = [0] * (len(nums) + 1)\n",
    "        for i in range(len(nums)):\n",
    "            prefix_sum[i + 1] = prefix_sum[i] + nums[i]\n",
    "        \n",
    "        print(prefix_sum)    \n",
    "       \n",
    "        \n",
    "        for i in range(len(nums)):\n",
    "            left_sum = prefix_sum[i]\n",
    "            right_sum = prefix_sum[-1] - prefix_sum[i + 1]\n",
    "            if left_sum == right_sum:\n",
    "                return i\n",
    "    \n",
    "        return -1 \n",
    "    \n",
    "# Expected 5   \n",
    "Solution().pivotIndex([-1,-1,0,1,1,0])\n",
    "\n",
    "# Expected -1  \n",
    "#Solution().pivotIndex([-1,-1,-1,1,1,1])"
   ]
  }
 ],
 "metadata": {
  "kernelspec": {
   "display_name": "venv_alg",
   "language": "python",
   "name": "python3"
  },
  "language_info": {
   "codemirror_mode": {
    "name": "ipython",
    "version": 3
   },
   "file_extension": ".py",
   "mimetype": "text/x-python",
   "name": "python",
   "nbconvert_exporter": "python",
   "pygments_lexer": "ipython3",
   "version": "3.11.5"
  }
 },
 "nbformat": 4,
 "nbformat_minor": 2
}
