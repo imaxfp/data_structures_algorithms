{
 "cells": [
  {
   "cell_type": "markdown",
   "metadata": {},
   "source": [
    "# Lets start from Linear Search\n",
    "- Linear search is when you iterate through an array looking for your target element"
   ]
  },
  {
   "cell_type": "code",
   "execution_count": 2,
   "metadata": {},
   "outputs": [
    {
     "name": "stdout",
     "output_type": "stream",
     "text": [
      "search element index = 2\n",
      "search element index = -1\n"
     ]
    }
   ],
   "source": [
    "def linear_search(arr, target):    \n",
    "    for index, el in enumerate(arr):\n",
    "        if el == target:\n",
    "            return index        \n",
    "    return -1    \n",
    "\n",
    "arr = [1,2,3,4,5,6]\n",
    "print(f\"search element index = {linear_search(arr, 3)}\")\n",
    "print(f\"search element index = {linear_search(arr, 300)}\")"
   ]
  },
  {
   "cell_type": "markdown",
   "metadata": {},
   "source": [
    "# Binary Search (Iterative)\n",
    "\n",
    "- Binary Search is a technique that allows you to search an ordered list of elements using a **divide-and-conquer** strategy. \n",
    "\n",
    "- Binary search assumes that the array on which the search will take place is **sorted** in ascending order.\n",
    "\n",
    "- **Target element** is compared with the **middle element** of the array following which the next chunk of the array to be searched is decided.\n",
    "\n",
    "- If the target matches the middle element, we are successful. Otherwise, since the array is sorted, if the target is smaller than the middle element, it could only be in the left half of the array. \n",
    "\n"
   ]
  },
  {
   "cell_type": "code",
   "execution_count": 23,
   "metadata": {},
   "outputs": [
    {
     "name": "stdout",
     "output_type": "stream",
     "text": [
      "8\n"
     ]
    }
   ],
   "source": [
    "def bin_search_iterative(arr, target):\n",
    "    left_idx = 0\n",
    "    right_idx = len(arr)-1\n",
    "    while left_idx <= right_idx:\n",
    "        mid = (left_idx + right_idx) // 2        \n",
    "        if arr[mid] == target:\n",
    "            return mid\n",
    "        if target < arr[mid]:\n",
    "            right_idx = mid-1\n",
    "        else:\n",
    "            left_idx = mid+1\n",
    "    return -1        \n",
    "                         \n",
    "arr = [1, 2, 3, 4, 5, 6, 7, 8, 11, 91]\n",
    "print(bin_search_iterative(arr, 11))"
   ]
  },
  {
   "cell_type": "markdown",
   "metadata": {},
   "source": [
    "# Binary Search (Recursive)"
   ]
  },
  {
   "cell_type": "markdown",
   "metadata": {},
   "source": [
    "# Find the Closest Number\n",
    "- We will be given a sorted array and a target number.\n",
    "- Our goal is to find a number in the array that is closest to the target number.\n",
    "\n",
    "\n",
    "<img src=\"../../img/bin_search/bin_search_iterative_closest_val.png\" alt=\"nearby_objects\" width=\"650\"/>"
   ]
  },
  {
   "cell_type": "code",
   "execution_count": 44,
   "metadata": {},
   "outputs": [
    {
     "name": "stdout",
     "output_type": "stream",
     "text": [
      "9\n",
      "4\n",
      "5\n"
     ]
    }
   ],
   "source": [
    "def close_elem_by_index(arr, target, l_idx, r_idx):\n",
    "        close1 = abs(target - arr[l_idx])\n",
    "        close2 = abs(target - arr[r_idx])\n",
    "        if close1 <= close2:\n",
    "            return arr[l_idx]\n",
    "        else:\n",
    "            return arr[r_idx]\n",
    "    \n",
    "\n",
    "def closest_elem(arr, target):\n",
    "    l_idx = 0\n",
    "    r_idx = len(arr) -1\n",
    "    \n",
    "    # 1. Navigate to the most close element in the array to the target  \n",
    "    while l_idx <= r_idx:\n",
    "        mid = (l_idx + r_idx) // 2        \n",
    "        if arr[mid] == target:\n",
    "            return arr[mid]\n",
    "        if target < arr[mid]:\n",
    "            r_idx = mid - 1\n",
    "        else:\n",
    "            l_idx = mid + 1                    \n",
    "    # 2. Check if 'mid' != 0 (cannot be -1 out of arr)\n",
    "    if mid == 0:\n",
    "        return close_elem_by_index(arr, target, 0, 1)\n",
    "    \n",
    "    # 3. Check if mid is not out of arr \n",
    "    if mid == len(arr)-1:\n",
    "        return close_elem_by_index(arr, target, len(arr)-2, len(arr)-1)\n",
    "    \n",
    "    return close_elem_by_index(arr, target, mid-1, mid) \n",
    "\n",
    "    \n",
    "arr = [1, 1, 4, 5, 6, 6, 8, 9, 16]\n",
    "\n",
    "print(closest_elem(arr, 10))\n",
    "print(closest_elem(arr, 3))\n",
    "print(closest_elem(arr, 5))    "
   ]
  },
  {
   "cell_type": "markdown",
   "metadata": {},
   "source": [
    "# Find Fixed Number"
   ]
  },
  {
   "cell_type": "code",
   "execution_count": 47,
   "metadata": {},
   "outputs": [
    {
     "name": "stdout",
     "output_type": "stream",
     "text": [
      "1\n",
      "1\n"
     ]
    }
   ],
   "source": [
    "def find_fixed_point_linear(arr):\n",
    "    for i in range(len(arr)):\n",
    "        if arr[i] == i:\n",
    "            return arr[i]\n",
    "    return None\n",
    "\n",
    "\n",
    "\"\"\" \n",
    "Now we need to think about how we can improve the solution above. We can use the following two facts to our advantage:\n",
    "\n",
    "- The list is sorted.\n",
    "- The list contains distinct elements.\n",
    "\"\"\"\n",
    "# Time Complexity: O(log n)\n",
    "# Space Complexity: O(1)\n",
    "def find_fixed_point(A):\n",
    "    low = 0\n",
    "    high = len(A) - 1\n",
    "\n",
    "    while low <= high:\n",
    "        mid = (low + high)//2\n",
    "\n",
    "        if A[mid] < mid:\n",
    "            low = mid + 1\n",
    "        elif A[mid] > mid:\n",
    "            high = mid - 1\n",
    "        else:\n",
    "            return A[mid]\n",
    "    return None\n",
    "\n",
    "\n",
    "arr = [-1, 1, 2, 5, 6, 6, 8, 9, 16]\n",
    "\n",
    "print(find_fixed_point_linear(arr))\n",
    "print(find_fixed_point(arr))"
   ]
  },
  {
   "cell_type": "markdown",
   "metadata": {},
   "source": [
    "# Find Bitonic Peak\n",
    "- For example, the sequence [1, 3, 8, 12, 4, 2] is bitonic because it first increases from 1 to 12 and then decreases from 12 to 2.\n",
    "- We will be writing a solution to help us find the peak element of a bitonic sequence.\n",
    "\n",
    "<img src=\"../../img/bin_search/bitonic_sequence.png\" alt=\"nearby_objects\" width=\"650\"/>\n",
    "\n",
    "Notice that the sequence for this problem does not contain any duplicates.\n",
    "\n",
    "For example:\n",
    "```\n",
    "1, 2, 3, 4, 5, 4, 3, 2, 1\n",
    "```\n",
    "In the example above, the peak element is 5, We assume that a “peak” element will always exist.\n",
    "\n",
    "<img src=\"../../img/bin_search/peak1.png\" alt=\"nearby_objects\" width=\"350\"/>\n",
    "\n",
    "<br>\n",
    "<img src=\"../../img/bin_search/peak2.png\" alt=\"nearby_objects\" width=\"350\"/>\n"
   ]
  },
  {
   "cell_type": "code",
   "execution_count": 58,
   "metadata": {},
   "outputs": [
    {
     "name": "stdout",
     "output_type": "stream",
     "text": [
      "right = 5, left = 1\n",
      "right = 2, left = 1\n",
      "6\n",
      "right = 3, left = 1\n",
      "right = 3, left = 3\n",
      "4\n"
     ]
    }
   ],
   "source": [
    "# 1. Clarify direction for the next step in the binary search \"left\" or \"right\"\n",
    "# 2. Check if 'mid' start or end element \"or extract subarrray without first and the last element\"\n",
    "# 3. Jump 'left' if [i-1] > i\n",
    "# 4. Jump 'right' if i < [i+1]\n",
    "\n",
    "def bitonic_peak_bin_search(arr):\n",
    "    # set counters for subarray sub_arr = arr[1:-1]\n",
    "    left = 1\n",
    "    right = len(arr)-2\n",
    "\n",
    "    while left <= right:\n",
    "        mid = (left + right) // 2\n",
    "        print(f\"right = {right}, left = {left}\")\n",
    "        #Check if Peak\n",
    "        if arr[mid] > arr[mid - 1] and arr[mid] > arr[mid + 1]:\n",
    "            return arr[mid]\n",
    "        #Check if we should move left pointer\n",
    "        if arr[mid-1] <= arr[mid]:\n",
    "            left = mid+1\n",
    "        #Check if we should move right poiner     \n",
    "        if arr[mid-1] > arr[mid]:\n",
    "            right = mid-1          \n",
    "\n",
    "arr1 = [1,6,5,4,3,2,1]\n",
    "arr2 = [1,2,3,4,1]\n",
    "print(bitonic_peak_bin_search(arr1))\n",
    "print(bitonic_peak_bin_search(arr2))"
   ]
  },
  {
   "cell_type": "markdown",
   "metadata": {},
   "source": [
    "# Find FIRST Entry in List with Duplicates in SORTED array\n",
    "\n",
    "```\n",
    "A = [-14, -10, 2, 108, 108, 243, 285, 285, 285, 401]\n",
    "target = 108\n",
    "\n",
    "Output\n",
    "index - 3\n",
    "```\n"
   ]
  },
  {
   "cell_type": "code",
   "execution_count": 62,
   "metadata": {},
   "outputs": [
    {
     "name": "stdout",
     "output_type": "stream",
     "text": [
      "3\n",
      "0\n",
      "6\n"
     ]
    }
   ],
   "source": [
    "# 1. navigate list[1:-1] \n",
    "# 2. check if mid = target and mid -1 or mid + 1 == target \n",
    "\n",
    "def find_first_entry_duplicate(arr, target):\n",
    "    left = 1\n",
    "    right = len(arr) - 1\n",
    "    \n",
    "    while left <= right:\n",
    "        mid = (left + right) // 2\n",
    "        if arr[mid] == target:\n",
    "            if  arr[mid-1] == target:\n",
    "                return mid - 1 \n",
    "            if arr[mid+1] == target:\n",
    "                return mid\n",
    "        if arr[mid] < target:\n",
    "            left = mid+1     \n",
    "        if arr[mid] > target:\n",
    "            right = mid-1\n",
    "\n",
    "arr = [-14, -14, 2, 108, 108, 243, 285, 285, 285, 401]\n",
    "\n",
    "print(find_first_entry_duplicate(arr, 108))\n",
    "print(find_first_entry_duplicate(arr, -14))\n",
    "print(find_first_entry_duplicate(arr, 285))"
   ]
  },
  {
   "cell_type": "markdown",
   "metadata": {},
   "source": [
    "# Bisect Method\n",
    "- Function that takes an array of sorted integers and a key and returns the index of the first occurrence of that key from the array.\n",
    "- **bisect_left** function finds the index of the target element. In the event where duplicate entries are satisfying the target element, the bisect_left function returns the left-most occurrence.\n",
    "- **bisect_right** function returns the insertion point which comes after, or to the right of, any existing entries of the target element in the list."
   ]
  },
  {
   "cell_type": "code",
   "execution_count": 100,
   "metadata": {},
   "outputs": [
    {
     "name": "stdout",
     "output_type": "stream",
     "text": [
      "step =>  1\n",
      "step =>  2\n",
      "step =>  3\n",
      "step =>  4\n",
      "3\n",
      "step =>  1\n",
      "step =>  2\n",
      "step =>  3\n",
      "6\n",
      "step =>  1\n",
      "step =>  2\n",
      "step =>  3\n",
      "step =>  4\n",
      "10\n"
     ]
    }
   ],
   "source": [
    "def bisect_left(arr, target):\n",
    "    l = 1\n",
    "    r = len(arr) - 1\n",
    "    count=1\n",
    "    while l <= r:\n",
    "        print(\"step => \",count)\n",
    "        mid = (l+r) // 2\n",
    "        \n",
    "        #1. Check if we achieved the first 'target' element in the array\n",
    "        if arr[mid] == target and arr[mid-1] != target:\n",
    "            return mid   \n",
    "        \n",
    "        # 2. Move right in the arr\n",
    "        if arr[mid] < target:\n",
    "            l = mid+1\n",
    "        \n",
    "        # 3. Move left in the arr \n",
    "        if arr[mid] >= target:\n",
    "            r = mid-1                \n",
    "        count+=1          \n",
    "\n",
    "\n",
    "# This sorted list will be used throughout this lesson\n",
    "# to showcase the functionality of the \"bisect\" method.\n",
    "arr = [-14, -10, 2, 108, 108, 243, 285, 285, 285, 285, 401, 401, 401, 401, 401, 401, 401, 401, 401]\n",
    "\n",
    "# -10 is at index 1\n",
    "print(bisect_left(arr, 108))\n",
    "print(bisect_left(arr, 285))\n",
    "print(bisect_left(arr, 401))"
   ]
  },
  {
   "cell_type": "markdown",
   "metadata": {},
   "source": [
    "# Guess the number\n",
    "Write a program to find a secret number within a range using binary search"
   ]
  },
  {
   "cell_type": "code",
   "execution_count": 18,
   "metadata": {},
   "outputs": [
    {
     "name": "stdout",
     "output_type": "stream",
     "text": [
      "Sorry your number less\n"
     ]
    },
    {
     "data": {
      "text/plain": [
       "False"
      ]
     },
     "execution_count": 18,
     "metadata": {},
     "output_type": "execute_result"
    }
   ],
   "source": [
    "def gues_the_number(arr, target):\n",
    "    #1. implement basic bin search \n",
    "    l = 1\n",
    "    r = len(arr)\n",
    "    \n",
    "    while l < r:\n",
    "        mid = (l+r) // 2\n",
    "        \n",
    "        #2. Return true if mid == target (found the secret number)\n",
    "        if arr[mid] == target:\n",
    "            return True\n",
    "            \n",
    "        #3. Jump left if 'target' less than mid, else jump right\n",
    "        if arr[mid] > target:\n",
    "            r = mid-1\n",
    "        else:\n",
    "            l = mid+1    \n",
    "            \n",
    "    # 4. check which number is closer 'mid' or 'left' in arr\n",
    "    mid_num = arr[mid]\n",
    "    l_num = arr[mid-1]     \n",
    "    if abs(mid_num - target) > abs(l_num - target):\n",
    "        print(\"Sorry your number less\")       \n",
    "    else:\n",
    "        print(\"your number is greater\")   \n",
    "    \n",
    "    return False            \n",
    "    \n",
    "arr = [1,2,3,4,5,6,7,8,9,100,120,140]\n",
    "gues_the_number(arr, 129)   "
   ]
  },
  {
   "cell_type": "markdown",
   "metadata": {},
   "source": [
    "# Koko Eating Bananas\n",
    "### TODO FIX ME with binary search"
   ]
  },
  {
   "cell_type": "code",
   "execution_count": 39,
   "metadata": {},
   "outputs": [
    {
     "name": "stdout",
     "output_type": "stream",
     "text": [
      "4\n",
      "30\n",
      "23\n"
     ]
    }
   ],
   "source": [
    "def bin_search_steps_min(arr, steps, target):\n",
    "    l = 0\n",
    "    r = len(arr)\n",
    "    \n",
    "    while l < r or steps >= 0:\n",
    "        mid = (l + r) // 2\n",
    "        #1. not intuitive (abs (guar hours) - arr(len))\n",
    "        if arr[mid] == target:\n",
    "            return target                \n",
    "        if arr[mid] > target:\n",
    "            r = mid-1            \n",
    "        else:\n",
    "            l = mid+1\n",
    "        steps-=1  \n",
    "    return arr[mid]      \n",
    "\n",
    "def monkey_banana_eater(piles, h):\n",
    "    #1. amount of hours = piles in array, monkey shoud it MAX number on the each pile \n",
    "    sorted_piles = sorted(piles)\n",
    "    if len(sorted_piles) == h:\n",
    "        return sorted_piles[-1]\n",
    "     \n",
    "    #2. we have additional hours, step N times back to the minimum\n",
    "    else:\n",
    "        steps = abs(h - len(sorted_piles))+1\n",
    "        if steps >= len(sorted_piles):            \n",
    "            return abs(h - len(sorted_piles))\n",
    "        \n",
    "        #return bin_search_steps_min(sorted_piles, steps, h)\n",
    "        return sorted_piles[-steps]\n",
    "        \n",
    "# Test 1:\n",
    "piles = [3,6,7,11]\n",
    "h = 8\n",
    "#Output: 4\n",
    "print(monkey_banana_eater(piles, h))\n",
    "        \n",
    "# Test 2\n",
    "piles = [30,11,23,4,20]\n",
    "h = 5\n",
    "#Output: 30\n",
    "print(monkey_banana_eater(piles, h))\n",
    "\n",
    "# test 2\n",
    "piles = [30,11,23,4,20]\n",
    "h = 6\n",
    "#Output: 23\n",
    "print(monkey_banana_eater(piles, h))\n",
    "      \n"
   ]
  },
  {
   "cell_type": "markdown",
   "metadata": {},
   "source": [
    "# Integer Square Root\n",
    "have to return the largest integer whose square is less than or equal to the given integer."
   ]
  },
  {
   "cell_type": "code",
   "execution_count": 60,
   "metadata": {},
   "outputs": [
    {
     "name": "stdout",
     "output_type": "stream",
     "text": [
      "17\n",
      "17\n"
     ]
    }
   ],
   "source": [
    "# 1. Implement Bin Search for navigation in array of the numbers\n",
    "def bin_search_root(k: int):    \n",
    "    left = 1\n",
    "    right = k\n",
    "    while left <= right:\n",
    "        mid = (left+right) // 2\n",
    "        if mid**2 <= k:\n",
    "            return mid\n",
    "        if (mid-1) ** 2 < k and mid ** 2 > k:\n",
    "            return mid-1\n",
    "        # 2. implement logic for the 'left' or 'right' jump   \n",
    "        if mid**2 < k:\n",
    "            left = mid+1\n",
    "        else:\n",
    "            right = mid-1\n",
    "            \n",
    "def bin_search_root_simplyfied(k: int):\n",
    "    low = 0\n",
    "    top = k\n",
    "    while low <= top:\n",
    "        mid = (low + top) // 2\n",
    "        if mid ** 2 <= k:\n",
    "            low = mid+1\n",
    "        else:\n",
    "            top = mid-1    \n",
    "    return low-1                      \n",
    "\n",
    "print(bin_search_root(300))\n",
    "print(bin_search_root_simplyfied(300))  "
   ]
  },
  {
   "cell_type": "markdown",
   "metadata": {},
   "source": [
    "# Cyclically Shifted Array\n",
    "- Return the index of the smallest number in a cyclically shifted array.\n",
    "- "
   ]
  }
 ],
 "metadata": {
  "kernelspec": {
   "display_name": "venv_alg",
   "language": "python",
   "name": "python3"
  },
  "language_info": {
   "codemirror_mode": {
    "name": "ipython",
    "version": 3
   },
   "file_extension": ".py",
   "mimetype": "text/x-python",
   "name": "python",
   "nbconvert_exporter": "python",
   "pygments_lexer": "ipython3",
   "version": "3.11.5"
  }
 },
 "nbformat": 4,
 "nbformat_minor": 2
}
