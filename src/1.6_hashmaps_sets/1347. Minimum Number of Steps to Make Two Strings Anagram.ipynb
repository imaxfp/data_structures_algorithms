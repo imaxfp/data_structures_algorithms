{
 "cells": [
  {
   "cell_type": "markdown",
   "metadata": {},
   "source": [
    "### 1347. Minimum Number of Steps to Make Two Strings Anagram\n",
    "\n",
    "https://leetcode.com/problems/minimum-number-of-steps-to-make-two-strings-anagram/description/\n"
   ]
  },
  {
   "cell_type": "code",
   "execution_count": 1,
   "metadata": {},
   "outputs": [],
   "source": [
    "class Solution:\n",
    "    def minSteps(self, s: str, t: str) -> int:\n",
    "        #TASK\n",
    "        #1. two strings of the same length s and t\n",
    "        #2. one step you can choose any character of t and replace it with another character.\n",
    "        #3. Return the minimum number of steps to make t an anagram of s\n",
    "\n",
    "        # Anagram of a string is a string that contains the same characters with a different (or the same) ordering.\n",
    "\n",
    "        #SOLUTION\n",
    "        # 1. Create 2 dicts 'char' -> cntr\n",
    "        # 2. calculate diff in dict_t with dict_s        \n",
    "\n",
    "        def str_to_char_dict(s):\n",
    "            char_dict = {}\n",
    "            for c in s:\n",
    "                char_dict[c] = char_dict.get(c, 0)+1\n",
    "            return char_dict    \n",
    "\n",
    "        s_d = str_to_char_dict(s)\n",
    "        \n",
    "        cntr=0\n",
    "        #debug\n",
    "        #t = \"aba\"\n",
    "        #s = \"bab\"\n",
    "        for t_char in t:     \n",
    "            #if we do not have candidate char in the 's' means have to be replaced!                   \n",
    "            if s_d.get(t_char, 0) > 0:\n",
    "                s_d[t_char] = s_d.get(t_char)-1\n",
    "            else:\n",
    "                cntr+=1\n",
    "        return cntr           \n",
    "\n",
    "            "
   ]
  },
  {
   "cell_type": "code",
   "execution_count": 5,
   "metadata": {},
   "outputs": [
    {
     "name": "stdout",
     "output_type": "stream",
     "text": [
      "1\n"
     ]
    }
   ],
   "source": [
    "from collections import Counter\n",
    "\n",
    "class Solution:\n",
    "    def minSteps(self, s: str, t: str) -> int:\n",
    "        # Count frequencies of characters in s and t\n",
    "        count_s = Counter(s)\n",
    "        count_t = Counter(t)\n",
    "        \n",
    "        steps = 0\n",
    "        \n",
    "        # Loop through the counts in s\n",
    "        for char in count_s:\n",
    "            # If t has fewer occurrences of char than s, calculate the deficit\n",
    "            if count_s[char] > count_t[char]:\n",
    "                steps += count_s[char] - count_t[char]\n",
    "        \n",
    "        return steps\n",
    "\n",
    "#Input: s = \"bab\", t = \"aba\"\n",
    "#Output: 1    \n",
    "print(Solution().minSteps(\"bab\", \"aba\"))    "
   ]
  }
 ],
 "metadata": {
  "kernelspec": {
   "display_name": "venv_alg",
   "language": "python",
   "name": "python3"
  },
  "language_info": {
   "codemirror_mode": {
    "name": "ipython",
    "version": 3
   },
   "file_extension": ".py",
   "mimetype": "text/x-python",
   "name": "python",
   "nbconvert_exporter": "python",
   "pygments_lexer": "ipython3",
   "version": "3.12.5"
  }
 },
 "nbformat": 4,
 "nbformat_minor": 2
}
