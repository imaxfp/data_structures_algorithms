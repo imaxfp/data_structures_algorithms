{
 "cells": [
  {
   "cell_type": "markdown",
   "metadata": {},
   "source": [
    "### 1426. Counting Elements\n",
    "\n",
    "https://leetcode.com/problems/counting-elements/description/"
   ]
  },
  {
   "cell_type": "code",
   "execution_count": 27,
   "metadata": {},
   "outputs": [
    {
     "name": "stdout",
     "output_type": "stream",
     "text": [
      "0\n",
      "2\n"
     ]
    }
   ],
   "source": [
    "from typing import List\n",
    "\n",
    "class Solution:\n",
    "    def countElements(self, nums: List[int]) -> int:\n",
    "        #READ descrition BE SURE YOU ARE UNDERSTAND DESCRIPTION!\n",
    "        # 1. convert add to dict where kay is 'number' val 'appears'\n",
    "        # 2. get from dict num+1 and if val > 0, increate counter \n",
    "        # 3. decrease val in dict \n",
    "        elements = dict()\n",
    "        #count all elements\n",
    "        for n in nums:\n",
    "            el = elements.get(n,0)\n",
    "            el+=1\n",
    "            elements[n]=el\n",
    "        \n",
    "        cntr=0\n",
    "        for n in nums:                        \n",
    "            el = elements.get(n+1,0)\n",
    "            if el > 0:\n",
    "                cntr+=1\n",
    "                                             \n",
    "        return cntr\n",
    "        \n",
    "  \n",
    "#0\n",
    "print(Solution().countElements([1,1,3,3,5,5,7,7]))\n",
    "#2\n",
    "print(Solution().countElements([1,1,2,2]))"
   ]
  }
 ],
 "metadata": {
  "kernelspec": {
   "display_name": "venv_alg",
   "language": "python",
   "name": "python3"
  },
  "language_info": {
   "codemirror_mode": {
    "name": "ipython",
    "version": 3
   },
   "file_extension": ".py",
   "mimetype": "text/x-python",
   "name": "python",
   "nbconvert_exporter": "python",
   "pygments_lexer": "ipython3",
   "version": "3.11.5"
  }
 },
 "nbformat": 4,
 "nbformat_minor": 2
}
