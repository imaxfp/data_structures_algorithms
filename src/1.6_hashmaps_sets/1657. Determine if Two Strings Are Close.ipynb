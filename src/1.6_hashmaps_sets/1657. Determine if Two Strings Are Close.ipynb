{
 "cells": [
  {
   "cell_type": "markdown",
   "metadata": {},
   "source": [
    "### 1657. Determine if Two Strings Are Close\n",
    "\n",
    "https://leetcode.com/problems/determine-if-two-strings-are-close/description/?envType=study-plan-v2&envId=leetcode-75"
   ]
  },
  {
   "cell_type": "code",
   "execution_count": 4,
   "metadata": {},
   "outputs": [
    {
     "name": "stdout",
     "output_type": "stream",
     "text": [
      "True\n",
      "False\n"
     ]
    }
   ],
   "source": [
    "class Solution:\n",
    "    def closeStrings(self, word1: str, word2: str) -> bool:\n",
    "        #TASK\n",
    "        # close if you can attain one from the other using the following operations\n",
    "        # 1. swap ANY TWO existing characters. For example, aBcdE -> aEcdB\n",
    "        # 2. Transform every occurrence of one existing character into another existing character\n",
    "        #  and do the same with the other character. -  aacabb -> bbcbaa (all a's turn into b's, and all b's turn into a's)\n",
    "\n",
    "        # Given two strings, word1 and word2, return true if word1 and word2 are close, and false\n",
    "\n",
    "        #DEBUG\n",
    "        #1. apply sorting \n",
    "        # 1. word1 = \"abc\", word2 = \"bca\"\n",
    "        # abc => abc \n",
    "        # word1 = \"cabbba\", word2 = \"abbccc\"\n",
    "        #Operation 1: \"cabbba\" -> \"caabbb\"\n",
    "        #Operation 2: \"caabbb\" -> \"baaccc\"  \n",
    "        #SO we have the sama ammount for the latters \n",
    "        def count_chars(s: str, d):\n",
    "            for c in s:\n",
    "                d[c] = d.get(c, 0)+1\n",
    "            return d    \n",
    "            \n",
    "        d1 = count_chars(word1, {})\n",
    "        d2 = count_chars(word2, {})\n",
    "        \n",
    "        if set(d1.keys()) != set(d2.keys()):\n",
    "            return False\n",
    "\n",
    "        return sorted(d1.values()) == sorted(d2.values())\n",
    "\n",
    "#TRUE\n",
    "print(Solution().closeStrings(\"cabbba\", \"abbccc\"))\n",
    "\n",
    "#FALSE\n",
    "#word1 = \"uau\"\n",
    "# word2 =\"ssx\"\n",
    "print(Solution().closeStrings(\"uau\", \"ssx\"))\n"
   ]
  }
 ],
 "metadata": {
  "kernelspec": {
   "display_name": "venv_alg",
   "language": "python",
   "name": "python3"
  },
  "language_info": {
   "codemirror_mode": {
    "name": "ipython",
    "version": 3
   },
   "file_extension": ".py",
   "mimetype": "text/x-python",
   "name": "python",
   "nbconvert_exporter": "python",
   "pygments_lexer": "ipython3",
   "version": "3.11.5"
  }
 },
 "nbformat": 4,
 "nbformat_minor": 2
}
