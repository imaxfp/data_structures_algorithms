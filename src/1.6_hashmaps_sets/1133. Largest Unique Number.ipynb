{
 "cells": [
  {
   "cell_type": "markdown",
   "metadata": {},
   "source": [
    "### 1133. Largest Unique Number\n",
    "\n",
    "https://leetcode.com/problems/largest-unique-number/description/"
   ]
  },
  {
   "cell_type": "code",
   "execution_count": 2,
   "metadata": {},
   "outputs": [],
   "source": [
    "from typing import List\n",
    "\n",
    "class Solution:\n",
    "    def largestUniqueNumber(self, nums: List[int]) -> int:\n",
    "        #1. numners in hash map key==num, val==occurrences\n",
    "        #2. sort map by keys \n",
    "        #3. go thru the map from bit to small and return numenr if val = 1.\n",
    "        #4. be default return -1\n",
    "        nums_d = {}\n",
    "        for n in nums:\n",
    "            nums_d[n] = nums_d.get(n,0)+1\n",
    "        nums_d_sorted = dict(sorted(nums_d.items(), reverse=True))\n",
    "\n",
    "        for k, v in nums_d_sorted.items():\n",
    "            if v == 1:\n",
    "                return k\n",
    "        return -1           "
   ]
  }
 ],
 "metadata": {
  "kernelspec": {
   "display_name": "venv_alg",
   "language": "python",
   "name": "python3"
  },
  "language_info": {
   "codemirror_mode": {
    "name": "ipython",
    "version": 3
   },
   "file_extension": ".py",
   "mimetype": "text/x-python",
   "name": "python",
   "nbconvert_exporter": "python",
   "pygments_lexer": "ipython3",
   "version": "3.11.5"
  }
 },
 "nbformat": 4,
 "nbformat_minor": 2
}
