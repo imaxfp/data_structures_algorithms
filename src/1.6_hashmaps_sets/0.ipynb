{
 "cells": [
  {
   "cell_type": "markdown",
   "metadata": {},
   "source": [
    "### Hashmap\n",
    "\n",
    "- Anytime you need to count anything, think about using a hash map to do it.\n",
    "- A hash map opens the door to solving problems where the constraint involves multiple elements"
   ]
  },
  {
   "cell_type": "markdown",
   "metadata": {
    "vscode": {
     "languageId": "plaintext"
    }
   },
   "source": [
    "#### Let's start by looking at a sliding window example that leverages a hash map.\n",
    "\n",
    "Example 1: You are given a string s and an integer k. Find the length of the longest substring that contains at most k distinct characters.\n",
    "\n",
    "For example, given s = \"eceba\" and k = 2, return 3. The longest substring with at most 2 distinct characters is \"ece\".\n",
    "\n",
    "This problem deals with substrings and has a constraint on the substrings (at most k distinct characters). These characteristics let us know that we should consider sliding window. Remember, the idea of a sliding window is to add elements by sliding to the right until the window violates the constraint. "
   ]
  },
  {
   "cell_type": "markdown",
   "metadata": {},
   "source": [
    "#### Remember, the idea of a sliding window is to add elements by sliding to the right until the window violates the constraint. \n",
    "Once it does, we shrink the window from the left until it no longer violates the constraint. In this problem, we are concerned with the number of distinct characters in the window."
   ]
  },
  {
   "cell_type": "code",
   "execution_count": 2,
   "metadata": {},
   "outputs": [
    {
     "data": {
      "text/plain": [
       "3"
      ]
     },
     "execution_count": 2,
     "metadata": {},
     "output_type": "execute_result"
    }
   ],
   "source": [
    "#Sophisticated sliding window problem can be solved with HashMap\n",
    "#Using a hash map to store the frequency of any key we want allows us to solve sliding window problems that put constraints on multiple elements.\n",
    "\n",
    "from collections import defaultdict\n",
    "\n",
    "def find_longest_substring(s, k):\n",
    "    counts = defaultdict(int)\n",
    "    left = ans = 0\n",
    "    for right in range(len(s)):\n",
    "        counts[s[right]] += 1\n",
    "        while len(counts) > k:\n",
    "            counts[s[left]] -= 1\n",
    "            if counts[s[left]] == 0:\n",
    "                del counts[s[left]]\n",
    "            left += 1\n",
    "        \n",
    "        ans = max(ans, right - left + 1)\n",
    "    \n",
    "    return ans\n",
    "\n",
    "# For example, given s = \"eceba\" and k = 2, return 3. \n",
    "# The longest substring with at most 2 distinct characters is \"ece\".\n",
    "find_longest_substring(\"eceba\", 2)"
   ]
  }
 ],
 "metadata": {
  "kernelspec": {
   "display_name": "venv_alg",
   "language": "python",
   "name": "python3"
  },
  "language_info": {
   "codemirror_mode": {
    "name": "ipython",
    "version": 3
   },
   "file_extension": ".py",
   "mimetype": "text/x-python",
   "name": "python",
   "nbconvert_exporter": "python",
   "pygments_lexer": "ipython3",
   "version": "3.11.5"
  }
 },
 "nbformat": 4,
 "nbformat_minor": 2
}
