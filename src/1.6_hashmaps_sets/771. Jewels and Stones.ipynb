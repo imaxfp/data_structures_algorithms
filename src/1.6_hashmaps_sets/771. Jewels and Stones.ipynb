{
 "cells": [
  {
   "cell_type": "markdown",
   "metadata": {},
   "source": [
    "### 771. Jewels and Stones\n",
    "\n",
    "https://leetcode.com/problems/jewels-and-stones/description/\n",
    "\n"
   ]
  },
  {
   "cell_type": "code",
   "execution_count": 22,
   "metadata": {},
   "outputs": [
    {
     "name": "stdout",
     "output_type": "stream",
     "text": [
      "False\n",
      "False\n",
      "True\n"
     ]
    }
   ],
   "source": [
    "from typing import List\n",
    "\n",
    "# true if ransomNote can be constructed by using the letters from magazine\n",
    "\n",
    "class Solution:\n",
    "    def canConstruct(self, ransomNote: str, magazine: str) -> bool:\n",
    "        #1. Magazine to HashMap\n",
    "        #2. RansomNote to HashMap\n",
    "        #3. Go via ransomNote and check if enought letters in magazine (--from magazine)\n",
    "        def arrToCharDict(s: str) -> dict:\n",
    "            charDict = {}\n",
    "            for c in s:\n",
    "                charDict[c] = charDict.get(c, 0)+1 \n",
    "            return charDict      \n",
    "                                         \n",
    "        magazineDict = arrToCharDict(magazine)\n",
    "        \n",
    "        #check if ransomNote can be constructed\n",
    "        for r in ransomNote:\n",
    "            if magazineDict.get(r,0) <= 0:\n",
    "                return False\n",
    "            magazineDict[r] = magazineDict.get(r)-1\n",
    "        return True\n",
    "\n",
    "#Example 1:\n",
    "#Input: ransomNote = \"a\", magazine = \"b\"\n",
    "#Output: false               \n",
    "print(Solution().canConstruct(ransomNote = \"a\", magazine = \"b\"))\n",
    "\n",
    "#Example 2:\n",
    "#Input: ransomNote = \"aa\", magazine = \"ab\"\n",
    "#Output: false\n",
    "print(Solution().canConstruct(ransomNote = \"aa\", magazine = \"ab\"))\n",
    "\n",
    "#Example 3:\n",
    "#Input: ransomNote = \"aa\", magazine = \"aab\"\n",
    "#Output: true\n",
    "print(Solution().canConstruct(ransomNote = \"aa\", magazine = \"aab\"))"
   ]
  }
 ],
 "metadata": {
  "kernelspec": {
   "display_name": "venv_alg",
   "language": "python",
   "name": "python3"
  },
  "language_info": {
   "codemirror_mode": {
    "name": "ipython",
    "version": 3
   },
   "file_extension": ".py",
   "mimetype": "text/x-python",
   "name": "python",
   "nbconvert_exporter": "python",
   "pygments_lexer": "ipython3",
   "version": "3.11.5"
  }
 },
 "nbformat": 4,
 "nbformat_minor": 2
}
