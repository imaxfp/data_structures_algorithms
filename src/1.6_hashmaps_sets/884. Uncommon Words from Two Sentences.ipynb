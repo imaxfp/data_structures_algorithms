{
 "cells": [
  {
   "cell_type": "markdown",
   "metadata": {},
   "source": [
    "### 884. Uncommon Words from Two Sentences\n",
    "\n",
    "https://leetcode.com/problems/uncommon-words-from-two-sentences/description/?envType=daily-question&envId=2024-09-18"
   ]
  },
  {
   "cell_type": "code",
   "execution_count": 5,
   "metadata": {},
   "outputs": [
    {
     "data": {
      "text/plain": [
       "['ejt']"
      ]
     },
     "execution_count": 5,
     "metadata": {},
     "output_type": "execute_result"
    }
   ],
   "source": [
    "from typing import List\n",
    "from collections import Counter\n",
    "\n",
    "class Solution:\n",
    "    def uncommonFromSentences(self, s1: str, s2: str) -> List[str]:\n",
    "        \n",
    "        #1. 's' can have duplicates, duplicates have to be excluded\n",
    "        #2. select only unique elements from s1 and s2\n",
    "        def create_dict(s):\n",
    "            dict = {}\n",
    "            duplic = set()\n",
    "            for c in s.split(\" \"):\n",
    "                key = dict.get(c, 0)+1\n",
    "                if key > 1:\n",
    "                    duplic.add(c)\n",
    "                dict[c] = key     \n",
    "                                \n",
    "            for dup in duplic:\n",
    "                del dict[dup]                   \n",
    "            return dict                        \n",
    "        \n",
    "        return list(create_dict(s1 + \" \" + s2).keys())\n",
    "        \n",
    "                    \n",
    "      \n",
    "    \n",
    "\n",
    "s1 = \"s z z z s\"\n",
    "s2 = \"s z ejt\"\n",
    "Solution().uncommonFromSentences(s1, s2)"
   ]
  }
 ],
 "metadata": {
  "kernelspec": {
   "display_name": "venv_alg",
   "language": "python",
   "name": "python3"
  },
  "language_info": {
   "codemirror_mode": {
    "name": "ipython",
    "version": 3
   },
   "file_extension": ".py",
   "mimetype": "text/x-python",
   "name": "python",
   "nbconvert_exporter": "python",
   "pygments_lexer": "ipython3",
   "version": "3.11.5"
  }
 },
 "nbformat": 4,
 "nbformat_minor": 2
}
