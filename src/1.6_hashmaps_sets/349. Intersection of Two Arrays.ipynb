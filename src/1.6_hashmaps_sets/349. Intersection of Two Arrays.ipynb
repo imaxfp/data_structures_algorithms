{
 "cells": [
  {
   "cell_type": "markdown",
   "metadata": {},
   "source": [
    "### 349. Intersection of Two Arrays\n",
    "\n",
    "https://leetcode.com/problems/intersection-of-two-arrays/description"
   ]
  },
  {
   "cell_type": "code",
   "execution_count": 7,
   "metadata": {},
   "outputs": [
    {
     "data": {
      "text/plain": [
       "[2]"
      ]
     },
     "execution_count": 7,
     "metadata": {},
     "output_type": "execute_result"
    }
   ],
   "source": [
    "from typing import List\n",
    "\n",
    "\n",
    "class Solution:\n",
    "    def intersection(self, nums1: List[int], nums2: List[int]) -> List[int]:\n",
    "        #hash table solution\n",
    "        def check_intersection(s1, s2, res):            \n",
    "            for s in s1:                \n",
    "                if s in s2:                    \n",
    "                    res.add(s)  \n",
    "            return res        \n",
    "\n",
    "        s1 = set(nums1)\n",
    "        s2 = set(nums2)\n",
    "    \n",
    "        res = set()\n",
    "        res = check_intersection(s1, s2, res)    \n",
    "        res = check_intersection(s2, s1, res)    \n",
    "        return list(res)\n",
    "\n",
    "# nums1 = [1,2,2,1], nums2 = [2,2]\n",
    "# Output: [2]    \n",
    "Solution().intersection([1,2,2,1], [2,2])    "
   ]
  }
 ],
 "metadata": {
  "kernelspec": {
   "display_name": "venv_alg",
   "language": "python",
   "name": "python3"
  },
  "language_info": {
   "codemirror_mode": {
    "name": "ipython",
    "version": 3
   },
   "file_extension": ".py",
   "mimetype": "text/x-python",
   "name": "python",
   "nbconvert_exporter": "python",
   "pygments_lexer": "ipython3",
   "version": "3.11.5"
  }
 },
 "nbformat": 4,
 "nbformat_minor": 2
}
