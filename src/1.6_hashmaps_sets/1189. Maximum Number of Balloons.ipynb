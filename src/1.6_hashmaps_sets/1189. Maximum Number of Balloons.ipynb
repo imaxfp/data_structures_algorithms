{
 "cells": [
  {
   "cell_type": "markdown",
   "metadata": {},
   "source": [
    "### 1189. Maximum Number of Balloons\n",
    "\n",
    "https://leetcode.com/problems/maximum-number-of-balloons/description/"
   ]
  },
  {
   "cell_type": "code",
   "execution_count": 4,
   "metadata": {},
   "outputs": [
    {
     "name": "stdout",
     "output_type": "stream",
     "text": [
      "2\n"
     ]
    }
   ],
   "source": [
    "class Solution:\n",
    "    def maxNumberOfBalloons(self, text: str) -> int:\n",
    "        # 1. create dinct with keys \"b,a,l,l,o,o,n\"\n",
    "        # 2. divide by 2 'l' and 'o'\n",
    "        # 3. find the min nums\n",
    "        vocab_balloon = {}\n",
    "        for c in text:       \n",
    "            if c in 'balloon':                 \n",
    "                vocab_balloon[c] = vocab_balloon.get(c,0)+1\n",
    "        \n",
    "        vocab_balloon['l'] = vocab_balloon.get('l',0) // 2\n",
    "        vocab_balloon['o'] = vocab_balloon.get('o',0) // 2\n",
    "\n",
    "        if len(vocab_balloon) < 5:\n",
    "            return 0\n",
    "        \n",
    "        return min(vocab_balloon.values())\n",
    "    \n",
    "print(Solution().maxNumberOfBalloons(\"loonbalxballpoon\"))    "
   ]
  }
 ],
 "metadata": {
  "kernelspec": {
   "display_name": "venv_alg",
   "language": "python",
   "name": "python3"
  },
  "language_info": {
   "codemirror_mode": {
    "name": "ipython",
    "version": 3
   },
   "file_extension": ".py",
   "mimetype": "text/x-python",
   "name": "python",
   "nbconvert_exporter": "python",
   "pygments_lexer": "ipython3",
   "version": "3.11.5"
  }
 },
 "nbformat": 4,
 "nbformat_minor": 2
}
