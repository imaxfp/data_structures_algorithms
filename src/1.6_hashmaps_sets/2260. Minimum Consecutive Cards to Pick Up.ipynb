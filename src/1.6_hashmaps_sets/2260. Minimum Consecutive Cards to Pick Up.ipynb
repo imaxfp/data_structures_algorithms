{
 "cells": [
  {
   "cell_type": "markdown",
   "metadata": {},
   "source": [
    "### 2260. Minimum Consecutive Cards to Pick Up\n",
    "\n",
    "https://leetcode.com/problems/minimum-consecutive-cards-to-pick-up/description/\n"
   ]
  },
  {
   "cell_type": "code",
   "execution_count": 31,
   "metadata": {},
   "outputs": [
    {
     "name": "stdout",
     "output_type": "stream",
     "text": [
      "4\n"
     ]
    }
   ],
   "source": [
    "#Hash map impmelemtation\n",
    "#1. create hashMap where key -> card, val -> list(indexes)\n",
    "#2. find the shortest subarray with list(indexes)\n",
    "\n",
    "from typing import List\n",
    "\n",
    "class Solution:\n",
    "    \n",
    "    def __init__(self) -> None:\n",
    "        self.shortestSubarr = float('inf')\n",
    "    \n",
    "    \n",
    "    def find_min_len(self, arr_indexes):\n",
    "        for i in range(len(arr_indexes)-1, 0, -1):            \n",
    "            self.shortestSubarr = min(self.shortestSubarr, arr_indexes[i] - arr_indexes[i-1] + 1)\n",
    "    \n",
    "    \n",
    "    def minimumCardPickup(self, cards: List[int]) -> int:\n",
    "        cardsIndexes = {}\n",
    "        #1. create map of card indexes \n",
    "        for i in range(0, len(cards)):\n",
    "            cards_l = cardsIndexes.get(cards[i], [])\n",
    "            cards_l.append(i)\n",
    "            cardsIndexes[cards[i]] = cards_l \n",
    "            \n",
    "        #2. find shortest \n",
    "        for v in cardsIndexes.values():\n",
    "            if len(v) >= 2:\n",
    "                self.find_min_len(v)\n",
    "                \n",
    "        return self.shortestSubarr if self.shortestSubarr != float('inf') else -1         \n",
    "\n",
    "#Input: cards = [3,4,2,3,4,7]\n",
    "#Output: 4\n",
    "#Explanation - [3,4,2,3] or [4,2,3,4]\n",
    "print(Solution().minimumCardPickup([3,4,2,3,4,7])) "
   ]
  },
  {
   "cell_type": "code",
   "execution_count": 17,
   "metadata": {},
   "outputs": [
    {
     "name": "stdout",
     "output_type": "stream",
     "text": [
      "4\n"
     ]
    }
   ],
   "source": [
    "#TWO POINTERS implenentation \"TIME LIMIT EXCEPTION\"\n",
    "from typing import List\n",
    "\n",
    "class Solution:\n",
    "    def minimumCardPickup(self, cards: List[int]) -> int:\n",
    "        left = 0\n",
    "        res = float('inf')\n",
    "        \n",
    "        while left < len(cards) - 1:\n",
    "            right = left + 1\n",
    "            while right < len(cards):\n",
    "                if cards[left] == cards[right]:\n",
    "                    res = min(res, right - left + 1)\n",
    "                    break\n",
    "                right += 1\n",
    "            left += 1\n",
    "        \n",
    "        return res if res != float('inf') else -1\n",
    "                                 \n",
    "\n",
    "#Input: cards = [3,4,2,3,4,7]\n",
    "#Output: 4\n",
    "#Explanation - [3,4,2,3] or [4,2,3,4]\n",
    "print(Solution().minimumCardPickup([3,4,2,3,4,7]))\n"
   ]
  }
 ],
 "metadata": {
  "kernelspec": {
   "display_name": "venv_alg",
   "language": "python",
   "name": "python3"
  },
  "language_info": {
   "codemirror_mode": {
    "name": "ipython",
    "version": 3
   },
   "file_extension": ".py",
   "mimetype": "text/x-python",
   "name": "python",
   "nbconvert_exporter": "python",
   "pygments_lexer": "ipython3",
   "version": "3.11.5"
  }
 },
 "nbformat": 4,
 "nbformat_minor": 2
}
