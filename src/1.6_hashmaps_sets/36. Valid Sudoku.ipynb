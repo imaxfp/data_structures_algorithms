{
 "cells": [
  {
   "cell_type": "markdown",
   "metadata": {},
   "source": [
    "### 36. Valid Sudoku\n",
    "\n",
    "https://leetcode.com/problems/valid-sudoku/description\n"
   ]
  },
  {
   "cell_type": "code",
   "execution_count": 24,
   "metadata": {},
   "outputs": [
    {
     "name": "stdout",
     "output_type": "stream",
     "text": [
      "True\n",
      "False\n",
      "False\n"
     ]
    }
   ],
   "source": [
    "from typing import List\n",
    "\n",
    "class Solution:\n",
    "    def isValidSudoku(self, board: List[List[str]]) -> bool:\n",
    "        #1. line to hash_map \"chech if repeating\"\n",
    "        #2. rows to hash_map \"chech if repeating\"\n",
    "        #3. submatrix 3x3 to hash map \n",
    "        def check_rows(board: List[List[str]]):\n",
    "            #l o v e\n",
    "            row_dict = {}\n",
    "            for row in board:\n",
    "                #check line for duplicates [1,2,3,1]\n",
    "                for cel in row:\n",
    "                    if cel == \".\":\n",
    "                        continue\n",
    "                    \n",
    "                    if row_dict.get(cel, 0) == 1:\n",
    "                        return False\n",
    "                    row_dict[cel] = 1\n",
    "                row_dict = {}    \n",
    "            return True        \n",
    "                    \n",
    "        def check_columts(board: List[List[str]]):               \n",
    "            row_dict = {}           \n",
    "            for i in range(len(board)):                \n",
    "                for j in range(len(board[i])):           \n",
    "                    ##check for duplicates [1,2,3,1]       \n",
    "                    if board[j][i] == \".\":\n",
    "                        continue\n",
    "                                         \n",
    "                    if row_dict.get(board[j][i], 0) == 1:\n",
    "                        return False\n",
    "                    row_dict[board[j][i]] = 1\n",
    "                row_dict = {}   \n",
    "            return True    \n",
    "        \n",
    "        def check_area(board, sub_r=3, sub_c=3): \n",
    "            for row in range(0, len(board), sub_r):\n",
    "                for col in range(0, len(board[0]), sub_c):\n",
    "                    row_dict = {} \n",
    "                    for i in range(row, row + sub_r):\n",
    "                        for j in range(col, col + sub_c):                        \n",
    "                            if board[i][j] == \".\":\n",
    "                                continue\n",
    "                            if row_dict.get(board[i][j], 0) == 1:\n",
    "                                return False\n",
    "                            row_dict[board[i][j]] = 1\n",
    "            return True\n",
    "        \n",
    "        #return True and False and True and True     \n",
    "        return check_area(board) and check_rows(board) and check_columts(board)   \n",
    "        \n",
    "#Output: true\n",
    "board = [[\"5\",\"3\",\".\",\".\",\"7\",\".\",\".\",\".\",\"8\"]\n",
    ",[\"6\",\".\",\".\",\"1\",\"9\",\"5\",\".\",\".\",\".\"]\n",
    ",[\".\",\"9\",\"8\",\".\",\".\",\".\",\".\",\"6\",\".\"]\n",
    ",[\"8\",\".\",\".\",\".\",\"6\",\".\",\".\",\".\",\"3\"]\n",
    ",[\"4\",\".\",\".\",\"8\",\".\",\"3\",\".\",\".\",\"1\"]\n",
    ",[\"7\",\".\",\".\",\".\",\"2\",\".\",\".\",\".\",\"6\"]\n",
    ",[\".\",\"6\",\".\",\".\",\".\",\".\",\"2\",\"8\",\".\"]\n",
    ",[\".\",\".\",\".\",\"4\",\"1\",\"9\",\".\",\".\",\"5\"]\n",
    ",[\".\",\".\",\".\",\".\",\"8\",\".\",\".\",\"7\",\"9\"]]\n",
    "\n",
    "#Output: false\n",
    "board2 = [[\"8\",\"3\",\".\",\".\",\"7\",\".\",\".\",\".\",\".\"]\n",
    ",[\"6\",\".\",\".\",\"1\",\"9\",\"5\",\".\",\".\",\".\"]\n",
    ",[\".\",\"9\",\"8\",\".\",\".\",\".\",\".\",\"6\",\".\"]\n",
    ",[\"8\",\".\",\".\",\".\",\"6\",\".\",\".\",\".\",\"3\"]\n",
    ",[\"4\",\".\",\".\",\"8\",\".\",\"3\",\".\",\".\",\"1\"]\n",
    ",[\"7\",\".\",\".\",\".\",\"2\",\".\",\".\",\".\",\"6\"]\n",
    ",[\".\",\"6\",\".\",\".\",\".\",\".\",\"2\",\"8\",\".\"]\n",
    ",[\".\",\".\",\".\",\"4\",\"1\",\"9\",\".\",\".\",\"5\"]\n",
    ",[\".\",\".\",\".\",\".\",\"8\",\".\",\".\",\"7\",\"9\"]]\n",
    "\n",
    "#Expected false\n",
    "board3 = [[\".\",\".\",\".\",\".\",\"5\",\".\",\".\",\"1\",\".\"],[\".\",\"4\",\".\",\"3\",\".\",\".\",\".\",\".\",\".\"],[\".\",\".\",\".\",\".\",\".\",\"3\",\".\",\".\",\"1\"],[\"8\",\".\",\".\",\".\",\".\",\".\",\".\",\"2\",\".\"],[\".\",\".\",\"2\",\".\",\"7\",\".\",\".\",\".\",\".\"],[\".\",\"1\",\"5\",\".\",\".\",\".\",\".\",\".\",\".\"],[\".\",\".\",\".\",\".\",\".\",\"2\",\".\",\".\",\".\"],[\".\",\"2\",\".\",\"9\",\".\",\".\",\".\",\".\",\".\"],[\".\",\".\",\"4\",\".\",\".\",\".\",\".\",\".\",\".\"]]\n",
    "\n",
    "print(Solution().isValidSudoku(board))                    \n",
    "print(Solution().isValidSudoku(board2))\n",
    "print(Solution().isValidSudoku(board3))            "
   ]
  }
 ],
 "metadata": {
  "kernelspec": {
   "display_name": "venv_alg",
   "language": "python",
   "name": "python3"
  },
  "language_info": {
   "codemirror_mode": {
    "name": "ipython",
    "version": 3
   },
   "file_extension": ".py",
   "mimetype": "text/x-python",
   "name": "python",
   "nbconvert_exporter": "python",
   "pygments_lexer": "ipython3",
   "version": "3.12.5"
  }
 },
 "nbformat": 4,
 "nbformat_minor": 2
}
