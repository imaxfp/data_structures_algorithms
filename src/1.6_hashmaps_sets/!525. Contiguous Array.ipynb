{
 "cells": [
  {
   "cell_type": "markdown",
   "metadata": {},
   "source": [
    "### 525. Contiguous Array\n",
    "\n",
    "https://leetcode.com/problems/contiguous-array/description/"
   ]
  },
  {
   "cell_type": "code",
   "execution_count": 10,
   "metadata": {},
   "outputs": [
    {
     "name": "stdout",
     "output_type": "stream",
     "text": [
      "2\n",
      "4\n",
      "6\n",
      "4\n",
      "94\n"
     ]
    }
   ],
   "source": [
    "from typing import List\n",
    "# return the maximum length of a contiguous subarray with an equal number of 0 and 1.\n",
    "\n",
    "class Solution:\n",
    "    def findMaxLength(self, nums: List[int]) -> int:                \n",
    "        sum_indices = {0: -1}  # Initialize hashmap with cumulative sum 0 at index -1\n",
    "        max_length = 0\n",
    "        cum_sum = 0\n",
    "\n",
    "        for i, num in enumerate(nums):\n",
    "            if num == 0:\n",
    "                cum_sum -= 1\n",
    "            else:\n",
    "                cum_sum += 1\n",
    "\n",
    "            if cum_sum in sum_indices:\n",
    "                #print(i, nums[i])\n",
    "                max_length = max(max_length, i - sum_indices[cum_sum])\n",
    "            else:\n",
    "                sum_indices[cum_sum] = i\n",
    "\n",
    "        return max_length\n",
    "        \n",
    "    \n",
    "#Input: nums = [0,1]\n",
    "#Output: 2        \n",
    "print(Solution().findMaxLength([0,1]))\n",
    "\n",
    "#[0,1,0,1]\n",
    "#Expected 4\n",
    "print(Solution().findMaxLength([0,1,0,1]))\n",
    "\n",
    "#nums = [0,0,1,0,0,0,1,1]\n",
    "#[0, 0, 0, 0, 0, 1, 1, 0,0,0,1]\n",
    "#[0, 0, 1, 1, 0, 0, 1]\n",
    "#Expected 6\n",
    "print(Solution().findMaxLength([0,0,1,0,0,0,1,1]))\n",
    "\n",
    "#nums = [(0,1),1,(0,1),1,1,0]\n",
    "#Expected 4\n",
    "print(Solution().findMaxLength([0,1,1,0,1,1,1,0]))\n",
    "\n",
    "\n",
    "nums = [1,1,1,1,1,1,1,0,0,0,0,1,1,0,1,0,0,1,1,1,1,1,1,1,1,1,0,0,0,0,1,0,0,0,0,1,0,1,0,0,0,1,1,0,0,0,0,1,0,0,1,1,1,1,1,0,0,1,0,1,1,0,0,0,1,0,0,0,1,1,1,0,1,1,0,1,0,0,1,1,0,1,0,0,1,1,1,0,0,1,0,1,1,1,0,0,1,0,1,1]\n",
    "# Expected 94\n",
    "print(Solution().findMaxLength(nums))\n"
   ]
  }
 ],
 "metadata": {
  "kernelspec": {
   "display_name": "venv_alg",
   "language": "python",
   "name": "python3"
  },
  "language_info": {
   "codemirror_mode": {
    "name": "ipython",
    "version": 3
   },
   "file_extension": ".py",
   "mimetype": "text/x-python",
   "name": "python",
   "nbconvert_exporter": "python",
   "pygments_lexer": "ipython3",
   "version": "3.11.5"
  }
 },
 "nbformat": 4,
 "nbformat_minor": 2
}
