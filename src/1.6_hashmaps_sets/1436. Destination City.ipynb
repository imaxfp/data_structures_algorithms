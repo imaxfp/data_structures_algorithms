{
 "cells": [
  {
   "cell_type": "markdown",
   "metadata": {},
   "source": [
    "### 1436. Destination City\n",
    "\n",
    "https://leetcode.com/problems/destination-city/description/"
   ]
  },
  {
   "cell_type": "code",
   "execution_count": null,
   "metadata": {},
   "outputs": [],
   "source": [
    "from typing import List\n",
    "\n",
    "\n",
    "class Solution:\n",
    "    def destCity(self, paths: List[List[str]]) -> str:\n",
    "        #1. put all to the map\n",
    "        #2. start from paths[0][0] while have a key\n",
    "        #3. if not key, return val\n",
    "        cityDict = {}\n",
    "        for city in paths:\n",
    "            cityDict[city[0]] = city[1]\n",
    "\n",
    "        city = paths[0][0]\n",
    "        while city:\n",
    "            if cityDict.get(city):\n",
    "                city = cityDict.get(city)\n",
    "            else:\n",
    "                return city"
   ]
  }
 ],
 "metadata": {
  "kernelspec": {
   "display_name": "venv_alg",
   "language": "python",
   "name": "python3"
  },
  "language_info": {
   "codemirror_mode": {
    "name": "ipython",
    "version": 3
   },
   "file_extension": ".py",
   "mimetype": "text/x-python",
   "name": "python",
   "nbconvert_exporter": "python",
   "pygments_lexer": "ipython3",
   "version": "3.11.5"
  }
 },
 "nbformat": 4,
 "nbformat_minor": 2
}
