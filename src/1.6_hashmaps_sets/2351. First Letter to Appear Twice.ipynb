{
 "cells": [
  {
   "cell_type": "markdown",
   "metadata": {},
   "source": [
    "### 2351. First Letter to Appear Twice\n",
    "\n",
    "https://leetcode.com/problems/first-letter-to-appear-twice/description/"
   ]
  },
  {
   "cell_type": "code",
   "execution_count": 5,
   "metadata": {},
   "outputs": [
    {
     "name": "stdout",
     "output_type": "stream",
     "text": [
      "c\n"
     ]
    }
   ],
   "source": [
    "class Solution:\n",
    "    def repeatedCharacter(self, s: str) -> str:\n",
    "        #dict for latter with counter\n",
    "        #if counter > 1 return latter \n",
    "        latters = {}\n",
    "        for char in s:\n",
    "            apears = latters.get(char, 0) \n",
    "            apears+=1        \n",
    "            latters[char] = apears\n",
    "            if apears > 1:                \n",
    "                return char\n",
    "            \n",
    "#Input: s = \"abccbaacz\"\n",
    "#Output: \"c\"            \n",
    "print(Solution().repeatedCharacter(\"abccbaacz\"))"
   ]
  }
 ],
 "metadata": {
  "kernelspec": {
   "display_name": "venv_alg",
   "language": "python",
   "name": "python3"
  },
  "language_info": {
   "codemirror_mode": {
    "name": "ipython",
    "version": 3
   },
   "file_extension": ".py",
   "mimetype": "text/x-python",
   "name": "python",
   "nbconvert_exporter": "python",
   "pygments_lexer": "ipython3",
   "version": "3.11.5"
  }
 },
 "nbformat": 4,
 "nbformat_minor": 2
}
