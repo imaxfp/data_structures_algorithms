{
 "cells": [
  {
   "cell_type": "markdown",
   "metadata": {},
   "source": [
    "### 2342. Max Sum of a Pair With Equal Sum of Digits\n",
    "\n",
    "https://leetcode.com/problems/max-sum-of-a-pair-with-equal-sum-of-digits/description/"
   ]
  },
  {
   "cell_type": "code",
   "execution_count": 13,
   "metadata": {},
   "outputs": [
    {
     "name": "stdout",
     "output_type": "stream",
     "text": [
      "{9: [18, 36], 7: [43, 7], 4: [13]}\n",
      "54\n",
      "{5: [5], 9: [9], 7: [7], 4: [4], 1: [10]}\n",
      "-1\n",
      "{17: [368, 467], 18: [369, 279, 396], 10: [307], 7: [304], 15: [384, 438], 12: [138, 183], 9: [90], 8: [35, 251], 6: [114], 13: [328, 364], 3: [300], 11: [191]}\n",
      "835\n",
      "{13: [229], 20: [398], 17: [269], 11: [317, 218], 6: [420, 411], 14: [464, 491, 482, 347], 16: [439, 169], 9: [153], 12: [93, 147], 5: [50, 401], 3: [210], 8: [251], 15: [366]}\n",
      "973\n"
     ]
    }
   ],
   "source": [
    "from typing import List\n",
    "\n",
    "#find a pair of numbers where the sum of their digits is equal\n",
    "\n",
    "class Solution:\n",
    "    def maximumSum(self, nums: List[int]) -> int:\n",
    "        #1. Arr to the map where key -> (sum of dig), val -> list of dig\n",
    "        #2. sort\n",
    "        #3. return sum (val -> list of dig)\n",
    "        sumOfDigitDic = {}\n",
    "        for n in nums:\n",
    "            digitSum = sum(map(lambda digit: int(digit), str(n)))\n",
    "            digList = sumOfDigitDic.get(digitSum, [])\n",
    "            digList.append(n)\n",
    "            sumOfDigitDic[digitSum] = digList\n",
    "        print(sumOfDigitDic)    \n",
    "        \n",
    "        #find max mun where sum of digit nums are same\n",
    "        res =-1\n",
    "        for k, v in sumOfDigitDic.items():\n",
    "            #max of PAITS not all arr \n",
    "            if len(v) > 1:\n",
    "                v = sorted(v, reverse=True)\n",
    "                res = max(res, v[0] + v[1])\n",
    "        return res        \n",
    "            \n",
    "             \n",
    "            \n",
    "            \n",
    "        \n",
    "\n",
    "#Input: nums = [18,43,36,13,7]\n",
    "#Output: 54\n",
    "print(Solution().maximumSum([18,43,36,13,7]))\n",
    "    \n",
    "#nums = [5,9,7,4,10]    \n",
    "#Expected -1\n",
    "print(Solution().maximumSum([5,9,7,4,10]))\n",
    "\n",
    "#835\n",
    "print(Solution().maximumSum([368,369,307,304,384,138,90,279,35,396,114,328,251,364,300,191,438,467,183]))\n",
    "\n",
    "#973\n",
    "print(Solution().maximumSum([229,398,269,317,420,464,491,218,439,153,482,169,411,93,147,50,347,210,251,366,401]))\n"
   ]
  }
 ],
 "metadata": {
  "kernelspec": {
   "display_name": "venv_alg",
   "language": "python",
   "name": "python3"
  },
  "language_info": {
   "codemirror_mode": {
    "name": "ipython",
    "version": 3
   },
   "file_extension": ".py",
   "mimetype": "text/x-python",
   "name": "python",
   "nbconvert_exporter": "python",
   "pygments_lexer": "ipython3",
   "version": "3.11.5"
  }
 },
 "nbformat": 4,
 "nbformat_minor": 2
}
