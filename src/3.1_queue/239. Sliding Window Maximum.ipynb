{
 "cells": [
  {
   "cell_type": "markdown",
   "metadata": {},
   "source": [
    "### 239. Sliding Window Maximum\n",
    "\n",
    "https://leetcode.com/problems/sliding-window-maximum/description"
   ]
  },
  {
   "cell_type": "code",
   "execution_count": 31,
   "metadata": {},
   "outputs": [
    {
     "name": "stdout",
     "output_type": "stream",
     "text": [
      "[3, 3, 2, 5]\n",
      "[7, 4]\n",
      "[3, 3, 5, 5, 6, 7]\n",
      "[1]\n"
     ]
    }
   ],
   "source": [
    "from typing import List\n",
    "import collections\n",
    "\n",
    "# [1,3,-1,-3,5,3,6,7]\n",
    "class Solution:    \n",
    "    def maxSlidingWindow(self, nums: List[int], k: int) -> List[int]:             \n",
    "        monoQueue = collections.deque()\n",
    "        res = []\n",
    "        for i in range(len(nums)):    \n",
    "            #achieved windows size\n",
    "            if monoQueue and monoQueue[0][1] <= i - k:               \n",
    "                monoQueue.popleft()\n",
    "                 \n",
    "            # Maintain the deque in decreasing order    \n",
    "            while monoQueue and monoQueue[-1][0] < nums[i]:\n",
    "                monoQueue.pop()            \n",
    "            monoQueue.append((nums[i], i))\n",
    "            \n",
    "            # Start adding results after the first window is achieved\n",
    "            if i >= k - 1:\n",
    "                res.append(monoQueue[0][0])\n",
    "                                              \n",
    "        return res\n",
    "\n",
    "\n",
    "\n",
    "#nums = [1,3,1,2,0,5], k=3\n",
    "#Expected [3,3,2,5]\n",
    "print(Solution().maxSlidingWindow([1,3,1,2,0,5], 3))\n",
    "\n",
    "#nums = [7,2,4], k=2\n",
    "#Expected[7,4]\n",
    "print(Solution().maxSlidingWindow([7,2,4], 2))\n",
    "\n",
    "#Input: nums = [1,3,-1,-3,5,3,6,7], k = 3\n",
    "#Output: [3,3,5,5,6,7]     \n",
    "print(Solution().maxSlidingWindow([1,3,-1,-3,5,3,6,7], 3))\n",
    "\n",
    "#Input: nums = [1], k = 1\n",
    "#Output: [1]\n",
    "print(Solution().maxSlidingWindow([1], 1))"
   ]
  }
 ],
 "metadata": {
  "kernelspec": {
   "display_name": "venv_alg",
   "language": "python",
   "name": "python3"
  },
  "language_info": {
   "codemirror_mode": {
    "name": "ipython",
    "version": 3
   },
   "file_extension": ".py",
   "mimetype": "text/x-python",
   "name": "python",
   "nbconvert_exporter": "python",
   "pygments_lexer": "ipython3",
   "version": "3.11.5"
  }
 },
 "nbformat": 4,
 "nbformat_minor": 2
}
