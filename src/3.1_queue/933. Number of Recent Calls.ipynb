{
 "cells": [
  {
   "cell_type": "markdown",
   "metadata": {},
   "source": [
    "### 933. Number of Recent Calls\n",
    "\n",
    "https://leetcode.com/problems/number-of-recent-calls/description/"
   ]
  },
  {
   "cell_type": "code",
   "execution_count": 1,
   "metadata": {},
   "outputs": [],
   "source": [
    "import collections\n",
    "\n",
    "class RecentCounter:\n",
    "    def __init__(self):                \n",
    "        self.pings = collections.deque()\n",
    "        self.range = (0,0)\n",
    "\n",
    "    def ping(self, t: int) -> int: \n",
    "        # returns the number of requests that has happened \n",
    "        # in the past 3000 milliseconds\n",
    "        self.pings.append(t)\n",
    "\n",
    "        #number of requests that have happened in the inclusive range [t - 3000, t].\n",
    "        self.range = (t - 3000, t)\n",
    "        ctr=0\n",
    "        for p in self.pings:\n",
    "            if p >= self.range[0] and p <= self.range[1]:\n",
    "                ctr+=1        \n",
    "        return ctr            \n",
    "# Your RecentCounter object will be instantiated and called as such:\n",
    "# obj = RecentCounter()\n",
    "# param_1 = obj.ping(t)"
   ]
  }
 ],
 "metadata": {
  "kernelspec": {
   "display_name": "venv_alg",
   "language": "python",
   "name": "python3"
  },
  "language_info": {
   "codemirror_mode": {
    "name": "ipython",
    "version": 3
   },
   "file_extension": ".py",
   "mimetype": "text/x-python",
   "name": "python",
   "nbconvert_exporter": "python",
   "pygments_lexer": "ipython3",
   "version": "3.11.5"
  }
 },
 "nbformat": 4,
 "nbformat_minor": 2
}
