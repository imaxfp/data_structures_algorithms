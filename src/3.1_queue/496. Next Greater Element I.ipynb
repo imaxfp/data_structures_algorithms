{
 "cells": [
  {
   "cell_type": "markdown",
   "metadata": {},
   "source": [
    "### 496. Next Greater Element I\n",
    "\n",
    "https://leetcode.com/problems/next-greater-element-i/description"
   ]
  },
  {
   "cell_type": "code",
   "execution_count": 5,
   "metadata": {},
   "outputs": [
    {
     "name": "stdout",
     "output_type": "stream",
     "text": [
      "[-1, 3, -1]\n",
      "[3, -1]\n"
     ]
    }
   ],
   "source": [
    "#PAY attention nums1 is SUBSET of the nums2, you have to find LARGER element in the RIGHT. \n",
    "#So you should iterate from RIGHT to LEFT and maintaing MONOTONIC stack! \n",
    "def nextGreaterElement(nums1, nums2):\n",
    "    next_greater = {}\n",
    "    stack = []\n",
    "\n",
    "    # Traverse nums2 in reverse order\n",
    "    for num in reversed(nums2):\n",
    "        # Maintain the stack to have only elements greater than the current element\n",
    "        while stack and stack[-1] <= num:\n",
    "            stack.pop()\n",
    "        # The next greater element is the one on top of the stack, if stack is not empty\n",
    "        next_greater[num] = stack[-1] if stack else -1\n",
    "        # Push the current element onto the stack\n",
    "        stack.append(num)\n",
    "\n",
    "    # Use the next_greater dictionary to build the result for nums1\n",
    "    return [next_greater[num] for num in nums1]\n",
    "\n",
    "#Input: nums1 = [4,1,2], nums2 = [1,3,4,2]\n",
    "#Output: [-1,3,-1]\n",
    "print(nextGreaterElement([4, 1, 2], [1, 3, 4, 2]))  # Output: [-1, 3, -1]\n",
    "\n",
    "#Input: nums1 = [2,4], nums2 = [1,2,3,4]\n",
    "#Output: [3,-1]\n",
    "print(nextGreaterElement([2,4], [1,2,3,4]))"
   ]
  }
 ],
 "metadata": {
  "kernelspec": {
   "display_name": "venv_alg",
   "language": "python",
   "name": "python3"
  },
  "language_info": {
   "codemirror_mode": {
    "name": "ipython",
    "version": 3
   },
   "file_extension": ".py",
   "mimetype": "text/x-python",
   "name": "python",
   "nbconvert_exporter": "python",
   "pygments_lexer": "ipython3",
   "version": "3.11.5"
  }
 },
 "nbformat": 4,
 "nbformat_minor": 2
}
