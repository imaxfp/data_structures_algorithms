{
 "cells": [
  {
   "cell_type": "markdown",
   "metadata": {},
   "source": [
    "346. Moving Average from Data Stream\n",
    "\n",
    "https://leetcode.com/problems/moving-average-from-data-stream/description/"
   ]
  },
  {
   "cell_type": "code",
   "execution_count": 5,
   "metadata": {},
   "outputs": [
    {
     "name": "stdout",
     "output_type": "stream",
     "text": [
      "1.0\n",
      "5.5\n",
      "4.666666666666667\n",
      "6.0\n"
     ]
    }
   ],
   "source": [
    "import collections\n",
    "\n",
    "class MovingAverage:\n",
    "\n",
    "    def __init__(self, size: int):\n",
    "        self.dataStream = collections.deque()\n",
    "        self.windowsSize = size\n",
    "        \n",
    "\n",
    "    def next(self, val: int) -> float:\n",
    "        self.dataStream.append(val)\n",
    "        if len(self.dataStream) > self.windowsSize:\n",
    "            self.dataStream.popleft()\n",
    "        return sum(self.dataStream) / len(self.dataStream)    \n",
    "        \n",
    "\n",
    "\n",
    "# Your MovingAverage object will be instantiated and called as such:\n",
    "# obj = MovingAverage(size)\n",
    "# param_1 = obj.next(val)\n",
    "\n",
    "\n",
    "'''\n",
    "Input\n",
    "[\"MovingAverage\", \"next\", \"next\", \"next\", \"next\"]\n",
    "[[3], [1], [10], [3], [5]]\n",
    "Output\n",
    "[null, 1.0, 5.5, 4.66667, 6.0]\n",
    "'''\n",
    "\n",
    "movingAverage = MovingAverage(3)\n",
    "print(movingAverage.next(1)) # return 1.0 = 1 / 1\n",
    "print(movingAverage.next(10)) # return 5.5 = (1 + 10) / 2\n",
    "print(movingAverage.next(3)) # return 4.66667 = (1 + 10 + 3) / 3\n",
    "print(movingAverage.next(5)) # return 6.0 = (10 + 3 + 5) / 3\n"
   ]
  }
 ],
 "metadata": {
  "kernelspec": {
   "display_name": "venv_alg",
   "language": "python",
   "name": "python3"
  },
  "language_info": {
   "codemirror_mode": {
    "name": "ipython",
    "version": 3
   },
   "file_extension": ".py",
   "mimetype": "text/x-python",
   "name": "python",
   "nbconvert_exporter": "python",
   "pygments_lexer": "ipython3",
   "version": "3.11.5"
  }
 },
 "nbformat": 4,
 "nbformat_minor": 2
}
