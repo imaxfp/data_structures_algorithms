{
 "cells": [
  {
   "cell_type": "code",
   "execution_count": 5,
   "metadata": {},
   "outputs": [
    {
     "name": "stdout",
     "output_type": "stream",
     "text": [
      "deque([1, 2, 3, 4, 5])\n",
      "1\n",
      "2\n",
      "deque([3, 4, 5])\n",
      "5\n"
     ]
    }
   ],
   "source": [
    "# Declaration: we will use deque from the collections module\n",
    "import collections\n",
    "queue = collections.deque()\n",
    "\n",
    "# If you want to initialize it with some initial values:\n",
    "queue = collections.deque([1, 2, 3])\n",
    "\n",
    "# Enqueueing/adding elements:\n",
    "queue.append(4)\n",
    "queue.append(5)\n",
    "\n",
    "# Dequeuing/removing elements:\n",
    "print(queue)\n",
    "print(queue.popleft()) # 1\n",
    "print(queue.popleft()) # 2\n",
    "\n",
    "print(queue)\n",
    "print(queue.pop()) # 5"
   ]
  }
 ],
 "metadata": {
  "kernelspec": {
   "display_name": "venv_alg",
   "language": "python",
   "name": "python3"
  },
  "language_info": {
   "codemirror_mode": {
    "name": "ipython",
    "version": 3
   },
   "file_extension": ".py",
   "mimetype": "text/x-python",
   "name": "python",
   "nbconvert_exporter": "python",
   "pygments_lexer": "ipython3",
   "version": "3.11.5"
  }
 },
 "nbformat": 4,
 "nbformat_minor": 2
}
