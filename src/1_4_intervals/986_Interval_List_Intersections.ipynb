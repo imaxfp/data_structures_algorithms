{
 "cells": [
  {
   "cell_type": "markdown",
   "metadata": {},
   "source": [
    "### 986. Interval List Intersections\n",
    "\n",
    "https://leetcode.com/problems/interval-list-intersections/description\n"
   ]
  },
  {
   "cell_type": "code",
   "execution_count": 15,
   "metadata": {},
   "outputs": [
    {
     "name": "stdout",
     "output_type": "stream",
     "text": [
      "res =>  [[1, 2], [[5, 5]], [15, 23], [[24, 24], [25, 25]]]\n"
     ]
    }
   ],
   "source": [
    "from typing import List\n",
    "\n",
    "class Solution:\n",
    "    def checkIntersection(self, first_pair, second_pair, previous_end):\n",
    "        res = []\n",
    "        #firstList = [[0,2],[5,10],[13,23],[24,25]]\n",
    "        #secondList = [[1,5],[8,12],[15,24],[25,26]]\n",
    "\n",
    "        # 1. equals elements == intersection\n",
    "        if first_pair[0] in second_pair or previous_end == first_pair[0]:\n",
    "            res.append([first_pair[0], first_pair[0]])\n",
    "        if first_pair[1] in second_pair:\n",
    "            res.append([first_pair[1], first_pair[1]])\n",
    "\n",
    "        if len(res) != 0:\n",
    "            return res    \n",
    "        \n",
    "        # 2. shorter inside longer\n",
    "        start = max(first_pair[0], second_pair[0])\n",
    "        end = min(first_pair[1], second_pair[1])        \n",
    "\n",
    "        return [start, end]\n",
    "\n",
    "    def intervalIntersection(self, firstList: List[List[int]], secondList: List[List[int]]) -> List[List[int]]:\n",
    "        f = s = 0\n",
    "        final_res = []\n",
    "        while f < len(firstList) or s < len(secondList):\n",
    "\n",
    "            first_pair = firstList[f]\n",
    "            second_pair = secondList[s]\n",
    "            #f = [1,2]\n",
    "            #s = [5,6]\n",
    "            # 0. No intersection \n",
    "            if first_pair[1] < second_pair[0]:                \n",
    "                f+=1\n",
    "                continue\n",
    "\n",
    "            #f = [5,6]\n",
    "            #s = [1,2]\n",
    "            # 0. No intersection               \n",
    "            if first_pair[0] > second_pair[1]:                \n",
    "                s+=1\n",
    "                continue\n",
    "            second_end = secondList[s-1][1]                                            \n",
    "            tmp_res = self.checkIntersection(firstList[f], secondList[s], second_end)\n",
    "            final_res.append(tmp_res)\n",
    "            f+=1\n",
    "            s+=1\n",
    "        return final_res\n",
    "\n",
    "\n",
    "firstList = [[0,2],[5,10],[13,23],[24,25]]\n",
    "secondList = [[1,5],[8,12],[15,24],[25,26]]\n",
    "\n",
    "# Output: [[1,2],[5,5],[8,10],[15,23],[24,24],[25,25]]\n",
    "\n",
    "r = Solution().intervalIntersection(firstList, secondList)             \n",
    "print(\"res => \", r)"
   ]
  }
 ],
 "metadata": {
  "kernelspec": {
   "display_name": "venv_alg",
   "language": "python",
   "name": "python3"
  },
  "language_info": {
   "codemirror_mode": {
    "name": "ipython",
    "version": 3
   },
   "file_extension": ".py",
   "mimetype": "text/x-python",
   "name": "python",
   "nbconvert_exporter": "python",
   "pygments_lexer": "ipython3",
   "version": "3.11.5"
  }
 },
 "nbformat": 4,
 "nbformat_minor": 2
}
