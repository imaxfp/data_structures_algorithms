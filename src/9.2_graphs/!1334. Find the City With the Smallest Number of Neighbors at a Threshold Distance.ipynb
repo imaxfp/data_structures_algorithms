{
 "cells": [
  {
   "cell_type": "markdown",
   "metadata": {},
   "source": [
    "### 1334. Find the City With the Smallest Number of Neighbors at a Threshold Distance \n",
    "\n",
    "https://leetcode.com/problems/find-the-city-with-the-smallest-number-of-neighbors-at-a-threshold-distance/description/?envType=daily-question&envId=2024-07-26\n",
    "\n"
   ]
  },
  {
   "cell_type": "code",
   "execution_count": 5,
   "metadata": {},
   "outputs": [
    {
     "name": "stdout",
     "output_type": "stream",
     "text": [
      "0\n"
     ]
    }
   ],
   "source": [
    "from typing import List\n",
    "import heapq\n",
    "\n",
    "class Solution:\n",
    "    def findTheCity(self, n: int, edges: List[List[int]], distanceThreshold: int) -> int:\n",
    "        \n",
    "        def buildPath(city_direct_conn_map, candidates: List, threshold):\n",
    "            dist = [[float('inf')] * n for _ in range(n)]\n",
    "            for i in range(n):\n",
    "                dist[i][i] = 0\n",
    "            \n",
    "            for u, v, w in edges:\n",
    "                dist[u][v] = w\n",
    "                dist[v][u] = w\n",
    "\n",
    "            for k in range(n):\n",
    "                for i in range(n):\n",
    "                    for j in range(n):\n",
    "                        if dist[i][j] > dist[i][k] + dist[k][j]:\n",
    "                            dist[i][j] = dist[i][k] + dist[k][j]\n",
    "            \n",
    "            return dist\n",
    "\n",
    "        def closestByThreshold(city_direct_conn_map, distanceThreshold):\n",
    "            dist = buildPath(city_direct_conn_map, edges, distanceThreshold)\n",
    "            min_count = n\n",
    "            result_city = -1\n",
    "            for i in range(n):\n",
    "                count = sum(dist[i][j] <= distanceThreshold for j in range(n))\n",
    "                if count < min_count or (count == min_count and i > result_city):\n",
    "                    min_count = count\n",
    "                    result_city = i\n",
    "            return result_city\n",
    "        \n",
    "        city_direct_conn_map = {}\n",
    "        \n",
    "        for city in edges:\n",
    "            destinations = city_direct_conn_map.get(city[0], [])\n",
    "            destinations.append(city)\n",
    "            city_direct_conn_map[city[0]] = destinations\n",
    "        \n",
    "        return closestByThreshold(city_direct_conn_map, distanceThreshold)\n",
    "        \n",
    "edges = [[0,1,2],[0,4,8],[1,2,3],[1,4,2],[2,3,1],[3,4,1]]\n",
    "distanceThreshold = 2\n",
    "print(Solution().findTheCity(5, edges, distanceThreshold))\n"
   ]
  }
 ],
 "metadata": {
  "kernelspec": {
   "display_name": "venv_alg",
   "language": "python",
   "name": "python3"
  },
  "language_info": {
   "codemirror_mode": {
    "name": "ipython",
    "version": 3
   },
   "file_extension": ".py",
   "mimetype": "text/x-python",
   "name": "python",
   "nbconvert_exporter": "python",
   "pygments_lexer": "ipython3",
   "version": "3.11.5"
  }
 },
 "nbformat": 4,
 "nbformat_minor": 2
}
