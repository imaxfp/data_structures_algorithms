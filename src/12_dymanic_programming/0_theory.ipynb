{
 "cells": [
  {
   "cell_type": "markdown",
   "metadata": {},
   "source": [
    "## The main idea of Dynamic Programming (DP):\n",
    "\n",
    "Main tasks of the DP:\n",
    "1. minimization or maximization (find min or max of the subsequences in arr)\n",
    "2. find routs (rabbit jumps)\n",
    "\n",
    "##### In short, dynamic programming is just optimized recursion.\n",
    "\n",
    "\n",
    "Dynamic programming is a method for solving a complex problem by breaking it up into smaller subproblems, and store the results of the subproblems for later use (to reduce duplication).\n",
    "\n",
    "Dynamic Programming is an optimization technique used to solve complex problems by breaking them down into simpler subproblems. Each subproblem is **solved only once and stored for future reference, ensuring that each subproblem's solution is used optimally.** This approach avoids redundant calculations and improves efficiency.\n",
    "\n",
    "### Dynamic programming (DP)\n",
    "\n",
    "Dynamic programming (DP) is a technique used to solve complex problems by breaking them down into simpler subproblems and storing their solutions to avoid redundant work. It is particularly effective for problems with overlapping subproblems and optimal substructure. DP involves defining subproblems, establishing a recurrence relation, and using either memoization (storing results in a lookup table) or tabulation (building a table iteratively) to solve them efficiently. \n",
    "\n",
    "**Essentially, DP improves upon brute force by storing the results of subproblems (caching) to avoid redundant calculations, making it much more efficient.**\n",
    "\n",
    "Examples include the Fibonacci sequence, the knapsack problem, and the longest common subsequence."
   ]
  },
  {
   "cell_type": "markdown",
   "metadata": {},
   "source": [
    "- The idea behind dynamic programming is the exact same. We define some recursive function, usually called dp, that returns the answer to the original problem as if the arguments you passed to it were the input.\n",
    "\n",
    "- The arguments that a recursive function takes represents a state\n",
    "\n",
    "- When we looked at tree problems, we never visited a node more than once in our DFS (Depth-First Search)\n",
    " \n",
    "-  which means that a state was never repeated. The difference with DP is that states can be repeated, usually an exponential number of times.\n",
    "\n",
    "- To avoid repeating computation, we use something called **memoization**. Then in the future, if we ever see the same state again, we can just refer to the cached value without needing to re-calculate it.\n",
    "\n",
    "\n",
    "\n"
   ]
  },
  {
   "cell_type": "markdown",
   "metadata": {},
   "source": [
    "### Dynamic Programmig (DP) has two technics:\n",
    "\n",
    "**Top-Down (with Memoization):** This approach starts from the original problem and breaks it down into subproblems, solving each subproblem as needed and storing the results (memoization) to avoid redundant computations.\n",
    "\n",
    "**Bottom-Up (with Tabulation):** This approach starts by solving the smallest subproblems first and uses their solutions to build up the solution to the original problem. It involves filling up a table iteratively from the base cases up to the desired solution."
   ]
  },
  {
   "cell_type": "code",
   "execution_count": 5,
   "metadata": {},
   "outputs": [
    {
     "name": "stdout",
     "output_type": "stream",
     "text": [
      "└─fib(6)\n",
      "  ├─fib(5)\n",
      "  │ ├─fib(4)\n",
      "  │ │ ├─fib(3)\n",
      "  │ │ │ ├─fib(2)\n",
      "  │ │ │ │ ├─fib(1)\n",
      "  │ │ │ │ │ └─1\n",
      "  │ │ │ │ └─fib(0)\n",
      "  │ │ │ │   └─0\n",
      "  │ │ │ └─fib(1)\n",
      "  │ │ │   └─1\n",
      "  │ │ └─fib(2)\n",
      "  │ │   ├─fib(1)\n",
      "  │ │   │ └─1\n",
      "  │ │   └─fib(0)\n",
      "  │ │     └─0\n",
      "  │ └─fib(3)\n",
      "  │   ├─fib(2)\n",
      "  │   │ ├─fib(1)\n",
      "  │   │ │ └─1\n",
      "  │   │ └─fib(0)\n",
      "  │   │   └─0\n",
      "  │   └─fib(1)\n",
      "  │     └─1\n",
      "  └─fib(4)\n",
      "    ├─fib(3)\n",
      "    │ ├─fib(2)\n",
      "    │ │ ├─fib(1)\n",
      "    │ │ │ └─1\n",
      "    │ │ └─fib(0)\n",
      "    │ │   └─0\n",
      "    │ └─fib(1)\n",
      "    │   └─1\n",
      "    └─fib(2)\n",
      "      ├─fib(1)\n",
      "      │ └─1\n",
      "      └─fib(0)\n",
      "        └─0\n"
     ]
    }
   ],
   "source": [
    "def print_fibonacci_tree(n, indent=\"\", last=True):\n",
    "    # Print the current node\n",
    "    print(indent, end=\"\")\n",
    "    if last:\n",
    "        print(\"└─\", end=\"\")\n",
    "        indent += \"  \"\n",
    "    else:\n",
    "        print(\"├─\", end=\"\")\n",
    "        indent += \"│ \"\n",
    "\n",
    "    print(f\"fib({n})\")\n",
    "\n",
    "    # Recursively print the left and right subtrees\n",
    "    if n > 1:\n",
    "        print_fibonacci_tree(n - 1, indent, False)\n",
    "        print_fibonacci_tree(n - 2, indent, True)\n",
    "    elif n == 1:\n",
    "        print(indent + \"└─1\")\n",
    "    elif n == 0:\n",
    "        print(indent + \"└─0\")\n",
    "\n",
    "# Example usage:\n",
    "print_fibonacci_tree(6)\n"
   ]
  },
  {
   "cell_type": "markdown",
   "metadata": {},
   "source": [
    "### Top-down\n",
    "This method of using recursion and memoization is also known as \"top-down\" dynamic programming. It is named as such because we start from the top (the original problem) and move down toward the base cases. For example, we wanted the n th Fibonacci number, so we started by calling fibonacci(n). We move down with recursion until we reach the base cases (F(0) and F(1))."
   ]
  },
  {
   "cell_type": "code",
   "execution_count": 6,
   "metadata": {},
   "outputs": [
    {
     "name": "stdout",
     "output_type": "stream",
     "text": [
      "7778742049\n"
     ]
    }
   ],
   "source": [
    "#Memoization Top-Down\n",
    "def fib(n, memo={}):\n",
    "    if n in memo:\n",
    "        return memo[n]\n",
    "    if n < 2:\n",
    "        return n\n",
    "    memo[n] = fib(n-1, memo) + fib(n-2, memo)\n",
    "    return memo[n]\n",
    "\n",
    "print(fib(49))  "
   ]
  },
  {
   "cell_type": "markdown",
   "metadata": {},
   "source": [
    "### bottom-up\n",
    " In bottom-up, we start at the bottom (base cases) and work our way up to larger problems. This is done iteratively and also known as tabulation. Here is the bottom-up version of Fibonacci:"
   ]
  },
  {
   "cell_type": "code",
   "execution_count": 6,
   "metadata": {},
   "outputs": [
    {
     "name": "stdout",
     "output_type": "stream",
     "text": [
      "7778742049\n"
     ]
    }
   ],
   "source": [
    "#Tabulation Bottom-Up:\n",
    "def fib(n):\n",
    "    if n <= 1:\n",
    "        return n\n",
    "\n",
    "    table = [0] * (n + 1)\n",
    "    table[1] = 1\n",
    "\n",
    "    for i in range(2, n + 1):\n",
    "        table[i] = table[i - 1] + table[i - 2]\n",
    "    return table[n]\n",
    "\n",
    "print(fib(49))"
   ]
  },
  {
   "cell_type": "markdown",
   "metadata": {},
   "source": [
    "While it's a simplification, it's generally true that many dynamic programming (DP) problems can be categorized into two broad types:\n",
    "\n",
    "### Rabbit (Fibonacci-like or Sequence Problems): \n",
    "These problems involve computing sequences where each term is derived from one or more previous terms. \n",
    "\n",
    "Examples include:\n",
    "\n",
    "- Fibonacci sequence\n",
    "- Longest Common Subsequence\n",
    "- Longest Increasing Subsequence\n",
    "\n",
    "### Backpack (Knapsack-like or Optimization Problems): \n",
    "These problems involve optimizing a certain value subject to constraints.\n",
    "\n",
    "Examples include:\n",
    "\n",
    "- Knapsack problem\n",
    "- Coin Change problem\n",
    "- Partition problem\n",
    "\n",
    "\n",
    "However, dynamic programming is a versatile technique used to solve a wide variety of problems beyond these two categories, such as matrix chain multiplication, shortest paths in graphs, and more. The key aspect is the overlapping subproblems and optimal substructure properties, which allow these problems to be solved efficiently using DP."
   ]
  },
  {
   "cell_type": "markdown",
   "metadata": {},
   "source": [
    "### \"Rabbit Jumps\" \n",
    "\n",
    "problem is a classic dynamic programming problem that can be related to the Fibonacci sequence. The idea is to determine how many ways a rabbit can jump from the starting point (island 0) to the destination (island N), given that the rabbit can jump either 1 step or 2 steps at a time."
   ]
  }
 ],
 "metadata": {
  "kernelspec": {
   "display_name": "venv_alg",
   "language": "python",
   "name": "python3"
  },
  "language_info": {
   "codemirror_mode": {
    "name": "ipython",
    "version": 3
   },
   "file_extension": ".py",
   "mimetype": "text/x-python",
   "name": "python",
   "nbconvert_exporter": "python",
   "pygments_lexer": "ipython3",
   "version": "3.11.5"
  }
 },
 "nbformat": 4,
 "nbformat_minor": 2
}
