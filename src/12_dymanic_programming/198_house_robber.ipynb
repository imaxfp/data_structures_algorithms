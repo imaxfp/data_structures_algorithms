{
 "cells": [
  {
   "cell_type": "markdown",
   "metadata": {},
   "source": [
    "### 198. House Robber\n",
    "\n",
    "https://leetcode.com/problems/house-robber/description/\n",
    "\n",
    "https://www.youtube.com/watch?v=Y85dfkCSlP8\n",
    "\n"
   ]
  },
  {
   "cell_type": "code",
   "execution_count": 25,
   "metadata": {},
   "outputs": [
    {
     "name": "stdout",
     "output_type": "stream",
     "text": [
      "4\n"
     ]
    }
   ],
   "source": [
    "#Time Limit Exceeded\n",
    "\n",
    "from typing import List\n",
    "\n",
    "class Solution:\n",
    "    def rob(self, nums: List[int]) -> int:\n",
    "        #fixed_size_binary = binary_representation.zfill(len(arr))\n",
    "\n",
    "        subset_comb = 2 ** len(nums)\n",
    "        bin_arr = []\n",
    "        #1. generate bin nums length of 'arr' for all subset combination\n",
    "        for i in range(1, subset_comb):    \n",
    "            #Remove '0b' prefix\n",
    "            bin_num = bin(i)[2:].zfill(len(nums))\n",
    "            #2. Do not consider bin numbers where 11 close to each other\n",
    "            if '11' not in bin_num:\n",
    "                bin_arr.append(bin_num)\n",
    "\n",
    "        #3. map bin number 1 to the arr index\n",
    "        fin_sum = float('-inf')\n",
    "        for b_num in bin_arr:\n",
    "            tmp_sum = 0\n",
    "            for i in range(len(b_num)):\n",
    "                #4. sum all nums by arr indexes\n",
    "                if b_num[i] == '1':\n",
    "                    tmp_sum+=nums[i]\n",
    "            #5. find max sum    \n",
    "            fin_sum = max(fin_sum, tmp_sum)\n",
    "            tmp_sum = 0    \n",
    "        return fin_sum     \n",
    "\n",
    "print(Solution().rob([2,1,1,2]))"
   ]
  },
  {
   "cell_type": "code",
   "execution_count": 31,
   "metadata": {},
   "outputs": [
    {
     "name": "stdout",
     "output_type": "stream",
     "text": [
      "4\n"
     ]
    }
   ],
   "source": [
    "# Memory Limit Exceeded\n",
    "\n",
    "from typing import List\n",
    "\n",
    "class Solution:\n",
    "    \n",
    "    def __init__(self) -> None:\n",
    "        self.result = []\n",
    "        \n",
    "    def generate_combinations_backtrack(self, n):\n",
    "        def backtrack(arr, pos):\n",
    "            if pos == n:\n",
    "                self.result.append(arr[:])\n",
    "                return\n",
    "            \n",
    "            # Try placing 0 at the current position\n",
    "            arr[pos] = 0\n",
    "            backtrack(arr, pos + 1)\n",
    "            \n",
    "            # Try placing 1 at the current position if the previous one is not 1\n",
    "            if pos == 0 or arr[pos - 1] == 0:\n",
    "                arr[pos] = 1\n",
    "                backtrack(arr, pos + 1)\n",
    "        \n",
    "        \n",
    "        backtrack([0] * n, 0)\n",
    "        return self.result\n",
    "    \n",
    "    \n",
    "    def rob(self, nums: List[int]) -> int:\n",
    "        #fixed_size_binary = binary_representation.zfill(len(arr))\n",
    "\n",
    "        #3. map bin number 1 to the arr index        \n",
    "        bin_arr = self.generate_combinations_backtrack(len(nums)) \n",
    "         \n",
    "        fin_sum = float('-inf')\n",
    "        for b_num in bin_arr:\n",
    "            tmp_sum = 0\n",
    "            for i in range(len(b_num)):\n",
    "                #4. sum all nums by arr indexes\n",
    "                if b_num[i] == 1:\n",
    "                    tmp_sum+=nums[i]\n",
    "            #5. find max sum    \n",
    "            fin_sum = max(fin_sum, tmp_sum)\n",
    "            tmp_sum = 0    \n",
    "        return fin_sum    \n",
    "\n",
    "\n",
    "\n",
    "print(Solution().rob([2,1,1,2]))"
   ]
  },
  {
   "cell_type": "code",
   "execution_count": 28,
   "metadata": {},
   "outputs": [
    {
     "name": "stdout",
     "output_type": "stream",
     "text": [
      "4\n"
     ]
    }
   ],
   "source": [
    "# Memory Limit Exceeded\n",
    "from typing import List\n",
    "\n",
    "class Solution:\n",
    "    \n",
    "    def generate_combinations_dp(self, n):\n",
    "        def dp(pos, prev):\n",
    "            if pos == n:\n",
    "                return [[]]\n",
    "            if (pos, prev) in memo:\n",
    "                return memo[(pos, prev)]\n",
    "            \n",
    "            result = []\n",
    "            for comb in dp(pos + 1, 0):\n",
    "                result.append([0] + comb)\n",
    "            if prev == 0:\n",
    "                for comb in dp(pos + 1, 1):\n",
    "                    result.append([1] + comb)\n",
    "            \n",
    "            memo[(pos, prev)] = result\n",
    "            return result\n",
    "        \n",
    "        memo = {}\n",
    "        return dp(0, 0)    \n",
    "    \n",
    "    def rob(self, nums: List[int]) -> int:\n",
    "        #fixed_size_binary = binary_representation.zfill(len(arr))\n",
    "\n",
    "        #3. map bin number 1 to the arr index        \n",
    "        bin_arr = self.generate_combinations_dp(len(nums)) \n",
    "         \n",
    "        fin_sum = float('-inf')\n",
    "        for b_num in bin_arr:\n",
    "            tmp_sum = 0\n",
    "            for i in range(len(b_num)):\n",
    "                #4. sum all nums by arr indexes\n",
    "                if b_num[i] == 1:\n",
    "                    tmp_sum+=nums[i]\n",
    "            #5. find max sum    \n",
    "            fin_sum = max(fin_sum, tmp_sum)\n",
    "            tmp_sum = 0    \n",
    "        return fin_sum    \n",
    "\n",
    "print(Solution().rob([2,1,1,2]))"
   ]
  },
  {
   "cell_type": "code",
   "execution_count": null,
   "metadata": {},
   "outputs": [],
   "source": [
    "#Working solution (no extra memory usage)\n"
   ]
  }
 ],
 "metadata": {
  "kernelspec": {
   "display_name": "venv_alg",
   "language": "python",
   "name": "python3"
  },
  "language_info": {
   "codemirror_mode": {
    "name": "ipython",
    "version": 3
   },
   "file_extension": ".py",
   "mimetype": "text/x-python",
   "name": "python",
   "nbconvert_exporter": "python",
   "pygments_lexer": "ipython3",
   "version": "3.11.5"
  }
 },
 "nbformat": 4,
 "nbformat_minor": 2
}
