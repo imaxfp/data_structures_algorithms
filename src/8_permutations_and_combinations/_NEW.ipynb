{
 "cells": [
  {
   "cell_type": "markdown",
   "metadata": {},
   "source": [
    "46. Permutations\n",
    "\n",
    "Given an array nums of distinct integers, return all the possible permutations. You can return the answer in any order."
   ]
  },
  {
   "cell_type": "code",
   "execution_count": null,
   "metadata": {
    "vscode": {
     "languageId": "plaintext"
    }
   },
   "outputs": [],
   "source": []
  }
 ],
 "metadata": {
  "language_info": {
   "name": "python"
  }
 },
 "nbformat": 4,
 "nbformat_minor": 2
}
