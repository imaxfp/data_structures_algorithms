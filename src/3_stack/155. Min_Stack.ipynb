{
 "cells": [
  {
   "cell_type": "markdown",
   "metadata": {},
   "source": [
    "### 155. Min Stack\n",
    "https://leetcode.com/problems/min-stack/description/\n"
   ]
  },
  {
   "cell_type": "code",
   "execution_count": null,
   "metadata": {},
   "outputs": [],
   "source": [
    "class MinStack:\n",
    "\n",
    "    def __init__(self):\n",
    "        self.stack = []\n",
    "        self.min_stack = []\n",
    "        \n",
    "    def push(self, val: int) -> None:\n",
    "        if len(self.min_stack) == 0 or val <= self.min_stack[-1]:\n",
    "            self.min_stack.append(val)\n",
    "        self.stack.append(val)     \n",
    "        \n",
    "    def pop(self) -> None:\n",
    "        tail = self.stack.pop()\n",
    "        if tail == self.min_stack[-1]:\n",
    "            self.min_stack.pop()\n",
    "        return tail \n",
    "        \n",
    "    def top(self) -> int:        \n",
    "        return self.stack[-1]\n",
    "        \n",
    "    def getMin(self) -> int:\n",
    "        return self.min_stack[-1]"
   ]
  }
 ],
 "metadata": {
  "kernelspec": {
   "display_name": "venv_alg",
   "language": "python",
   "name": "python3"
  },
  "language_info": {
   "codemirror_mode": {
    "name": "ipython",
    "version": 3
   },
   "file_extension": ".py",
   "mimetype": "text/x-python",
   "name": "python",
   "nbconvert_exporter": "python",
   "pygments_lexer": "ipython3",
   "version": "3.11.5"
  }
 },
 "nbformat": 4,
 "nbformat_minor": 2
}
