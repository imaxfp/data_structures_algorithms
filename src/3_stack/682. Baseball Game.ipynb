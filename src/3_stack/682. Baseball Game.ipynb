{
 "cells": [
  {
   "cell_type": "markdown",
   "metadata": {},
   "source": [
    "### 682. Baseball Game\n",
    "\n",
    "https://leetcode.com/problems/baseball-game/description"
   ]
  },
  {
   "cell_type": "code",
   "execution_count": 9,
   "metadata": {},
   "outputs": [
    {
     "data": {
      "text/plain": [
       "30"
      ]
     },
     "execution_count": 9,
     "metadata": {},
     "output_type": "execute_result"
    }
   ],
   "source": [
    "from typing import List\n",
    "\n",
    "\n",
    "class Solution:\n",
    "    def calPoints(self, operations: List[str]) -> int:\n",
    "        #1. stack with rules \n",
    "        #2. if statement for processing stack \n",
    "        \n",
    "        stack = []\n",
    "        for op in operations:\n",
    "            if op.lstrip('-').isdigit():\n",
    "                stack.append(int(op))\n",
    "            #\"C\" - Invalidate and remove the previous score\n",
    "            elif op == 'C':\n",
    "                stack.pop()\n",
    "            #'D'. Record a new score that is the double of the previous score.    \n",
    "            elif op == 'D':                \n",
    "                stack.append(stack[-1] * 2)\n",
    "            elif len(stack) > 1 and op == '+':\n",
    "                stack.append(stack[-1] + stack[-2])\n",
    "        return sum(stack)            \n",
    "                \n",
    "#Input: ops = [\"5\",\"-2\",\"4\",\"C\",\"D\",\"9\",\"+\",\"+\"]\n",
    "#Output: 27\n",
    "Solution().calPoints([\"5\",\"-2\",\"4\",\"C\",\"D\",\"9\",\"+\",\"+\"])\n",
    "\n",
    "#Input: ops = [\"5\",\"2\",\"C\",\"D\",\"+\"]\n",
    "#Output: 30                \n",
    "Solution().calPoints([\"5\",\"2\",\"C\",\"D\",\"+\"])"
   ]
  }
 ],
 "metadata": {
  "kernelspec": {
   "display_name": "venv_alg",
   "language": "python",
   "name": "python3"
  },
  "language_info": {
   "codemirror_mode": {
    "name": "ipython",
    "version": 3
   },
   "file_extension": ".py",
   "mimetype": "text/x-python",
   "name": "python",
   "nbconvert_exporter": "python",
   "pygments_lexer": "ipython3",
   "version": "3.11.5"
  }
 },
 "nbformat": 4,
 "nbformat_minor": 2
}
