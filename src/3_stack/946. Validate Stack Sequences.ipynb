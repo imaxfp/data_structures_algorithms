{
 "cells": [
  {
   "cell_type": "markdown",
   "metadata": {},
   "source": [
    "### 946. Validate Stack Sequences\n",
    "\n",
    "https://leetcode.com/problems/validate-stack-sequences/description/\n",
    "\n",
    "14:01 - 14:30"
   ]
  },
  {
   "cell_type": "code",
   "execution_count": 1,
   "metadata": {},
   "outputs": [
    {
     "name": "stdout",
     "output_type": "stream",
     "text": [
      "True\n",
      "True\n",
      "False\n"
     ]
    }
   ],
   "source": [
    "from typing import List\n",
    "\n",
    "\n",
    "#TASK\n",
    "# true if this could have been the result of a sequence of push and pop operations on an initially empty stack, \n",
    "# or false otherwise.\n",
    "\n",
    "\n",
    "class Solution:\n",
    "    def validateStackSequences(self, pushed: List[int], popped: List[int]) -> bool:\n",
    "        pushed_stack = []\n",
    "        #1. go thrue popped if popped == pushed - stack.pop()\n",
    "        #2. else stack.push\n",
    "        #3. return len(stack) == 0\n",
    "        i = 0 \n",
    "        for p in pushed:     \n",
    "            pushed_stack.append(p)                                \n",
    "            while pushed_stack and pushed_stack[-1] == popped[i]:\n",
    "                i+=1\n",
    "                pushed_stack.pop()\n",
    "                                               \n",
    "        return len(pushed_stack) == 0                \n",
    "                                \n",
    "#pushed = [2,1,0]        \n",
    "#popped = [1,2,0]\n",
    "#Expected true\n",
    "print(Solution().validateStackSequences([2,1,0], [1,2,0]))     \n",
    "\n",
    "#Input: pushed = [1,2,3,4,5], popped = [4,5,3,2,1]\n",
    "#Output: true   \n",
    "print(Solution().validateStackSequences([1,2,3,4,5], [4,5,3,2,1]))     \n",
    "\n",
    "#Input: pushed = [1,2,3,4,5], popped = [4,3,5,1,2]\n",
    "#Output: false \n",
    "print(Solution().validateStackSequences([1,2,3,4,5], [4,3,5,1,2]))"
   ]
  }
 ],
 "metadata": {
  "kernelspec": {
   "display_name": "venv_alg",
   "language": "python",
   "name": "python3"
  },
  "language_info": {
   "codemirror_mode": {
    "name": "ipython",
    "version": 3
   },
   "file_extension": ".py",
   "mimetype": "text/x-python",
   "name": "python",
   "nbconvert_exporter": "python",
   "pygments_lexer": "ipython3",
   "version": "3.11.5"
  }
 },
 "nbformat": 4,
 "nbformat_minor": 2
}
