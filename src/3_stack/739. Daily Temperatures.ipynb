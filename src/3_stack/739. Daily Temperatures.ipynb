{
 "cells": [
  {
   "cell_type": "markdown",
   "metadata": {
    "vscode": {
     "languageId": "plaintext"
    }
   },
   "source": [
    "### 739. Daily Temperatures\n",
    "\n",
    "https://leetcode.com/problems/daily-temperatures/description"
   ]
  },
  {
   "cell_type": "code",
   "execution_count": 10,
   "metadata": {},
   "outputs": [
    {
     "name": "stdout",
     "output_type": "stream",
     "text": [
      "[1, 1, 4, 2, 1, 1, 0, 0]\n"
     ]
    }
   ],
   "source": [
    "from typing import List\n",
    "\n",
    "\n",
    "class Solution:\n",
    "    def dailyTemperatures(self, temperatures: List[int]) -> List[int]:\n",
    "        res = [0] * len(temperatures) \n",
    "        monotonic = []\n",
    "        #Monotonic stack\n",
    "        # 1. Go via arr and put to the stask num with index if stack[-1] > temperatures[i]\n",
    "        # 2. pop while stack[-1] < temperatures[i], res[i] = i - stack(index)\n",
    "        for i in range(0, len(temperatures)):                                    \n",
    "            while monotonic and temperatures[i] > monotonic[-1][0]:                \n",
    "                el = monotonic.pop()\n",
    "                res[el[1]] = i - el[1] \n",
    "                \n",
    "            monotonic.append((temperatures[i], i))    \n",
    "                    \n",
    "        return res\n",
    "\n",
    "#Input: temperatures = [73,74,75,71,69,72,76,73]\n",
    "#Output: [1,1,4,2,1,1,0,0]\n",
    "print(Solution().dailyTemperatures([73,74,75,71,69,72,76,73]))"
   ]
  }
 ],
 "metadata": {
  "kernelspec": {
   "display_name": "venv_alg",
   "language": "python",
   "name": "python3"
  },
  "language_info": {
   "codemirror_mode": {
    "name": "ipython",
    "version": 3
   },
   "file_extension": ".py",
   "mimetype": "text/x-python",
   "name": "python",
   "nbconvert_exporter": "python",
   "pygments_lexer": "ipython3",
   "version": "3.11.5"
  }
 },
 "nbformat": 4,
 "nbformat_minor": 2
}
