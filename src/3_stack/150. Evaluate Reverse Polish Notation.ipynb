{
 "cells": [
  {
   "cell_type": "markdown",
   "metadata": {},
   "source": [
    "### 150. Evaluate Reverse Polish Notation\n",
    "\n",
    "https://leetcode.com/problems/evaluate-reverse-polish-notation/description"
   ]
  },
  {
   "cell_type": "code",
   "execution_count": 11,
   "metadata": {},
   "outputs": [
    {
     "name": "stdout",
     "output_type": "stream",
     "text": [
      "9\n",
      "6\n",
      "22\n"
     ]
    }
   ],
   "source": [
    "from typing import List\n",
    "\n",
    "\n",
    "class Solution:    \n",
    "    def evalRPN(self, tokens: List[str]) -> int:\n",
    "        res = []\n",
    "        for t in tokens:\n",
    "            if len(res) > 1 and t == '+':\n",
    "                res.append(res.pop() + res.pop())\n",
    "                \n",
    "            elif len(res) > 1 and t == '*':\n",
    "                res.append(res.pop() * res.pop())\n",
    "\n",
    "            elif len(res) > 1 and t == '-':\n",
    "                last = res.pop()\n",
    "                prev = res.pop() \n",
    "                res.append(prev - last)\n",
    "                \n",
    "            elif len(res) > 1 and t == '/':\n",
    "                last = res.pop()\n",
    "                prev = res.pop() \n",
    "                res.append(int(prev / last))\n",
    "                \n",
    "            else:\n",
    "                res.append(int(t))\n",
    "                \n",
    "        return res[-1] \n",
    "\n",
    "\n",
    "#Input: tokens = [\"2\",\"1\",\"+\",\"3\",\"*\"]\n",
    "#Output: 9\n",
    "#Explanation: ((2 + 1) * 3) = 9\n",
    "print(Solution().evalRPN([\"2\",\"1\",\"+\",\"3\",\"*\"]))\n",
    "\n",
    "#Input: tokens = [\"4\",\"13\",\"5\",\"/\",\"+\"]\n",
    "#Output: 6\n",
    "#Explanation: (4 + (13 / 5)) = 6    \n",
    "print(Solution().evalRPN([\"4\",\"13\",\"5\",\"/\",\"+\"]))\n",
    "\n",
    "#Input: tokens = [\"10\",\"6\",\"9\",\"3\",\"+\",\"-11\",\"*\",\"/\",\"*\",\"17\",\"+\",\"5\",\"+\"]\n",
    "#Output: 22\n",
    "print(Solution().evalRPN([\"10\",\"6\",\"9\",\"3\",\"+\",\"-11\",\"*\",\"/\",\"*\",\"17\",\"+\",\"5\",\"+\"]))"
   ]
  }
 ],
 "metadata": {
  "kernelspec": {
   "display_name": "venv_alg",
   "language": "python",
   "name": "python3"
  },
  "language_info": {
   "codemirror_mode": {
    "name": "ipython",
    "version": 3
   },
   "file_extension": ".py",
   "mimetype": "text/x-python",
   "name": "python",
   "nbconvert_exporter": "python",
   "pygments_lexer": "ipython3",
   "version": "3.11.5"
  }
 },
 "nbformat": 4,
 "nbformat_minor": 2
}
