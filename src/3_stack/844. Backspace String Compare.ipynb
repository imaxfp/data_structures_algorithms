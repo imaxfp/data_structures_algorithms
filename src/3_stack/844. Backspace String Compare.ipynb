{
 "cells": [
  {
   "cell_type": "markdown",
   "metadata": {},
   "source": [
    "### 844. Backspace String Compare\n",
    "\n",
    "https://leetcode.com/problems/backspace-string-compare/description/\n"
   ]
  },
  {
   "cell_type": "code",
   "execution_count": 1,
   "metadata": {},
   "outputs": [],
   "source": [
    "class Solution:\n",
    "    def backspaceCompare(self, s: str, t: str) -> bool:\n",
    "        #s = \"y#fo##f\" -> f\n",
    "        #t = \"y#f#o##f\"\n",
    "        def processText(s, backspace_char):\n",
    "            stack = []\n",
    "            for cs in s:\n",
    "                if stack and cs == backspace_char:                    \n",
    "                    stack.pop()\n",
    "                elif cs != backspace_char:\n",
    "                    stack.append(cs)   \n",
    "            return stack        \n",
    "\n",
    "        stack1 = processText(s, \"#\")                \n",
    "        stack2 = processText(t, \"#\")\n",
    "\n",
    "        return stack1 == stack2"
   ]
  }
 ],
 "metadata": {
  "kernelspec": {
   "display_name": "venv_alg",
   "language": "python",
   "name": "python3"
  },
  "language_info": {
   "codemirror_mode": {
    "name": "ipython",
    "version": 3
   },
   "file_extension": ".py",
   "mimetype": "text/x-python",
   "name": "python",
   "nbconvert_exporter": "python",
   "pygments_lexer": "ipython3",
   "version": "3.11.5"
  }
 },
 "nbformat": 4,
 "nbformat_minor": 2
}
