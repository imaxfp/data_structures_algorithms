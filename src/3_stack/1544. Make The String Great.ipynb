{
 "cells": [
  {
   "cell_type": "markdown",
   "metadata": {},
   "source": [
    "### 1544. Make The String Great\n",
    "\n",
    "https://leetcode.com/problems/make-the-string-great/description\n",
    "\n"
   ]
  },
  {
   "cell_type": "code",
   "execution_count": 6,
   "metadata": {},
   "outputs": [
    {
     "name": "stdout",
     "output_type": "stream",
     "text": [
      "leetcode\n"
     ]
    }
   ],
   "source": [
    "class Solution:\n",
    "    def makeGood(self, s: str) -> str:\n",
    "        # doesn't have two adjacent characters s[i] and s[i + 1]\n",
    "        stack = []        \n",
    "        #\"leEeetcode\"\n",
    "        for c in s:\n",
    "            #c = c.lower()\n",
    "            #if stack and c.lower() == stack[-1].lower():\n",
    "                #the same case \n",
    "            #    if c.islower() and stack[-1].islower() or c.isupper() and stack[-1].isupper():\n",
    "            #        stack.append(c)                     \n",
    "                #oposite case\n",
    "                \n",
    "            if stack and (stack[-1] == c.swapcase()):                \n",
    "                stack.pop()\n",
    "                            \n",
    "            else:           \n",
    "                stack.append(c)\n",
    "                                                                \n",
    "        return \"\".join(stack)     \n",
    "    \n",
    "print(Solution().makeGood(\"leEeetcode\"))    \n"
   ]
  }
 ],
 "metadata": {
  "kernelspec": {
   "display_name": "venv_alg",
   "language": "python",
   "name": "python3"
  },
  "language_info": {
   "codemirror_mode": {
    "name": "ipython",
    "version": 3
   },
   "file_extension": ".py",
   "mimetype": "text/x-python",
   "name": "python",
   "nbconvert_exporter": "python",
   "pygments_lexer": "ipython3",
   "version": "3.11.5"
  }
 },
 "nbformat": 4,
 "nbformat_minor": 2
}
