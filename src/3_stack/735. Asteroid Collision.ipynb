{
 "cells": [
  {
   "cell_type": "markdown",
   "metadata": {},
   "source": [
    "### 735. Asteroid Collision\n",
    "\n",
    "https://leetcode.com/problems/asteroid-collision/description/"
   ]
  },
  {
   "cell_type": "code",
   "execution_count": 16,
   "metadata": {},
   "outputs": [
    {
     "name": "stdout",
     "output_type": "stream",
     "text": [
      "[5, 10]\n",
      "[-2, -1, 1, 2]\n"
     ]
    }
   ],
   "source": [
    "from typing import List\n",
    "\n",
    "\n",
    "#TASK\n",
    "#1. value - represents its size\n",
    "#2. sign - represents its direction (positive meaning right, negative meaning left)\n",
    "#3. Each asteroid moves at the same speed. Do not have a case when ONE asteroid \"run away\"\n",
    "\n",
    "#1. If two asteroids meet, the smaller one will explode.\n",
    "#2. If both are the same size, both will explode.\n",
    "#3. Two asteroids moving in the same direction will never meet.\n",
    "\n",
    "\n",
    "class Solution:\n",
    "    def asteroidCollision(self, asteroids: List[int]) -> List[int]:\n",
    "            \n",
    "        asteroids_stack = []\n",
    "        # [-2,-1,1,2]\n",
    "        for aster in asteroids:                        \n",
    "            #1. asteroids moves to the each other - (positive meaning right, negative meaning left)  \n",
    "            while aster and asteroids_stack and asteroids_stack[-1] > 0 and aster < 0:\n",
    "                #Colide both asteroids \n",
    "                if abs(asteroids_stack[-1]) == abs(aster):\n",
    "                    aster=None                        \n",
    "                    asteroids_stack.pop()\n",
    "                    #colide new asteroid    \n",
    "                elif abs(aster) < abs(asteroids_stack[-1]):\n",
    "                    aster=None \n",
    "                    #colide asteroid in the stack\n",
    "                else:\n",
    "                    asteroids_stack.pop()                            \n",
    "                            \n",
    "            if aster:\n",
    "                asteroids_stack.append(aster)\n",
    "                                    \n",
    "        return asteroids_stack        \n",
    "    \n",
    "        \n",
    "#Input: asteroids = [5,10,-5]\n",
    "#Output: [5,10]   \n",
    "print(Solution().asteroidCollision([5,10,-5]))\n",
    "\n",
    "\n",
    "#Asteroids = [-2,-1,1,2]\n",
    "#Expected = [-2,-1,1,2]\n",
    "print(Solution().asteroidCollision([-2,-1,1,2]))"
   ]
  }
 ],
 "metadata": {
  "kernelspec": {
   "display_name": "venv_alg",
   "language": "python",
   "name": "python3"
  },
  "language_info": {
   "codemirror_mode": {
    "name": "ipython",
    "version": 3
   },
   "file_extension": ".py",
   "mimetype": "text/x-python",
   "name": "python",
   "nbconvert_exporter": "python",
   "pygments_lexer": "ipython3",
   "version": "3.11.5"
  }
 },
 "nbformat": 4,
 "nbformat_minor": 2
}
