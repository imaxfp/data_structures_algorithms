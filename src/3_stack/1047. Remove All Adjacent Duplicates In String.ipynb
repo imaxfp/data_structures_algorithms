{
 "cells": [
  {
   "cell_type": "markdown",
   "metadata": {},
   "source": [
    "### 1047. Remove All Adjacent Duplicates In String\n",
    "\n",
    "https://leetcode.com/problems/remove-all-adjacent-duplicates-in-string/description"
   ]
  },
  {
   "cell_type": "code",
   "execution_count": 6,
   "metadata": {},
   "outputs": [
    {
     "name": "stdout",
     "output_type": "stream",
     "text": [
      "ba\n"
     ]
    }
   ],
   "source": [
    "class Solution:\n",
    "    def removeDuplicates(self, s: str) -> str:        \n",
    "        stack = []\n",
    "        for ch in s:\n",
    "            if stack and stack[-1] == ch:\n",
    "                stack.pop()\n",
    "            else:                \n",
    "                stack.append(ch)\n",
    "        return \"\".join(stack)    \n",
    "\n",
    "##s = \"aababaab\"\n",
    "#Output\n",
    "#\"ab\"\n",
    "#Expected\n",
    "#\"ba\" \n",
    "print(Solution().removeDuplicates(\"aababaab\"))  "
   ]
  }
 ],
 "metadata": {
  "kernelspec": {
   "display_name": "venv_alg",
   "language": "python",
   "name": "python3"
  },
  "language_info": {
   "codemirror_mode": {
    "name": "ipython",
    "version": 3
   },
   "file_extension": ".py",
   "mimetype": "text/x-python",
   "name": "python",
   "nbconvert_exporter": "python",
   "pygments_lexer": "ipython3",
   "version": "3.11.5"
  }
 },
 "nbformat": 4,
 "nbformat_minor": 2
}
