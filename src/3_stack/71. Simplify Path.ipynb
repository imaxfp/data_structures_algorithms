{
 "cells": [
  {
   "cell_type": "markdown",
   "metadata": {},
   "source": [
    "### 71. Simplify Path\n",
    "\n",
    "https://leetcode.com/problems/simplify-path/description/\n"
   ]
  },
  {
   "cell_type": "code",
   "execution_count": 72,
   "metadata": {},
   "outputs": [
    {
     "name": "stdout",
     "output_type": "stream",
     "text": [
      "/\n",
      "/home/user/Pictures\n",
      "/home\n",
      "/.../b/d\n"
     ]
    }
   ],
   "source": [
    "class Solution:\n",
    "    def simplifyPath(self, path: str) -> str:                \n",
    "        # 1. split path by '/'\n",
    "        # 2. process cases        \n",
    "         \n",
    "        stack = []\n",
    "        path_splited = path.split(\"/\")\n",
    "        path_splited = list(filter(None, path_splited))\n",
    "                                \n",
    "        for path in path_splited:  \n",
    "            # Cases          \n",
    "            if path == \".\":\n",
    "                continue\n",
    "            if path == \"..\":\n",
    "                if stack:\n",
    "                    stack.pop()\n",
    "            else:\n",
    "                stack.append(path)  \n",
    "        \n",
    "        if not stack:\n",
    "            return \"/\"    \n",
    "        return \"\".join(list(map(lambda s: str(\"/\" + s), stack)))                                  \n",
    "\n",
    "#Input: path = \"/../\"\n",
    "#Output: \"/\"\n",
    "print(Solution().simplifyPath(\"/../\"))\n",
    "\n",
    "#Input: path = \"/home/user/Documents/../Pictures\"\n",
    "#Output: \"/home/user/Pictures\"\n",
    "print(Solution().simplifyPath(\"/home/user/Documents/../Pictures\"))\n",
    "\n",
    "#Output: \"/home\"    \n",
    "print(Solution().simplifyPath(\"/home/\"))\n",
    "\n",
    "#Input: path = \"/.../a/../b/c/../d/./\"\n",
    "#Output: \"/.../b/d\"\n",
    "print(Solution().simplifyPath(\"/.../a/../b/c/../d/./\"))"
   ]
  }
 ],
 "metadata": {
  "kernelspec": {
   "display_name": "venv_alg",
   "language": "python",
   "name": "python3"
  },
  "language_info": {
   "codemirror_mode": {
    "name": "ipython",
    "version": 3
   },
   "file_extension": ".py",
   "mimetype": "text/x-python",
   "name": "python",
   "nbconvert_exporter": "python",
   "pygments_lexer": "ipython3",
   "version": "3.11.5"
  }
 },
 "nbformat": 4,
 "nbformat_minor": 2
}
