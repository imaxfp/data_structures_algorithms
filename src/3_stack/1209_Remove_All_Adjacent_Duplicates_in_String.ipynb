{
 "cells": [
  {
   "cell_type": "code",
   "execution_count": null,
   "metadata": {},
   "outputs": [],
   "source": [
    "https://leetcode.com/problems/remove-all-adjacent-duplicates-in-string-ii/description/"
   ]
  },
  {
   "cell_type": "code",
   "execution_count": 12,
   "metadata": {},
   "outputs": [
    {
     "ename": "TypeError",
     "evalue": "Solution.removeDuplicatesStack() takes 2 positional arguments but 3 were given",
     "output_type": "error",
     "traceback": [
      "\u001b[0;31m---------------------------------------------------------------------------\u001b[0m",
      "\u001b[0;31mTypeError\u001b[0m                                 Traceback (most recent call last)",
      "Cell \u001b[0;32mIn[12], line 40\u001b[0m\n\u001b[1;32m     35\u001b[0m         \u001b[38;5;66;03m# Reconstruct the string from characters in the stack\u001b[39;00m\n\u001b[1;32m     36\u001b[0m         \u001b[38;5;28;01mreturn\u001b[39;00m \u001b[38;5;124m'\u001b[39m\u001b[38;5;124m'\u001b[39m\u001b[38;5;241m.\u001b[39mjoin(char \u001b[38;5;28;01mfor\u001b[39;00m char, count \u001b[38;5;129;01min\u001b[39;00m stack)\n\u001b[0;32m---> 40\u001b[0m \u001b[43mSolution\u001b[49m\u001b[43m(\u001b[49m\u001b[43m)\u001b[49m\u001b[38;5;241;43m.\u001b[39;49m\u001b[43mremoveDuplicatesStack\u001b[49m\u001b[43m(\u001b[49m\u001b[38;5;124;43m\"\u001b[39;49m\u001b[38;5;124;43mpbbcggttciiippooaais\u001b[39;49m\u001b[38;5;124;43m\"\u001b[39;49m\u001b[43m,\u001b[49m\u001b[43m \u001b[49m\u001b[38;5;241;43m2\u001b[39;49m\u001b[43m)\u001b[49m \n\u001b[1;32m     41\u001b[0m Solution()\u001b[38;5;241m.\u001b[39mremoveDuplicatesStack(\u001b[38;5;124m\"\u001b[39m\u001b[38;5;124mdeeedbbcccbdaa\u001b[39m\u001b[38;5;124m\"\u001b[39m, \u001b[38;5;241m3\u001b[39m)  \n\u001b[1;32m     42\u001b[0m Solution()\u001b[38;5;241m.\u001b[39mremoveDuplicatesStack(\u001b[38;5;124m\"\u001b[39m\u001b[38;5;124mabcd\u001b[39m\u001b[38;5;124m\"\u001b[39m, \u001b[38;5;241m2\u001b[39m)    \n",
      "\u001b[0;31mTypeError\u001b[0m: Solution.removeDuplicatesStack() takes 2 positional arguments but 3 were given"
     ]
    }
   ],
   "source": [
    "# TODO in works but \"Time Limit Exceeded\"\n",
    "\n",
    "class Solution:\n",
    "    def removeDuplicates(self, s: str, k: int) -> str:\n",
    "        #1. go thry the arr with fixed window size\n",
    "        #2. remove window if all elements the same\n",
    "        #3. repit while k < len(s) or do not have any replace \n",
    "        right = k\n",
    "        left = 0\n",
    "        while right <= len(s):\n",
    "            if len(set(s[left:right])) == 1:\n",
    "                s = s.replace(s[left:right], \"\")\n",
    "                left = 0\n",
    "                right = k\n",
    "            else:\n",
    "                left+=1    \n",
    "                right+=1\n",
    "        return s\n",
    "\n",
    "    def removeDuplicatesStack(s: str, k: int) -> str:\n",
    "        stack = []  # This stack will store tuples of (character, current consecutive count)\n",
    "        \n",
    "        for char in s:\n",
    "            if stack and stack[-1][0] == char:\n",
    "                # If the current character is the same as the one on top of the stack, increment the count\n",
    "                stack.append((char, stack[-1][1] + 1))\n",
    "                # If we reach `k` consecutive characters, remove them\n",
    "                if stack[-1][1] == k:\n",
    "                    for _ in range(k):\n",
    "                        stack.pop()\n",
    "            else:\n",
    "                # Otherwise, add the new character with a count of 1\n",
    "                stack.append((char, 1))\n",
    "        \n",
    "        # Reconstruct the string from characters in the stack\n",
    "        return ''.join(char for char, count in stack)\n",
    "\n",
    "       \n",
    "\n",
    "Solution().removeDuplicatesStack(\"pbbcggttciiippooaais\", 2) \n",
    "Solution().removeDuplicatesStack(\"deeedbbcccbdaa\", 3)  \n",
    "Solution().removeDuplicatesStack(\"abcd\", 2)    \n",
    "\n"
   ]
  },
  {
   "cell_type": "code",
   "execution_count": null,
   "metadata": {},
   "outputs": [],
   "source": [
    "# USE Monotonic Stack algorithm \n",
    "# Monotonic Stack maintaining elements in either non-increasing or non-decreasing order\n",
    "# https://www.geeksforgeeks.org/introduction-to-monotonic-stack-data-structure-and-algorithm-tutorials/\n",
    "\n",
    "\n"
   ]
  }
 ],
 "metadata": {
  "kernelspec": {
   "display_name": "venv_alg",
   "language": "python",
   "name": "python3"
  },
  "language_info": {
   "codemirror_mode": {
    "name": "ipython",
    "version": 3
   },
   "file_extension": ".py",
   "mimetype": "text/x-python",
   "name": "python",
   "nbconvert_exporter": "python",
   "pygments_lexer": "ipython3",
   "version": "3.11.5"
  }
 },
 "nbformat": 4,
 "nbformat_minor": 2
}
