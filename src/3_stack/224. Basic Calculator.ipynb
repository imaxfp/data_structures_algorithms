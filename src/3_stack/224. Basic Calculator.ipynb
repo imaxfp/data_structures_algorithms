{
 "cells": [
  {
   "cell_type": "markdown",
   "metadata": {},
   "source": [
    "### 224. Basic Calculator\n",
    "\n",
    "https://leetcode.com/problems/basic-calculator/description/\n"
   ]
  },
  {
   "cell_type": "code",
   "execution_count": 42,
   "metadata": {},
   "outputs": [
    {
     "name": "stdout",
     "output_type": "stream",
     "text": [
      "-1\n",
      "3\n",
      "2147483647\n",
      "1\n",
      "4\n",
      "3\n",
      "23\n"
     ]
    }
   ],
   "source": [
    "from collections import deque\n",
    "\n",
    "class Solution:\n",
    "    def calculate(self, s: str) -> int:\n",
    "        # Initialize stack and necessary variables\n",
    "        stack = deque()\n",
    "        current_number = 0\n",
    "        result = 0\n",
    "        sign = 1  # Represents '+' initially\n",
    "        \n",
    "        i = 0\n",
    "        while i < len(s):\n",
    "            char = s[i]\n",
    "            \n",
    "            if char.isdigit():\n",
    "                # Form the current number (handle multi-digit numbers)\n",
    "                current_number = 0\n",
    "                while i < len(s) and s[i].isdigit():\n",
    "                    current_number = current_number * 10 + int(s[i])\n",
    "                    i += 1\n",
    "                # Apply the last sign to the current number\n",
    "                result += sign * current_number\n",
    "                # Decrement i because it will be incremented at the end of the loop\n",
    "                i -= 1\n",
    "                \n",
    "            elif char == '+':\n",
    "                sign = 1\n",
    "                \n",
    "            elif char == '-':\n",
    "                sign = -1\n",
    "                \n",
    "            elif char == '(':\n",
    "                # Push the current result and sign onto the stack\n",
    "                stack.append(result)\n",
    "                stack.append(sign)\n",
    "                # Reset the result and sign for the new expression\n",
    "                result = 0\n",
    "                sign = 1\n",
    "                \n",
    "            elif char == ')':\n",
    "                # Complete the current expression and apply the sign before the parentheses\n",
    "                result = stack.pop() * result + stack.pop()\n",
    "            \n",
    "            # Move to the next character\n",
    "            i += 1\n",
    "        \n",
    "        return result\n",
    "                 \n",
    "\n",
    "#s = \n",
    "print(Solution().calculate(\"-2+ 1\"))\n",
    "\n",
    "print(Solution().calculate(\"1-(     -2)\"))\n",
    "\n",
    "#s = \"2147483647\"\n",
    "print(Solution().calculate(\"2147483647\")) \n",
    "\n",
    "#s = \"(1)\"\n",
    "print(Solution().calculate(\"(1)\")) \n",
    "                \n",
    "#Input: s = \"1 + 1\"\n",
    "#Output: 2\n",
    "#Example 2:\n",
    "print(Solution().calculate(\"1 + 1 + 2\")) \n",
    "\n",
    "#Input: s = \" 2-1 + 2 \"\n",
    "#Output: 3\n",
    "#Example 3:\n",
    "print(Solution().calculate(\" 2-1 + 2 \")) \n",
    "\n",
    "#Input: s = \"(1+(4+5+2)-3)+(6+8)\"\n",
    "#Output: 23   \n",
    "print(Solution().calculate(\"(1+(4+5+2)-3)+(6+8)\")) \n"
   ]
  }
 ],
 "metadata": {
  "kernelspec": {
   "display_name": "venv_alg",
   "language": "python",
   "name": "python3"
  },
  "language_info": {
   "codemirror_mode": {
    "name": "ipython",
    "version": 3
   },
   "file_extension": ".py",
   "mimetype": "text/x-python",
   "name": "python",
   "nbconvert_exporter": "python",
   "pygments_lexer": "ipython3",
   "version": "3.11.5"
  }
 },
 "nbformat": 4,
 "nbformat_minor": 2
}
