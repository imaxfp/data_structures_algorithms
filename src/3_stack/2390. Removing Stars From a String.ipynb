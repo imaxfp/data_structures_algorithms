{
 "cells": [
  {
   "cell_type": "markdown",
   "metadata": {},
   "source": [
    "### 2390. Removing Stars From a String\n",
    "\n",
    "https://leetcode.com/problems/removing-stars-from-a-string/description/\n",
    "\n",
    "12:32 - 12:42"
   ]
  },
  {
   "cell_type": "code",
   "execution_count": 3,
   "metadata": {},
   "outputs": [
    {
     "name": "stdout",
     "output_type": "stream",
     "text": [
      "lecoe\n"
     ]
    }
   ],
   "source": [
    "#TASK\n",
    "# 1. Choose a star in s.\n",
    "# 2. Remove the closest non-star character to its left as well as remove the star itself.\n",
    "# 3. Return the string after all stars have been removed.\n",
    "\n",
    "class Solution:\n",
    "    def removeStars(self, s: str) -> str:\n",
    "        #1. itreate via 's' and push char to the stack if char is not *\n",
    "        #2. if *, pop from stack and ihtore *\n",
    "        stack = []\n",
    "        for c in s:\n",
    "            if stack and c == \"*\":\n",
    "                stack.pop()\n",
    "            else:\n",
    "                stack.append(c)\n",
    "        return \"\".join([x for x in stack])   \n",
    "    \n",
    "\"leet**cod*e\"\n",
    "\n",
    "#Input: s = \"leet**cod*e\"\n",
    "#Output: \"lecoe\"\n",
    "print(Solution().removeStars(\"leet**cod*e\"))"
   ]
  }
 ],
 "metadata": {
  "kernelspec": {
   "display_name": "venv_alg",
   "language": "python",
   "name": "python3"
  },
  "language_info": {
   "codemirror_mode": {
    "name": "ipython",
    "version": 3
   },
   "file_extension": ".py",
   "mimetype": "text/x-python",
   "name": "python",
   "nbconvert_exporter": "python",
   "pygments_lexer": "ipython3",
   "version": "3.11.5"
  }
 },
 "nbformat": 4,
 "nbformat_minor": 2
}
