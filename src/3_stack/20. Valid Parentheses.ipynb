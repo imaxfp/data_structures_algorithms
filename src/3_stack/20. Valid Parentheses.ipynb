{
 "cells": [
  {
   "cell_type": "markdown",
   "metadata": {},
   "source": [
    "### 20. Valid Parentheses\n",
    "\n",
    "https://leetcode.com/problems/valid-parentheses/description/\n"
   ]
  },
  {
   "cell_type": "code",
   "execution_count": 1,
   "metadata": {},
   "outputs": [
    {
     "name": "stdout",
     "output_type": "stream",
     "text": [
      "False\n",
      "True\n",
      "False\n"
     ]
    }
   ],
   "source": [
    "class Solution:\n",
    "    def isValid(self, s: str) -> bool:\n",
    "        stack = []\n",
    "        for c in s:                        \n",
    "            if not stack:                \n",
    "                stack.append(c)\n",
    "                continue                                             \n",
    "            if c == '}' and stack[-1] == '{':\n",
    "                stack.pop()\n",
    "                continue \n",
    "            if c == ')' and stack[-1] == '(':\n",
    "                stack.pop()\n",
    "                continue \n",
    "            if c == ']' and stack[-1] == '[':\n",
    "                stack.pop()    \n",
    "                continue \n",
    "            stack.append(c)\n",
    "                \n",
    "        return len(stack) == 0        \n",
    "\n",
    "s = \"(])\"              \n",
    "print(Solution().isValid(s))  \n",
    "\n",
    "s = \"()[]{}\"\n",
    "print(Solution().isValid(s))               \n",
    "\n",
    "s = \"()[]{}}}}\"\n",
    "print(Solution().isValid(s))"
   ]
  }
 ],
 "metadata": {
  "kernelspec": {
   "display_name": "venv_alg",
   "language": "python",
   "name": "python3"
  },
  "language_info": {
   "codemirror_mode": {
    "name": "ipython",
    "version": 3
   },
   "file_extension": ".py",
   "mimetype": "text/x-python",
   "name": "python",
   "nbconvert_exporter": "python",
   "pygments_lexer": "ipython3",
   "version": "3.11.5"
  }
 },
 "nbformat": 4,
 "nbformat_minor": 2
}
