{
 "cells": [
  {
   "cell_type": "markdown",
   "metadata": {},
   "source": [
    "### 238. Product of Array Except Self\n",
    "\n",
    "https://leetcode.com/problems/product-of-array-except-self/description/"
   ]
  },
  {
   "cell_type": "code",
   "execution_count": 16,
   "metadata": {},
   "outputs": [
    {
     "data": {
      "text/plain": [
       "[24, 12, 8, 6]"
      ]
     },
     "execution_count": 16,
     "metadata": {},
     "output_type": "execute_result"
    }
   ],
   "source": [
    "from typing import List\n",
    "\n",
    "\n",
    "class Solution:\n",
    "    def productExceptSelf(self, nums: List[int]) -> List[int]:\n",
    "        #calculate prefix product \n",
    "        l_multiplier = 1\n",
    "        r_multiplier = 1\n",
    "        l_arr = [0] * len(nums)\n",
    "        r_arr = [0] * len(nums)\n",
    "        \n",
    "        for i in range(0, len(nums)):\n",
    "            l_arr[i] = l_multiplier \n",
    "            l_multiplier = l_multiplier * nums[i]\n",
    "        \n",
    "        for i in range(len(nums)-1, -1, -1):\n",
    "            r_arr[i] = r_multiplier \n",
    "            r_multiplier = r_multiplier * nums[i]    \n",
    "        \n",
    "        return [x*y for x,y in zip(l_arr, r_arr)]\n",
    "\n",
    "\n",
    "#pref product of [1,2,3,4] => [1,2,6,24]\n",
    " \n",
    "#Input: nums = [1,2,3,4]\n",
    "#Output: [24,12,8,6]        \n",
    "Solution().productExceptSelf([1,2,3,4])"
   ]
  },
  {
   "cell_type": "code",
   "execution_count": 4,
   "metadata": {},
   "outputs": [
    {
     "data": {
      "text/plain": [
       "[24, 12, 8, 6]"
      ]
     },
     "execution_count": 4,
     "metadata": {},
     "output_type": "execute_result"
    }
   ],
   "source": [
    "from typing import List\n",
    "\n",
    "class Solution:\n",
    "    def productExceptSelf(self, nums: List[int]) -> List[int]:\n",
    "        # Step 1: Initialize result array with 1's to store the final product.\n",
    "        result = [1] * len(nums)\n",
    "        \n",
    "        # Step 2: Calculate the prefix product and store it directly in result.\n",
    "        prefix = 1\n",
    "        for i in range(len(nums)):\n",
    "            result[i] = prefix  # Store prefix product in result\n",
    "            prefix *= nums[i]   # Update prefix product\n",
    "            \n",
    "        # Step 3: Calculate the suffix product and update result array in place.\n",
    "        suffix = 1\n",
    "        for i in range(len(nums) - 1, -1, -1):\n",
    "            result[i] *= suffix  # Multiply by the suffix product\n",
    "            suffix *= nums[i]    # Update suffix product\n",
    "        return result    \n",
    "            \n",
    "#Input: nums = [1,2,3,4]\n",
    "#Output: [24,12,8,6]        \n",
    "Solution().productExceptSelf([1,2,3,4])            "
   ]
  }
 ],
 "metadata": {
  "kernelspec": {
   "display_name": "venv_alg",
   "language": "python",
   "name": "python3"
  },
  "language_info": {
   "codemirror_mode": {
    "name": "ipython",
    "version": 3
   },
   "file_extension": ".py",
   "mimetype": "text/x-python",
   "name": "python",
   "nbconvert_exporter": "python",
   "pygments_lexer": "ipython3",
   "version": "3.11.5"
  }
 },
 "nbformat": 4,
 "nbformat_minor": 2
}
