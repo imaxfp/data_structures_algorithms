{
 "cells": [
  {
   "cell_type": "markdown",
   "metadata": {},
   "source": [
    "### 746. Min Cost Climbing Stairs\n",
    "\n",
    "https://leetcode.com/problems/min-cost-climbing-stairs/description"
   ]
  },
  {
   "cell_type": "code",
   "execution_count": 10,
   "metadata": {},
   "outputs": [
    {
     "data": {
      "text/plain": [
       "6"
      ]
     },
     "execution_count": 10,
     "metadata": {},
     "output_type": "execute_result"
    }
   ],
   "source": [
    "#BOTTOM-UP\n",
    "from typing import List\n",
    "\n",
    "class Solution:\n",
    "    def minCostClimbingStairs(self, cost: List[int]) -> int:\n",
    "        if len(cost) == 1:\n",
    "            return cost[0]\n",
    "        \n",
    "        dp = [0] * len(cost)\n",
    "        dp[0] = cost[0]\n",
    "        dp[1] = cost[1]\n",
    "\n",
    "        for i in range(2, len(cost)):\n",
    "            dp[i] = min(dp[i-1], dp[i-2]) + cost[i]\n",
    "        return min(dp[-1], dp[-2])   \n",
    "     \n",
    "#Input: cost = [10,15,20]\n",
    "#Output: 15  \n",
    "Solution().minCostClimbingStairs([10,15,20])        \n",
    "\n",
    "#Input: cost = [1,100,1,1,1,100,1,1,100,1]\n",
    "#Output: 6\n",
    "Solution().minCostClimbingStairs([1,100,1,1,1,100,1,1,100,1])"
   ]
  },
  {
   "cell_type": "code",
   "execution_count": 3,
   "metadata": {},
   "outputs": [
    {
     "name": "stdout",
     "output_type": "stream",
     "text": [
      "start_first_step = 30\n",
      "start_second_step = 15\n",
      "start_first_step = 6\n",
      "start_second_step = 104\n"
     ]
    },
    {
     "data": {
      "text/plain": [
       "6"
      ]
     },
     "execution_count": 3,
     "metadata": {},
     "output_type": "execute_result"
    }
   ],
   "source": [
    "#TOP-DOWN\n",
    "from typing import List\n",
    "\n",
    "class Solution:\n",
    "    def minCostClimbingStairs(self, cost: List[int]) -> int:\n",
    "        memo = {}    \n",
    "        def dp(i):\n",
    "            # 1. Base case\n",
    "            if i <= 1:\n",
    "                return cost[i]\n",
    "            \n",
    "            # 2. Recurrence\n",
    "            if i not in memo:\n",
    "                one_step = dp(i-1)\n",
    "                two_steps = dp(i-2)\n",
    "                memo[i] = min(one_step, two_steps) + cost[i]\n",
    "            \n",
    "            # 3. Return the result\n",
    "            return memo[i]\n",
    "        start_first_step = dp(len(cost)-1)\n",
    "        start_second_step = dp(len(cost)-2)\n",
    "        print(f'start_first_step = {start_first_step}')\n",
    "        print(f'start_second_step = {start_second_step}')\n",
    "        return min(start_first_step, start_second_step)   \n",
    "\n",
    "\n",
    "\n",
    "#TASK you can either climb one or two steps.\n",
    "\n",
    "#Input: cost = [10,15,20]\n",
    "#Output: 15  \n",
    "Solution().minCostClimbingStairs([10,15,20])        \n",
    "\n",
    "#Input: cost = [1,100,1,1,1,100,1,1,100,1]\n",
    "#Output: 6\n",
    "Solution().minCostClimbingStairs([1,100,1,1,1,100,1,1,100,1])        "
   ]
  }
 ],
 "metadata": {
  "kernelspec": {
   "display_name": "Python 3",
   "language": "python",
   "name": "python3"
  },
  "language_info": {
   "codemirror_mode": {
    "name": "ipython",
    "version": 3
   },
   "file_extension": ".py",
   "mimetype": "text/x-python",
   "name": "python",
   "nbconvert_exporter": "python",
   "pygments_lexer": "ipython3",
   "version": "3.9.6"
  }
 },
 "nbformat": 4,
 "nbformat_minor": 2
}
