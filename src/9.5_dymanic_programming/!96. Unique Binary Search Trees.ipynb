{
 "cells": [
  {
   "cell_type": "markdown",
   "metadata": {},
   "source": [
    "### 96. Unique Binary Search Trees\n",
    "\n",
    "https://leetcode.com/problems/unique-binary-search-trees/description"
   ]
  },
  {
   "cell_type": "code",
   "execution_count": 11,
   "metadata": {},
   "outputs": [
    {
     "name": "stdout",
     "output_type": "stream",
     "text": [
      "5\n"
     ]
    }
   ],
   "source": [
    "#TOP-DOWN\n",
    "class Solution:\n",
    "    def numTrees(self, n: int) -> int:\n",
    "        # Memoization dictionary\n",
    "        memo_trees = {}\n",
    "\n",
    "        def dp(n):\n",
    "            # Base case: no nodes or one node\n",
    "            if n <= 1:\n",
    "                return 1\n",
    "\n",
    "            # Return memoized result if available\n",
    "            if n in memo_trees:\n",
    "                return memo_trees[n]\n",
    "\n",
    "            # Calculate number of unique BSTs for `n`\n",
    "            total_trees = 0\n",
    "            for root in range(1, n + 1):\n",
    "                # Number of trees in the left and right subtrees\n",
    "                left_trees = dp(root - 1)\n",
    "                right_trees = dp(n - root)\n",
    "\n",
    "                # Total trees with `root` as root\n",
    "                total_trees += left_trees * right_trees\n",
    "\n",
    "            # Store result in memo and return\n",
    "            memo_trees[n] = total_trees\n",
    "            return total_trees\n",
    "\n",
    "        return dp(n)\n",
    "\n",
    "# Example usage\n",
    "print(Solution().numTrees(3))  # Output: 5"
   ]
  }
 ],
 "metadata": {
  "kernelspec": {
   "display_name": "Python 3",
   "language": "python",
   "name": "python3"
  },
  "language_info": {
   "codemirror_mode": {
    "name": "ipython",
    "version": 3
   },
   "file_extension": ".py",
   "mimetype": "text/x-python",
   "name": "python",
   "nbconvert_exporter": "python",
   "pygments_lexer": "ipython3",
   "version": "3.9.6"
  }
 },
 "nbformat": 4,
 "nbformat_minor": 2
}
