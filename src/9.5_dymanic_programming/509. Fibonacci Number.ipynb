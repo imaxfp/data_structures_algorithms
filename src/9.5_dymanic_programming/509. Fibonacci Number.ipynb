{
 "cells": [
  {
   "cell_type": "markdown",
   "metadata": {},
   "source": [
    "### 509. Fibonacci Number\n",
    "\n",
    "https://leetcode.com/problems/fibonacci-number/description/\n"
   ]
  },
  {
   "cell_type": "code",
   "execution_count": 1,
   "metadata": {},
   "outputs": [
    {
     "data": {
      "text/plain": [
       "3"
      ]
     },
     "execution_count": 1,
     "metadata": {},
     "output_type": "execute_result"
    }
   ],
   "source": [
    "# TOP-DOWN Approach | Memoization approach | Recursive with Memoization approach\n",
    "from functools import cache\n",
    "\n",
    "\n",
    "class Solution:\n",
    "    def fib(self, n: int) -> int:\n",
    "        memo = {}\n",
    "        \n",
    "        def dp(n):\n",
    "            # Corrected Base Case\n",
    "            if n == 0:\n",
    "                return 0\n",
    "            if n == 1:\n",
    "                return 1\n",
    "            \n",
    "            # Check if already computed\n",
    "            if n in memo:\n",
    "                return memo[n]\n",
    "\n",
    "            # Recursive case with memoization\n",
    "            one_prev = dp(n - 1)    \n",
    "            two_prev = dp(n - 2)\n",
    "            memo[n] = one_prev + two_prev\n",
    "            \n",
    "            return memo[n]\n",
    "\n",
    "        return dp(n)\n",
    " \n",
    "\n",
    "\n",
    "'''\n",
    "Input: n = 4\n",
    "Output: 3\n",
    "'''\n",
    "Solution().fib(4)\n"
   ]
  },
  {
   "cell_type": "code",
   "execution_count": null,
   "metadata": {},
   "outputs": [],
   "source": [
    "def test1():\n",
    "    arr = []\n",
    "    for i in range(1, 100):\n",
    "        arr.append(i)\n",
    "\n",
    "test1()        "
   ]
  }
 ],
 "metadata": {
  "kernelspec": {
   "display_name": "Python 3",
   "language": "python",
   "name": "python3"
  },
  "language_info": {
   "codemirror_mode": {
    "name": "ipython",
    "version": 3
   },
   "file_extension": ".py",
   "mimetype": "text/x-python",
   "name": "python",
   "nbconvert_exporter": "python",
   "pygments_lexer": "ipython3",
   "version": "3.9.6"
  }
 },
 "nbformat": 4,
 "nbformat_minor": 2
}
