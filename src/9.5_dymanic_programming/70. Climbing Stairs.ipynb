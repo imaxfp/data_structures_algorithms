{
 "cells": [
  {
   "cell_type": "markdown",
   "metadata": {},
   "source": [
    "### 509. Fibonacci Number\n",
    "\n",
    "https://leetcode.com/problems/fibonacci-number/description/\n"
   ]
  },
  {
   "cell_type": "code",
   "execution_count": null,
   "metadata": {},
   "outputs": [
    {
     "name": "stdout",
     "output_type": "stream",
     "text": [
      "5\n"
     ]
    },
    {
     "data": {
      "text/plain": [
       "63245986"
      ]
     },
     "execution_count": 20,
     "metadata": {},
     "output_type": "execute_result"
    }
   ],
   "source": [
    "# TOP-DOWN Approach | Memoization approach | Recursive with Memoization approach\n",
    "from functools import cache\n",
    "\n",
    "\n",
    "class Solution:\n",
    "    def climbStairs(self, n: int) -> int:        \n",
    "        #DP TOP-DOWN\n",
    "        @cache\n",
    "        def dp(n, climn_cntr):\n",
    "            #Base case\n",
    "            #Achieved the last step\n",
    "            if n <= 1:\n",
    "                climn_cntr+=1\n",
    "                return climn_cntr            \n",
    "           \n",
    "            one_step = dp(n-1, climn_cntr)    \n",
    "            two_steps = dp(n-2, climn_cntr)\n",
    "            return one_step + two_steps\n",
    "           \n",
    "        return dp(n, 0)\n",
    "\n",
    "'''\n",
    "n = 3\n",
    "Output 3\n",
    "'''\n",
    "print(Solution().climbStairs(3))\n",
    "\n",
    "#n = 38\n",
    "#Output 63245986\n",
    "Solution().climbStairs(38)\n"
   ]
  },
  {
   "cell_type": "code",
   "execution_count": 21,
   "metadata": {},
   "outputs": [
    {
     "name": "stdout",
     "output_type": "stream",
     "text": [
      "3\n"
     ]
    },
    {
     "data": {
      "text/plain": [
       "63245986"
      ]
     },
     "execution_count": 21,
     "metadata": {},
     "output_type": "execute_result"
    }
   ],
   "source": [
    "class Solution:\n",
    "    def climbStairs(self, n: int) -> int:\n",
    "        # DP TOP-DOWN with memoization\n",
    "        memo = {}\n",
    "\n",
    "        def dp(n, climn_cntr):\n",
    "            # Check if already computed\n",
    "            if n in memo:\n",
    "                return memo[n]\n",
    "            \n",
    "            # Base case: reached the last step\n",
    "            if n <= 1:\n",
    "                climn_cntr += 1\n",
    "                return climn_cntr\n",
    "\n",
    "            # Recursive case\n",
    "            one_step = dp(n - 1, climn_cntr)\n",
    "            two_steps = dp(n - 2, climn_cntr)\n",
    "            \n",
    "            # Store result in memo before returning\n",
    "            memo[n] = one_step + two_steps\n",
    "            return memo[n]\n",
    "\n",
    "        return dp(n, 0)\n",
    "    \n",
    "'''\n",
    "n = 3\n",
    "Output 3\n",
    "'''\n",
    "print(Solution().climbStairs(3))\n",
    "\n",
    "#n = 38\n",
    "#Output 63245986\n",
    "Solution().climbStairs(38)    "
   ]
  }
 ],
 "metadata": {
  "kernelspec": {
   "display_name": "Python 3",
   "language": "python",
   "name": "python3"
  },
  "language_info": {
   "codemirror_mode": {
    "name": "ipython",
    "version": 3
   },
   "file_extension": ".py",
   "mimetype": "text/x-python",
   "name": "python",
   "nbconvert_exporter": "python",
   "pygments_lexer": "ipython3",
   "version": "3.9.6"
  }
 },
 "nbformat": 4,
 "nbformat_minor": 2
}
