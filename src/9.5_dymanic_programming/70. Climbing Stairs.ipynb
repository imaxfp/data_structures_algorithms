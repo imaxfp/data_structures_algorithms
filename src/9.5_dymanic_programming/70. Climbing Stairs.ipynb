{
 "cells": [
  {
   "cell_type": "markdown",
   "metadata": {},
   "source": [
    "### 509. Fibonacci Number\n",
    "\n",
    "https://leetcode.com/problems/fibonacci-number/description/\n"
   ]
  },
  {
   "cell_type": "markdown",
   "metadata": {},
   "source": []
  },
  {
   "cell_type": "code",
   "execution_count": null,
   "metadata": {},
   "outputs": [
    {
     "name": "stdout",
     "output_type": "stream",
     "text": [
      "5\n"
     ]
    },
    {
     "data": {
      "text/plain": [
       "63245986"
      ]
     },
     "execution_count": 20,
     "metadata": {},
     "output_type": "execute_result"
    }
   ],
   "source": [
    "# TOP-DOWN Approach | Memoization approach | Recursive with Memoization approach\n",
    "from functools import cache\n",
    "\n",
    "\n",
    "class Solution:\n",
    "    def climbStairs(self, n: int) -> int:        \n",
    "        #DP TOP-DOWN\n",
    "        @cache\n",
    "        def dp(n, climn_cntr):\n",
    "            #Base case\n",
    "            #Achieved the last step\n",
    "            if n <= 1:\n",
    "                climn_cntr+=1\n",
    "                return climn_cntr            \n",
    "           \n",
    "            one_step = dp(n-1, climn_cntr)    \n",
    "            two_steps = dp(n-2, climn_cntr)\n",
    "            return one_step + two_steps\n",
    "           \n",
    "        return dp(n, 0)\n",
    "\n",
    "'''\n",
    "n = 3\n",
    "Output 3\n",
    "'''\n",
    "print(Solution().climbStairs(3))\n",
    "\n",
    "#n = 38\n",
    "#Output 63245986\n",
    "Solution().climbStairs(38)\n"
   ]
  },
  {
   "cell_type": "code",
   "execution_count": 26,
   "metadata": {},
   "outputs": [
    {
     "name": "stdout",
     "output_type": "stream",
     "text": [
      "3\n"
     ]
    },
    {
     "data": {
      "text/plain": [
       "63245986"
      ]
     },
     "execution_count": 26,
     "metadata": {},
     "output_type": "execute_result"
    }
   ],
   "source": [
    "class Solution:\n",
    "    def climbStairs(self, n: int) -> int:\n",
    "        # DP TOP-DOWN with memoization\n",
    "        memo = {}\n",
    "\n",
    "        def dp(n, climn_cntr):\n",
    "            # Check if already computed\n",
    "            if n in memo:\n",
    "                return memo[n]\n",
    "            \n",
    "            # Base case: reached the last step\n",
    "            if n <= 1:\n",
    "                climn_cntr += 1\n",
    "                return climn_cntr\n",
    "\n",
    "            # Recursive case\n",
    "            one_step = dp(n - 1, climn_cntr)\n",
    "            two_steps = dp(n - 2, climn_cntr)\n",
    "            \n",
    "            # Store result in memo before returning\n",
    "            memo[n] = one_step + two_steps\n",
    "            return memo[n]\n",
    "\n",
    "        return dp(n, 0)\n",
    "    \n",
    "'''\n",
    "n = 3\n",
    "Output 3\n",
    "'''\n",
    "print(Solution().climbStairs(3))\n",
    "\n",
    "#n = 38\n",
    "#Output 63245986\n",
    "Solution().climbStairs(38)    "
   ]
  },
  {
   "cell_type": "code",
   "execution_count": null,
   "metadata": {},
   "outputs": [
    {
     "name": "stdout",
     "output_type": "stream",
     "text": [
      "3\n"
     ]
    },
    {
     "data": {
      "text/plain": [
       "63245986"
      ]
     },
     "execution_count": 32,
     "metadata": {},
     "output_type": "execute_result"
    }
   ],
   "source": [
    "#BOTTOM UP \n",
    "class Solution:\n",
    "    def climbStairs(self, n: int) -> int:  \n",
    "        if n == 1:\n",
    "            return 1  # Base case for 1 step\n",
    "\n",
    "        #1. Initialize base cases\n",
    "        '''\n",
    "        Base cases are derived from the climbing rules:\n",
    "\n",
    "        1. dp[0] - Represents the number of ways to reach the first step (n=1).\n",
    "        Rule: You can only take a single step (1). Hence, dp[0] = 1.\n",
    "\n",
    "        2. dp[1] - Represents the number of ways to reach the second step (n=2).\n",
    "        Rule: You can either take two 1-steps ([1,1]) or one 2-step ([2]). Hence, dp[1] = 2.\n",
    "\n",
    "        For each subsequent step `i` (starting from 3), the number of ways to reach step `i` \n",
    "        is the sum of the ways to reach the previous step (`dp[i-1]`) and the step before that (`dp[i-2]`).\n",
    "\n",
    "        This is because:\n",
    "        - To reach step `i`, you can either come from:\n",
    "            - Step `i-1` by taking a single step.\n",
    "            - Step `i-2` by taking a double step.\n",
    "        - Therefore, the total ways to reach step `i` is the sum of the ways to reach `i-1` and `i-2`, \n",
    "        which ensures that we account for all possible combinations.\n",
    "\n",
    "        Hence, the formula is:\n",
    "            dp[i] = dp[i-1] + dp[i-2]\n",
    "        '''\n",
    "        dp = [1, 2]\n",
    "\n",
    "        #2. Compute the rest using the transition formula\n",
    "        for i in range(2, n):  # Start from the 3rd step (index 2)\n",
    "            dp.append(dp[i - 1] + dp[i - 2])\n",
    "        \n",
    "        return dp[-1] \n",
    "    \n",
    "'''\n",
    "n = 3\n",
    "Output 3\n",
    "'''\n",
    "print(Solution().climbStairs(3))\n",
    "\n",
    "#n = 38\n",
    "#Output 63245986\n",
    "Solution().climbStairs(38)       "
   ]
  }
 ],
 "metadata": {
  "kernelspec": {
   "display_name": "Python 3",
   "language": "python",
   "name": "python3"
  },
  "language_info": {
   "codemirror_mode": {
    "name": "ipython",
    "version": 3
   },
   "file_extension": ".py",
   "mimetype": "text/x-python",
   "name": "python",
   "nbconvert_exporter": "python",
   "pygments_lexer": "ipython3",
   "version": "3.9.6"
  }
 },
 "nbformat": 4,
 "nbformat_minor": 2
}
