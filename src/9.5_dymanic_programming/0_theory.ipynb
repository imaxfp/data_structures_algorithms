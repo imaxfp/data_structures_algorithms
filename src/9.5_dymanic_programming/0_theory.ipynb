{
 "cells": [
  {
   "cell_type": "markdown",
   "metadata": {},
   "source": [
    "# Dynamic programming"
   ]
  },
  {
   "cell_type": "markdown",
   "metadata": {},
   "source": [
    "### Dynamic programming (DP)\n",
    "\n",
    "Dynamic programming (DP) is a technique used to solve complex problems by breaking them down into simpler subproblems and storing their solutions to avoid redundant work. It is particularly effective for problems with overlapping subproblems and optimal substructure. DP involves defining subproblems, establishing a recurrence relation, and using either memoization (storing results in a lookup table) or tabulation (building a table iteratively) to solve them efficiently. \n",
    "\n",
    "**Essentially, DP improves upon brute force by storing the results of subproblems (caching) to avoid redundant calculations, making it much more efficient.**\n",
    "\n",
    "Examples include the Fibonacci sequence, the knapsack problem, and the longest common subsequence."
   ]
  },
  {
   "cell_type": "markdown",
   "metadata": {},
   "source": [
    "- The idea behind dynamic programming is the exact same. We define some recursive function, usually called dp, that returns the answer to the original problem as if the arguments you passed to it were the input.\n",
    "\n",
    "- The arguments that a recursive function takes represents a state\n",
    "\n",
    "- When we looked at tree problems, we never visited a node more than once in our DFS (Depth-First Search)\n",
    " \n",
    "-  which means that a state was never repeated. The difference with DP is that states can be repeated, usually an exponential number of times.\n",
    "\n",
    "- To avoid repeating computation, we use something called **memoization**. Then in the future, if we ever see the same state again, we can just refer to the cached value without needing to re-calculate it.\n",
    "\n",
    "\n",
    "\n"
   ]
  },
  {
   "cell_type": "markdown",
   "metadata": {},
   "source": [
    "### Dynamic Programmig (DP) has two technics:\n",
    "\n",
    "**Top-Down (with Memoization):** This approach starts from the original problem and breaks it down into subproblems, solving each subproblem as needed and storing the results (memoization) to avoid redundant computations.\n",
    "\n",
    "**Bottom-Up (with Tabulation):** This approach starts by solving the smallest subproblems first and uses their solutions to build up the solution to the original problem. It involves filling up a table iteratively from the base cases up to the desired solution."
   ]
  },
  {
   "cell_type": "markdown",
   "metadata": {},
   "source": [
    "### Top-down\n",
    "This method of using recursion and memoization is also known as \"top-down\" dynamic programming. It is named as such because we start from the top (the original problem) and move down toward the base cases. For example, we wanted the n th Fibonacci number, so we started by calling fibonacci(n). We move down with recursion until we reach the base cases (F(0) and F(1))."
   ]
  },
  {
   "cell_type": "code",
   "execution_count": null,
   "metadata": {},
   "outputs": [],
   "source": [
    "#Memoization Top-Down\n",
    "def fib(n, memo={}):\n",
    "    if n in memo:\n",
    "        return memo[n]\n",
    "    if n < 2:\n",
    "        return n\n",
    "    memo[n] = fib(n-1, memo) + fib(n-2, memo)\n",
    "    return memo[n]\n",
    "\n",
    "print(fib(49))  "
   ]
  },
  {
   "cell_type": "markdown",
   "metadata": {},
   "source": [
    "### bottom-up\n",
    " In bottom-up, we start at the bottom (base cases) and work our way up to larger problems. This is done iteratively and also known as tabulation. Here is the bottom-up version of Fibonacci:"
   ]
  },
  {
   "cell_type": "code",
   "execution_count": null,
   "metadata": {},
   "outputs": [],
   "source": [
    "#Tabulation Bottom-Up:\n",
    "def fib(n):\n",
    "    if n <= 1:\n",
    "        return n\n",
    "\n",
    "    table = [0] * (n + 1)\n",
    "    table[1] = 1\n",
    "\n",
    "    for i in range(2, n + 1):\n",
    "        table[i] = table[i - 1] + table[i - 2]\n",
    "    return table[n]\n",
    "\n",
    "print(fib(49))"
   ]
  },
  {
   "cell_type": "markdown",
   "metadata": {},
   "source": [
    "## When should I consider using DP?\n",
    "\n",
    "- The problem will be asking for an optimal value (max or min) of something or the number of ways to do something.\n",
    "```\n",
    "1.1 What is the minimum cost of doing ...\n",
    "1.2 What is the maximum profit of ...\n",
    "1.3 How many ways are there to ...\n",
    "1.4 What is the longest possible ...\n",
    "```\n",
    "\n",
    "- At each step, you need to make a \"decision\", and decisions affect future decisions.\n",
    "\n",
    "```\n",
    "1.1 A decision could be picking between two elements\n",
    "1.2 Decisions affecting future decisions could be something like \"if you take an element x, then you can't take an element y in the future\"\n",
    "```"
   ]
  },
  {
   "cell_type": "markdown",
   "metadata": {},
   "source": [
    "## Many dynamic programming (DP) problems can be categorized into two broad types:\n",
    "\n",
    "### Rabbit (Fibonacci-like or Sequence Problems): \n",
    "These problems involve computing sequences where each term is derived from one or more previous terms. \n",
    "\n",
    "Examples include:\n",
    "\n",
    "- Fibonacci sequence\n",
    "- Longest Common Subsequence\n",
    "- Longest Increasing Subsequence\n",
    "\n",
    "### Backpack (Knapsack-like or Optimization Problems): \n",
    "These problems involve optimizing a certain value subject to constraints.\n",
    "\n",
    "Examples include:\n",
    "\n",
    "- Knapsack problem\n",
    "- Coin Change problem\n",
    "- Partition problem\n",
    "\n",
    "\n",
    "However, dynamic programming is a versatile technique used to solve a wide variety of problems beyond these two categories, such as matrix chain multiplication, shortest paths in graphs, and more. The key aspect is the overlapping subproblems and optimal substructure properties, which allow these problems to be solved efficiently using DP."
   ]
  },
  {
   "cell_type": "markdown",
   "metadata": {},
   "source": [
    "### DP tasks Cannot use Greedy approach\n",
    "\n",
    "https://leetcode.com/explore/interview/card/leetcodes-interview-crash-course-data-structures-and-algorithms/712/dynamic-programming/4539\n",
    "\n",
    "Classic House Robber task https://leetcode.com/problems/house-robber/\n",
    "\n",
    "\n",
    "\n",
    "```\n",
    "You are planning to rob houses along a street. The ith\n",
    "house has nums[i] money. If you rob two houses beside each other, the alarm system will trigger and alert the police. What is the most money you can rob without alerting the police?\n",
    "```\n",
    "nums = [2,7,9,3,1], and we wanted to be greedy. Iterating along the array, the first decision is to take the 2 or the 7, since we can't have both. If we were greedy, we would take the 7. However, now we can no longer take the 9. In fact, the optimal answer involves taking 2, 9, 1. As you can see, being ***greedy in our decisions affected future decisions which lead us to the wrong answer.***\n",
    "```"
   ]
  },
  {
   "cell_type": "markdown",
   "metadata": {},
   "source": [
    "### State\n",
    "\n",
    "1. **An index along an input string, array, or number.** This is the most common state variable and will be a state variable in almost all problems, and is frequently the only state variable.\n",
    "\n",
    "2. **A second index along an input string or array.** Sometimes, you need another index variable to represent the right bound of the array. Again, if you had `nums = [0, 1, 2, 3, 4]` and two state variables along the input, let's say `i = 1` and `j = 3`, then it would be like `nums = [1, 2, 3]` - we are only considering the input between and including `i` and `j`.\n",
    "\n",
    "3. **Explicit numerical constraints given in the problem.** This will usually be given in the input as `k`. For example, \"you are allowed to remove `k` obstacles\". This state variable would represent how many more obstacles we are allowed to remove.\n",
    "\n",
    "4. **A boolean to describe a status.** For example, \"true if currently holding a package, false if not\".\n"
   ]
  },
  {
   "cell_type": "markdown",
   "metadata": {},
   "source": [
    "### The number of States \n",
    "\n",
    "States variables used is the dimensionality of an algorithm. For example, if an algorithm uses only ***one variable like i***, then it is one dimensional. If a problem has multiple state variables, it is ***multi-dimensional***. Some problems might require as many as five dimensions."
   ]
  },
  {
   "cell_type": "markdown",
   "metadata": {},
   "source": [
    "### A classic example of a 1-dimensional problem is finding the maximum or minimum value in an array (or list)."
   ]
  },
  {
   "cell_type": "code",
   "execution_count": null,
   "metadata": {},
   "outputs": [],
   "source": [
    "def find_max(arr):\n",
    "    max_value = arr[0]\n",
    "    for i in range(1, len(arr)):\n",
    "        if arr[i] > max_value:\n",
    "            max_value = arr[i]\n",
    "    return max_value\n",
    "\n",
    "arr = [3, 1, 4, 1, 5, 9, 2]\n",
    "print(find_max(arr))"
   ]
  },
  {
   "cell_type": "markdown",
   "metadata": {},
   "source": [
    "### 2-dimensional problem using two state variables. Example"
   ]
  },
  {
   "cell_type": "code",
   "execution_count": null,
   "metadata": {},
   "outputs": [],
   "source": [
    "# Define grid size\n",
    "grid_size = 5\n",
    "\n",
    "# Example: move in the grid and update the state variables\n",
    "def move_right(x, y):\n",
    "    if x < grid_size - 1:  # Check if within bounds\n",
    "        x += 1\n",
    "    return x, y\n",
    "\n",
    "def move_up(x, y):\n",
    "    if y < grid_size - 1:  # Check if within bounds\n",
    "        y += 1\n",
    "    return x, y\n",
    "\n",
    "# Current state: (x, y)\n",
    "# Initialize state variables\n",
    "x = 1  # x-coordinate (1st dimension: horizontal position)\n",
    "y = 4  # y-coordinate (2nd dimension: vertical position)\n",
    "state = (x, y)\n",
    "\n",
    "# Move right and up\n",
    "state = move_right(state[0], state[1])\n",
    "state = move_up(state[0], state[1])\n",
    "\n",
    "print(f\"Final state: x = {state[0]}, y = {state[1]}\")"
   ]
  },
  {
   "cell_type": "markdown",
   "metadata": {},
   "source": [
    "### 3-dimensional problem using 3 state variables. Example"
   ]
  },
  {
   "cell_type": "code",
   "execution_count": null,
   "metadata": {},
   "outputs": [],
   "source": [
    "# A grid of 5x5\n",
    "grid_size = 5\n",
    "\n",
    "# Initialize state variables\n",
    "x = 0  # x-coordinate (1st dimension: horizontal position)\n",
    "y = 0  # y-coordinate (2nd dimension: vertical position)\n",
    "steps = 0  # steps taken (3rd dimension: progress or number of moves)\n",
    "\n",
    "# Example: move in a direction and update state variables\n",
    "def move_right(x, y, steps):\n",
    "    if x < grid_size - 1:  # Check if within bounds\n",
    "        x += 1  # Change x-coordinate (1st dimension)\n",
    "        steps += 1  # Increment steps (3rd dimension)\n",
    "    return x, y, steps\n",
    "\n",
    "def move_down(x, y, steps):\n",
    "    if y < grid_size - 1:  # Check if within bounds\n",
    "        y += 1  # Change y-coordinate (2nd dimension)\n",
    "        steps += 1  # Increment steps (3rd dimension)\n",
    "    return x, y, steps\n",
    "\n",
    "# Current state: (x, y, steps)\n",
    "state = (x, y, steps)\n",
    "\n",
    "# Move right and down\n",
    "state = move_right(state[0], state[1], state[2])  # Move in 1st and 3rd dimensions\n",
    "state = move_down(state[0], state[1], state[2])  # Move in 2nd and 3rd dimensions\n",
    "\n",
    "print(f\"Final state: x = {state[0]}, y = {state[1]}, steps = {state[2]}\")\n"
   ]
  },
  {
   "cell_type": "markdown",
   "metadata": {},
   "source": [
    "### Representation a 5-dimensional state space where each dimension corresponds to a different aspect of the problem."
   ]
  },
  {
   "cell_type": "code",
   "execution_count": null,
   "metadata": {},
   "outputs": [],
   "source": [
    "# A grid of 5x5\n",
    "grid_size = 5\n",
    "\n",
    "# Example: move in a direction and update state variables\n",
    "def move_right(x, y, steps, time, energy):\n",
    "    if x < grid_size - 1:  # Check if within bounds\n",
    "        x += 1  # Change x-coordinate (1st dimension)\n",
    "        steps += 1  # Increment steps (3rd dimension)\n",
    "        time += 1  # Increment time (4th dimension)\n",
    "        energy -= 1  # Decrease energy (5th dimension)\n",
    "    return x, y, steps, time, energy\n",
    "\n",
    "def move_down(x, y, steps, time, energy):\n",
    "    if y < grid_size - 1:  # Check if within bounds\n",
    "        y += 1  # Change y-coordinate (2nd dimension)\n",
    "        steps += 1  # Increment steps (3rd dimension)\n",
    "        time += 1  # Increment time (4th dimension)\n",
    "        energy -= 1  # Decrease energy (5th dimension)\n",
    "    return x, y, steps, time, energy\n",
    "\n",
    "# Initialize state variables\n",
    "x = 2        # x-coordinate (1st dimension: horizontal position)\n",
    "y = 1        # y-coordinate (2nd dimension: vertical position)\n",
    "steps = 0    # steps taken (3rd dimension: number of moves)\n",
    "time = 0     # time elapsed (4th dimension: time)\n",
    "energy = 100 # remaining energy (5th dimension: energy)\n",
    "\n",
    "# Current state: (x, y, steps, time, energy)\n",
    "state = (x, y, steps, time, energy)\n",
    "\n",
    "# Move right and down\n",
    "state = move_right(state[0], state[1], state[2], state[3], state[4])  # Move in 1st, 3rd, 4th, and 5th dimensions\n",
    "state = move_down(state[0], state[1], state[2], state[3], state[4])  # Move in 2nd, 3rd, 4th, and 5th dimensions\n",
    "\n",
    "print(f\"Final state: x = {state[0]}, y = {state[1]}, steps = {state[2]}, time = {state[3]}, energy = {state[4]}\")\n"
   ]
  },
  {
   "cell_type": "markdown",
   "metadata": {},
   "source": [
    "### 3D DP problem Example:\n",
    "In a 3D DP problem (e.g., 3-dimensional knapsack or 3D grid traversal), the state could be (i, j, k), where:\n",
    "\n",
    "i could represent the position in one dimension (e.g., items or rows),\n",
    "j could represent another dimension (e.g., weight or capacity),\n",
    "k could represent another constraint (e.g., number of items or steps).\n",
    "For each state (i, j, k), you compute a value based on previously solved subproblems, and that leads to the overall solution."
   ]
  },
  {
   "cell_type": "markdown",
   "metadata": {},
   "source": [
    "## Complexity Analysis for Dynamic Programming (DP) Algorithms\n",
    "\n",
    "Complexity analysis for DP algorithms is straightforward. Like with trees and graphs, we calculate each state only once. Therefore, if there are `N` possible states, and the work done at each state is `F`, then the time complexity will be - O(N ⋅ F)"
   ]
  },
  {
   "cell_type": "markdown",
   "metadata": {},
   "source": [
    "# Framework for DP\n",
    "\n",
    "We're going to use [Min Cost Climbing Stairs](https://leetcode.com/problems/min-cost-climbing-stairs/description/) - Top-Down Solution as an example. We will start with a top-down solution.\n",
    "\n",
    "Problem Description:\n",
    "\n",
    "You are given an integer array `cost` where `cost[i]` is the cost of the **i-th step** on a staircase. Once you pay the cost, you can either climb **one** or **two** steps. You can either start from the step with index `0`, or the step with index `1`. \n",
    "\n",
    "Your goal is to return the **minimum cost** to reach the top of the floor (outside the array, not the last index of `cost`).\n",
    "\n",
    "It is recommended that you open the problem link in a new tab so you can easily follow along.\n"
   ]
  },
  {
   "cell_type": "markdown",
   "metadata": {},
   "source": [
    "### To create any DP algorithm, there are 3 main components:\n"
   ]
  },
  {
   "cell_type": "markdown",
   "metadata": {},
   "source": [
    "### 1. A function or data structure that will compute/contain the answer to the problem for any given state\n",
    "- First, we need to decide what the function is returning.\n",
    "- Second, we need to decide on what arguments the function should take (state variables).\n",
    "\n",
    "1. Minimum cost to climb the stairs. Define a function dp(state) that returns the minimum cost to climb the stairs for a given state. \n",
    "The only relevant state variable would be an index along the input, let's call it i.\n",
    "\n",
    "2. Therefore, let's have a function `dp(i)` that returns the **minimum cost** to climb the stairs up to the **i-th step**—i.e., if the input was the subarray from index `0` up to and including `i`."
   ]
  },
  {
   "cell_type": "markdown",
   "metadata": {},
   "source": [
    "### 2. A recurrence relation to transition between states"
   ]
  },
  {
   "cell_type": "markdown",
   "metadata": {},
   "source": [
    "### 3. Base cases"
   ]
  },
  {
   "cell_type": "markdown",
   "metadata": {},
   "source": [
    "### Top-down apporach example:"
   ]
  },
  {
   "cell_type": "code",
   "execution_count": null,
   "metadata": {},
   "outputs": [],
   "source": [
    "from typing import List\n",
    "\n",
    "#DP framework example:\n",
    "class Solution:\n",
    "    def minCostClimbingStairs(self, cost: List[int]) -> int:\n",
    "        # 1. FIRST - A function that returns the answer\n",
    "        def dp(i):\n",
    "            if i <= 1:\n",
    "                # 3. THIRD - Base cases\n",
    "                return 0\n",
    "            \n",
    "            if i in memo:\n",
    "                return memo[i]\n",
    "            \n",
    "            # 2. SECOND - Recurrence relation\n",
    "            memo[i] = min(dp(i - 1) + cost[i - 1], dp(i - 2) + cost[i - 2])\n",
    "            return memo[i]\n",
    "        \n",
    "        memo = {}\n",
    "        return dp(len(cost))\n",
    "    \n",
    "#Input: cost = [10,15,20]\n",
    "#Output: 15\n",
    "print(Solution().minCostClimbingStairs([10,15,20]))\n",
    "\n",
    "#Input: cost = [1,100,1,1,1,100,1,1,100,1]\n",
    "#Output: 6\n",
    "print(Solution().minCostClimbingStairs([1,100,1,1,1,100,1,1,100,1]))"
   ]
  },
  {
   "cell_type": "code",
   "execution_count": null,
   "metadata": {},
   "outputs": [],
   "source": [
    "# Example usage\n",
    "def solve_min_cost(cost):\n",
    "    def dp(i):\n",
    "        # Call trace at the beginning of the recursion step\n",
    "        print(f\"Entering dp({i}) function\")\n",
    "        \n",
    "        # Base case\n",
    "        if i <= 1:\n",
    "            print(f\"Base case reached: dp({i}) returns 0\")\n",
    "            return 0\n",
    "        \n",
    "        if i in memo:\n",
    "            print(f\"Memoized result: dp({i}) returns {memo[i]}\")\n",
    "            return memo[i]\n",
    "        \n",
    "        # Recurrence relation for cost calculation\n",
    "        cost_one_step = dp(i - 1) + cost[i - 1]\n",
    "        print(f\"cost_one_step calculated: dp({i - 1}) + cost[{i - 1}] = {cost_one_step}\")\n",
    "        \n",
    "        cost_two_steps = dp(i - 2) + cost[i - 2]\n",
    "        print(f\"cost_two_steps calculated: dp({i - 2}) + cost[{i - 2}] = {cost_two_steps}\")\n",
    "        \n",
    "        # Choose the minimum of the two\n",
    "        memo[i] = min(cost_one_step, cost_two_steps)\n",
    "        \n",
    "        # Stack unwinding\n",
    "        print(f\"\\033[32m____________Stack unwinding: dp({i}) returns {memo[i]}\\033[0m\")\n",
    "\n",
    "        return memo[i]\n",
    "\n",
    "    memo = {}\n",
    "    return dp(len(cost))\n",
    "\n",
    "# Example Input\n",
    "cost = [10, 15, 20]\n",
    "# Call the solution function\n",
    "print(\"Final Minimum Cost:\", solve_min_cost(cost))\n"
   ]
  },
  {
   "cell_type": "markdown",
   "metadata": {},
   "source": [
    "### Bottom-Up"
   ]
  },
  {
   "cell_type": "code",
   "execution_count": null,
   "metadata": {},
   "outputs": [],
   "source": [
    "class Solution:\n",
    "    def minCostClimbingStairs(self, cost: List[int]) -> int:\n",
    "        dp = [0] * (len(cost) + 1)\n",
    "\n",
    "        for i in range(2, len(cost) + 1):\n",
    "            dp[i] = min(dp[i-1] + cost[i-1], dp[i-2] + cost[i-2])            \n",
    "        return dp    \n",
    "\n",
    "#Input: cost = [10,15,20]\n",
    "#Output: 15\n",
    "print(Solution().minCostClimbingStairs([10,15,20]))\n"
   ]
  },
  {
   "cell_type": "markdown",
   "metadata": {},
   "source": [
    "DP - Framework \n",
    "\n",
    "1. TOP-DOWN \n",
    "fib \n",
    "\n",
    "\n",
    "\n",
    "2. BOTTOM-UP"
   ]
  },
  {
   "cell_type": "code",
   "execution_count": null,
   "metadata": {},
   "outputs": [
    {
     "data": {
      "text/plain": [
       "16374361185569570355515148989381228747223756609038926650176124155306760699"
      ]
     },
     "execution_count": 19,
     "metadata": {},
     "output_type": "execute_result"
    }
   ],
   "source": [
    "#DP Framework 'TOP-DOWN '\n",
    "\n",
    "'''\n",
    "    1. STACK INIT\n",
    "    GROUND CASE\n",
    "    6\n",
    "    7\n",
    "    8  \n",
    "    \n",
    "    \n",
    "    2. STACK UNWINDING\n",
    "    0 OR 1 \n",
    "    return dp(n - 1) + dp(n - 2)\n",
    "'''\n",
    "\n",
    "#TOP-DOWN \n",
    "# => n = 8 - 8,7,6,0\n",
    "#[0,1,1,2]\n",
    "def fib(n):\n",
    "    #1. A function or data structure that will compute/contain the answer to the problem for any given state\n",
    "    memo = {}\n",
    "\n",
    "    def dp(n):            \n",
    "        #2. Ground / Base case         \n",
    "        if n in memo:\n",
    "            return memo[n]\n",
    "        if n == 0:\n",
    "            return 0\n",
    "        if n == 1:\n",
    "            return 1            \n",
    "            #3. A recurrence relation to transition between states\n",
    "            #n = 8 \n",
    "            # (n - 1) + (n - 2);\n",
    "                \n",
    "        one_step = dp(n - 1) \n",
    "        two_steps = dp(n - 2)\n",
    "\n",
    "        memo[n] = one_step + two_steps \n",
    "        return memo[n]\n",
    "\n",
    "    return dp(n-1)\n",
    "        #5\n",
    "[0,1,1,2,3,5]\n",
    "fib(353)"
   ]
  }
 ],
 "metadata": {
  "kernelspec": {
   "display_name": "Python 3",
   "language": "python",
   "name": "python3"
  },
  "language_info": {
   "codemirror_mode": {
    "name": "ipython",
    "version": 3
   },
   "file_extension": ".py",
   "mimetype": "text/x-python",
   "name": "python",
   "nbconvert_exporter": "python",
   "pygments_lexer": "ipython3",
   "version": "3.9.6"
  }
 },
 "nbformat": 4,
 "nbformat_minor": 2
}
