{
 "cells": [
  {
   "cell_type": "markdown",
   "metadata": {},
   "source": [
    "# Dynamic programming - 1D problems\n",
    "\n",
    "DP problems that can be solved with only one state variable."
   ]
  },
  {
   "cell_type": "markdown",
   "metadata": {},
   "source": [
    "Example 1: 198. House Robber\n",
    "\n",
    "You are planning to rob houses along a street. The ith house has nums[i] money. If you rob two houses beside each other, the alarm system will trigger and alert the police. What is the most money you can rob without alerting the police?\n",
    "\n",
    "- what will our function return and what arguments will it take? \n",
    "- return value should be the maximum money that can be robbed since that is what the problem is asking for\n",
    "- i - maximum money (max profit)\n",
    "- limitation - cannot rob near house "
   ]
  }
 ],
 "metadata": {
  "kernelspec": {
   "display_name": "Python 3",
   "language": "python",
   "name": "python3"
  },
  "language_info": {
   "codemirror_mode": {
    "name": "ipython",
    "version": 3
   },
   "file_extension": ".py",
   "mimetype": "text/x-python",
   "name": "python",
   "nbconvert_exporter": "python",
   "pygments_lexer": "ipython3",
   "version": "3.9.6"
  }
 },
 "nbformat": 4,
 "nbformat_minor": 2
}
