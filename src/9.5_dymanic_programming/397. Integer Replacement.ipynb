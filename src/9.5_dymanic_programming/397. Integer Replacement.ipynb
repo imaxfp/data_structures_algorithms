{
 "cells": [
  {
   "cell_type": "markdown",
   "metadata": {},
   "source": [
    "### 397. Integer Replacement\n",
    "\n",
    "https://leetcode.com/problems/integer-replacement/description\n"
   ]
  },
  {
   "cell_type": "code",
   "execution_count": 3,
   "metadata": {},
   "outputs": [
    {
     "data": {
      "text/plain": [
       "2"
      ]
     },
     "execution_count": 3,
     "metadata": {},
     "output_type": "execute_result"
    }
   ],
   "source": [
    "# DP (TOP-DOWN)\n",
    "class Solution:\n",
    "    def integerReplacement(self, n: int) -> int:\n",
    "        memo = {}\n",
    "        \n",
    "        # 1. Helper function to calculate minimum operations for a given n\n",
    "        def dp(n):\n",
    "            # 2. Base case: if n is 1, no operations are needed\n",
    "            if n == 1:\n",
    "                return 0\n",
    "            # Return the result if it has already been computed\n",
    "            if n in memo:\n",
    "                return memo[n]\n",
    "\n",
    "            # If n is even, divide by 2 and add 1 operation\n",
    "            if n % 2 == 0:\n",
    "                memo[n] = 1 + dp(n // 2)\n",
    "            else:\n",
    "                # If n is odd, try both n - 1 and n + 1, and take the minimum\n",
    "                steps_minus_1 = dp(n - 1)\n",
    "                steps_plus_1 = dp(n + 1)\n",
    "                memo[n] = 1 + min(steps_minus_1, steps_plus_1)\n",
    "                  \n",
    "            return memo[n]  # Return the computed minimum operations for n\n",
    "\n",
    "        # Call dp function and return the final result\n",
    "        return dp(n)\n",
    "\n",
    "'''\n",
    "Input: n = 8\n",
    "Output: 3\n",
    "Explanation: 8 -> 4 -> 2 -> 1\n",
    "Example 2:\n",
    "'''\n",
    "'''\n",
    "Input: n = 7\n",
    "Output: 4\n",
    "Explanation: 7 -> 8 -> 4 -> 2 -> 1\n",
    "or 7 -> 6 -> 3 -> 2 -> 1\n",
    "'''\n",
    "Solution().integerReplacement(3)\n"
   ]
  }
 ],
 "metadata": {
  "kernelspec": {
   "display_name": "Python 3",
   "language": "python",
   "name": "python3"
  },
  "language_info": {
   "codemirror_mode": {
    "name": "ipython",
    "version": 3
   },
   "file_extension": ".py",
   "mimetype": "text/x-python",
   "name": "python",
   "nbconvert_exporter": "python",
   "pygments_lexer": "ipython3",
   "version": "3.9.6"
  }
 },
 "nbformat": 4,
 "nbformat_minor": 2
}
