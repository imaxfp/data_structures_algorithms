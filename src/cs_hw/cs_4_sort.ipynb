{
 "cells": [
  {
   "cell_type": "markdown",
   "metadata": {},
   "source": [
    "### Unique\n",
    "\n",
    "Given a string s, consists of English letters, digits, symbols and spaces, find the length of the \n",
    "longest substring without repeating characters.\n",
    "\n",
    "Input Format\n",
    "\n",
    "String s\n",
    "\n",
    "Constraints\n",
    "\n",
    "0 <= s.length <= 5 * 10^4\n",
    "Output Format\n",
    "\n",
    "The length of the longest substring without repeating characters.\n",
    "\n",
    "Sample Input 0\n",
    "\n",
    "abcabcbb\n",
    "Sample Output 0\n",
    "\n",
    "3\n",
    "Sample Input 1\n",
    "\n",
    "bbbbb\n",
    "Sample Output 1\n",
    "\n",
    "1"
   ]
  },
  {
   "cell_type": "code",
   "execution_count": 14,
   "metadata": {},
   "outputs": [
    {
     "data": {
      "text/plain": [
       "2"
      ]
     },
     "execution_count": 14,
     "metadata": {},
     "output_type": "execute_result"
    }
   ],
   "source": [
    "def longest_substr(s: str) -> int:    \n",
    "    #tow pointers\n",
    "    # [aba]\n",
    "    # set - a,b,a \n",
    "    \n",
    "    left=0\n",
    "    set_s = set()\n",
    "    max_len=0\n",
    "    for right in range(0, len(s)):\n",
    "     \n",
    "        #fast pointer\n",
    "        while s[right] in set_s:\n",
    "            set_s.discard(s[left])\n",
    "            left+=1   \n",
    "        max_len = max(max_len, (right - left))\n",
    "        \n",
    "        set_s.add(s[right])  \n",
    "        \n",
    "    return max_len + 1     \n",
    "        \n",
    "longest_substr(\"aba\")        \n",
    "             \n",
    "        \n",
    "    "
   ]
  },
  {
   "cell_type": "markdown",
   "metadata": {},
   "source": [
    "### Sort ints\n",
    "Given an array of integers, sort the array in ascending order and return it.\n",
    "\n",
    "You must solve the problem without using any built-in functions. Implement merge sort algorithm in O(nlog(n)) time complexity and O(n) space complexity.\n",
    "\n",
    "Input Format\n",
    "\n",
    "List of ints\n",
    "\n",
    "Constraints\n",
    "\n",
    "1 <= `nums.length` <= 5 * 10^4\n",
    "\n",
    "-5 * 10^6 <= `nums[i]` <= 5 * 10^6\n",
    "Output Format\n",
    "\n",
    "sorted list of ints\n",
    "\n",
    "Sample Input 0\n",
    "\n",
    "5 2 3 1\n",
    "Sample Output 0\n",
    "\n",
    "1 2 3 5"
   ]
  },
  {
   "cell_type": "code",
   "execution_count": 39,
   "metadata": {},
   "outputs": [
    {
     "data": {
      "text/plain": [
       "[1, 2, 3, 5, 5]"
      ]
     },
     "execution_count": 39,
     "metadata": {},
     "output_type": "execute_result"
    }
   ],
   "source": [
    "\n",
    "def merge(left, right):\n",
    "    #TODO do not create new arr each time, swap elements in the existing arr.\n",
    "    sorted_list = []\n",
    "    i = j = 0\n",
    "    \n",
    "    # Merge the two sorted lists\n",
    "    while i < len(left) and j < len(right):\n",
    "        if left[i] < right[j]:\n",
    "            sorted_list.append(left[i])\n",
    "            i += 1\n",
    "        else:\n",
    "            sorted_list.append(right[j])\n",
    "            j += 1\n",
    "\n",
    "    # Append the remaining elements\n",
    "    sorted_list.extend(left[i:])\n",
    "    sorted_list.extend(right[j:])\n",
    "\n",
    "    return sorted_list\n",
    "\n",
    "\n",
    "def merge_sort(arr):\n",
    "    if len(arr) <= 1:\n",
    "        return arr\n",
    "    mid = len(arr) // 2\n",
    "    left = arr[:mid]\n",
    "    right = arr[mid:]\n",
    "    left = merge_sort(left)\n",
    "    right = merge_sort(right)\n",
    "    #print(left)\n",
    "    #print(right)\n",
    "    return merge(left, right)\n",
    "        \n",
    "\n",
    "merge_sort([5,2,3,1,5])\n"
   ]
  },
  {
   "cell_type": "code",
   "execution_count": 42,
   "metadata": {},
   "outputs": [
    {
     "data": {
      "text/plain": [
       "[1, 2, 3, 5, 5]"
      ]
     },
     "execution_count": 42,
     "metadata": {},
     "output_type": "execute_result"
    }
   ],
   "source": [
    "def merge(left, right):\n",
    "    #TODO do not create new arr each time, swap elements in the existing arr.\n",
    "    res = []\n",
    "    i = j = 0\n",
    "    while i < len(left) and j < len(right):\n",
    "        if left[i] < right[j]:\n",
    "            res.append(left[i])\n",
    "            i+=1\n",
    "        else:\n",
    "            res.append(right[j])\n",
    "            j+=1\n",
    "    #Pay attention 'extend' have to be after 'while'\n",
    "    #You cannot use 'append' because it will be 'arr' with mix elements and arrs like \n",
    "    # [1,2,[4,5],7]        \n",
    "    res.extend(left[i:])    \n",
    "    res.extend(right[j:])\n",
    "    return res       \n",
    "\n",
    "def merge_sort2(arr):\n",
    "    if len(arr) <= 1:\n",
    "        return arr\n",
    "    mid = len(arr) // 2\n",
    "    # TODO replace recursion with loop \n",
    "    left = merge_sort2(arr[:mid])\n",
    "    right = merge_sort2(arr[mid:])\n",
    "    return merge(left, right)\n",
    "\n",
    "merge_sort2([5,2,3,1,5])"
   ]
  },
  {
   "cell_type": "markdown",
   "metadata": {},
   "source": [
    "### Compression\n",
    "\n",
    "You are given a string consisting of uppercase letters A-Z. Your task is to write a function that performs Run-length encoding (RLE) on the input string and returns a compressed version of the string.\n",
    "\n",
    "Input Format\n",
    "\n",
    "A single line containing the string, which may include uppercase letters (A-Z)\n",
    "\n",
    "Constraints\n",
    "\n",
    "The input string only contains uppercase letters (A-Z) The input string has a maximum length of 10000 characters.\n",
    "\n",
    "Output Format\n",
    "\n",
    "A single line containing the compressed version of the string according to the RLE algorithm.\n",
    "\n",
    "Sample Input 0\n",
    "\n",
    "AABBBCCCC\n",
    "Sample Output 0\n",
    "\n",
    "A2B3C4\n",
    "Sample Input 1\n",
    "\n",
    "A\n",
    "Sample Output 1\n",
    "\n",
    "A1"
   ]
  },
  {
   "cell_type": "code",
   "execution_count": 56,
   "metadata": {},
   "outputs": [
    {
     "name": "stdout",
     "output_type": "stream",
     "text": [
      "A2B3C4\n",
      "A2B3C4\n"
     ]
    }
   ],
   "source": [
    "def rle_map(string: str) -> str:\n",
    "    hash_map = {}\n",
    "    for s in string:\n",
    "        hash_map[s] = hash_map.get(s, 0) + 1\n",
    "    res_str = \"\"    \n",
    "    for k, v in hash_map.items():\n",
    "        res_str+=str(k) + str(v)\n",
    "    return res_str\n",
    "\n",
    "\n",
    "def rle_counter(string: str) -> str:\n",
    "    if not string:\n",
    "        return \"\"\n",
    "    \n",
    "    # Start with the first character\n",
    "    current_char = string[0]\n",
    "    count = 1\n",
    "    compressed_string = \"\"\n",
    "    \n",
    "    # Iterate over the string starting from the second character\n",
    "    for i in range(1, len(string)):\n",
    "        if string[i] == current_char:\n",
    "            count += 1\n",
    "        else:\n",
    "            # Append the current character and its count to the result\n",
    "            compressed_string += f\"{current_char}{count}\"\n",
    "            # Reset for the new character\n",
    "            current_char = string[i]\n",
    "            count = 1\n",
    "    \n",
    "    # Don't forget to append the last group of characters\n",
    "    compressed_string += f\"{current_char}{count}\"\n",
    "    \n",
    "    return compressed_string\n",
    "\n",
    "print(rle_map(\"AABBBCCCC\"))\n",
    "print(rle_counter(\"AABBBCCCC\"))\n",
    "\n",
    "#TODO implement stress tests => rle_counter works correctly, rle_map - some tests fail "
   ]
  },
  {
   "cell_type": "markdown",
   "metadata": {},
   "source": [
    "### QHEAP1\n",
    "\n",
    "This question is designed to help you get a better understanding of basic heap operations.\n",
    "\n",
    "There are  types of query:\n",
    "\n",
    "\" \" - Add an element  to the heap.\n",
    "\" \" - Delete the element  from the heap.\n",
    "\"\" - Print the minimum of all the elements in the heap.\n",
    "NOTE: It is guaranteed that the element to be deleted will be there in the heap. Also, at any instant, only distinct elements will be in the heap.\n",
    "\n",
    "Input Format\n",
    "\n",
    "The first line contains the number of queries, . \n",
    "Each of the next  lines contains one of the  types of query.\n",
    "\n",
    "Constraints \n",
    " \n",
    "\n",
    "\n",
    "Output Format\n",
    "\n",
    "For each query of type , print the minimum value on a single line.\n",
    "\n",
    "Sample Input\n",
    "\n",
    "STDIN       Function\n",
    "-----       --------\n",
    "5           Q = 5\n",
    "1 4         insert 4\n",
    "1 9         insert 9\n",
    "3           print minimum\n",
    "2 4         delete 4\n",
    "3           print minimum\n",
    "Sample Output\n",
    "\n",
    "4  \n",
    "9 \n",
    "Explanation"
   ]
  },
  {
   "cell_type": "code",
   "execution_count": 75,
   "metadata": {},
   "outputs": [
    {
     "name": "stdout",
     "output_type": "stream",
     "text": [
      "4\n",
      "9\n"
     ]
    }
   ],
   "source": [
    "import heapq\n",
    "\n",
    "class MyMinHeap:\n",
    "    def __init__(self):\n",
    "        self.heap = []\n",
    "        \n",
    "    def push(self, item):\n",
    "        heapq.heappush(self.heap, item)\n",
    "\n",
    "    def pop(self):\n",
    "        if self.heap:\n",
    "            item = heapq.heappop(self.heap)\n",
    "            return item\n",
    "        return None\n",
    "    \n",
    "    def peek(self):\n",
    "        return self.heap[0] if self.heap else None\n",
    "\n",
    "    def remove(self, item):\n",
    "        try:\n",
    "            #TODO can we find 'item' faster than O(n) ? \n",
    "            index = self.heap.index(item)  # Find the index of the item (O(n) operation)\n",
    "            self.heap[index] = self.heap[-1]  # Move the last item to this index\n",
    "            self.heap.pop()  # Remove the last item\n",
    "            if index < len(self.heap):\n",
    "                heapq._siftup(self.heap, index)  # Correct the position of the new item at index\n",
    "                heapq._siftdown(self.heap, 0, index)  # Correct the position if needed downwards\n",
    "        except ValueError:\n",
    "            pass  # The item is not in the heap\n",
    "\n",
    "def heap1(commands: list)-> None:\n",
    "    my_heapq = MyMinHeap() \n",
    "    \"\"\"_summary_\n",
    "    1 - add element\n",
    "    2 - Delete the element\n",
    "    3 - Print the minimum of all the elements in the heap.    \n",
    "    \"\"\"\n",
    "    for el in commands:\n",
    "        #check if add element or delete it\n",
    "        if len(el) > 1:            \n",
    "            if el[0] == 1: #add new eleement\n",
    "                my_heapq.push(el[1])                \n",
    "            if el[0] == 2: #delete eleement\n",
    "                my_heapq.remove(el[1]) \n",
    "        else:  \n",
    "            print(my_heapq.peek())       \n",
    "                \n",
    "                \n",
    "heap1([[1, 4], [1, 9], [3], [2, 4], [3]])    \n"
   ]
  },
  {
   "cell_type": "markdown",
   "metadata": {},
   "source": [
    "### Selection sort\n",
    "- find min element\n",
    "- add min to the final arr \n",
    "- шукаємо мінімуми на \"кучках\""
   ]
  },
  {
   "cell_type": "markdown",
   "metadata": {},
   "source": [
    "### Оператор\n",
    "Треба заюзати - Кореневу ідею\n"
   ]
  }
 ],
 "metadata": {
  "kernelspec": {
   "display_name": "venv_alg",
   "language": "python",
   "name": "python3"
  },
  "language_info": {
   "codemirror_mode": {
    "name": "ipython",
    "version": 3
   },
   "file_extension": ".py",
   "mimetype": "text/x-python",
   "name": "python",
   "nbconvert_exporter": "python",
   "pygments_lexer": "ipython3",
   "version": "3.11.5"
  }
 },
 "nbformat": 4,
 "nbformat_minor": 2
}
