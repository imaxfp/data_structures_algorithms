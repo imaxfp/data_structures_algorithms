{
 "cells": [
  {
   "cell_type": "markdown",
   "metadata": {},
   "source": [
    "### 1. Bouble sort\n",
    "\n",
    "### 2. Merge sort\n",
    "Merge sort is a sorting algorithm that employs a divide-and-conquer strategy to organize elements. Initially, it splits the list into progressively smaller sublists until each contains only a single element. Subsequently, it merges these sublists. The merging process (merge sort often uses a technique known as \"two pointers.\") involves comparing the smallest elements of each sorted sublist and then systematically combining them into larger sorted lists. This is repeated until all elements are consolidated into a single sorted list. \n",
    "\n",
    "### 3. quick sort (adaptation of the merge sort)\n",
    "\n",
    "### 4. insertion sort\n",
    "Starting with the second element in the array, the algorithm compares the current element with the ones before it and inserts it into the correct position among those already examined.\n",
    "\n",
    "### 5. Selection sort\n",
    "a sorted sublist of items which is built up from left to right at the front (left) of the list, and a sublist of the remaining unsorted items that occupy the rest of the list. The algorithm repeatedly selects the smallest (or largest, depending on sorting order) element from the unsorted sublist, swaps it with the leftmost unsorted element, and moves the sublist boundaries one element to the right. This process continues iteratively until the entire list is sorted.\n",
    "\n",
    "\n",
    "### 6. Коренева ідея - Square Root (Sqrt) Decomposition Algorithm\n",
    "\n",
    "spoiler\n",
    "\n",
    "https://www.geeksforgeeks.org/square-root-sqrt-decomposition-algorithm/\n",
    "\n",
    "\n",
    "### 7 HW segment tree\n",
    "\n"
   ]
  }
 ],
 "metadata": {
  "kernelspec": {
   "display_name": "venv_alg",
   "language": "python",
   "name": "python3"
  },
  "language_info": {
   "codemirror_mode": {
    "name": "ipython",
    "version": 3
   },
   "file_extension": ".py",
   "mimetype": "text/x-python",
   "name": "python",
   "nbconvert_exporter": "python",
   "pygments_lexer": "ipython3",
   "version": "3.11.5"
  }
 },
 "nbformat": 4,
 "nbformat_minor": 2
}
