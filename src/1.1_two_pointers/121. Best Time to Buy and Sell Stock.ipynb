{
 "cells": [
  {
   "cell_type": "markdown",
   "metadata": {},
   "source": [
    "### 121. Best Time to Buy and Sell Stock\n",
    "\n",
    "https://leetcode.com/problems/best-time-to-buy-and-sell-stock/description/"
   ]
  },
  {
   "cell_type": "code",
   "execution_count": 9,
   "metadata": {},
   "outputs": [
    {
     "data": {
      "text/plain": [
       "5"
      ]
     },
     "execution_count": 9,
     "metadata": {},
     "output_type": "execute_result"
    }
   ],
   "source": [
    "from typing import List\n",
    "\n",
    "\n",
    "class Solution:\n",
    "    def maxProfit(self, prices: List[int]) -> int:\n",
    "        #1. while next day price > current day, move forward and find max dif 'sell day' - 'buy day'\n",
    "        #2. if 'next day' < 'current day' - next day = curr day. next day +=1\n",
    "        \n",
    "        profit=0 \n",
    "        buy_ptr = 0\n",
    "        sell_ptr = 1\n",
    "        while sell_ptr < len(prices):\n",
    "            if prices[sell_ptr] > prices[buy_ptr]:\n",
    "                profit = max(prices[sell_ptr] - prices[buy_ptr], profit)\n",
    "            else:\n",
    "                buy_ptr=sell_ptr  \n",
    "            sell_ptr+=1                         \n",
    "        return profit\n",
    "\n",
    "#prices = [7,1,5,3,6,4]\n",
    "#Expected - 5\n",
    "Solution().maxProfit([7,1,5,3,6,4])\n",
    "    "
   ]
  }
 ],
 "metadata": {
  "kernelspec": {
   "display_name": "venv_alg",
   "language": "python",
   "name": "python3"
  },
  "language_info": {
   "codemirror_mode": {
    "name": "ipython",
    "version": 3
   },
   "file_extension": ".py",
   "mimetype": "text/x-python",
   "name": "python",
   "nbconvert_exporter": "python",
   "pygments_lexer": "ipython3",
   "version": "3.11.5"
  }
 },
 "nbformat": 4,
 "nbformat_minor": 2
}
