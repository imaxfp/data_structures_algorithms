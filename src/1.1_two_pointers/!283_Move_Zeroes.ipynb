{
 "cells": [
  {
   "cell_type": "markdown",
   "metadata": {},
   "source": [
    "### 283. Move Zeroes\n",
    "\n",
    "https://leetcode.com/problems/move-zeroes/description/"
   ]
  },
  {
   "cell_type": "code",
   "execution_count": 3,
   "metadata": {},
   "outputs": [],
   "source": [
    "from typing import List\n",
    "\n",
    "\n",
    "class Solution:\n",
    "\n",
    "    def moveZeroes(self, nums: List[int]) -> None:\n",
    "        \"\"\"\n",
    "        Do not return anything, modify nums in-place instead.\n",
    "        \"\"\"\n",
    "        #1 init left on zero. \n",
    "        #2 right = left + 1\n",
    "        #3 if nums[r] != 0. swap left and right\n",
    "        #4 while nums[left] != 0 left+=1 \n",
    "        # nums = [0,1,0,3,12]\n",
    "                \n",
    "        l = 0        \n",
    "        for r in range(1, len(nums)):            \n",
    "            if nums[r] != 0:\n",
    "                nums[l], nums[r] = nums[r], nums[l]\n",
    "                l+=1\n",
    "            \n",
    "        \n",
    "            \n",
    "Solution().moveZeroes([2,1])             "
   ]
  }
 ],
 "metadata": {
  "kernelspec": {
   "display_name": "venv_alg",
   "language": "python",
   "name": "python3"
  },
  "language_info": {
   "codemirror_mode": {
    "name": "ipython",
    "version": 3
   },
   "file_extension": ".py",
   "mimetype": "text/x-python",
   "name": "python",
   "nbconvert_exporter": "python",
   "pygments_lexer": "ipython3",
   "version": "3.11.5"
  }
 },
 "nbformat": 4,
 "nbformat_minor": 2
}
