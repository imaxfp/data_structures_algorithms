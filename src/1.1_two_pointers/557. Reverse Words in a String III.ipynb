{
 "cells": [
  {
   "cell_type": "markdown",
   "metadata": {},
   "source": [
    "### 557. Reverse Words in a String III\n",
    "\n",
    "https://leetcode.com/problems/reverse-words-in-a-string-iii/description/\n"
   ]
  },
  {
   "cell_type": "code",
   "execution_count": 15,
   "metadata": {},
   "outputs": [
    {
     "name": "stdout",
     "output_type": "stream",
     "text": [
      "s'teL ekat edoCteeL tsetnoc\n"
     ]
    }
   ],
   "source": [
    "class Solution:\n",
    "    def swap_word(self, word: str):\n",
    "        l = 0\n",
    "        r = len(word)-1\n",
    "        mutable_word = list(word)\n",
    "        while l <= r:     \n",
    "            mutable_word[l], mutable_word[r] = mutable_word[r], mutable_word[l] \n",
    "            l+=1\n",
    "            r-=1            \n",
    "        return \"\".join(mutable_word)   \n",
    "\n",
    "    def reverseWords(self, s: str) -> str:\n",
    "        #1. two pointers left - start word, right - end word\n",
    "        #2. find positions for left and right pointers\n",
    "        #3. swap characters in the word\n",
    "        #4. move left and riht to the next word\n",
    "        arr_words = s.split(\" \")\n",
    "        for i in range(len(arr_words)):\n",
    "            arr_words[i] = self.swap_word(arr_words[i])\n",
    "        return ' '.join(arr_words)    \n",
    "\n",
    "#Input: s = \"Let's take LeetCode contest\"\n",
    "#Output: \"s'teL ekat edoCteeL tsetnoc\"      \n",
    "print(Solution().reverseWords(\"Let's take LeetCode contest\"))  \n"
   ]
  }
 ],
 "metadata": {
  "kernelspec": {
   "display_name": "venv_alg",
   "language": "python",
   "name": "python3"
  },
  "language_info": {
   "codemirror_mode": {
    "name": "ipython",
    "version": 3
   },
   "file_extension": ".py",
   "mimetype": "text/x-python",
   "name": "python",
   "nbconvert_exporter": "python",
   "pygments_lexer": "ipython3",
   "version": "3.11.5"
  }
 },
 "nbformat": 4,
 "nbformat_minor": 2
}
