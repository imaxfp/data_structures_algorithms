{
 "cells": [
  {
   "cell_type": "markdown",
   "metadata": {},
   "source": [
    "### 16. 3Sum Closest\n",
    "\n",
    "https://leetcode.com/problems/3sum-closest/description/\n"
   ]
  },
  {
   "cell_type": "code",
   "execution_count": 7,
   "metadata": {},
   "outputs": [
    {
     "data": {
      "text/plain": [
       "1"
      ]
     },
     "execution_count": 7,
     "metadata": {},
     "output_type": "execute_result"
    }
   ],
   "source": [
    "from typing import List\n",
    "\n",
    "class Solution:\n",
    "    \n",
    "    \n",
    "    def threeSumClosest(self, nums: List[int], target: int) -> int:\n",
    "\n",
    "        if len(nums) < 3:\n",
    "            return -1\n",
    "        #[-1,2,1,-4], target = 1\n",
    "        #1. sort arr\n",
    "        nums = sorted(nums)\n",
    "        l = 0\n",
    "        r = len(nums)-1\n",
    "\n",
    "        #2. two pointers from left to right \n",
    "        closest_sum = 0\n",
    "        diff=float(\"inf\")\n",
    "        while l == 0 or :\n",
    "            # 1. sum equals to target\n",
    "            sum3 = nums[l] + nums[l+1] + nums[r] \n",
    "            if sum3 == target:\n",
    "                return target\n",
    "\n",
    "            tmp_dif = abs(sum3 - target)\n",
    "            if tmp_dif < diff:\n",
    "                diff=tmp_dif\n",
    "                closest_sum = sum3\n",
    "\n",
    "            # 2. move pointers\n",
    "            if sum3 < target:\n",
    "                l+=1\n",
    "            else:\n",
    "                r-=1\n",
    "                         \n",
    "        return closest_sum \n",
    "        \n",
    "        \n",
    "#Input: nums = [4,0,5,-5,3,3,0,-4,-5], target = 1\n",
    "# [4, 0, 5, -5, 3, 3, 0, -4, -5]  target = 150\n",
    "# [10, 20, 30, 40, 50, 60, 70]; 30 + 40 + 70 = 140\n",
    "# 30 + 40 + 70 = 140; 40 + 50 + 70 = 160 - found point between less and more \n",
    "# check previous and current\n",
    "\n",
    "\n",
    "\n",
    "# find less POINT between less target and more target\n",
    "# check 'left - 1' and 'right + 1'\n",
    "#Expected -2\n",
    "\n",
    "\n",
    "\n",
    "#Explanation: The sum that is closest to the target is 2. (-1 + 2 + 1 = 2).\n",
    "Solution().threeSumClosest([4,0,5,-5,3,3,0,-4,-5], 1)\n",
    "\n"
   ]
  },
  {
   "cell_type": "code",
   "execution_count": 13,
   "metadata": {},
   "outputs": [
    {
     "name": "stdout",
     "output_type": "stream",
     "text": [
      "[4, 5, 9]\n",
      "[4, 4, 8, 9, 9]\n"
     ]
    },
    {
     "data": {
      "text/plain": [
       "[4, 9]"
      ]
     },
     "execution_count": 13,
     "metadata": {},
     "output_type": "execute_result"
    }
   ],
   "source": [
    "class Solution:\n",
    "    def intersect(self, nums1: List[int], nums2: List[int]) -> List[int]:\n",
    "        nums1 = sorted(nums1)\n",
    "        nums2 = sorted(nums2)\n",
    "        print(nums1)\n",
    "        print(nums2)\n",
    "        res = []\n",
    "        i = j = 0\n",
    "        while i < len(nums1)-1 and j < len(nums2)-1:            \n",
    "            if nums1[i] < nums2[j]:\n",
    "                i+=1\n",
    "            if nums1[i] > nums2[j]:\n",
    "                j+=1            \n",
    "            if nums1[i] == nums2[j]:\n",
    "                res.append(nums1[i])\n",
    "                i+=1\n",
    "                j+=1\n",
    "        return res    \n",
    "    \n",
    "nums1 = [4,9,5]\n",
    "nums2 = [9,4,9,8,4]   \n",
    "\n",
    "#sorted\n",
    "#[4, 5, 9]\n",
    "#[4, 4, 8, 9, 9]\n",
    "\n",
    "Solution().intersect(nums1, nums2) "
   ]
  }
 ],
 "metadata": {
  "kernelspec": {
   "display_name": "venv_alg",
   "language": "python",
   "name": "python3"
  },
  "language_info": {
   "codemirror_mode": {
    "name": "ipython",
    "version": 3
   },
   "file_extension": ".py",
   "mimetype": "text/x-python",
   "name": "python",
   "nbconvert_exporter": "python",
   "pygments_lexer": "ipython3",
   "version": "3.11.5"
  }
 },
 "nbformat": 4,
 "nbformat_minor": 2
}
