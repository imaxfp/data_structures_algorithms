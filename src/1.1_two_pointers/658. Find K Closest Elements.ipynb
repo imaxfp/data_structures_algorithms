{
 "cells": [
  {
   "cell_type": "markdown",
   "metadata": {},
   "source": [
    "### 658. Find K Closest Elements\n",
    "\n",
    "https://leetcode.com/problems/find-k-closest-elements/description"
   ]
  },
  {
   "cell_type": "code",
   "execution_count": 4,
   "metadata": {},
   "outputs": [
    {
     "name": "stdout",
     "output_type": "stream",
     "text": [
      "[3, 3, 4]\n",
      "[-2, -1, 1, 2, 3, 4, 5]\n"
     ]
    },
    {
     "data": {
      "text/plain": [
       "[10]"
      ]
     },
     "execution_count": 4,
     "metadata": {},
     "output_type": "execute_result"
    }
   ],
   "source": [
    "from typing import List\n",
    "\n",
    "class Solution:\n",
    "    def findClosestElements(self, arr: List[int], k: int, x: int) -> List[int]:\n",
    "        if len(arr) == 1:\n",
    "            return arr\n",
    "        \n",
    "        diff = float('inf')\n",
    "        idx_clos = 0\n",
    "        for i in range(len(arr)):\n",
    "            tmp_diff = abs(x - arr[i])\n",
    "            if tmp_diff < diff:\n",
    "                diff = tmp_diff\n",
    "                idx_clos = i\n",
    "\n",
    "        l = idx_clos\n",
    "        r = idx_clos\n",
    "        while r - l < k:  \n",
    "            # prevent out of boundaries \n",
    "            if l == 0:\n",
    "                r += 1\n",
    "                continue\n",
    "            if r == len(arr) - 1:\n",
    "                l -= 1\n",
    "                continue\n",
    "            \n",
    "            l_dif = abs(x - arr[l-1])\n",
    "            r_dif = abs(x - arr[r+1])\n",
    "\n",
    "            if l_dif <= r_dif:\n",
    "                l -= 1\n",
    "            else:\n",
    "                r += 1                            \n",
    "\n",
    "        return arr[l:r]  \n",
    "\n",
    "\n",
    "# Test case\n",
    "print(Solution().findClosestElements([0, 0, 1, 2, 3, 3, 4, 7, 7, 8], 3, 5)) \n",
    "# Output should be [3, 3, 4]\n",
    "\n",
    "    \n",
    "#Expected\n",
    "#[-2,-1,1,2,3,4,5]\n",
    "print(Solution().findClosestElements([-2,-1,1,2,3,4,5], k=7, x=3))    \n",
    "#[10]    \n",
    "Solution().findClosestElements([1,1,1,10,10,10], k=1, x=9)    "
   ]
  }
 ],
 "metadata": {
  "kernelspec": {
   "display_name": "venv_alg",
   "language": "python",
   "name": "python3"
  },
  "language_info": {
   "codemirror_mode": {
    "name": "ipython",
    "version": 3
   },
   "file_extension": ".py",
   "mimetype": "text/x-python",
   "name": "python",
   "nbconvert_exporter": "python",
   "pygments_lexer": "ipython3",
   "version": "3.11.5"
  }
 },
 "nbformat": 4,
 "nbformat_minor": 2
}
