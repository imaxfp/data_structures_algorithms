{
 "cells": [
  {
   "cell_type": "markdown",
   "metadata": {},
   "source": [
    "### 2000. Reverse Prefix of Word\n",
    "\n",
    "https://leetcode.com/problems/reverse-prefix-of-word/description/"
   ]
  },
  {
   "cell_type": "code",
   "execution_count": 8,
   "metadata": {},
   "outputs": [
    {
     "name": "stdout",
     "output_type": "stream",
     "text": [
      "abcd\n",
      "dcbaefd\n"
     ]
    }
   ],
   "source": [
    "class Solution:\n",
    "    def reversePrefix(self, word: str, ch: str) -> str:\n",
    "        #1 init 2 pointers l and r. r have to move while ch\n",
    "        #2 implement methos for reverse the sting between l and r\n",
    "        l = r = 0\n",
    "        #init right pointer\n",
    "        #DO NOT USE -1 if you type r< \n",
    "        while r < len(word) and word[r] != ch:\n",
    "            r+=1\n",
    "        \n",
    "        #do nothing if do not have 'ch'\n",
    "        if r == len(word):\n",
    "            return word\n",
    "\n",
    "        word_list = list(word) \n",
    "        while l < r:\n",
    "            word_list[l], word_list[r] = word_list[r], word_list[l]\n",
    "            l+=1\n",
    "            r-=1\n",
    "        return \"\".join(word_list)       \n",
    "\n",
    "#Expected\n",
    "#\"abcd\"\n",
    "print(Solution().reversePrefix(\"abcd\", \"z\"))   \n",
    "\n",
    "#Expected\n",
    "#\"dcbaefd\"\n",
    "print(Solution().reversePrefix(\"abcdefd\", \"d\"))"
   ]
  }
 ],
 "metadata": {
  "kernelspec": {
   "display_name": "venv_alg",
   "language": "python",
   "name": "python3"
  },
  "language_info": {
   "codemirror_mode": {
    "name": "ipython",
    "version": 3
   },
   "file_extension": ".py",
   "mimetype": "text/x-python",
   "name": "python",
   "nbconvert_exporter": "python",
   "pygments_lexer": "ipython3",
   "version": "3.11.5"
  }
 },
 "nbformat": 4,
 "nbformat_minor": 2
}
