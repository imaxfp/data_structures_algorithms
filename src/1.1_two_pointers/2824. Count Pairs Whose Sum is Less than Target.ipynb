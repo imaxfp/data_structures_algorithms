{
 "cells": [
  {
   "cell_type": "markdown",
   "metadata": {},
   "source": [
    "### 2824. Count Pairs Whose Sum is Less than Target\n",
    "\n",
    "https://leetcode.com/problems/count-pairs-whose-sum-is-less-than-target/description"
   ]
  },
  {
   "cell_type": "code",
   "execution_count": 1,
   "metadata": {},
   "outputs": [],
   "source": [
    "from typing import List\n",
    "\n",
    "\n",
    "class Solution:\n",
    "    def countPairs(self, nums: List[int], target: int) -> int:\n",
    "        # ALGO        \n",
    "        #1. Sort arr\n",
    "        #2. two pointers - l and r\n",
    "        #3. r+=1 while nums[l] + nums[r] < target \n",
    "        #4. count of the pairs (r - l) \n",
    "        #DEBUG:             \n",
    "        # nums - 1 2 3 4 50 60 \n",
    "        # target - 8\n",
    "        #l=0, r=l+1; r+=1 while nums[l] + nums[r] < target\n",
    "        #pairs = r - l\n",
    "        pairs = 0\n",
    "        nums.sort()\n",
    "        l = 0\n",
    "        r = len(nums) - 1\n",
    "        \n",
    "        while l < r:\n",
    "            #Check if all pairs between l and r are valid\n",
    "            if nums[l] + nums[r] < target:\n",
    "                pairs += (r - l) \n",
    "                l += 1 \n",
    "            # decrease pair sum    \n",
    "            else:\n",
    "                r -= 1  \n",
    "\n",
    "        return pairs"
   ]
  }
 ],
 "metadata": {
  "kernelspec": {
   "display_name": "venv_alg",
   "language": "python",
   "name": "python3"
  },
  "language_info": {
   "codemirror_mode": {
    "name": "ipython",
    "version": 3
   },
   "file_extension": ".py",
   "mimetype": "text/x-python",
   "name": "python",
   "nbconvert_exporter": "python",
   "pygments_lexer": "ipython3",
   "version": "3.11.5"
  }
 },
 "nbformat": 4,
 "nbformat_minor": 2
}
