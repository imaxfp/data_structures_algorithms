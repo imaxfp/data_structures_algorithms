{
 "cells": [
  {
   "cell_type": "markdown",
   "metadata": {},
   "source": [
    "### 345. Reverse Vowels of a String\n",
    "\n",
    "https://leetcode.com/problems/reverse-vowels-of-a-string/description/?envType=study-plan-v2&envId=leetcode-75"
   ]
  },
  {
   "cell_type": "code",
   "execution_count": 4,
   "metadata": {},
   "outputs": [
    {
     "data": {
      "text/plain": [
       "'leotcede'"
      ]
     },
     "execution_count": 4,
     "metadata": {},
     "output_type": "execute_result"
    }
   ],
   "source": [
    "class Solution:\n",
    "    def reverseVowels(self, s: str) -> str:\n",
    "        #TASK\n",
    "        #1. 'a', 'e', 'i', 'o', and 'u'\n",
    "        #2. Can be upper and lower \n",
    "\n",
    "        #CONSTRAINTS\n",
    "        # 1 <= s.length <= 3 * 105\n",
    "\n",
    "        #SOLUTION\n",
    "        # check if len(s) == 1\n",
    "        #0. before compare convert to lower or upper\n",
    "        #1. two pointer while l not vowel and r not vowel.\n",
    "        #2. swap\n",
    "\n",
    "        if len(s) <= 1:\n",
    "            return s\n",
    "\n",
    "        l = 0\n",
    "        r = len(s) - 1\n",
    "        arr = list(s)\n",
    "        vowels = set(['a', 'e', 'i', 'o', 'u'])\n",
    "        while l < r:\n",
    "            #move left until vowel \n",
    "            while l < r and s[l].lower() not in vowels:\n",
    "                l+=1 \n",
    "            #move  right until vowel \n",
    "            while l < r and  s[r].lower() not in vowels:\n",
    "                r-=1 \n",
    "            #str anmutable this is why arr is needed    \n",
    "            arr[l], arr[r] = arr[r], arr[l]\n",
    "            l+=1\n",
    "            r-=1\n",
    "        return \"\".join(arr)\n",
    "\n",
    "#DEBUG\n",
    "#s = \"leetcode\" \n",
    "#Expected = \"leotcede\"       \n",
    "\n",
    "Solution().reverseVowels(\"leetcode\")              \n",
    "        "
   ]
  }
 ],
 "metadata": {
  "kernelspec": {
   "display_name": "venv_alg",
   "language": "python",
   "name": "python3"
  },
  "language_info": {
   "codemirror_mode": {
    "name": "ipython",
    "version": 3
   },
   "file_extension": ".py",
   "mimetype": "text/x-python",
   "name": "python",
   "nbconvert_exporter": "python",
   "pygments_lexer": "ipython3",
   "version": "3.11.5"
  }
 },
 "nbformat": 4,
 "nbformat_minor": 2
}
