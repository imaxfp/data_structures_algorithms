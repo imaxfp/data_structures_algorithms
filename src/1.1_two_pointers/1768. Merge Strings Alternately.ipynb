{
 "cells": [
  {
   "cell_type": "markdown",
   "metadata": {},
   "source": [
    "### 1768. Merge Strings Alternately\n",
    "\n",
    "https://leetcode.com/problems/merge-strings-alternately/description/"
   ]
  },
  {
   "cell_type": "code",
   "execution_count": 2,
   "metadata": {},
   "outputs": [],
   "source": [
    "class Solution:\n",
    "    def mergeAlternately(self, word1: str, word2: str) -> str:        \n",
    "        l = 0\n",
    "        #TODO can be improved with arr, 'strig immutable, do not create it each'\n",
    "        res = \"\"\n",
    "        while l < len(word1) or l < len(word2):\n",
    "            if l < len(word1):\n",
    "                res += word1[l]\n",
    "            if l < len(word2):\n",
    "                res += word2[l]\n",
    "            l+=1\n",
    "        return res        \n"
   ]
  }
 ],
 "metadata": {
  "kernelspec": {
   "display_name": "venv_alg",
   "language": "python",
   "name": "python3"
  },
  "language_info": {
   "codemirror_mode": {
    "name": "ipython",
    "version": 3
   },
   "file_extension": ".py",
   "mimetype": "text/x-python",
   "name": "python",
   "nbconvert_exporter": "python",
   "pygments_lexer": "ipython3",
   "version": "3.11.5"
  }
 },
 "nbformat": 4,
 "nbformat_minor": 2
}
