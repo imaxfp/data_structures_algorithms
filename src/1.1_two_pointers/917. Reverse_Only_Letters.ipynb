{
 "cells": [
  {
   "cell_type": "markdown",
   "metadata": {},
   "source": [
    "### 917. Reverse Only Letters\n",
    "\n",
    "https://leetcode.com/problems/reverse-only-letters/description/\n"
   ]
  },
  {
   "cell_type": "code",
   "execution_count": 2,
   "metadata": {},
   "outputs": [
    {
     "name": "stdout",
     "output_type": "stream",
     "text": [
      "dc-ba\n"
     ]
    }
   ],
   "source": [
    "class Solution:\n",
    "    def reverseOnlyLetters(self, s: str) -> str:\n",
    "        # 1. left and right pointers\n",
    "        # 2. swat if [a-z] or [A-Z]\n",
    "        l = 0\n",
    "        r = len(s)-1\n",
    "        s_list = list(s)\n",
    "        while l < r:\n",
    "            if s_list[l].isalpha() and s_list[r].isalpha():\n",
    "                s_list[l], s_list[r] = s_list[r], s_list[l]\n",
    "                l+=1\n",
    "                r-=1\n",
    "            if not s_list[l].isalpha():\n",
    "                l+=1\n",
    "            if not s_list[r].isalpha():    \n",
    "                r-=1                \n",
    "        return \"\".join(s_list)        \n",
    "\n",
    "#Input: s = \"ab-cd\"\n",
    "#Output: \"dc-ba\"\n",
    "print(Solution().reverseOnlyLetters(\"ab-cd\"))"
   ]
  }
 ],
 "metadata": {
  "kernelspec": {
   "display_name": "venv_alg",
   "language": "python",
   "name": "python3"
  },
  "language_info": {
   "codemirror_mode": {
    "name": "ipython",
    "version": 3
   },
   "file_extension": ".py",
   "mimetype": "text/x-python",
   "name": "python",
   "nbconvert_exporter": "python",
   "pygments_lexer": "ipython3",
   "version": "3.11.5"
  }
 },
 "nbformat": 4,
 "nbformat_minor": 2
}
