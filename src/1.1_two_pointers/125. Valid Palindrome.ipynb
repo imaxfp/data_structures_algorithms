{
 "cells": [
  {
   "cell_type": "markdown",
   "metadata": {},
   "source": [
    "### 125. Valid Palindrome\n",
    "\n",
    "https://leetcode.com/problems/valid-palindrome/description\n"
   ]
  },
  {
   "cell_type": "code",
   "execution_count": 9,
   "metadata": {},
   "outputs": [
    {
     "name": "stdout",
     "output_type": "stream",
     "text": [
      "True\n",
      "False\n",
      "False\n"
     ]
    }
   ],
   "source": [
    "class Solution:\n",
    "    def isPalindrome(self, s: str) -> bool:\n",
    "        #1. collect all crats lower case\n",
    "        #2. use right and left pointers for check if string is palindrome \n",
    "        res = []\n",
    "        for c in s:\n",
    "            if c.isalpha() or c.isdigit():\n",
    "                res.append(c.lower())\n",
    "                \n",
    "        l=0\n",
    "        r=len(res)-1\n",
    "        \n",
    "        while l < r:\n",
    "            if res[l] != res[r]:\n",
    "                return False\n",
    "            l+=1\n",
    "            r-=1            \n",
    "        return True            \n",
    "\n",
    "\n",
    "#Input: s = \"A man, a plan, a canal: Panama\"\n",
    "#Output: true                \n",
    "print(Solution().isPalindrome(\"A man, a plan, a canal: Panama\"))\n",
    "\n",
    "#Input: s = \"race a car\"\n",
    "#Output: false\n",
    "print(Solution().isPalindrome(\"race a car\"))\n",
    "\n",
    "#\"0P\"\n",
    "#Expected false\n",
    "print(Solution().isPalindrome(\"0P\"))     "
   ]
  }
 ],
 "metadata": {
  "kernelspec": {
   "display_name": "venv_alg",
   "language": "python",
   "name": "python3"
  },
  "language_info": {
   "codemirror_mode": {
    "name": "ipython",
    "version": 3
   },
   "file_extension": ".py",
   "mimetype": "text/x-python",
   "name": "python",
   "nbconvert_exporter": "python",
   "pygments_lexer": "ipython3",
   "version": "3.11.5"
  }
 },
 "nbformat": 4,
 "nbformat_minor": 2
}
