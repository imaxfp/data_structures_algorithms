{
 "cells": [
  {
   "cell_type": "markdown",
   "metadata": {},
   "source": [
    "### 228. Summary Ranges\n",
    "\n",
    "https://leetcode.com/problems/summary-ranges/description"
   ]
  },
  {
   "cell_type": "code",
   "execution_count": 2,
   "metadata": {},
   "outputs": [
    {
     "name": "stdout",
     "output_type": "stream",
     "text": [
      "['0', '2->4', '6', '8->9']\n",
      "['0->2', '4->5', '7']\n"
     ]
    }
   ],
   "source": [
    "from typing import List\n",
    "\n",
    "class Solution:\n",
    "    def summaryRanges(self, nums: List[int]) -> List[str]:                    \n",
    "        res = []\n",
    "        l_ptr = 0\n",
    "        r_ptr = 1\n",
    "        \n",
    "        #Two pointers 1ptr - start elem, 2ptr - end sequence \n",
    "        \n",
    "        while l_ptr < len(nums):\n",
    "            ctr=1\n",
    "            #move pointer while have some progression\n",
    "            while  r_ptr < len(nums) and nums[l_ptr] + ctr == nums[r_ptr]:                \n",
    "                ctr+=1\n",
    "                r_ptr+=1\n",
    "            #no progression    \n",
    "            if ctr == 1:\n",
    "                res.append(str(nums[l_ptr]))\n",
    "            #have some progression    \n",
    "            else:\n",
    "                res.append(str(nums[l_ptr])+ \"->\"+ str(nums[r_ptr-1]))\n",
    "            l_ptr = r_ptr\n",
    "            r_ptr+=1\n",
    "            \n",
    "        \n",
    "        return res\n",
    "    \n",
    "# Input: nums = [0,2,3,4,6,8,9]\n",
    "# Output: [\"0\",\"2->4\",\"6\",\"8->9\"]\n",
    "print(Solution().summaryRanges([0,2,3,4,6,8,9]))   \n",
    "\n",
    "\n",
    "#Input: nums = [0,1,2,4,5,7]\n",
    "#Output: [\"0->2\",\"4->5\",\"7\"]\n",
    "print(Solution().summaryRanges([0,1,2,4,5,7]))"
   ]
  }
 ],
 "metadata": {
  "kernelspec": {
   "display_name": "venv_alg",
   "language": "python",
   "name": "python3"
  },
  "language_info": {
   "codemirror_mode": {
    "name": "ipython",
    "version": 3
   },
   "file_extension": ".py",
   "mimetype": "text/x-python",
   "name": "python",
   "nbconvert_exporter": "python",
   "pygments_lexer": "ipython3",
   "version": "3.11.5"
  }
 },
 "nbformat": 4,
 "nbformat_minor": 2
}
