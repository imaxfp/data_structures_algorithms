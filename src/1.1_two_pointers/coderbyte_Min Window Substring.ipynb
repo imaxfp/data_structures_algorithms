{
 "cells": [
  {
   "cell_type": "markdown",
   "metadata": {},
   "source": [
    "### Min Window Substring\n",
    "\n",
    "https://coderbyte.com/editor/Min%20Window%20Substring:Python3\n",
    "\n"
   ]
  },
  {
   "cell_type": "code",
   "execution_count": 26,
   "metadata": {},
   "outputs": [
    {
     "name": "stdout",
     "output_type": "stream",
     "text": [
      "aksfaje\n",
      "affhkkse\n"
     ]
    }
   ],
   "source": [
    "class Solution:\n",
    "    def __init__(self) -> None:\n",
    "        #find min len of the substring\n",
    "        self.min_l=0\n",
    "        self.min_r=0\n",
    "        self.win_len=float('inf')\n",
    "    \n",
    "    def minWindowSubstring(self, strArr):        \n",
    "        #BEFORE YOU CODE write down the text and BE SURE YOU UNDERSTOOD THE TASK!!!\n",
    "        #1. create map_K from the K where key is char and val is frequency  \n",
    "        #2. init counter = len of the K and -=1 if map_K.get(char) != 0\n",
    "        #3. sliding window for the S, right ++ should be stoped if  map_K == 0 or map_K.get(char) == 0\n",
    "        #4. hold 'left' and 'right' for the min window len \n",
    "        s = strArr[0]\n",
    "        k = strArr[1]\n",
    "                       \n",
    "        def create_hash_map_key_frequency(k: str):\n",
    "            hashTableK = {}\n",
    "            for c in k:\n",
    "                hashTableK[c] = hashTableK.get(c,0)+1\n",
    "            return hashTableK  \n",
    "\n",
    "        def check_and_uprate_min_substr(left, right):\n",
    "            tmp_win_len = (right - left)\n",
    "            if tmp_win_len < self.win_len:\n",
    "                self.win_len=tmp_win_len\n",
    "                self.min_l=left\n",
    "                self.min_r=right   \n",
    "        \n",
    "        def check_if_tmpMap_has_enought_chars(tmpMap, initMap):\n",
    "            if tmpMap.keys() != initMap.keys():\n",
    "                return False\n",
    "            keys = initMap.keys()\n",
    "            for k in keys:                \n",
    "                if tmpMap.get(k) < initMap.get(k):\n",
    "                    return False\n",
    "            return True                                                                               \n",
    "        \n",
    "        initHashTableK = create_hash_map_key_frequency(k)  \n",
    "        tmpHashTableK = {}\n",
    "        left=0\n",
    "        #RIGHT pointer movement\n",
    "        for right in range(0, len(s)):    \n",
    "            #++ right pointer and skip logic if char not in string k\n",
    "            if s[right] not in initHashTableK.keys():\n",
    "                continue\n",
    "            \n",
    "            #update tmp map if char in k                        \n",
    "            tmpHashTableK[s[right]] = tmpHashTableK.get(s[right], 0)+1\n",
    "                        \n",
    "            # LEFT pointer movement logic\n",
    "            # if two maps are equal => we found substring!\n",
    "            #move left pointer while condition!\n",
    "            while check_if_tmpMap_has_enought_chars(tmpHashTableK, initHashTableK):                                                \n",
    "                if tmpHashTableK.get(s[left]):                    \n",
    "                    tmpHashTableK[s[left]]-=1\n",
    "                check_and_uprate_min_substr(left, right+1)   \n",
    "                left+=1 \n",
    "                                                                                                         \n",
    "                \n",
    "        return s[self.min_l:self.min_r]\n",
    "\n",
    "#print(MinWindowSubstring(input()))\n",
    "#print(Solution().minWindowSubstring(input()))\n",
    "\n",
    "#Input: [\"ahffaksfajeeubsne\", \"jefaa\"]\n",
    "#Output: aksfaje \n",
    "print(Solution().minWindowSubstring([\"ahffaksfajeeubsne\", \"jefaa\"]))\n",
    "\n",
    "\n",
    "#Input: [\"aaffhkksemckelloe\", \"fhea\"]\n",
    "#Output: affhkkse\n",
    "print(Solution().minWindowSubstring([\"aaffhkksemckelloe\", \"fhea\"]))"
   ]
  }
 ],
 "metadata": {
  "kernelspec": {
   "display_name": "venv_alg",
   "language": "python",
   "name": "python3"
  },
  "language_info": {
   "codemirror_mode": {
    "name": "ipython",
    "version": 3
   },
   "file_extension": ".py",
   "mimetype": "text/x-python",
   "name": "python",
   "nbconvert_exporter": "python",
   "pygments_lexer": "ipython3",
   "version": "3.11.5"
  }
 },
 "nbformat": 4,
 "nbformat_minor": 2
}
