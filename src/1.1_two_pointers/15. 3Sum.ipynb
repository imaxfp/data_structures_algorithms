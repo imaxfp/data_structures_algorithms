{
 "cells": [
  {
   "cell_type": "markdown",
   "metadata": {},
   "source": [
    "### 15. 3Sum\n",
    "\n",
    "https://leetcode.com/problems/3sum/description"
   ]
  },
  {
   "cell_type": "code",
   "execution_count": 24,
   "metadata": {},
   "outputs": [
    {
     "name": "stdout",
     "output_type": "stream",
     "text": [
      "[[-2, 0, 2], [-2, 1, 1]]\n",
      "[[-1, -1, 2], [-1, 0, 1]]\n"
     ]
    }
   ],
   "source": [
    "from typing import List\n",
    "\n",
    "class Solution:\n",
    "    def threeSum(self, nums: List[int]) -> List[List[int]]:\n",
    "        # 1. two pointers\n",
    "        '''\n",
    "        Sort arr\n",
    "        1. put init_l ptr and l_ptr = init_l + 1, r_ptr = len(nums)\n",
    "        2. while init_l < len(nums)\n",
    "        3. while l_ptr < r_ptr: if sum(nums[init_l] + nums[l_ptr] + nums[r_ptr]) == 0; res.add \n",
    "        '''        \n",
    "        nums.sort()\n",
    "        l_init = 0\n",
    "        l_ptr = l_init + 1 \n",
    "        r_ptr = len(nums)-1\n",
    "        res = {}\n",
    "        \n",
    "        while l_init < len(nums)-1:\n",
    "            while l_ptr < r_ptr:\n",
    "                treeSum = nums[l_init] + nums[l_ptr] + nums[r_ptr]\n",
    "                if treeSum < 0:\n",
    "                    l_ptr+=1\n",
    "                elif treeSum > 0:\n",
    "                    r_ptr-=1\n",
    "                else:\n",
    "                    r = [nums[l_init], nums[l_ptr], nums[r_ptr]]\n",
    "                    #if r not in res:\n",
    "                    res[str(r)] = r\n",
    "                    l_ptr+=1\n",
    "                    r_ptr-=1     \n",
    "                                                                                     \n",
    "            l_init+=1 \n",
    "            l_ptr = l_init+1\n",
    "            r_ptr = len(nums)-1 \n",
    "\n",
    "        return list(res.values())\n",
    "\n",
    "#nums = [-2,0,1,1,2] \n",
    "# Expected [[-2,0,2],[-2,1,1]]\n",
    "print(Solution().threeSum([-2, 0, 1, 1, 2]))\n",
    "    \n",
    "#Input: nums = [-1,0,1,2,-1,-4]\n",
    "#Output: [[-1,-1,2],[-1,0,1]]\n",
    "print(Solution().threeSum([-1,0,1,2,-1,-4]))"
   ]
  }
 ],
 "metadata": {
  "kernelspec": {
   "display_name": "venv_alg",
   "language": "python",
   "name": "python3"
  },
  "language_info": {
   "codemirror_mode": {
    "name": "ipython",
    "version": 3
   },
   "file_extension": ".py",
   "mimetype": "text/x-python",
   "name": "python",
   "nbconvert_exporter": "python",
   "pygments_lexer": "ipython3",
   "version": "3.11.5"
  }
 },
 "nbformat": 4,
 "nbformat_minor": 2
}
