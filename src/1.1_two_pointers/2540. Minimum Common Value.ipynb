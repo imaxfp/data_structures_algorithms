{
 "cells": [
  {
   "cell_type": "markdown",
   "metadata": {},
   "source": [
    "### 2540. Minimum Common Value\n",
    "\n",
    "https://leetcode.com/problems/minimum-common-value/"
   ]
  },
  {
   "cell_type": "code",
   "execution_count": 2,
   "metadata": {},
   "outputs": [],
   "source": [
    "from typing import List\n",
    "\n",
    "class Solution:\n",
    "    def getCommon(self, nums1: List[int], nums2: List[int]) -> int:\n",
    "        #first and second\n",
    "        #first+=1 if nums1[first] < nums[second] else second+=1\n",
    "        #if == return common\n",
    "        f = s = 0\n",
    "        \n",
    "        while f < len(nums1) and s < len(nums2):\n",
    "            if nums1[f] < nums2[s]:\n",
    "                f+=1\n",
    "            elif nums1[f] > nums2[s]:   \n",
    "                s+=1\n",
    "            elif nums1[f] == nums2[s]:\n",
    "                return nums1[f]\n",
    "        return -1         "
   ]
  }
 ],
 "metadata": {
  "kernelspec": {
   "display_name": "venv_alg",
   "language": "python",
   "name": "python3"
  },
  "language_info": {
   "codemirror_mode": {
    "name": "ipython",
    "version": 3
   },
   "file_extension": ".py",
   "mimetype": "text/x-python",
   "name": "python",
   "nbconvert_exporter": "python",
   "pygments_lexer": "ipython3",
   "version": "3.11.5"
  }
 },
 "nbformat": 4,
 "nbformat_minor": 2
}
