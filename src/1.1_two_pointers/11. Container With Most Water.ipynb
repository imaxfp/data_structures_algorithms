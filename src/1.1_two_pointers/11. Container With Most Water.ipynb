{
 "cells": [
  {
   "cell_type": "markdown",
   "metadata": {},
   "source": [
    "### 11. Container With Most Water\n",
    "\n",
    "https://leetcode.com/problems/container-with-most-water/description/"
   ]
  },
  {
   "cell_type": "code",
   "execution_count": 1,
   "metadata": {},
   "outputs": [
    {
     "data": {
      "text/plain": [
       "49"
      ]
     },
     "execution_count": 1,
     "metadata": {},
     "output_type": "execute_result"
    }
   ],
   "source": [
    "from typing import List\n",
    "\n",
    "\n",
    "class Solution:\n",
    "    def maxArea(self, height: List[int]) -> int:\n",
    "        #1. OK container volume = heaight * width \n",
    "        #2. 'left' and 'right' pointer select shorter one\n",
    "        #3. calculate 'shorter one' * length+1 'space between' pilow\n",
    "        #4. move pointer with shorter wall \n",
    "        l = 0\n",
    "        r = len(height)-1\n",
    "        max_vol = 0\n",
    "        while l < r:\n",
    "            min_wall = min(height[l], height[r])\n",
    "            check_vol = min_wall * (r-l)\n",
    "            max_vol = max(max_vol, check_vol)\n",
    "\n",
    "            if height[l] < height[r]:\n",
    "                l+=1\n",
    "            else:\n",
    "                r-=1   \n",
    "        return max_vol         \n",
    "        \n",
    "#Input: height = [1,8,6,2,5,4,8,3,7]\n",
    "#Output: 49\n",
    "\n",
    "Solution().maxArea([1,8,6,2,5,4,8,3,7])"
   ]
  }
 ],
 "metadata": {
  "kernelspec": {
   "display_name": "venv_alg",
   "language": "python",
   "name": "python3"
  },
  "language_info": {
   "codemirror_mode": {
    "name": "ipython",
    "version": 3
   },
   "file_extension": ".py",
   "mimetype": "text/x-python",
   "name": "python",
   "nbconvert_exporter": "python",
   "pygments_lexer": "ipython3",
   "version": "3.11.5"
  }
 },
 "nbformat": 4,
 "nbformat_minor": 2
}
