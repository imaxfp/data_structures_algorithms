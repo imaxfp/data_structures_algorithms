{
 "cells": [
  {
   "cell_type": "markdown",
   "metadata": {},
   "source": [
    "### 42. Trapping Rain Water\n",
    "\n",
    "https://leetcode.com/problems/trapping-rain-water/description"
   ]
  },
  {
   "cell_type": "code",
   "execution_count": 12,
   "metadata": {},
   "outputs": [
    {
     "name": "stdout",
     "output_type": "stream",
     "text": [
      "[[0, 1], [1, 0, 2], [2, 1, 0, 1, 3], [3, 2, 1, 2, 1]]\n",
      "[[4, 2, 0, 3, 2, 5]]\n"
     ]
    }
   ],
   "source": [
    "from typing import List\n",
    "\n",
    "class Solution:\n",
    "    def trap(self, height: List[int]) -> int:\n",
    "        #1. two pointers for finding the same height of the wals         \n",
    "        '''\n",
    "        #2. select forms with watter \n",
    "        1) 1,0,2\n",
    "        2) 2,1,0,1,3\n",
    "        3) 3,2,1\n",
    "        '''       \n",
    "       \n",
    "        def find_traps(height):\n",
    "            l = 0\n",
    "            r = 1   \n",
    "            res = []\n",
    "            while r < len(height)-1:\n",
    "                while r < len(height)-1 and height[r] < height[l]:\n",
    "                    r+=1\n",
    "                res.append(height[l:r+1])     \n",
    "                l=r\n",
    "                r+=1\n",
    "            return res                   \n",
    "        #3. calculate volume for the each of the form\n",
    "        def calc_vol(traps):\n",
    "            # find left and right borders \n",
    "            return 0\n",
    "        \n",
    "        print(find_traps(height))\n",
    "        \n",
    "    \n",
    "        \n",
    "        \n",
    "#Input: height = [0,1,0,2,1,0,1,3,2,1,2,1]\n",
    "#Output: 6        \n",
    "#[[0, 1], [1, 0, 2], [2, 1, 0, 1, 3], [3, 2, 1, 2, 1]]\n",
    "# (1 - 0) = 1\n",
    "# (2 - 1 + 2 - 0 + 2 - 1) = 4\n",
    "# 2 - 1 = 1 \n",
    "# 1 + 4 + 1 = 6\n",
    "Solution().trap([0,1,0,2,1,0,1,3,2,1,2,1])\n",
    "\n",
    "#Input: height = [4,2,0,3,2,5]\n",
    "#Output: 9\n",
    "# 2 + 4 + 1 + 2 = 9\n",
    "Solution().trap([4,2,0,3,2,5])\n"
   ]
  }
 ],
 "metadata": {
  "kernelspec": {
   "display_name": "venv_alg",
   "language": "python",
   "name": "python3"
  },
  "language_info": {
   "codemirror_mode": {
    "name": "ipython",
    "version": 3
   },
   "file_extension": ".py",
   "mimetype": "text/x-python",
   "name": "python",
   "nbconvert_exporter": "python",
   "pygments_lexer": "ipython3",
   "version": "3.11.5"
  }
 },
 "nbformat": 4,
 "nbformat_minor": 2
}
