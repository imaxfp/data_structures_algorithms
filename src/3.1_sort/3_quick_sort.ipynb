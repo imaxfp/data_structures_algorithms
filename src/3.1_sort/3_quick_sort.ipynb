{
 "cells": [
  {
   "cell_type": "markdown",
   "metadata": {},
   "source": [
    "### 912. Sort an Array\n",
    "\n",
    "https://leetcode.com/problems/sort-an-array/description/?envType=daily-question&envId=2024-07-25\n",
    "\n",
    "**Heap Sort**\n",
    "- **Time Complexity**: O(n log n)\n",
    "- **Space Complexity**: O(1)"
   ]
  },
  {
   "cell_type": "code",
   "execution_count": null,
   "metadata": {
    "vscode": {
     "languageId": "plaintext"
    }
   },
   "outputs": [],
   "source": []
  }
 ],
 "metadata": {
  "kernelspec": {
   "display_name": "venv_alg",
   "language": "python",
   "name": "python3"
  },
  "language_info": {
   "codemirror_mode": {
    "name": "ipython",
    "version": 3
   },
   "file_extension": ".py",
   "mimetype": "text/x-python",
   "name": "python",
   "nbconvert_exporter": "python",
   "pygments_lexer": "ipython3",
   "version": "3.11.5"
  }
 },
 "nbformat": 4,
 "nbformat_minor": 2
}
