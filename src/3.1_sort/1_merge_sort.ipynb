{
 "cells": [
  {
   "cell_type": "code",
   "execution_count": 7,
   "metadata": {},
   "outputs": [],
   "source": [
    "from typing import List\n",
    "class Solution:\n",
    "    def twoSum(self, nums: List[int], target: int) -> List[int]:        \n",
    "        dict_rem = {}\n",
    "        for i in range(0, len(nums)):\n",
    "            rem = target - nums[i]\n",
    "            if dict_rem.get(rem) is not None:\n",
    "                return [dict_rem.get(rem), i]                           \n",
    "            dict_rem[nums[i]] = i\n",
    "        return None     \n",
    "   \n",
    "\n",
    "# Test case \n",
    "assert Solution().twoSum([3, 3], 6) == [0, 1]\n",
    "assert Solution().twoSum([1, 2, 3], 4) == [0, 2]\n",
    "assert Solution().twoSum([2, 7, 11, 15], 100) == None    "
   ]
  }
 ],
 "metadata": {
  "kernelspec": {
   "display_name": "venv_alg",
   "language": "python",
   "name": "python3"
  },
  "language_info": {
   "codemirror_mode": {
    "name": "ipython",
    "version": 3
   },
   "file_extension": ".py",
   "mimetype": "text/x-python",
   "name": "python",
   "nbconvert_exporter": "python",
   "pygments_lexer": "ipython3",
   "version": "3.11.5"
  }
 },
 "nbformat": 4,
 "nbformat_minor": 2
}
