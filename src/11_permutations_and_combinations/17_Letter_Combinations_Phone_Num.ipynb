{
 "cells": [
  {
   "cell_type": "markdown",
   "metadata": {},
   "source": [
    "### 17. Letter Combinations of a Phone Number\n",
    "\n",
    "https://leetcode.com/problems/letter-combinations-of-a-phone-number/description/\n",
    "\n",
    "https://leetcode.com/problems/letter-combinations-of-a-phone-number/submissions/1291166265/\n",
    "\n"
   ]
  },
  {
   "cell_type": "code",
   "execution_count": 18,
   "metadata": {},
   "outputs": [
    {
     "name": "stdout",
     "output_type": "stream",
     "text": [
      "['a', 'b', 'c']\n",
      "['ad', 'ae', 'af', 'bd', 'be', 'bf', 'cd', 'ce', 'cf']\n",
      "['adg', 'adh', 'adi', 'aeg', 'aeh', 'aei', 'afg', 'afh', 'afi', 'bdg', 'bdh', 'bdi', 'beg', 'beh', 'bei', 'bfg', 'bfh', 'bfi', 'cdg', 'cdh', 'cdi', 'ceg', 'ceh', 'cei', 'cfg', 'cfh', 'cfi']\n"
     ]
    }
   ],
   "source": [
    "#Iterative approach \n",
    "\n",
    "from typing import List\n",
    "\n",
    "telephone_dict = {                \n",
    "    \"2\": 'abc',\n",
    "    \"3\": 'def',\n",
    "    \"4\": 'ghi',\n",
    "    \"5\": 'jkl',\n",
    "    \"6\": 'mno',\n",
    "    \"7\": 'pqrs',\n",
    "    \"8\": 'tuv',\n",
    "    \"9\": 'wxyz'\n",
    "}\n",
    "\n",
    "class Solution:\n",
    "        \n",
    "    def add_ch_to_the_str(self, new_string, combinations):                             \n",
    "        tmp=[]\n",
    "        for comb in combinations:                \n",
    "            for s in new_string:                    \n",
    "                tmp.append(comb + s)\n",
    "        return tmp                                    \n",
    "        \n",
    "    def letterCombinations(self, digits: str) -> List[str]:        \n",
    "        # Pseudo code:\n",
    "        # 1. for the first iteration; res -> 'abc' -> [a, b, c]\n",
    "        # 2. next iteration 'def' -> [a, b, c]; res[i] + ch -> [ad, ae, af, bd, b ]\n",
    "                 \n",
    "        #limitations:\n",
    "        #0 <= digits.length <= 4 \n",
    "        \n",
    "        if not digits:\n",
    "            return []\n",
    "         \n",
    "        \n",
    "        #TODO\n",
    "        #1. initial arr of the chars based on the first latter \n",
    "        combinations = list(telephone_dict.get(digits[0])) \n",
    "        #2. go througt reminig digits \n",
    "        for c in digits[1:]:\n",
    "            # for the each of the combination, add each symbol for the next str\n",
    "            combinations = self.add_ch_to_the_str(telephone_dict.get(c), combinations)                         \n",
    "                                            \n",
    "        return combinations\n",
    "        \n",
    "\n",
    "print(Solution().letterCombinations('2'))  \n",
    "# Input: digits = \"23\"\n",
    "# Output: [\"ad\",\"ae\",\"af\",\"bd\",\"be\",\"bf\",\"cd\",\"ce\",\"cf\"]\n",
    "print(Solution().letterCombinations('23'))    \n",
    "\n",
    "#Output: \n",
    "#['adg', 'adh', 'adi', 'aeg', 'aeh', 'aei', 'afg', 'afh', 'afi',    \n",
    "# 'bdg', 'bdh', 'bdi', 'beg', 'beh', 'bei', 'bfg', 'bfh', 'bfi',    \n",
    "# 'cdg', 'cdh', 'cdi', 'ceg', 'ceh', 'cei', 'cfg', 'cfh', 'cfi']\n",
    "print(Solution().letterCombinations('234'))    \n",
    "    "
   ]
  },
  {
   "cell_type": "code",
   "execution_count": null,
   "metadata": {},
   "outputs": [],
   "source": [
    "# TODO\n",
    "# DP approach "
   ]
  },
  {
   "cell_type": "code",
   "execution_count": null,
   "metadata": {},
   "outputs": [],
   "source": [
    "# TODO\n",
    "# Backtracking approach"
   ]
  }
 ],
 "metadata": {
  "kernelspec": {
   "display_name": "venv_alg",
   "language": "python",
   "name": "python3"
  },
  "language_info": {
   "codemirror_mode": {
    "name": "ipython",
    "version": 3
   },
   "file_extension": ".py",
   "mimetype": "text/x-python",
   "name": "python",
   "nbconvert_exporter": "python",
   "pygments_lexer": "ipython3",
   "version": "3.11.5"
  }
 },
 "nbformat": 4,
 "nbformat_minor": 2
}
