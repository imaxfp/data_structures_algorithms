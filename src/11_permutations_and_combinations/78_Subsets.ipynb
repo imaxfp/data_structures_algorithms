{
 "cells": [
  {
   "cell_type": "markdown",
   "metadata": {},
   "source": [
    "### 78. Subsets\n",
    "\n",
    "https://leetcode.com/problems/subsets/description/\n",
    "\n",
    "\n",
    "https://leetcode.com/problems/subsets/submissions/1290395671/\n",
    "\n",
    "\n",
    "Main Idea of Subsets Based on Array [1, 2, 3]: The power set of a given set is the set of all possible subsets,  including the empty set and the set itself.\n",
    "\n",
    "For an array [1, 2, 3], the power set contains all combinations of the elements:\n",
    "- [] (empty subset)\n",
    "- [1], [2], [3] (single-element subsets)\n",
    "- [1, 2], [1, 3], [2, 3] (two-element subsets)\n",
    "- [1, 2, 3] (the full set)"
   ]
  },
  {
   "cell_type": "code",
   "execution_count": 3,
   "metadata": {},
   "outputs": [
    {
     "name": "stdout",
     "output_type": "stream",
     "text": [
      "[[], [1], [2], [1, 2], [3], [1, 3], [2, 3], [1, 2, 3]]\n"
     ]
    }
   ],
   "source": [
    "#Iterative approach \n",
    "from typing import List\n",
    "\n",
    "class Solution:\n",
    "    def subsets(self, nums: List[int]) -> List[List[int]]:\n",
    "        res = [[]]\n",
    "        for num in nums:\n",
    "            for i in range(len(res)):\n",
    "                res.append(res[i] + [num])\n",
    "        return res\n",
    "\n",
    "\n",
    "#Input: nums = [1,2,3]\n",
    "#Output: [[],[1],[2],[1,2],[3],[1,3],[2,3],[1,2,3]]\n",
    "print(Solution().subsets([1,2,3]))"
   ]
  },
  {
   "cell_type": "markdown",
   "metadata": {},
   "source": [
    "### Backtracking\n",
    "\n",
    "Backtracking - trying to build a solution piece by piece and **removing those pieces (backtracking)** if they do not lead to a valid solution. \n",
    "\n",
    "It is often used for problems involving permutations, combinations, and subsets.\n",
    "\n",
    "##### Exploration\n",
    "\n",
    "- Backtracking explores all potential candidates for a solution.\n",
    "\n",
    "- It incrementally builds candidates to the solutions and abandons a candidate as soon as it determines that this candidate **cannot lead to a valid solution**\n",
    "\n",
    "##### Recursive Approach:\n",
    "\n",
    "- Typically implemented using recursion.\n",
    "\n",
    "- At each recursive call, the algorithm makes a choice and proceeds with further recursive calls.\n",
    "\n",
    "- If a certain path does not lead to a solution, the algorithm backtracks, removing the last choice and trying the next option.\n",
    "\n",
    "\n"
   ]
  },
  {
   "cell_type": "markdown",
   "metadata": {},
   "source": [
    "### Step-by-Step Example with [1, 2, 3]:\n",
    "\n",
    "##### Initial Call:\n",
    "\n",
    "- Start with an empty subset: path = []\n",
    "- Call the recursive function with start = 0.\n",
    "\n",
    "##### First Element (1):\n",
    "\n",
    "- Include 1 in the subset: path = [1]\n",
    "- Call the recursive function with start = 1.\n",
    "\n",
    "##### Second Element (2):\n",
    "\n",
    "- Include 2 in the subset: path = [1, 2]\n",
    "- Call the recursive function with start = 2.\n",
    "\n",
    "##### Third Element (3):\n",
    "\n",
    "- Include 3 in the subset: path = [1, 2, 3]\n",
    "- Call the recursive function with start = 3 (end of array, add [1, 2, 3] to result).\n",
    "\n",
    "\n",
    "##### Backtrack:\n",
    "\n",
    "- Remove 3 and try next element: path = [1, 2]\n",
    "- Remove 2 and try next element: path = [1]\n",
    "- Repeat for all combinations."
   ]
  },
  {
   "cell_type": "code",
   "execution_count": 7,
   "metadata": {},
   "outputs": [
    {
     "name": "stdout",
     "output_type": "stream",
     "text": [
      "[[], [1], [1, 2], [1, 2, 3], [1, 3], [2], [2, 3], [3]]\n"
     ]
    }
   ],
   "source": [
    "# Generating All Subsets with Backtracking\n",
    "from typing import List\n",
    "\n",
    "class Solution:\n",
    "    def subsets(self, nums: List[int]) -> List[List[int]]:\n",
    "        \n",
    "        def backtrack(start, path):\n",
    "            res.append(path[:])\n",
    "            for i in range(start, len(nums)):\n",
    "                path.append(nums[i])\n",
    "                backtrack(i + 1, path)\n",
    "                path.pop()  # Remove last element to backtrack\n",
    "\n",
    "        res = []\n",
    "        path = []\n",
    "        backtrack(0, path)\n",
    "        return res\n",
    "\n",
    "# Input: nums = [1,2,3]\n",
    "# Output: [[], [1], [2], [1, 2], [3], [1, 3], [2, 3], [1, 2, 3]]\n",
    "print(Solution().subsets([1, 2, 3]))  \n",
    "\n"
   ]
  }
 ],
 "metadata": {
  "kernelspec": {
   "display_name": "venv_alg",
   "language": "python",
   "name": "python3"
  },
  "language_info": {
   "codemirror_mode": {
    "name": "ipython",
    "version": 3
   },
   "file_extension": ".py",
   "mimetype": "text/x-python",
   "name": "python",
   "nbconvert_exporter": "python",
   "pygments_lexer": "ipython3",
   "version": "3.11.5"
  }
 },
 "nbformat": 4,
 "nbformat_minor": 2
}
