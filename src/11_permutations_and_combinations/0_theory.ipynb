{
 "cells": [
  {
   "cell_type": "markdown",
   "metadata": {},
   "source": [
    "### Theory of Permutations\n",
    "Definition: A permutation of a set is an arrangement of its elements in a specific order. For a set of n elements, there are n! (n factorial) possible permutations.\n",
    "\n",
    "### Example:\n",
    "For a set [1, 2, 3], the permutations are:\n",
    "\n",
    "- [1, 2, 3]\n",
    "- [1, 3, 2]\n",
    "- [2, 1, 3]\n",
    "- [2, 3, 1]\n",
    "- [3, 1, 2]\n",
    "- [3, 2, 1]\n",
    "\n",
    "This set has 3! = 6 permutations.\n",
    "\n",
    "### Algorithm to Generate Permutations\n",
    "Recursive Approach:\n",
    "\n",
    "- Bas Case: If the array is empty, return an empty permutation.\n",
    "\n",
    "- Recursive Case: For each element in the array, generate all permutations of the remaining elements, and prepend the current element to each of those permutations.\n",
    "\n",
    "### Here's the recursive algorithm:\n",
    "\n",
    "- Choose: Pick an element to be the first in the permutation.\n",
    "- Explore: Recursively compute all permutations of the remaining elements.\n",
    "- Un-choose: Move to the next element and repeat the process."
   ]
  },
  {
   "cell_type": "markdown",
   "metadata": {},
   "source": [
    "### Combinations VS Permutations\n",
    "\n",
    "## Combinations \n",
    "- refer to the selection of all or part of a set of objects without considering the order of selection. The order does not matter in combinations. For example, when rolling two dice and looking at the sum, it doesn’t matter if you roll a 3 and a 4 or a 4 and a 3, the result is the same.\n",
    "\n",
    "- $C(n, r) = \\frac{n!}{r!(n - r)!}$\n",
    "\n",
    "- - **n** is the total number of items.\n",
    "- - **r** is the number of items to be arranged.\n",
    "\n",
    "When we say **order does not metter** it means we cannot rearange the order in arr like [1,2,3], [3,2,1],...\n",
    "\n",
    "#### For r = 1\n",
    "```\n",
    "combinations: [1], [2], [3], [4], [5], [6]\n",
    "Number of combinations: \n",
    "C(6,1)=6\n",
    "```\n",
    "$C(6, 1) = \\frac{6!}{1!(6 - 1)!} = \\frac{720}{1 * 120} = 6$\n",
    "\n",
    "#### For r = 2\n",
    "```\n",
    "combinations: [1, 2], [1, 3], [1, 4], [1, 5], [1, 6], [2, 3], [2, 4], [2, 5], [2, 6], [3, 4], [3, 5], [3, 6], [4, 5], [4, 6], [5, 6]\n",
    "\n",
    "Number of combinations: \n",
    "C(6,2)=15\n",
    "```\n",
    "$C(6, 2) = \\frac{6!}{2!(6 - 2)!} = \\frac{720}{2 * 24} = 15$\n",
    "\n",
    "## Permutations \n",
    "- refer to the arrangement of all or part of a set of objects in a specific order. The order of arrangement matters in permutations. **Order Matters: Changing the order of elements results in a different permutation.**\n",
    "\n",
    "\n",
    "- $P(n, r) = \\frac{n!}{(n - r)!}$\n",
    "- - n is the total number of distinct elements.\n",
    "- - r is the number of elements taken at a time.\n",
    "So all permuted elements \"order metters\" just **n!**\n",
    "\n",
    "#### For r = 2\n",
    "```\n",
    "Here are all the permutations of 2 elements from [1, 2, 3, 4, 5, 6]:\n",
    "\n",
    "1. (1, 2)\n",
    "2. (1, 3)\n",
    "3. (1, 4)\n",
    "4. (1, 5)\n",
    "5. (1, 6)\n",
    "6. (2, 1)\n",
    "7. (2, 3)\n",
    "8. (2, 4)\n",
    "9. (2, 5)\n",
    "10. (2, 6)\n",
    "11. (3, 1)\n",
    "12. (3, 2)\n",
    "13. (3, 4)\n",
    "14. (3, 5)\n",
    "15. (3, 6)\n",
    "16. (4, 1)\n",
    "17. (4, 2)\n",
    "18. (4, 3)\n",
    "19. (4, 5)\n",
    "20. (4, 6)\n",
    "21. (5, 1)\n",
    "22. (5, 2)\n",
    "23. (5, 3)\n",
    "24. (5, 4)\n",
    "25. (5, 6)\n",
    "26. (6, 1)\n",
    "27. (6, 2)\n",
    "28. (6, 3)\n",
    "29. (6, 4)\n",
    "30. (6, 5)\n",
    "```\n",
    "$P(6, 2) = \\frac{6!}{(6 - 2)!} = \\frac{720}{(24)} = 30$\n",
    "\n",
    "#### For r = 6\n",
    "$P(6, 6) = \\frac{6!}{(6 - 6)!} = \\frac{720}{(1)} = 720$"
   ]
  },
  {
   "cell_type": "markdown",
   "metadata": {},
   "source": [
    "<img src=\"./img/permutations_tree.png\" alt=\"description\" width=\"600\" height=\"400\">\n"
   ]
  },
  {
   "cell_type": "code",
   "execution_count": 1,
   "metadata": {},
   "outputs": [
    {
     "name": "stdout",
     "output_type": "stream",
     "text": [
      "[1, 2, 3]\n",
      "[1, 3, 2]\n",
      "[2, 1, 3]\n",
      "[2, 3, 1]\n",
      "[3, 1, 2]\n",
      "[3, 2, 1]\n"
     ]
    }
   ],
   "source": [
    "def permute(arr):\n",
    "    if len(arr) == 0:\n",
    "        return [[]]\n",
    "    \n",
    "    permutations = []\n",
    "    for i in range(len(arr)):\n",
    "        element = arr[i]\n",
    "        remaining_elements = arr[:i] + arr[i+1:]\n",
    "        for perm in permute(remaining_elements):\n",
    "            permutations.append([element] + perm)\n",
    "    return permutations\n",
    "\n",
    "# Example usage\n",
    "array = [1, 2, 3]\n",
    "permutations = permute(array)\n",
    "for perm in permutations:\n",
    "    print(perm)\n"
   ]
  },
  {
   "cell_type": "markdown",
   "metadata": {},
   "source": [
    "The simple recursive algorithm for generating all permutations of an array works like a branching tree. It starts with one element, explores all possible choices for the next element, and repeats this process for each subsequent element. This recursive “tree” expands until it covers all permutations, ensuring that no arrangement is missed. It’s like systematically trying out different orders for the elements, gradually building each permutation, one step at a time.\n",
    "\n",
    "- To generate all the permutations of an array from index l to r, fix an element at index l and recur for the index l+1 to r.\n",
    "\n",
    "- Backtrack and fix another element at index l and recur for index l+1 to r.\n",
    "\n",
    "- Repeat the above steps to generate all the permutations."
   ]
  },
  {
   "cell_type": "code",
   "execution_count": null,
   "metadata": {},
   "outputs": [],
   "source": []
  }
 ],
 "metadata": {
  "kernelspec": {
   "display_name": "venv_alg",
   "language": "python",
   "name": "python3"
  },
  "language_info": {
   "codemirror_mode": {
    "name": "ipython",
    "version": 3
   },
   "file_extension": ".py",
   "mimetype": "text/x-python",
   "name": "python",
   "nbconvert_exporter": "python",
   "pygments_lexer": "ipython3",
   "version": "3.11.5"
  }
 },
 "nbformat": 4,
 "nbformat_minor": 2
}
