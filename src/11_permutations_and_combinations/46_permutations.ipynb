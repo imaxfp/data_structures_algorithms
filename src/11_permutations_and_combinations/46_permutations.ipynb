{
 "cells": [
  {
   "cell_type": "markdown",
   "metadata": {},
   "source": [
    "### 46. Permutations\n",
    "\n",
    "https://leetcode.com/problems/permutations/submissions/1290045074/\n",
    "\n",
    "\n",
    "Classic backtracking recursion problem\n",
    "\n",
    "https://www.youtube.com/watch?v=mYBBaVnCthc\n",
    "\n",
    "https://www.youtube.com/watch?v=s7AvT7cGdSo\n",
    "\n",
    "\n",
    "\n",
    "### Decision Tree\n"
   ]
  },
  {
   "cell_type": "code",
   "execution_count": 46,
   "metadata": {},
   "outputs": [
    {
     "name": "stdout",
     "output_type": "stream",
     "text": [
      "Level 0:\n",
      "[1, 2, 3] \n",
      "\n",
      "Level 1:\n",
      "[1, 2, 3] [2, 1, 3] [3, 2, 1] \n",
      "\n",
      "Level 2:\n",
      "[1, 2, 3] [1, 3, 2] [2, 1, 3] [2, 3, 1] [3, 2, 1] [3, 1, 2] \n",
      "\n",
      "Level 3:\n",
      "[1, 2, 3] [1, 3, 2] [2, 1, 3] [2, 3, 1] [3, 2, 1] [3, 1, 2] \n",
      "\n",
      "elements in arr n = 3. n!, 3! = 6\n"
     ]
    }
   ],
   "source": [
    "#NAIVE APPROACH 'JUST FOR DEMO' \n",
    "\n",
    "from typing import List\n",
    "import copy\n",
    "\n",
    "class Solution:\n",
    "    def swap(self, arr_nums, position):\n",
    "        swapped = []\n",
    "        for arr_num in arr_nums:\n",
    "            for i in range(position, len(arr_num)):\n",
    "                arr = copy.deepcopy(arr_num)\n",
    "                #tmp = nums[position]\n",
    "                #nums[position] = nums[i]\n",
    "                #nums[i] = tmp            \n",
    "                arr[i], arr[position] = arr_num[position], arr_num[i]\n",
    "                swapped.append(arr)\n",
    "        return swapped\n",
    "    \n",
    "    def print_tree_level(self, level, permutations):        \n",
    "        print(f\"Level {level}:\")\n",
    "        for perm in permutations:\n",
    "            print(\"\".join(str(perm)), end=\" \")\n",
    "        print(\"\\n\")                    \n",
    "    \n",
    "    def permute(self, nums: List[int]) -> List[List[int]]:        \n",
    "        #get first level of the TREE\n",
    "        self.print_tree_level(0, [nums])\n",
    "        res = self.swap([nums], 0)\n",
    "        self.print_tree_level(1, res)\n",
    "\n",
    "        # Get down levels of the permutations \n",
    "        for i in range(1, len(nums)):            \n",
    "            # iterate via TREE level \n",
    "            res = self.swap(res, i)\n",
    "            self.print_tree_level(i + 1, res)\n",
    "        \n",
    "        #final tree:\n",
    "        return len(res), res\n",
    "                       \n",
    "nums = [1,2,3]  \n",
    "combinations, res = Solution().permute([1,2,3]) \n",
    "print(f\"elements in arr n = {len(nums)}. n!, 3! = {combinations}\")   \n",
    "#print(Solution().permute(['A','B','C', 'D']))     "
   ]
  }
 ],
 "metadata": {
  "kernelspec": {
   "display_name": "venv_alg",
   "language": "python",
   "name": "python3"
  },
  "language_info": {
   "codemirror_mode": {
    "name": "ipython",
    "version": 3
   },
   "file_extension": ".py",
   "mimetype": "text/x-python",
   "name": "python",
   "nbconvert_exporter": "python",
   "pygments_lexer": "ipython3",
   "version": "3.11.5"
  }
 },
 "nbformat": 4,
 "nbformat_minor": 2
}
