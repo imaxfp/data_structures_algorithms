{
 "cells": [
  {
   "cell_type": "markdown",
   "metadata": {},
   "source": [
    "### 2352. Equal Row and Column Pairs\n",
    "\n",
    "https://leetcode.com/problems/equal-row-and-column-pairs/description/"
   ]
  },
  {
   "cell_type": "code",
   "execution_count": 50,
   "metadata": {},
   "outputs": [
    {
     "name": "stdout",
     "output_type": "stream",
     "text": [
      "2\n",
      "4\n",
      "1\n",
      "3\n"
     ]
    }
   ],
   "source": [
    "from typing import List\n",
    "\n",
    "class Solution:\n",
    "    def equalPairs(self, grid: List[List[int]]) -> int:\n",
    "        #Brute Force solution (each row compare with each column) O(n*m)\n",
    "        \n",
    "        # HashMap solution O(n)\n",
    "        # 1. dict for row abd column \n",
    "        # 2. dict key -> str with consequtive row/col elements; val -> amount\n",
    "        # 3. go via hash map and calc sum \n",
    "        rowDict = {}\n",
    "        #process rows\n",
    "        for i in range(0, len(grid)):            \n",
    "            rowDict[str(grid[i])] = rowDict.get(str(grid[i]), 0) + 1\n",
    "        \n",
    "        res = 0       \n",
    "        #process columns\n",
    "        for row in range(0, len(grid[0])):            \n",
    "            column = []\n",
    "            for col in range(0, len(grid)):\n",
    "                column.append(grid[col][row])\n",
    "            if rowDict.get(str(column)):\n",
    "                res+=rowDict.get(str(column))  \n",
    "        return res        \n",
    "                \n",
    "#grid = [[11,1],\n",
    "#        [1,11]]\n",
    "#Expected 2\n",
    "print(Solution().equalPairs([[11,1],[1,11]]))                                                       \n",
    "        \n",
    "#Expected 4\n",
    "print(Solution().equalPairs([[13,13],[13,13]]))\n",
    "\n",
    "        \n",
    "#Input: grid = [[3,2,1],[1,7,6],[2,7,7], [2,7,7]]\n",
    "#Output: 1\n",
    "#Explanation: There is 1 equal row and column pair: - (Row 2, Column 1): [2,7,7]\n",
    "print(Solution().equalPairs([[3,2,1],[1,7,6],[2,7,7]]))\n",
    "\n",
    "#Input: grid = [[3,1,2,2],[1,4,4,5],[2,4,2,2],[2,4,2,2]]\n",
    "#Output: 3\n",
    "print(Solution().equalPairs([[3,1,2,2],[1,4,4,5],[2,4,2,2],[2,4,2,2]]))"
   ]
  }
 ],
 "metadata": {
  "kernelspec": {
   "display_name": "venv_alg",
   "language": "python",
   "name": "python3"
  },
  "language_info": {
   "codemirror_mode": {
    "name": "ipython",
    "version": 3
   },
   "file_extension": ".py",
   "mimetype": "text/x-python",
   "name": "python",
   "nbconvert_exporter": "python",
   "pygments_lexer": "ipython3",
   "version": "3.11.5"
  }
 },
 "nbformat": 4,
 "nbformat_minor": 2
}
