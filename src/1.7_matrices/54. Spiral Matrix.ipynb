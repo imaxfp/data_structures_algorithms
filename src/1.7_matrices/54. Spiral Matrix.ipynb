{
 "cells": [
  {
   "cell_type": "markdown",
   "metadata": {},
   "source": [
    "### 54. Spiral Matrix\n",
    "\n",
    "https://leetcode.com/problems/rotate-image/description"
   ]
  },
  {
   "cell_type": "code",
   "execution_count": 27,
   "metadata": {},
   "outputs": [
    {
     "name": "stdout",
     "output_type": "stream",
     "text": [
      "[1, 2, 3, 6, 9, 8, 7, 1]\n"
     ]
    }
   ],
   "source": [
    "from typing import List\n",
    "\n",
    "\n",
    "class Solution:\n",
    "    def spiralOrder(self, matrix: List[List[int]]) -> List[int]:\n",
    "        #1. def for go via borders of the matrix\n",
    "        #2. send to the 'def' matrix size // 2 \n",
    "        #3. collect results. \n",
    "        def collect_matrix_border(matrix, res):            \n",
    "            #iterate submatrix\n",
    "            for s in range(len(matrix) // 2):                            \n",
    "                #right to left\n",
    "                for i in range(len(matrix[s:])):\n",
    "                    res.append(matrix[s][i])\n",
    "                #up to down    \n",
    "                for i in range(s+1, len(matrix)):\n",
    "                    res.append(matrix[i][len(matrix[s])-1])\n",
    "                #right to left    \n",
    "                for i in range(len(matrix)-s-2, -1, -1):\n",
    "                    res.append(matrix[len(matrix)-s-1][i])    \n",
    "                #down to up    \n",
    "                for i in range(len(matrix[s])-len(matrix), -1, -1):\n",
    "                    res.append(matrix[i][s])  \n",
    "            return res                                                 \n",
    "        \n",
    "        res = []   \n",
    "        return collect_matrix_border(matrix, res)                     \n",
    "        \n",
    "#matrix = [[1,2,3],\n",
    "#          [4,5,6],\n",
    "#          [7,8,9]]        \n",
    "#Output: [1,2,3,6,9,8,7,4,5]\n",
    "\n",
    "print(Solution().spiralOrder([[1,2,3],[4,5,6],[7,8,9]]))        "
   ]
  }
 ],
 "metadata": {
  "kernelspec": {
   "display_name": "venv_alg",
   "language": "python",
   "name": "python3"
  },
  "language_info": {
   "codemirror_mode": {
    "name": "ipython",
    "version": 3
   },
   "file_extension": ".py",
   "mimetype": "text/x-python",
   "name": "python",
   "nbconvert_exporter": "python",
   "pygments_lexer": "ipython3",
   "version": "3.11.5"
  }
 },
 "nbformat": 4,
 "nbformat_minor": 2
}
