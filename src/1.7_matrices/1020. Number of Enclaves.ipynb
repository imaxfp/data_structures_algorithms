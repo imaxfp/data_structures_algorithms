{
 "cells": [
  {
   "cell_type": "markdown",
   "metadata": {},
   "source": [
    "### 1020. Number of Enclaves\n",
    "\n",
    "https://leetcode.com/problems/number-of-enclaves/description/"
   ]
  },
  {
   "cell_type": "code",
   "execution_count": 32,
   "metadata": {},
   "outputs": [
    {
     "data": {
      "text/plain": [
       "3"
      ]
     },
     "execution_count": 32,
     "metadata": {},
     "output_type": "execute_result"
    }
   ],
   "source": [
    "from typing import List\n",
    "\n",
    "\n",
    "class Solution:\n",
    "    def numEnclaves(self, grid: List[List[int]]) -> int:\n",
    "        #TASK \n",
    "        #DFS for counting all 1 if the 'island' do not touch the borders\n",
    "\n",
    "        #SOLUTION\n",
    "        #1. Remove all Islands which touches borders. \n",
    "        #2. count remaining islands \n",
    "        total_cells=0\n",
    "        def dfs(row, col, on_border):            \n",
    "            #base case: check island shape    \n",
    "            if  row < 0 or row >= len(grid) or col < 0 or col >= len(grid[0]) or grid[row][col] == 0:\n",
    "                return            \n",
    "            # mark as visited\n",
    "            grid[row][col] = 0\n",
    "            # Recursively += amount of the cell market by 1\n",
    "            dfs(row + 1, col, on_border)\n",
    "            dfs(row - 1, col, on_border)\n",
    "            dfs(row, col + 1, on_border)\n",
    "            dfs(row, col - 1, on_border)\n",
    "                        \n",
    "        for row in range(len(grid)):\n",
    "            for col in range(len(grid[0])):\n",
    "                if row == 0 or row == len(grid)-1 or col == 0 or col == len(grid[0])-1:                    \n",
    "                    if grid[row][col] == 1:\n",
    "                        dfs(row, col, on_border=False)\n",
    "\n",
    "        return sum(sum(row) for row in grid)\n",
    "\n",
    "#Input: grid = [[0,0,0,0],\n",
    "#               [1,0,1,0],\n",
    "#               [0,0,1,0],\n",
    "#               [0,0,0,0]]\n",
    "#Output: 2\n",
    "#Solution().numEnclaves([[0,0,0,0],[1,0,1,0],[0,0,1,0],[0,0,0,0]])\n",
    "#Solution().numEnclaves([[1,0,0],[0,1,0],[0,0,0]])\n",
    "\n",
    "#Input: grid = [[0,1,1,0],[0,0,1,0],[0,0,1,0],[0,0,0,0]]\n",
    "#Output: 0\n",
    "#Solution().numEnclaves([[0,1,1,0],[0,0,1,0],[0,0,1,0],[0,0,0,0]])\n",
    "\n",
    "\n",
    "grid = [[0,0,0,1,1,1,0,1,0,0],[1,1,0,0,0,1,0,1,1,1],[0,0,0,1,1,1,0,1,0,0],[0,1,1,0,0,0,1,0,1,0],[0,1,1,1,1,1,0,0,1,0],[0,0,1,0,1,1,1,1,0,1],[0,1,1,0,0,0,1,1,1,1],[0,0,1,0,0,1,0,1,0,1],[1,0,1,0,1,1,0,0,0,0],[0,0,0,0,1,1,0,0,0,1]]\n",
    "#Expected 3\n",
    "Solution().numEnclaves(grid)\n"
   ]
  }
 ],
 "metadata": {
  "kernelspec": {
   "display_name": "Python 3",
   "language": "python",
   "name": "python3"
  },
  "language_info": {
   "codemirror_mode": {
    "name": "ipython",
    "version": 3
   },
   "file_extension": ".py",
   "mimetype": "text/x-python",
   "name": "python",
   "nbconvert_exporter": "python",
   "pygments_lexer": "ipython3",
   "version": "3.9.6"
  }
 },
 "nbformat": 4,
 "nbformat_minor": 2
}
