{
 "cells": [
  {
   "cell_type": "markdown",
   "metadata": {},
   "source": [
    "### 2500. Delete Greatest Value in Each Row\n",
    "\n",
    "https://leetcode.com/problems/delete-greatest-value-in-each-row/description/"
   ]
  },
  {
   "cell_type": "code",
   "execution_count": 7,
   "metadata": {},
   "outputs": [
    {
     "name": "stdout",
     "output_type": "stream",
     "text": [
      "8\n"
     ]
    }
   ],
   "source": [
    "from typing import List\n",
    "\n",
    "\n",
    "class Solution:\n",
    "    def deleteGreatestValue(self, grid: List[List[int]]) -> int:\n",
    "        #1. go via lines of the matrix\n",
    "        #2. find index max on the line\n",
    "        #3. pop element by index\n",
    "        #4. find max on the popped element\n",
    "        idx = -1\n",
    "        tmp_max = -1        \n",
    "        matrix_max = 0\n",
    "        res = 0\n",
    "        \n",
    "        \n",
    "        while grid[0]:            \n",
    "            for i in range(len(grid)):\n",
    "                for j in range(len(grid[i])):\n",
    "                    if grid[i][j] > tmp_max:\n",
    "                        tmp_max = grid[i][j]            \n",
    "                        idx = j                                                \n",
    "                el = grid[i].pop(idx)\n",
    "                if matrix_max < el:\n",
    "                    matrix_max = el                \n",
    "                tmp_max = -1  \n",
    "            res += matrix_max\n",
    "            matrix_max = -1                                           \n",
    "        return res \n",
    "            \n",
    "                      \n",
    "\n",
    "print(Solution().deleteGreatestValue([[1,2,4],[3,3,1]]))"
   ]
  }
 ],
 "metadata": {
  "kernelspec": {
   "display_name": "venv_alg",
   "language": "python",
   "name": "python3"
  },
  "language_info": {
   "codemirror_mode": {
    "name": "ipython",
    "version": 3
   },
   "file_extension": ".py",
   "mimetype": "text/x-python",
   "name": "python",
   "nbconvert_exporter": "python",
   "pygments_lexer": "ipython3",
   "version": "3.11.5"
  }
 },
 "nbformat": 4,
 "nbformat_minor": 2
}
