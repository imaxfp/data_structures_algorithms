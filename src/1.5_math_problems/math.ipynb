{
 "cells": [
  {
   "cell_type": "markdown",
   "metadata": {},
   "source": [
    "# Time complexity\n",
    "discussing time complexity, **constant factors are generally ignored. This is because time complexity focuses on how the algorithm scales with the size of the input**, and constant factors do not change with the size of the input.\n",
    "\n",
    "https://www.bigocheatsheet.com\n"
   ]
  },
  {
   "cell_type": "markdown",
   "metadata": {},
   "source": [
    "# 169. Majority Element\n",
    "\n",
    "```bash\n",
    "Given an array nums of size n, return the majority element.\n",
    "\n",
    "The majority element is the element that appears more than ⌊n / 2⌋ times. You may assume that the majority element always exists in the array.\n",
    "\n",
    "Example 1:\n",
    "\n",
    "Input: nums = [3,2,3]\n",
    "Output: 3\n",
    "Example 2:\n",
    "\n",
    "Input: nums = [2,2,1,1,1,2,2]\n",
    "Output: 2\n",
    "\n",
    "```\n",
    "\n"
   ]
  },
  {
   "cell_type": "code",
   "execution_count": null,
   "metadata": {},
   "outputs": [],
   "source": [
    "from typing import List\n",
    "#Time complexity: O(n)\n",
    "#Space complexity: O(n)\n",
    "class Solution:\n",
    "    def majorityElement(self, nums: List[int]) -> int:\n",
    "        res_map = {}\n",
    "        max_key = 0\n",
    "        max_val = 0\n",
    "        for n in nums:\n",
    "            value = res_map.get(n, 0)\n",
    "            value += 1\n",
    "            res_map[n] = value\n",
    "\n",
    "            if value > max_val:                                \n",
    "                max_val = value\n",
    "                max_key = n\n",
    "        return max_key\n",
    "\n",
    "solution = Solution()\n",
    "assert solution.majorityElement([3, 2, 3]) == 3\n",
    "assert solution.majorityElement([2, 2, 1, 1, 1, 2, 2]) == 2      "
   ]
  },
  {
   "cell_type": "code",
   "execution_count": 3,
   "metadata": {},
   "outputs": [],
   "source": [
    "# Voting algorithm\n",
    "from typing import List\n",
    "#Time complexity: O(n)\n",
    "#Space complexity: O(1)\n",
    "class Solution:\n",
    "    def majorityElement(self, nums: List[int]) -> int:\n",
    "        candidate = None\n",
    "        ctr = 0\n",
    "        for n in nums:\n",
    "            if ctr == 0:\n",
    "                candidate = n\n",
    "            if candidate == n:\n",
    "                ctr += 1\n",
    "            else:\n",
    "                ctr -= 1\n",
    "        return candidate  \n",
    "\n",
    "solution = Solution()\n",
    "assert solution.majorityElement([3, 2, 3]) == 3\n",
    "assert solution.majorityElement([2, 2, 1, 1, 1, 2, 2]) == 2    \n",
    "    "
   ]
  },
  {
   "cell_type": "code",
   "execution_count": 3,
   "metadata": {},
   "outputs": [
    {
     "name": "stdout",
     "output_type": "stream",
     "text": [
      "1\n",
      "2\n",
      "3\n"
     ]
    }
   ],
   "source": [
    "import queue\n",
    "\n",
    "#FIFO\n",
    "queue1 = queue.Queue()\n",
    "\n",
    "queue1.put(1)\n",
    "queue1.put(2)\n",
    "queue1.put(3)\n",
    "\n",
    "print(queue1.get())\n",
    "print(queue1.get())\n",
    "print(queue1.get())\n"
   ]
  }
 ],
 "metadata": {
  "kernelspec": {
   "display_name": "venv_alg",
   "language": "python",
   "name": "python3"
  },
  "language_info": {
   "codemirror_mode": {
    "name": "ipython",
    "version": 3
   },
   "file_extension": ".py",
   "mimetype": "text/x-python",
   "name": "python",
   "nbconvert_exporter": "python",
   "pygments_lexer": "ipython3",
   "version": "3.11.5"
  }
 },
 "nbformat": 4,
 "nbformat_minor": 2
}
