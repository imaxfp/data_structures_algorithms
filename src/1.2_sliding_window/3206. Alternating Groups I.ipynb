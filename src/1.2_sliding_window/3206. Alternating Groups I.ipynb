{
 "cells": [
  {
   "cell_type": "markdown",
   "metadata": {},
   "source": [
    "### 3206. Alternating Groups I\n",
    "\n",
    "https://leetcode.com/problems/alternating-groups-i/description"
   ]
  },
  {
   "cell_type": "code",
   "execution_count": 8,
   "metadata": {},
   "outputs": [
    {
     "data": {
      "text/plain": [
       "3"
      ]
     },
     "execution_count": 8,
     "metadata": {},
     "output_type": "execute_result"
    }
   ],
   "source": [
    "from typing import List\n",
    "\n",
    "class Solution:\n",
    "    def numberOfAlternatingGroups(self, colors: List[int]) -> int:\n",
    "        #middle tile has a different color from its left and right tiles\n",
    "        #1. sliding window size 3\n",
    "        #2. count windows where color[0] ==  color[2] and color[0] != color[1]\n",
    "        l=0\n",
    "        r=3\n",
    "        alternating_group = 0\n",
    "        \n",
    "        #Add 2 elements to the end for creation cycle \n",
    "        colors.append(colors[0])\n",
    "        colors.append(colors[1])\n",
    "        while r <= len(colors):\n",
    "            group_cand = colors[l:r]\n",
    "            if group_cand[0] == group_cand[-1] and group_cand[0] != group_cand[1]:\n",
    "                alternating_group+=1\n",
    "            l+=1\n",
    "            r+=1\n",
    "        return alternating_group   \n",
    "    \n",
    "#colors = [0,1,0,0,1] \n",
    "Solution().numberOfAlternatingGroups([0,1,0,0,1])   \n"
   ]
  }
 ],
 "metadata": {
  "kernelspec": {
   "display_name": "venv_alg",
   "language": "python",
   "name": "python3"
  },
  "language_info": {
   "codemirror_mode": {
    "name": "ipython",
    "version": 3
   },
   "file_extension": ".py",
   "mimetype": "text/x-python",
   "name": "python",
   "nbconvert_exporter": "python",
   "pygments_lexer": "ipython3",
   "version": "3.11.5"
  }
 },
 "nbformat": 4,
 "nbformat_minor": 2
}
