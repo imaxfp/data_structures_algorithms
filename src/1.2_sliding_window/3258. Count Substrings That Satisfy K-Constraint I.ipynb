{
 "cells": [
  {
   "cell_type": "markdown",
   "metadata": {},
   "source": [
    "### 3258. Count Substrings That Satisfy K-Constraint I\n",
    "\n",
    "https://leetcode.com/problems/count-substrings-that-satisfy-k-constraint-i/description"
   ]
  },
  {
   "cell_type": "code",
   "execution_count": 13,
   "metadata": {},
   "outputs": [
    {
     "name": "stdout",
     "output_type": "stream",
     "text": [
      "1 1\n",
      "2 0\n",
      "3 1\n",
      "4 0\n",
      "5 1\n",
      "6 0\n",
      "7 1\n",
      "8 10\n",
      "9 01\n",
      "10 10\n",
      "11 01\n",
      "12 10\n",
      "13 01\n",
      "14 101\n",
      "15 010\n",
      "16 101\n",
      "17 010\n",
      "18 101\n",
      "19 1010\n",
      "20 0101\n",
      "21 1010\n",
      "22 0101\n",
      "23 10101\n",
      "24 01010\n",
      "25 10101\n",
      "26 101010\n",
      "27 010101\n",
      "28 1010101\n"
     ]
    },
    {
     "data": {
      "text/plain": [
       "25"
      ]
     },
     "execution_count": 13,
     "metadata": {},
     "output_type": "execute_result"
    }
   ],
   "source": [
    "#BRUTE FORCE SOLUTION\n",
    "class Solution:\n",
    "    def __init__(self):    \n",
    "        self.glob_ptr = 1    \n",
    "    \n",
    "    def countKConstraintSubstrings(self, s: str, k: int) -> int:\n",
    "        #1. create window with k size.\n",
    "        #2. iterate over s and count  k-constraint\n",
    "        #3. extend window + 1, repeat step 2\n",
    "        \n",
    "        \n",
    "        def check_constraint(s):\n",
    "            print(self.glob_ptr, s)\n",
    "            self.glob_ptr+=1\n",
    "            cntr0 = 0\n",
    "            cntr1 = 0\n",
    "            for c in s:\n",
    "                if int(c) == 0:\n",
    "                    cntr0+=1\n",
    "                else:\n",
    "                    cntr1+=1    \n",
    "            return cntr0, cntr1\n",
    "\n",
    "        win_size_expand = 1\n",
    "        l = 0\n",
    "        r = win_size_expand\n",
    "        \n",
    "        res = 0\n",
    "        while r-l <= len(s):\n",
    "            cntr0, cntr1 = check_constraint(s[l:r])            \n",
    "            #at most k. НЕ БІЛЬШЕ НІЖ!\n",
    "            if cntr0 <= k or cntr1 <= k:\n",
    "                res+=1\n",
    "            l+=1\n",
    "            r+=1\n",
    "            if r > len(s):\n",
    "                l = 0\n",
    "                win_size_expand+=1\n",
    "                r = win_size_expand\n",
    "                 \n",
    "        return res \n",
    "    \n",
    "# s = \"11111\"    \n",
    "# k = 1\n",
    "#Solution().countKConstraintSubstrings(\"11111\", 1)        \n",
    "\n",
    "# s = \"1010101\"   \n",
    "# k = 2\n",
    "Solution().countKConstraintSubstrings(\"1010101\", 2)        "
   ]
  }
 ],
 "metadata": {
  "kernelspec": {
   "display_name": "venv_alg",
   "language": "python",
   "name": "python3"
  },
  "language_info": {
   "codemirror_mode": {
    "name": "ipython",
    "version": 3
   },
   "file_extension": ".py",
   "mimetype": "text/x-python",
   "name": "python",
   "nbconvert_exporter": "python",
   "pygments_lexer": "ipython3",
   "version": "3.11.5"
  }
 },
 "nbformat": 4,
 "nbformat_minor": 2
}
