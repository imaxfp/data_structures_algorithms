{
 "cells": [
  {
   "cell_type": "markdown",
   "metadata": {},
   "source": [
    "### 1248. Count Number of Nice Subarrays\n",
    "\n",
    "https://leetcode.com/problems/count-number-of-nice-subarrays/description"
   ]
  },
  {
   "cell_type": "code",
   "execution_count": 14,
   "metadata": {},
   "outputs": [
    {
     "data": {
      "text/plain": [
       "2"
      ]
     },
     "execution_count": 14,
     "metadata": {},
     "output_type": "execute_result"
    }
   ],
   "source": [
    "from typing import List\n",
    "\n",
    "#O(n^2)\n",
    "class Solution:\n",
    "    def numberOfSubarrays(self, nums: List[int], k: int) -> int:\n",
    "\n",
    "        #subarray is called nice if there are k odd \n",
    "        #1. subarrs of odd nums\n",
    "        #2. sliding while odds nums <= k\n",
    "        #3 count subarrs with odds nums                \n",
    "        odds_cntr = 0\n",
    "        odds_res = 0\n",
    "        for l in range(len(nums)-k):\n",
    "            odds_cntr=0\n",
    "            r = l\n",
    "\n",
    "            while r < len(nums):\n",
    "                if nums[r] % 2 != 0:                \n",
    "                    odds_cntr+=1\n",
    "                if odds_cntr == k:                    \n",
    "                    odds_res+=1                 \n",
    "                if odds_cntr > k:\n",
    "                    break                                                                         \n",
    "                r+=1\n",
    "        \n",
    "        return odds_res         \n",
    "    \n",
    "Solution().numberOfSubarrays([1,1,2,1,1], 3)    "
   ]
  },
  {
   "cell_type": "code",
   "execution_count": null,
   "metadata": {},
   "outputs": [],
   "source": [
    "class Solution:\n",
    "    def numberOfSubarrays(self, nums: List[int], k: int) -> int:\n",
    "        odds_cntr = 0  # Counter to track odd numbers\n",
    "        odds_res = 0   # Result variable to store the count of valid subarrays\n",
    "        prefix_count = {0: 1}  # Hashmap to store the frequency of odd number counts\n",
    "\n",
    "        for l in range(len(nums)):\n",
    "            if nums[l] % 2 != 0:  # Increment the counter if the number is odd\n",
    "                odds_cntr += 1\n",
    "\n",
    "            # Check if there exists a subarray ending at the current index with exactly k odd numbers\n",
    "            if odds_cntr - k in prefix_count:\n",
    "                odds_res += prefix_count[odds_cntr - k]\n",
    "\n",
    "            # Update the hashmap with the current odd count\n",
    "            if odds_cntr in prefix_count:\n",
    "                prefix_count[odds_cntr] += 1\n",
    "            else:\n",
    "                prefix_count[odds_cntr] = 1\n",
    "\n",
    "        return odds_res\n",
    "   \n",
    "Solution().numberOfSubarrays([1,1,2,1,1], 3)     \n"
   ]
  }
 ],
 "metadata": {
  "kernelspec": {
   "display_name": "venv_alg",
   "language": "python",
   "name": "python3"
  },
  "language_info": {
   "codemirror_mode": {
    "name": "ipython",
    "version": 3
   },
   "file_extension": ".py",
   "mimetype": "text/x-python",
   "name": "python",
   "nbconvert_exporter": "python",
   "pygments_lexer": "ipython3",
   "version": "3.11.5"
  }
 },
 "nbformat": 4,
 "nbformat_minor": 2
}
