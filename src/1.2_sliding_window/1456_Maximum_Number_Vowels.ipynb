{
 "cells": [
  {
   "cell_type": "markdown",
   "metadata": {},
   "source": [
    "### 1456. Maximum Number of Vowels in a Substring of Given Length\n",
    "\n",
    "https://leetcode.com/problems/maximum-number-of-vowels-in-a-substring-of-given-length/description"
   ]
  },
  {
   "cell_type": "code",
   "execution_count": 40,
   "metadata": {},
   "outputs": [
    {
     "name": "stdout",
     "output_type": "stream",
     "text": [
      "2\n",
      "2\n",
      "4\n",
      "1\n"
     ]
    }
   ],
   "source": [
    "class Solution:\n",
    "    def maxVowels(self, s: str, k: int) -> int:        \n",
    "        vowel_latter = {            \n",
    "            'a':1,\n",
    "            'e':1,\n",
    "            'i':1,\n",
    "            'o':1,\n",
    "            'u':1\n",
    "            }\n",
    "        l = r = 0\n",
    "        window_max = 0\n",
    "        window_tmp = 0\n",
    "        # aeiou\n",
    "        while r < len(s):\n",
    "            if r - l == k:\n",
    "                if vowel_latter.get(s[l]):\n",
    "                    window_tmp-=1                    \n",
    "                l+=1\n",
    "            if vowel_latter.get(s[r]):\n",
    "                window_tmp+=1                                                \n",
    "            r+=1\n",
    "            window_max = max(window_max, window_tmp)\n",
    "        return window_max   \n",
    "                \n",
    "        \n",
    "                \n",
    "#Input: s = \"aeiou\", k = 2\n",
    "#Output: 2\n",
    "#Explanation: Any substring of length 2 contains 2 vowels.          \n",
    "print(Solution().maxVowels(\"aeiou\", 2))\n",
    "\n",
    "#Input: s = \"leetcode\", k = 3\n",
    "#Output: 2\n",
    "#Explanation: \"lee\", \"eet\" and \"ode\" contain 2 vowels.\n",
    "print(Solution().maxVowels(\"leetcode\", 3))\n",
    "\n",
    "#Expected 4\n",
    "print(Solution().maxVowels(\"weallloveyou\", 7))\n",
    "\n",
    "# \"novowels\"\n",
    "# Expected 1\n",
    "print(Solution().maxVowels(\"novowels\", 1))\n",
    "\n",
    "\n",
    "\n",
    "\n"
   ]
  },
  {
   "cell_type": "code",
   "execution_count": 41,
   "metadata": {},
   "outputs": [
    {
     "name": "stdout",
     "output_type": "stream",
     "text": [
      "2\n"
     ]
    }
   ],
   "source": [
    "class Solution:\n",
    "    def maxVowels(self, s: str, k: int) -> int:\n",
    "        vowels = set('aeiou')\n",
    "        max_vowels = current_vowels = 0\n",
    "\n",
    "        for i in range(len(s)):\n",
    "            if s[i] in vowels:\n",
    "                current_vowels += 1\n",
    "            if i >= k and s[i - k] in vowels:\n",
    "                current_vowels -= 1\n",
    "            max_vowels = max(max_vowels, current_vowels)\n",
    "        \n",
    "        return max_vowels\n",
    "    \n",
    "#Input: s = \"aeiou\", k = 2\n",
    "#Output: 2\n",
    "#Explanation: Any substring of length 2 contains 2 vowels.          \n",
    "print(Solution().maxVowels(\"aeiou\", 2))    "
   ]
  }
 ],
 "metadata": {
  "kernelspec": {
   "display_name": "venv_alg",
   "language": "python",
   "name": "python3"
  },
  "language_info": {
   "codemirror_mode": {
    "name": "ipython",
    "version": 3
   },
   "file_extension": ".py",
   "mimetype": "text/x-python",
   "name": "python",
   "nbconvert_exporter": "python",
   "pygments_lexer": "ipython3",
   "version": "3.11.5"
  }
 },
 "nbformat": 4,
 "nbformat_minor": 2
}
