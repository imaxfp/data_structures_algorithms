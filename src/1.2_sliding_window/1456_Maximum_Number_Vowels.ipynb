{
 "cells": [
  {
   "cell_type": "markdown",
   "metadata": {},
   "source": [
    "### 1456. Maximum Number of Vowels in a Substring of Given Length\n",
    "\n",
    "https://leetcode.com/problems/maximum-number-of-vowels-in-a-substring-of-given-length/description"
   ]
  },
  {
   "cell_type": "code",
   "execution_count": 21,
   "metadata": {},
   "outputs": [
    {
     "name": "stdout",
     "output_type": "stream",
     "text": [
      "0\n",
      "2\n",
      "5\n"
     ]
    }
   ],
   "source": [
    "class Solution:\n",
    "    def maxVowels(self, s: str, k: int) -> int:        \n",
    "        vowel_latter = {            \n",
    "            'a':1,\n",
    "            'e':1,\n",
    "            'i':1,\n",
    "            'o':1,\n",
    "            'u':1,\n",
    "            'y':1\n",
    "            }\n",
    "        l = r = 0\n",
    "        window_max = 0\n",
    "        window_tmp = 0\n",
    "        # abciiidef\n",
    "        while r < len(s):\n",
    "            if r - l == k:                \n",
    "                l+=1\n",
    "            if vowel_latter.get(s[l]):\n",
    "                window_tmp-=1\n",
    "                                                             \n",
    "            if vowel_latter.get(s[r]):\n",
    "                window_tmp+=1\n",
    "                window_max = max(window_tmp, window_max)                                                     \n",
    "            r+=1                            \n",
    "        return window_max        \n",
    "                \n",
    "#Input: s = \"abciiidef\", k = 3\n",
    "#Output: 3   \n",
    "#Explanation: The substring \"iii\" contains 3 vowel letters.                 \n",
    "print(Solution().maxVowels(\"abciiidef\", 3))\n",
    "\n",
    "#Input: s = \"leetcode\", k = 3\n",
    "#Output: 2\n",
    "#Explanation: \"lee\", \"eet\" and \"ode\" contain 2 vowels.\n",
    "print(Solution().maxVowels(\"leetcode\", 3))\n",
    "\n",
    "#Expected 4\n",
    "print(Solution().maxVowels(\"weallloveyou\", 7))\n",
    "\n",
    "\n",
    "\n",
    "\n"
   ]
  }
 ],
 "metadata": {
  "kernelspec": {
   "display_name": "venv_alg",
   "language": "python",
   "name": "python3"
  },
  "language_info": {
   "codemirror_mode": {
    "name": "ipython",
    "version": 3
   },
   "file_extension": ".py",
   "mimetype": "text/x-python",
   "name": "python",
   "nbconvert_exporter": "python",
   "pygments_lexer": "ipython3",
   "version": "3.11.5"
  }
 },
 "nbformat": 4,
 "nbformat_minor": 2
}
