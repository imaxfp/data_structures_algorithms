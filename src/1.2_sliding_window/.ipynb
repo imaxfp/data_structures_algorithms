{
 "cells": [
  {
   "cell_type": "markdown",
   "metadata": {},
   "source": [
    "### 567. Permutation in String\n",
    "\n",
    "https://leetcode.com/problems/permutation-in-string/description/"
   ]
  },
  {
   "cell_type": "code",
   "execution_count": 5,
   "metadata": {},
   "outputs": [
    {
     "data": {
      "text/plain": [
       "True"
      ]
     },
     "execution_count": 5,
     "metadata": {},
     "output_type": "execute_result"
    }
   ],
   "source": [
    "import copy\n",
    "\n",
    "class Solution:\n",
    "    def checkInclusion(self, s1: str, s2: str) -> bool:\n",
    "        #Permutation - order does not metter\n",
    "        #1. create hash map for s1 (if duplicate latters crete counter and delete from the map ligic)\n",
    "        #2. sliding window with fixed size \n",
    "        #3. move substring\n",
    "        def create_hmap(sub_str: str) -> dict:\n",
    "            s_dic = {}\n",
    "            for s in sub_str:\n",
    "                ctr = s_dic.get(s, 0)+1\n",
    "                s_dic[s] = ctr\n",
    "            return s_dic    \n",
    "        \n",
    "        def contains_permutations(hmap: dict, sub_str: str) -> bool:\n",
    "            for s in sub_str:\n",
    "                ctr = hmap.get(s, 0)\n",
    "                if ctr == 0:\n",
    "                    hmap.clear()\n",
    "                    return False\n",
    "                else:\n",
    "                    ctr-=1\n",
    "                    hmap[s] = ctr \n",
    "            return True                                                                           \n",
    "        \n",
    "        init_hmap = create_hmap(s1)\n",
    "        \n",
    "        l = 0\n",
    "        r = len(s1)\n",
    "        while r <= len(s2):\n",
    "            hmap = copy.deepcopy(init_hmap)\n",
    "            if contains_permutations(hmap, s2[l:r]):\n",
    "                return True\n",
    "            l+=1\n",
    "            r+=1            \n",
    "        return False    \n",
    "\n",
    "        \n",
    "#Input: s1 = \"ab\", s2 = \"eidbaooo\"\n",
    "#Output: true        \n",
    "Solution().checkInclusion(\"ab\", \"eidbaooo\")\n",
    "        "
   ]
  }
 ],
 "metadata": {
  "kernelspec": {
   "display_name": "venv_alg",
   "language": "python",
   "name": "python3"
  },
  "language_info": {
   "codemirror_mode": {
    "name": "ipython",
    "version": 3
   },
   "file_extension": ".py",
   "mimetype": "text/x-python",
   "name": "python",
   "nbconvert_exporter": "python",
   "pygments_lexer": "ipython3",
   "version": "3.11.5"
  }
 },
 "nbformat": 4,
 "nbformat_minor": 2
}
