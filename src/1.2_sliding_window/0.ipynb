{
 "cells": [
  {
   "cell_type": "markdown",
   "metadata": {},
   "source": [
    "The sliding window technique is a method used to efficiently solve problems that involve examining all contiguous subarrays or substrings of a given size within a larger array or string. Here's a brief explanation of the main concept:\n",
    "\n",
    "- Fixed Window Size: Determine the size k of the window (subarray or substring).\n",
    "\n",
    "- Initialize the Window: Compute the desired property (e.g., sum, count of vowels) for the initial window (the first k elements).\n",
    "\n",
    "- Slide the Window: Move the window one element at a time from the start to the end of the array or string:\n",
    "\n",
    "- - Remove the influence of the element that is sliding out of the window.\n",
    "- - Add the influence of the new element that is sliding into the window.\n",
    "\n",
    "- Update the Result: After each slide, update the result (e.g., maximum or minimum) if the current window's property is better than the previous ones."
   ]
  },
  {
   "cell_type": "code",
   "execution_count": 1,
   "metadata": {},
   "outputs": [
    {
     "name": "stdout",
     "output_type": "stream",
     "text": [
      "24\n"
     ]
    }
   ],
   "source": [
    "def max_sum_subarray(arr, k):\n",
    "    # Calculate the sum of the first window\n",
    "    max_sum = sum(arr[:k])\n",
    "    current_sum = max_sum\n",
    "    \n",
    "    # Slide the window\n",
    "    for i in range(k, len(arr)):\n",
    "        current_sum += arr[i] - arr[i - k]\n",
    "        max_sum = max(max_sum, current_sum)\n",
    "    \n",
    "    return max_sum\n",
    "\n",
    "# Test the function\n",
    "arr = [1, 2, 3, 4, 5, 6, 7, 8, 9]\n",
    "k = 3\n",
    "print(max_sum_subarray(arr, k))  # Output: 24 (sum of subarray [7, 8, 9])\n"
   ]
  }
 ],
 "metadata": {
  "kernelspec": {
   "display_name": "venv_alg",
   "language": "python",
   "name": "python3"
  },
  "language_info": {
   "codemirror_mode": {
    "name": "ipython",
    "version": 3
   },
   "file_extension": ".py",
   "mimetype": "text/x-python",
   "name": "python",
   "nbconvert_exporter": "python",
   "pygments_lexer": "ipython3",
   "version": "3.11.5"
  }
 },
 "nbformat": 4,
 "nbformat_minor": 2
}
