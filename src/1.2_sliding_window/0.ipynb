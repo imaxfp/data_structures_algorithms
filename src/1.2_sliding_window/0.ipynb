{
 "cells": [
  {
   "cell_type": "markdown",
   "metadata": {},
   "source": [
    "# Stack LIFO\n",
    "\n",
    "Let’s assume that we have four books with the following riveting titles:\n",
    "       \n",
    "- A\n",
    "- B\n",
    "- C\n",
    "- D\n",
    "\n",
    "<img src=\"../../img/stack/stack1.png\" alt=\"nearby_objects\" width=\"200\"/>\n",
    "<img src=\"../../img/stack/stack2.png\" alt=\"nearby_objects\" width=\"200\"/>\n",
    "<img src=\"../../img/stack/stack3.png\" alt=\"nearby_objects\" width=\"200\"/>\n",
    "<img src=\"../../img/stack/stack4.png\" alt=\"nearby_objects\" width=\"200\"/>\n",
    "\n",
    "Let’s say we want to take Book A. Right now, it is at the bottom of the stack, so we need to take Book D, put it down, then do the same for Book C and Book B, and then we can access Book A.\n",
    "\n",
    "This is the main idea of a stack. The data structure stack is very similar to a physical stack that you’d most likely be familiar with\n",
    "\n",
    "\n",
    "### Stack Operations\n",
    "\n",
    "- 1. **PUSH** - The operation to insert elements in a stack is called push\n",
    "- 2. **POP** - Popping is when we take the top book of the stack and put it down. This implies that when we remove an element from the stack\n",
    "- 3. **PEEK** - Does not remove the top element, it merely returns it. We can do is view the top element of the stack so we can ask the data structure. “What’s the top element?”  \n",
    "\n",
    "\n",
    "<img src=\"../../img/stack/stack_complexity.png\" alt=\"nearby_objects\" width=\"800\"/>"
   ]
  },
  {
   "cell_type": "code",
   "execution_count": 2,
   "metadata": {},
   "outputs": [
    {
     "name": "stdout",
     "output_type": "stream",
     "text": [
      "5.0\n"
     ]
    }
   ],
   "source": [
    "n = 10\n",
    "n /= 2\n",
    "print(n)"
   ]
  },
  {
   "cell_type": "code",
   "execution_count": 10,
   "metadata": {},
   "outputs": [
    {
     "name": "stdout",
     "output_type": "stream",
     "text": [
      "D\n",
      "D\n",
      "C\n"
     ]
    }
   ],
   "source": [
    "class Stack():\n",
    "    def __init__(self):\n",
    "        self.stack = []\n",
    "    \n",
    "    def push(self, x):\n",
    "        self.stack.append(x)\n",
    "        \n",
    "    def pop(self):\n",
    "        #self.stack.pop()\n",
    "        top = self.stack[len(self.stack)-1]\n",
    "        self.stack = self.stack[:-1]\n",
    "        return top    \n",
    "    def peek(self):\n",
    "        return self.stack[-1]\n",
    "    \n",
    "myStack = Stack()\n",
    "myStack.push(\"A\")\n",
    "myStack.push(\"B\")\n",
    "myStack.push(\"C\")\n",
    "myStack.push(\"D\")\n",
    "print(myStack.peek())\n",
    "print(myStack.pop())\n",
    "print(myStack.peek())"
   ]
  },
  {
   "cell_type": "code",
   "execution_count": 1,
   "metadata": {},
   "outputs": [
    {
     "name": "stdout",
     "output_type": "stream",
     "text": [
      "Stack after popping: ['a', 'b']\n",
      "Popped element: c\n"
     ]
    }
   ],
   "source": [
    "from collections import deque\n",
    "\n",
    "# Create a stack\n",
    "stack = deque()\n",
    "\n",
    "# Push elements onto the stack\n",
    "stack.append('a')  # Stack: ['a']\n",
    "stack.append('b')  # Stack: ['a', 'b']\n",
    "stack.append('c')  # Stack: ['a', 'b', 'c']\n",
    "\n",
    "# Pop an element from the stack\n",
    "top_element = stack.pop()  # 'c', Stack: ['a', 'b']\n",
    "\n",
    "print(\"Stack after popping:\", list(stack))\n",
    "print(\"Popped element:\", top_element)"
   ]
  },
  {
   "cell_type": "markdown",
   "metadata": {},
   "source": [
    "# Determine if Brackets are Balanced\n",
    "\n",
    "### Examples of Balanced Brackets\n",
    "- { }\n",
    "- { } { }\n",
    "- ( ( { [ ] } ) )\n",
    "### Examples of Unbalanced Brackets\n",
    "- ( ( )\n",
    "- { { { ) } ]\n",
    "- [ ] [ ] ] ]"
   ]
  },
  {
   "cell_type": "code",
   "execution_count": 16,
   "metadata": {},
   "outputs": [
    {
     "name": "stdout",
     "output_type": "stream",
     "text": [
      "True\n",
      "False\n"
     ]
    }
   ],
   "source": [
    "# 0. Create hashMap key = open bracket, key close bracket \n",
    "# 1. Use stack - if open bracket - {,(,[, push \n",
    "# 2. if close the bracket },),] and peek has the same open, pop\n",
    "# 3. in the end stack empty - OK \n",
    "\n",
    "map_brackets = {\n",
    "    '{':'}',\n",
    "    '[':']',\n",
    "    '(':')',   \n",
    "}\n",
    "\n",
    "class Stack():\n",
    "    def __init__(self) -> None:\n",
    "        self.stack = []\n",
    "    \n",
    "    def push(self, x):\n",
    "        self.stack.append(x)\n",
    "    \n",
    "    def peek(self):\n",
    "        return self.stack[-1]\n",
    "    \n",
    "    def pop(self):\n",
    "        top = self.stack[len(self.stack)-1]\n",
    "        self.stack = self.stack[:-1]\n",
    "        return top\n",
    "    \n",
    "    def is_empty(self):\n",
    "        return self.stack == []\n",
    "                \n",
    "\n",
    "def check_brackets_correctness(brackets: list) -> bool: \n",
    "    bracket_stack = Stack()   \n",
    "    for b in brackets:     \n",
    "        if map_brackets.get(b):                        \n",
    "            bracket_stack.push(b)\n",
    "            \n",
    "        elif map_brackets.get(bracket_stack.peek()) == b:\n",
    "            bracket_stack.pop()\n",
    "    return bracket_stack.is_empty()\n",
    "\n",
    "correct_sampe = ['(', '(', '{', '[', ']', '}', ')', ')']\n",
    "incorrect_sampe = ['(', '(', '{', '[', '{', ']', '}', ')', ')']\n",
    "\n",
    "print(check_brackets_correctness(correct_sampe))            \n",
    "print(check_brackets_correctness(incorrect_sampe))          "
   ]
  },
  {
   "cell_type": "markdown",
   "metadata": {},
   "source": [
    "# Reverse String\n",
    "We push all the characters of the string onto the stack, and due to the First-In, Last-Out property of stack.\n",
    "Get all the characters in reverse order when we pop them off the stack.\n",
    "\n",
    "```python\n",
    "input_str = \"Educative\"\n",
    "print(input_str[::-1])\n",
    "```"
   ]
  },
  {
   "cell_type": "code",
   "execution_count": 26,
   "metadata": {},
   "outputs": [
    {
     "name": "stdout",
     "output_type": "stream",
     "text": [
      "evitacudE\n"
     ]
    }
   ],
   "source": [
    "class myStack():\n",
    "    def __init__(self) -> None:\n",
    "        self.stack = []\n",
    "        \n",
    "    def push(slef, x):\n",
    "        slef.stack.append(x)\n",
    "        \n",
    "    def peek(self):\n",
    "        return self.stack[:-1]        \n",
    "    \n",
    "    def pop(self):\n",
    "        return self.stack.pop()\n",
    "    \n",
    "    def is_empty(self):\n",
    "        return self.stack == []\n",
    "    \n",
    "def reverse_string(r_str: str) -> str:\n",
    "    stack = myStack()\n",
    "    for s in r_str:\n",
    "        stack.push(s)\n",
    "    \n",
    "    res = \"\"\n",
    "    while not stack.is_empty():\n",
    "        res += stack.pop()\n",
    "    return res\n",
    "\n",
    "\n",
    "input_str = \"Educative\"\n",
    "print(reverse_string(input_str))"
   ]
  },
  {
   "cell_type": "markdown",
   "metadata": {},
   "source": [
    "# Convert Decimal Integer to Binary\n",
    "Use the stack data structure to convert integer values to their binary equivalent.\n",
    "\n"
   ]
  },
  {
   "cell_type": "code",
   "execution_count": 9,
   "metadata": {},
   "outputs": [
    {
     "name": "stdout",
     "output_type": "stream",
     "text": [
      "100111\n",
      "10011\n"
     ]
    }
   ],
   "source": [
    "class Stack():\n",
    "    def __init__(self):\n",
    "        self.items = []\n",
    "\n",
    "    def push(self, item):\n",
    "        self.items.append(item)\t\t\t\t\n",
    "\n",
    "    def pop(self):\n",
    "        return self.items.pop()\n",
    "    \n",
    "    def is_empty(self):\n",
    "        return self.items == []\n",
    "    \n",
    "    def peek(self):\n",
    "        if not self.is_empty():\n",
    "            return self.items[-1]\n",
    "        \n",
    "    def get_stack(self):\n",
    "        return self.items\n",
    "\n",
    "def convert_int_to_bin(dec_num):\n",
    "  myStack = Stack()\n",
    "  while dec_num >=1:\n",
    "    myStack.push(dec_num%2)\n",
    "    dec_num = dec_num // 2\n",
    "    \n",
    "  bin_number =\"\"  \n",
    "  while not myStack.is_empty():        \n",
    "      bin_number += str(myStack.pop())\n",
    "      \n",
    "  return bin_number\n",
    "\n",
    "# Expected Output - 100111\n",
    "print(convert_int_to_bin(39))  \n",
    "# Expected Output - 10011\n",
    "print(convert_int_to_bin(19))"
   ]
  }
 ],
 "metadata": {
  "kernelspec": {
   "display_name": "venv_alg",
   "language": "python",
   "name": "python3"
  },
  "language_info": {
   "codemirror_mode": {
    "name": "ipython",
    "version": 3
   },
   "file_extension": ".py",
   "mimetype": "text/x-python",
   "name": "python",
   "nbconvert_exporter": "python",
   "pygments_lexer": "ipython3",
   "version": "3.11.5"
  }
 },
 "nbformat": 4,
 "nbformat_minor": 2
}
