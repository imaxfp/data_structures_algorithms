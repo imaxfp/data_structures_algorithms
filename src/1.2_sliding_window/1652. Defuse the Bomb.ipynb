{
 "cells": [
  {
   "cell_type": "markdown",
   "metadata": {},
   "source": [
    "### 1652. Defuse the Bomb\n",
    "\n",
    "https://leetcode.com/problems/defuse-the-bomb/description"
   ]
  },
  {
   "cell_type": "code",
   "execution_count": 24,
   "metadata": {},
   "outputs": [
    {
     "name": "stdout",
     "output_type": "stream",
     "text": [
      "[12, 10, 16, 13]\n",
      "[0, 0, 0, 0]\n"
     ]
    }
   ],
   "source": [
    "from typing import List\n",
    "\n",
    "\n",
    "class Solution:\n",
    "    def decrypt(self, code: List[int], k: int) -> List[int]:\n",
    "        #Description\n",
    "        # 1. circular array code of length of n and a key k.\n",
    "        # 2. must replace every number\n",
    "        # RULES OF REPLACEMENT\n",
    "        # 1. k > 0, replace the ith number with the sum of the next k numbers.\n",
    "        # 2. If k < 0, replace the ith number with the sum of the previous k numbers.\n",
    "        # 3. If k == 0, replace the ith number with 0.\n",
    "\n",
    "        # As code is circular, the next element of code[n-1] is code[0], and the previous element of code[0] is code[n-1].\n",
    "        def replace_next(code, res, k):\n",
    "            for i in range(len(code)):\n",
    "                tmp_sum = 0\n",
    "                r = i\n",
    "                cntr=0\n",
    "                while cntr < k:\n",
    "                    r+=1\n",
    "                    #circular case\n",
    "                    if r == len(code):\n",
    "                        r=0\n",
    "                    cntr+=1\n",
    "                    tmp_sum += code[r]\n",
    "                    \n",
    "                res[i]=tmp_sum    \n",
    "            return res    \n",
    "\n",
    "        #code = [2,4,9,3], k = -2\n",
    "        def replace_prev(code, res, k):            \n",
    "            for i in range(len(code)):\n",
    "                tmp_sum = 0\n",
    "                r = i\n",
    "                cntr=0\n",
    "                while cntr < abs(k): \n",
    "                    r-=1                                                          \n",
    "                    if r < 0:                    \n",
    "                        r=len(code)-1\n",
    "                    cntr+=1\n",
    "                    tmp_sum+=code[r]    \n",
    "                    \n",
    "                res[i]=tmp_sum      \n",
    "            return res\n",
    "            \n",
    "    \n",
    "        res = [0] * len(code)\n",
    "        if k == 0:\n",
    "            return res\n",
    "        if k > 0:\n",
    "            return replace_next(code, res, k)     \n",
    "        else:\n",
    "            return replace_prev(code, res, k)      \n",
    "        \n",
    "print(Solution().decrypt([5,7,1,4], 3))\n",
    "print(Solution().decrypt([3,7,1,4], 0))\n",
    "\n",
    "#code = [2,4,9,3], k = -2\n",
    "print(Solution().decrypt([2,4,9,3], -2))"
   ]
  }
 ],
 "metadata": {
  "kernelspec": {
   "display_name": "venv_alg",
   "language": "python",
   "name": "python3"
  },
  "language_info": {
   "codemirror_mode": {
    "name": "ipython",
    "version": 3
   },
   "file_extension": ".py",
   "mimetype": "text/x-python",
   "name": "python",
   "nbconvert_exporter": "python",
   "pygments_lexer": "ipython3",
   "version": "3.11.5"
  }
 },
 "nbformat": 4,
 "nbformat_minor": 2
}
