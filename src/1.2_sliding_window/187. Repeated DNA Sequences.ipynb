{
 "cells": [
  {
   "cell_type": "markdown",
   "metadata": {},
   "source": [
    "### 187. Repeated DNA Sequences\n",
    "\n",
    "https://leetcode.com/problems/repeated-dna-sequences/description\n"
   ]
  },
  {
   "cell_type": "code",
   "execution_count": 48,
   "metadata": {},
   "outputs": [
    {
     "name": "stdout",
     "output_type": "stream",
     "text": [
      "['AAAAACCCCC', 'CCCCCAAAAA']\n",
      "['AAAAAAAAAA']\n",
      "['GAGAGAGAGA']\n"
     ]
    }
   ],
   "source": [
    "from typing import List\n",
    "\n",
    "# identify repeated sequences within the DNA.\n",
    "# return all the 10-letter-long sequences (substrings)\n",
    "        \n",
    "class Solution:\n",
    "    def findRepeatedDnaSequences(self, s: str) -> List[str]:\n",
    "        #TODO clarify task\n",
    "        return None\n",
    "                \n",
    "\n",
    "            \n",
    "\n",
    "ee = set(\"AAAAAAAAAA\")\n",
    "#Input: s = \"AAAAACCCCCAAAAACCCCCCAAAAAGGGTTT\"\n",
    "#Expected: [\"AAAAACCCCC\",\"CCCCCAAAAA\"]    \n",
    "print(Solution().findRepeatedDnaSequences(\"AAAAACCCCCAAAAACCCCCCAAAAAGGGTTT\"))  \n",
    "\n",
    "#s = \"AAAAAAAAAAAAA\"\n",
    "#Expected [\"AAAAAAAAAA\"]\n",
    "print(Solution().findRepeatedDnaSequences(\"AAAAAAAAAAAAA\"))\n",
    "\n",
    "#In [\"GAGAGAGAGA\"]\n",
    "#Expected [\"GAGAGAGAGA\"]\n",
    "print(Solution().findRepeatedDnaSequences(\"GAGAGAGAGA\"))\n",
    "\n"
   ]
  }
 ],
 "metadata": {
  "kernelspec": {
   "display_name": "venv_alg",
   "language": "python",
   "name": "python3"
  },
  "language_info": {
   "codemirror_mode": {
    "name": "ipython",
    "version": 3
   },
   "file_extension": ".py",
   "mimetype": "text/x-python",
   "name": "python",
   "nbconvert_exporter": "python",
   "pygments_lexer": "ipython3",
   "version": "3.11.5"
  }
 },
 "nbformat": 4,
 "nbformat_minor": 2
}
