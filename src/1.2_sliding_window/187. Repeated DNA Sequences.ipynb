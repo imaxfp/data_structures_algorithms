{
 "cells": [
  {
   "cell_type": "markdown",
   "metadata": {},
   "source": [
    "### 187. Repeated DNA Sequences\n",
    "\n",
    "https://leetcode.com/problems/repeated-dna-sequences/description\n"
   ]
  },
  {
   "cell_type": "code",
   "execution_count": 53,
   "metadata": {},
   "outputs": [
    {
     "name": "stdout",
     "output_type": "stream",
     "text": [
      "['AAAAAAAAAA']\n",
      "['AAAAACCCCC', 'CCCCCAAAAA']\n"
     ]
    }
   ],
   "source": [
    "from typing import List\n",
    "\n",
    "# identify repeated sequences within the DNA.\n",
    "# return all the 10-letter-long sequences (substrings)\n",
    "        \n",
    "class Solution:\n",
    "    def findRepeatedDnaSequences(self, s: str) -> List[str]:\n",
    "        #Does DNA has repeatable 10 long seq more than 1 time ?\n",
    "        # 1. sliding window size 10\n",
    "        # 2. count it with hash table\n",
    "        # 3. add resuts to the set()\n",
    "        l=0\n",
    "        r=10\n",
    "        duplic_dic = {}\n",
    "        res = set()\n",
    "        while r <= len(s):\n",
    "            if duplic_dic.get(s[l:r], 0) > 0:\n",
    "                res.add(s[l:r])\n",
    "            duplic_dic[s[l:r]] = duplic_dic.get(s[l:r], 0)+1 \n",
    "            l+=1\n",
    "            r+=1   \n",
    "                                                        \n",
    "        return list(res)\n",
    "                \n",
    "\n",
    "\n",
    "#s =\"AAAAAAAAAAA\"            \n",
    "#expected [\"AAAAAAAAAA\"] \n",
    "print(Solution().findRepeatedDnaSequences(\"AAAAAAAAAAA\"))  \n",
    "\n",
    "#Input: s = \"AAAAACCCCCAAAAACCCCCCAAAAAGGGTTT\"\n",
    "#Expected: [\"AAAAACCCCC\",\"CCCCCAAAAA\"]    \n",
    "print(Solution().findRepeatedDnaSequences(\"AAAAACCCCCAAAAACCCCCCAAAAAGGGTTT\"))  \n",
    "\n",
    "\n"
   ]
  }
 ],
 "metadata": {
  "kernelspec": {
   "display_name": "venv_alg",
   "language": "python",
   "name": "python3"
  },
  "language_info": {
   "codemirror_mode": {
    "name": "ipython",
    "version": 3
   },
   "file_extension": ".py",
   "mimetype": "text/x-python",
   "name": "python",
   "nbconvert_exporter": "python",
   "pygments_lexer": "ipython3",
   "version": "3.11.5"
  }
 },
 "nbformat": 4,
 "nbformat_minor": 2
}
