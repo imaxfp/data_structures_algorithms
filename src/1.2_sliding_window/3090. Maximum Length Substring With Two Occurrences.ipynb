{
 "cells": [
  {
   "cell_type": "markdown",
   "metadata": {},
   "source": [
    "### 3090. Maximum Length Substring With Two Occurrences\n",
    "\n",
    "https://leetcode.com/problems/maximum-length-substring-with-two-occurrences/description"
   ]
  },
  {
   "cell_type": "code",
   "execution_count": 11,
   "metadata": {},
   "outputs": [
    {
     "data": {
      "text/plain": [
       "4"
      ]
     },
     "execution_count": 11,
     "metadata": {},
     "output_type": "execute_result"
    }
   ],
   "source": [
    "class Solution:\n",
    "    def maximumLengthSubstring(self, s: str) -> int:\n",
    "        #1. 'hash tab' for tracing occurrences \n",
    "        #2. move 'r' ptr for adding occurrences\n",
    "        #3. if 'hash tab' has more than 2, l = r, r+=1\n",
    "        occur_h = {}\n",
    "        l=0\n",
    "        r=0\n",
    "        res_len = 0\n",
    "\n",
    "        # \"bcbbbcba\"\n",
    "        while r < len(s):\n",
    "            occurs = occur_h.get(s[r], 0) + 1\n",
    "            occur_h[s[r]] = occurs\n",
    "            \n",
    "            #move left ptr of the window\n",
    "            while occur_h[s[r]] > 2: \n",
    "                occur_h[s[l]]-=1\n",
    "                l+=1\n",
    "            r+=1               \n",
    "            res_len = max(res_len, r - l)\n",
    "            \n",
    "        return res_len      \n",
    "    \n",
    "Solution().maximumLengthSubstring(\"bcbbbcba\")"
   ]
  }
 ],
 "metadata": {
  "kernelspec": {
   "display_name": "venv_alg",
   "language": "python",
   "name": "python3"
  },
  "language_info": {
   "codemirror_mode": {
    "name": "ipython",
    "version": 3
   },
   "file_extension": ".py",
   "mimetype": "text/x-python",
   "name": "python",
   "nbconvert_exporter": "python",
   "pygments_lexer": "ipython3",
   "version": "3.11.5"
  }
 },
 "nbformat": 4,
 "nbformat_minor": 2
}
