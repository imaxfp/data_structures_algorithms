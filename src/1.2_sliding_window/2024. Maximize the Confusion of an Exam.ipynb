{
 "cells": [
  {
   "cell_type": "markdown",
   "metadata": {},
   "source": [
    "### 2024. Maximize the Confusion of an Exam\n",
    "\n",
    "https://leetcode.com/problems/maximize-the-confusion-of-an-exam/description"
   ]
  },
  {
   "cell_type": "code",
   "execution_count": 5,
   "metadata": {},
   "outputs": [
    {
     "name": "stdout",
     "output_type": "stream",
     "text": [
      "3\n",
      "4\n"
     ]
    }
   ],
   "source": [
    "class Solution:\n",
    "    def maxConsecutiveAnswers(self, answerKey: str, k: int) -> int:\n",
    "        # maximizing the number of consecutive questions with the same answer (multiple trues or multiple falses in a row).\n",
    "        # k - Change the answer key for any question to 'T' or 'F'\n",
    "\n",
    "        #Solution \n",
    "        # 0. create 'ctr' of the symbol 'T' of 'F' in the sub str \n",
    "        # 1. Dynamic sliding window. Extend len of the winwod if 'ctr' > k\n",
    "        # 2. shrink window from the left side until 'ctr' < k\n",
    "        \n",
    "        #DEBUG #answerKey = \"TTFF\"    \n",
    "        def check_longest_substr_same_symbol(s, symbol, limit):\n",
    "            cntr = 0\n",
    "            max_len_substr=0\n",
    "            l=0\n",
    "            for r in range(len(s)):\n",
    "                if s[r] != symbol:\n",
    "                    cntr+=1\n",
    "                #shring the window from the left side if 'ctr' > k\n",
    "                while cntr > limit:\n",
    "                    if s[l] != symbol:\n",
    "                        cntr-=1 \n",
    "                    #PAY ATTENTION, DO NOT FORGET INFINITY LOOP, USE l+=1    \n",
    "                    l+=1    \n",
    "                \n",
    "                max_len_substr = max(max_len_substr, r - l + 1)\n",
    "            return max_len_substr                                    \n",
    "        \n",
    "        \n",
    "        return max(check_longest_substr_same_symbol(answerKey, 'T', k),\n",
    "                   check_longest_substr_same_symbol(answerKey, 'F', k)) \n",
    "        \n",
    "\n",
    "print(Solution().maxConsecutiveAnswers(\"TFFT\", 1))\n",
    "print(Solution().maxConsecutiveAnswers(\"TTFF\", 2))"
   ]
  }
 ],
 "metadata": {
  "kernelspec": {
   "display_name": "venv_alg",
   "language": "python",
   "name": "python3"
  },
  "language_info": {
   "codemirror_mode": {
    "name": "ipython",
    "version": 3
   },
   "file_extension": ".py",
   "mimetype": "text/x-python",
   "name": "python",
   "nbconvert_exporter": "python",
   "pygments_lexer": "ipython3",
   "version": "3.11.5"
  }
 },
 "nbformat": 4,
 "nbformat_minor": 2
}
