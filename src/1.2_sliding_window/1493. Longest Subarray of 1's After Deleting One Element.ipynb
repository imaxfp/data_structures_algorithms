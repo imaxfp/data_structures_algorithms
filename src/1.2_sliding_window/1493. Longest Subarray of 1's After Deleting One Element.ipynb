{
 "cells": [
  {
   "cell_type": "markdown",
   "metadata": {},
   "source": [
    "### 1493. Longest Subarray of 1's After Deleting One Element\n",
    "\n",
    "https://leetcode.com/problems/longest-subarray-of-1s-after-deleting-one-element/description/?envType=study-plan-v2&envId=leetcode-75"
   ]
  },
  {
   "cell_type": "code",
   "execution_count": 2,
   "metadata": {},
   "outputs": [
    {
     "name": "stdout",
     "output_type": "stream",
     "text": [
      "3\n",
      "5\n"
     ]
    }
   ],
   "source": [
    "from typing import List\n",
    "\n",
    "\n",
    "class Solution:\n",
    "    def longestSubarray(self, nums: List[int]) -> int:\n",
    "        #TASK\n",
    "        #1. Return the size of the longest non-empty subarray containing only 1\n",
    "\n",
    "        #Constraints\n",
    "        #Explanation: You must delete one element.\n",
    "        #1 <= nums.length <= 105\n",
    "                                  \n",
    "        #IMPLEMENTATION\n",
    "        #1. sliding window l=0 and r extend\n",
    "        #2. if 0 found 'can' remove it in other words zero_cntr+=1 \n",
    "        #3. if second zero found - move left pointer while zero_cntr == 1                                  \n",
    "        \n",
    "        #DEBUG\n",
    "        # [1,1,0,1]\n",
    "        l=0  \n",
    "        zero_cntr=0      \n",
    "        max_len_win = 0\n",
    "        for i in range(len(nums)):            \n",
    "            \n",
    "            while zero_cntr > 1:\n",
    "                if nums[l] == 0:\n",
    "                    zero_cntr-=1                \n",
    "                l+=1\n",
    "            \n",
    "            if nums[i] == 0:\n",
    "                zero_cntr+=1\n",
    "            #in case window has no zero [1 1 1 1] ctr = 0, \n",
    "            #case [1 0 1 1 1] ctr = 1 = 5-0-1 = 4 'removed one zero'     \n",
    "            max_len_win = max(max_len_win, i + 1 - l - zero_cntr)    \n",
    "\n",
    "        # do not have any zeo \n",
    "        if zero_cntr == 0:  \n",
    "            return len(nums) - 1\n",
    "        else:\n",
    "            return max_len_win\n",
    "        \n",
    "#Input: nums = [1,1,0,1]\n",
    "#Output: 3 \n",
    "print(Solution().longestSubarray([1,1,0,1]))       \n",
    "\n",
    "#Input: nums = [0,1,1,1,0,1,1,0,1]\n",
    "#Output: 5\n",
    "print(Solution().longestSubarray([0,1,1,1,0,1,1,0,1]))  \n"
   ]
  },
  {
   "cell_type": "code",
   "execution_count": 4,
   "metadata": {},
   "outputs": [
    {
     "name": "stdout",
     "output_type": "stream",
     "text": [
      "3\n",
      "3\n",
      "5\n"
     ]
    }
   ],
   "source": [
    "class Solution:\n",
    "    def longestSubarray(self, nums: List[int]) -> int:\n",
    "        l = 0  \n",
    "        zero_cntr = 0      \n",
    "        max_len_win = 0\n",
    "        \n",
    "        for r in range(len(nums)):  \n",
    "            if nums[r] == 0:\n",
    "                zero_cntr += 1\n",
    "            \n",
    "            while zero_cntr > 1:\n",
    "                if nums[l] == 0:\n",
    "                    zero_cntr -= 1\n",
    "                l += 1\n",
    "            \n",
    "            max_len_win = max(max_len_win, r - l)\n",
    "\n",
    "        return max_len_win\n",
    "\n",
    "#Input: nums = [1,1,0,1]\n",
    "#Output: 3 \n",
    "print(Solution().longestSubarray([1,1,0,1]))      \n",
    "\n",
    "#Input: nums = [1,1,1,1]\n",
    "#Output: 3 \n",
    "print(Solution().longestSubarray([1,1,1,1]))   \n",
    "\n",
    "#Input: nums = [0,1,1,1,0,1,1,0,1]\n",
    "#Output: 5\n",
    "print(Solution().longestSubarray([0,1,1,1,0,1,1,0,1]))      \n",
    "    "
   ]
  }
 ],
 "metadata": {
  "kernelspec": {
   "display_name": "venv_alg",
   "language": "python",
   "name": "python3"
  },
  "language_info": {
   "codemirror_mode": {
    "name": "ipython",
    "version": 3
   },
   "file_extension": ".py",
   "mimetype": "text/x-python",
   "name": "python",
   "nbconvert_exporter": "python",
   "pygments_lexer": "ipython3",
   "version": "3.11.5"
  }
 },
 "nbformat": 4,
 "nbformat_minor": 2
}
