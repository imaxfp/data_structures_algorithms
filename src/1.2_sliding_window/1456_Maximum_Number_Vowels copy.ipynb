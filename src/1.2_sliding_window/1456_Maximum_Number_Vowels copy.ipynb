{
 "cells": [
  {
   "cell_type": "markdown",
   "metadata": {},
   "source": [
    "### 1208. Get Equal Substrings Within Budget\n",
    "\n",
    "https://leetcode.com/problems/get-equal-substrings-within-budget/description/"
   ]
  },
  {
   "cell_type": "code",
   "execution_count": 19,
   "metadata": {},
   "outputs": [
    {
     "name": "stdout",
     "output_type": "stream",
     "text": [
      "0\n",
      "3\n",
      "1\n",
      "1\n"
     ]
    }
   ],
   "source": [
    "class Solution:\n",
    "    def equalSubstring(self, s: str, t: str, maxCost: int) -> int:\n",
    "        # Sliding window - size will be managed by maxCost \n",
    "        # Find the maximum length of the the window \n",
    "        # ord() difference have to calculate cost for change characters in substr\n",
    "        cost = 0\n",
    "        left = 0\n",
    "        res = 0\n",
    "        for i in range(len(s)):\n",
    "            asc2Cost = abs(ord(t[i]) - ord(s[i]))\n",
    "            cost += asc2Cost  \n",
    "            #shrink the window\n",
    "            while cost > maxCost:\n",
    "                asc2Cost = abs(ord(t[left]) - ord(s[left]))\n",
    "                cost -= asc2Cost \n",
    "                left += 1\n",
    "            res = max(res, i-left+1)    \n",
    "        return res    \n",
    "                \n",
    "        \n",
    "\n",
    "# s = \"abcd\"\n",
    "# t = \"cdef\"\n",
    "# maxCost = 1\n",
    "# Expected = 0\n",
    "print(Solution().equalSubstring(s=\"abcd\", t=\"cdef\", maxCost = 1))\n",
    "\n",
    "#Input: s = \"abcd\", t = \"bcdf\", maxCost = 3\n",
    "#Output: 3\n",
    "#Explanation: \"abc\" of s can change to \"bcd\".\n",
    "#That costs 3, so the maximum length is 3.    \n",
    "print(Solution().equalSubstring(s=\"abcd\", t=\"bcdf\", maxCost = 3))\n",
    "\n",
    "#Input: s = \"abcd\", t = \"cdef\", maxCost = 3\n",
    "#Output: 1\n",
    "print(Solution().equalSubstring(s=\"abcd\", t=\"cdef\", maxCost = 3))\n",
    "\n",
    "#Input: s = \"abcd\", t = \"acde\", maxCost = 0\n",
    "#Output: 1\n",
    "print(Solution().equalSubstring(s=\"abcd\", t=\"cdef\", maxCost = 3))\n",
    "\n",
    "\n",
    "#s = \"krrgw\"\n",
    "#t = \"zjxss\"\n",
    "# maxCost = 19\n",
    "# Expected 2\n",
    "\n"
   ]
  }
 ],
 "metadata": {
  "kernelspec": {
   "display_name": "venv_alg",
   "language": "python",
   "name": "python3"
  },
  "language_info": {
   "codemirror_mode": {
    "name": "ipython",
    "version": 3
   },
   "file_extension": ".py",
   "mimetype": "text/x-python",
   "name": "python",
   "nbconvert_exporter": "python",
   "pygments_lexer": "ipython3",
   "version": "3.11.5"
  }
 },
 "nbformat": 4,
 "nbformat_minor": 2
}
