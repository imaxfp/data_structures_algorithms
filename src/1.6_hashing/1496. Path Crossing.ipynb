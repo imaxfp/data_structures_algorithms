{
 "cells": [
  {
   "cell_type": "markdown",
   "metadata": {},
   "source": [
    "### 1496. Path Crossing.ipynb\n",
    "\n",
    "https://leetcode.com/problems/path-crossing/description/"
   ]
  },
  {
   "cell_type": "code",
   "execution_count": 5,
   "metadata": {},
   "outputs": [
    {
     "name": "stdout",
     "output_type": "stream",
     "text": [
      "True\n"
     ]
    }
   ],
   "source": [
    "'''\n",
    "   N\n",
    "   |\n",
    "W--|-- E \n",
    "   |\n",
    "   S\n",
    "\n",
    "'''\n",
    "\n",
    "class Solution:\n",
    "    def isPathCrossing(self, path: str) -> bool:\n",
    "        stepsDict = {}\n",
    "        x = y = 0\n",
    "        for p in path:\n",
    "            if p == \"N\":\n",
    "                x+=1\n",
    "            if p == \"S\":   \n",
    "                x-=1\n",
    "            if p == \"E\":\n",
    "                y+=1\n",
    "            if p == \"W\":\n",
    "                y-=1\n",
    "            if (x, y) in stepsDict:\n",
    "                return True     \n",
    "            stepsDict[(x, y)] = True        \n",
    "        return False        \n",
    "   \n",
    "#\"NNSWWEWSSESSWENNW\" Expected true\n",
    "print(Solution().isPathCrossing(\"NNSWWEWSSESSWENNW\"))"
   ]
  }
 ],
 "metadata": {
  "kernelspec": {
   "display_name": "venv_alg",
   "language": "python",
   "name": "python3"
  },
  "language_info": {
   "codemirror_mode": {
    "name": "ipython",
    "version": 3
   },
   "file_extension": ".py",
   "mimetype": "text/x-python",
   "name": "python",
   "nbconvert_exporter": "python",
   "pygments_lexer": "ipython3",
   "version": "3.11.5"
  }
 },
 "nbformat": 4,
 "nbformat_minor": 2
}
