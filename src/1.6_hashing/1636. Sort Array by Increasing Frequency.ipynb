{
 "cells": [
  {
   "cell_type": "markdown",
   "metadata": {},
   "source": [
    "### 1636. Sort Array by Increasing Frequency\n",
    "\n",
    "https://leetcode.com/problems/sort-array-by-increasing-frequency/description/?envType=daily-question&envId=2024-07-23"
   ]
  },
  {
   "cell_type": "code",
   "execution_count": 21,
   "metadata": {},
   "outputs": [
    {
     "name": "stdout",
     "output_type": "stream",
     "text": [
      "[3, 1, 1, 2, 2, 2]\n",
      "[1, 3, 3, 2, 2]\n"
     ]
    }
   ],
   "source": [
    "from typing import List\n",
    "\n",
    "\n",
    "class Solution:\n",
    "    def frequencySort(self, nums: List[int]) -> List[int]:\n",
    "        #sort the array in increasing order based on the frequency of the values.\n",
    "        #1. count frequencies of the nums\n",
    "        #2. sort map in the increasing order by freq\n",
    "        #3. return the arr \n",
    "        counts_dict = {}\n",
    "        for n in nums:\n",
    "            counts_dict[n] = counts_dict.get(n,0)+1\n",
    "        \n",
    "         # Sort the array with the custom criteria\n",
    "        sorted_nums = sorted(nums, key=lambda x: (counts_dict[x], x))\n",
    "        return sorted_nums\n",
    "            \n",
    "#Output: [3,1,1,2,2,2]        \n",
    "print(Solution().frequencySort([1,1,2,2,2,3]))\n",
    "\n",
    "#Input: nums = [2,3,1,3,2]\n",
    "#Output: [1,3,3,2,2]\n",
    "print(Solution().frequencySort([2,3,1,3,2]))"
   ]
  }
 ],
 "metadata": {
  "kernelspec": {
   "display_name": "venv_alg",
   "language": "python",
   "name": "python3"
  },
  "language_info": {
   "codemirror_mode": {
    "name": "ipython",
    "version": 3
   },
   "file_extension": ".py",
   "mimetype": "text/x-python",
   "name": "python",
   "nbconvert_exporter": "python",
   "pygments_lexer": "ipython3",
   "version": "3.11.5"
  }
 },
 "nbformat": 4,
 "nbformat_minor": 2
}
