{
 "cells": [
  {
   "cell_type": "markdown",
   "metadata": {},
   "source": [
    "### 2418. Sort the People\n",
    "\n",
    "https://leetcode.com/problems/sort-the-people/description/?envType=daily-question&envId=2024-07-22"
   ]
  },
  {
   "cell_type": "code",
   "execution_count": 1,
   "metadata": {},
   "outputs": [],
   "source": [
    "from typing import List\n",
    "\n",
    "class Solution:\n",
    "    def sortPeople(self, names: List[str], heights: List[int]) -> List[str]:\n",
    "        #1. create dict\n",
    "        #2. sort dict in decriasing order\n",
    "        #3. return names as List\n",
    "        names_dict={}\n",
    "        for i in range(0, len(names)):\n",
    "            names_dict[heights[i]] = names[i]\n",
    "        sorted_dict = dict(sorted(names_dict.items(), key=lambda item: item[0]))\n",
    "\n",
    "        return list(reversed(sorted_dict.values()))      "
   ]
  }
 ],
 "metadata": {
  "kernelspec": {
   "display_name": "venv_alg",
   "language": "python",
   "name": "python3"
  },
  "language_info": {
   "codemirror_mode": {
    "name": "ipython",
    "version": 3
   },
   "file_extension": ".py",
   "mimetype": "text/x-python",
   "name": "python",
   "nbconvert_exporter": "python",
   "pygments_lexer": "ipython3",
   "version": "3.11.5"
  }
 },
 "nbformat": 4,
 "nbformat_minor": 2
}
