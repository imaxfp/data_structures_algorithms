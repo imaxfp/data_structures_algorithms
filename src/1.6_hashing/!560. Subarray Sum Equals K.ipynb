{
 "cells": [
  {
   "cell_type": "markdown",
   "metadata": {},
   "source": [
    "### 560. Subarray Sum Equals K\n",
    "\n",
    "https://leetcode.com/problems/subarray-sum-equals-k/description/"
   ]
  },
  {
   "cell_type": "code",
   "execution_count": 50,
   "metadata": {},
   "outputs": [
    {
     "name": "stdout",
     "output_type": "stream",
     "text": [
      "1\n",
      "2\n",
      "2\n",
      "1\n",
      "1\n"
     ]
    }
   ],
   "source": [
    "from typing import List\n",
    "\n",
    "\n",
    "class Solution:\n",
    "    def subarraySum(self, nums: List[int], k: int) -> int:       \n",
    "        return None\n",
    "\n",
    "#[-1,-1,1]\n",
    "#k = 0 \n",
    "#Expected 1\n",
    "print(Solution().subarraySum([1], 0))   \n",
    "\n",
    "#nums = [1,1,1]\n",
    "#k = 2\n",
    "#Expected 2\n",
    "print(Solution().subarraySum([1,1,1], 2))   \n",
    "\n",
    "#nums = [1,2,3]\n",
    "#k = 3\n",
    "# Expected 2\n",
    "print(Solution().subarraySum([1,2,3], 3))  \n",
    "\n",
    "\n",
    "#nums = [1] \n",
    "#k = 0\n",
    "#Expected 0\n",
    "print(Solution().subarraySum([1], 0)) \n",
    "\n",
    "#nums = [1] \n",
    "#k = 1\n",
    "#Expected 1\n",
    "print(Solution().subarraySum([1], 1)) \n",
    "\n"
   ]
  }
 ],
 "metadata": {
  "kernelspec": {
   "display_name": "venv_alg",
   "language": "python",
   "name": "python3"
  },
  "language_info": {
   "codemirror_mode": {
    "name": "ipython",
    "version": 3
   },
   "file_extension": ".py",
   "mimetype": "text/x-python",
   "name": "python",
   "nbconvert_exporter": "python",
   "pygments_lexer": "ipython3",
   "version": "3.11.5"
  }
 },
 "nbformat": 4,
 "nbformat_minor": 2
}
