{
 "cells": [
  {
   "cell_type": "markdown",
   "metadata": {},
   "source": [
    "### 268. Missing Number\n",
    "\n",
    "https://leetcode.com/problems/missing-number/description/"
   ]
  },
  {
   "cell_type": "code",
   "execution_count": 3,
   "metadata": {},
   "outputs": [
    {
     "name": "stdout",
     "output_type": "stream",
     "text": [
      "2\n"
     ]
    }
   ],
   "source": [
    "from typing import List\n",
    "\n",
    "class Solution:\n",
    "    def missingNumber(self, nums: List[int]) -> int:\n",
    "        #1. collect all nums to the dict where num is key\n",
    "        #2. counter from 0 to n, if id not in key - returb i\n",
    "        #3. if all in dict - return n + 1\n",
    "        missDict = {}\n",
    "        for n in nums:\n",
    "            missDict[n] = 1\n",
    "            \n",
    "        for i in range(0, len(nums)):                            \n",
    "            if missDict.get(i, 0) == 0:                                \n",
    "                return i \n",
    "            \n",
    "        return len(nums)\n",
    "    \n",
    "    \n",
    "        \n",
    "#Input: nums = [3,0,1]\n",
    "#Output: 2      \n",
    "print(Solution().missingNumber([3,0,1]))\n"
   ]
  },
  {
   "cell_type": "code",
   "execution_count": 4,
   "metadata": {},
   "outputs": [
    {
     "name": "stdout",
     "output_type": "stream",
     "text": [
      "2\n"
     ]
    }
   ],
   "source": [
    "def missingNumber(nums):\n",
    "    n = len(nums)\n",
    "    expected_sum = n * (n + 1) // 2\n",
    "    actual_sum = sum(nums)\n",
    "    return expected_sum - actual_sum\n",
    "\n",
    "#Input: nums = [3,0,1]\n",
    "#Output: 2      \n",
    "print(missingNumber([3,0,1]))"
   ]
  }
 ],
 "metadata": {
  "kernelspec": {
   "display_name": "venv_alg",
   "language": "python",
   "name": "python3"
  },
  "language_info": {
   "codemirror_mode": {
    "name": "ipython",
    "version": 3
   },
   "file_extension": ".py",
   "mimetype": "text/x-python",
   "name": "python",
   "nbconvert_exporter": "python",
   "pygments_lexer": "ipython3",
   "version": "3.11.5"
  }
 },
 "nbformat": 4,
 "nbformat_minor": 2
}
