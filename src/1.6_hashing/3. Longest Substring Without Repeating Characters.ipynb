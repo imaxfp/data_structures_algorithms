{
 "cells": [
  {
   "cell_type": "markdown",
   "metadata": {},
   "source": [
    "### 3. Longest Substring Without Repeating Characters\n",
    "\n",
    "https://leetcode.com/problems/longest-substring-without-repeating-characters/description/\n",
    "\n"
   ]
  },
  {
   "cell_type": "code",
   "execution_count": 1,
   "metadata": {},
   "outputs": [
    {
     "name": "stdout",
     "output_type": "stream",
     "text": [
      "3\n",
      "1\n",
      "3\n",
      "1\n",
      "0\n"
     ]
    }
   ],
   "source": [
    "class Solution:\n",
    "    def lengthOfLongestSubstring(self, s: str) -> int:\n",
    "        if s == \"\":            \n",
    "            return 0\n",
    "        if len(s) == 1:\n",
    "            return 1\n",
    "        \n",
    "        #1. two pointers\n",
    "        #2. hashmap for tracking repetable characters \n",
    "\n",
    "        dictCharCounter = {}    \n",
    "        \n",
    "        left=0\n",
    "        dictCharCounter[s[left]] = 1\n",
    "        res=0\n",
    "        for right in range(1, len(s)):\n",
    "            #move left pointer while  dictCharCounter val > 1 \n",
    "            dictCharCounter[s[right]] = dictCharCounter.get(s[right],0)+1\n",
    "\n",
    "            #remove left poiner while all element will be unique    \n",
    "            while dictCharCounter.get(s[right]) > 1:\n",
    "                dictCharCounter[s[left]]-=1\n",
    "                left+=1\n",
    "            res = max(res, (right+1 - left))\n",
    "        return res      \n",
    "    \n",
    "#Input: s = \"abcabcbb\"\n",
    "#Output: 3\n",
    "#Explanation: The answer is \"abc\", with the length of 3.      \n",
    "print(Solution().lengthOfLongestSubstring(\"abcabcbb\"))\n",
    "\n",
    "#Input: s = \"bbbbb\"\n",
    "#Output: 1\n",
    "#Explanation: The answer is \"b\", with the length of 1.\n",
    "print(Solution().lengthOfLongestSubstring(\"bbbbb\"))\n",
    "\n",
    "#Input: s = \"pwwkew\"\n",
    "#Output: 3\n",
    "print(Solution().lengthOfLongestSubstring(\"pwwkew\"))\n",
    "\n",
    "#s = \" \"\n",
    "#Expected 1\n",
    "print(Solution().lengthOfLongestSubstring(\" \"))\n",
    "\n",
    "#s = \"\"\n",
    "#Expected 0\n",
    "print(Solution().lengthOfLongestSubstring(\"\"))  "
   ]
  },
  {
   "cell_type": "code",
   "execution_count": 3,
   "metadata": {},
   "outputs": [
    {
     "name": "stdout",
     "output_type": "stream",
     "text": [
      "3\n",
      "1\n",
      "3\n",
      "1\n",
      "0\n"
     ]
    }
   ],
   "source": [
    "class Solution:\n",
    "    def length_of_longest_substring(self, s: str) -> int:\n",
    "        char_set = set()\n",
    "        left = max_length = 0\n",
    "        for right in range(len(s)):\n",
    "            while s[right] in char_set:\n",
    "                char_set.remove(s[left])\n",
    "                left += 1\n",
    "            char_set.add(s[right])\n",
    "            max_length = max(max_length, right - left + 1)\n",
    "        return max_length\n",
    "\n",
    "#Input: s = \"abcabcbb\"\n",
    "#Output: 3\n",
    "#Explanation: The answer is \"abc\", with the length of 3.      \n",
    "print(Solution().length_of_longest_substring(\"abcabcbb\"))\n",
    "\n",
    "#Input: s = \"bbbbb\"\n",
    "#Output: 1\n",
    "#Explanation: The answer is \"b\", with the length of 1.\n",
    "print(Solution().length_of_longest_substring(\"bbbbb\"))\n",
    "\n",
    "#Input: s = \"pwwkew\"\n",
    "#Output: 3\n",
    "print(Solution().length_of_longest_substring(\"pwwkew\"))\n",
    "\n",
    "#s = \" \"\n",
    "#Expected 1\n",
    "print(Solution().length_of_longest_substring(\" \"))   \n",
    "\n",
    "\n",
    "#s = \"\"\n",
    "#Expected 0\n",
    "print(Solution().length_of_longest_substring(\"\"))   "
   ]
  }
 ],
 "metadata": {
  "kernelspec": {
   "display_name": "venv_alg",
   "language": "python",
   "name": "python3"
  },
  "language_info": {
   "codemirror_mode": {
    "name": "ipython",
    "version": 3
   },
   "file_extension": ".py",
   "mimetype": "text/x-python",
   "name": "python",
   "nbconvert_exporter": "python",
   "pygments_lexer": "ipython3",
   "version": "3.11.5"
  }
 },
 "nbformat": 4,
 "nbformat_minor": 2
}
