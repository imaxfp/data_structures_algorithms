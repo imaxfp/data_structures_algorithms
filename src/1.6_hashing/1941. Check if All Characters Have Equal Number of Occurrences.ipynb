{
 "cells": [
  {
   "cell_type": "markdown",
   "metadata": {},
   "source": [
    "### 1941. Check if All Characters Have Equal Number of Occurrences\n",
    "\n",
    "https://leetcode.com/problems/check-if-all-characters-have-equal-number-of-occurrences/description/\n"
   ]
  },
  {
   "cell_type": "code",
   "execution_count": 1,
   "metadata": {},
   "outputs": [
    {
     "name": "stdout",
     "output_type": "stream",
     "text": [
      "True\n"
     ]
    }
   ],
   "source": [
    "class Solution:\n",
    "    def areOccurrencesEqual(self, s: str) -> bool:\n",
    "        # return true if 's' is 'good' string otherwise return false \n",
    "        # good - all characters has the same number\n",
    "\n",
    "        # 1. string to hashmap where key is char and val is amount of repeats \n",
    "        # 2. cheah all val of map - have to be the same\n",
    "\n",
    "        #\"aaabb\"\n",
    "        occurDict = {}\n",
    "        for c in s:\n",
    "            #occurDict[c] += 1\n",
    "            occurDict[c] = occurDict.get(c, 0)+1\n",
    "\n",
    "        # frequencies = counts.values()\n",
    "        # return len(set(frequencies)) == 1\n",
    "        \n",
    "        checkOccur = occurDict.get(s[0])   \n",
    "        for v in occurDict.values():\n",
    "            if v != checkOccur:\n",
    "                return False\n",
    "        return True\n",
    "\n",
    "#Input: s = \"abacbc\"\n",
    "#Output: true    \n",
    "print(Solution().areOccurrencesEqual(\"abacbc\"))"
   ]
  }
 ],
 "metadata": {
  "kernelspec": {
   "display_name": "venv_alg",
   "language": "python",
   "name": "python3"
  },
  "language_info": {
   "codemirror_mode": {
    "name": "ipython",
    "version": 3
   },
   "file_extension": ".py",
   "mimetype": "text/x-python",
   "name": "python",
   "nbconvert_exporter": "python",
   "pygments_lexer": "ipython3",
   "version": "3.11.5"
  }
 },
 "nbformat": 4,
 "nbformat_minor": 2
}
