{
 "cells": [
  {
   "cell_type": "markdown",
   "metadata": {},
   "source": [
    "### 1832. Check if the Sentence Is Pangram\n",
    "\n",
    "https://leetcode.com/problems/check-if-the-sentence-is-pangram/description\n",
    "\n",
    "A pangram is a sentence where every letter of the English alphabet appears at least once."
   ]
  },
  {
   "cell_type": "code",
   "execution_count": 4,
   "metadata": {},
   "outputs": [
    {
     "name": "stdout",
     "output_type": "stream",
     "text": [
      "True\n"
     ]
    }
   ],
   "source": [
    "class Solution:\n",
    "    def checkIfPangram(self, sentence: str) -> bool:\n",
    "        #1. iterate via chars put to the char to the hashmap or set\n",
    "        #2. if char in hash map or set - return false\n",
    "        #3. default return true\n",
    "        pangramSet = set()\n",
    "        for c in sentence:\n",
    "            pangramSet.add(c)\n",
    "        return len(pangramSet) == 26 \n",
    "        \n",
    "#Input: sentence = \"thequickbrownfoxjumpsoverthelazydog\"\n",
    "#Output: true                    \n",
    "print(Solution().checkIfPangram(\"thequickbrownfoxjumpsoverthelazydog\"))\n"
   ]
  }
 ],
 "metadata": {
  "kernelspec": {
   "display_name": "venv_alg",
   "language": "python",
   "name": "python3"
  },
  "language_info": {
   "codemirror_mode": {
    "name": "ipython",
    "version": 3
   },
   "file_extension": ".py",
   "mimetype": "text/x-python",
   "name": "python",
   "nbconvert_exporter": "python",
   "pygments_lexer": "ipython3",
   "version": "3.11.5"
  }
 },
 "nbformat": 4,
 "nbformat_minor": 2
}
