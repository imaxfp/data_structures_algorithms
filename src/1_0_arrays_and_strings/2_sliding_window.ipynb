{
 "cells": [
  {
   "cell_type": "markdown",
   "metadata": {},
   "source": [
    "Like two pointers, sliding windows work the same with arrays and strings - the important thing is that they're iterables with ordered elements. For the sake of brevity, the first part of this article up until the examples will be focusing on arrays. However, all the logic is identical for strings.\n",
    "\n",
    "- A sliding window is actually implemented using two pointers! Before we start, we need to talk about the concept of a subarray.\n",
    "\n",
    "### Subarrays\n",
    "\n",
    "Given an array, a subarray is a contiguous section of the array. All the elements must be adjacent to each other in the original array and in their original order. For example, with the array **[1, 2, 3, 4]**, the subarrays (grouped by length) are:\n",
    "\n",
    "- [1], [2], [3], [4]\n",
    "- [1, 2], [2, 3], [3, 4]\n",
    "- [1, 2, 3], [2, 3, 4]\n",
    "- [1, 2, 3, 4]\n",
    "\n",
    "**A subarray can be defined by two indices, the start and end. For example, with [1, 2, 3, 4], the subarray [2, 3]**\n",
    "\n",
    "### When should we use sliding window?\n",
    "\n",
    "#### First:\n",
    "- The problem will either explicitly or implicitly define criteria that make a subarray \"valid\". (It could be the sum, the number of unique elements, the frequency of a specific element, or any other attribute.) \n",
    "- Let's say a problem declares a subarray is valid if it has a sum less than or equal to 10.  The constraint metric here is the sum of the subarray, and the numeric restriction is <= 10\n",
    "\n",
    "#### Second: \n",
    "- The problem will ask you to find valid subarrays in some way.\n",
    "- The most common task you will see is finding the best valid subarray. The problem will define what makes a subarray better than another. For example, a problem might ask you to find the longest valid subarray.\n",
    "- Another common task is finding the number of valid subarrays\n",
    "\n",
    "**In sliding window, we maintain two variables left and right, which at any given time represent the current subarray under consideration.**\n",
    "\n",
    "#### Initially, we have left = right = 0\n",
    "\n",
    "- what if after adding a new element, the subarray becomes invalid? We need to \"remove\" some elements from our window until it becomes valid again. To \"remove\" elements, we can increment **left** which shrinks our window.\n",
    "\n",
    "#### Example:\n",
    "To explain why this algorithm works, let's look at a specific example. Let's say that we are given a positive integer array nums and an integer k. We need to find the length of the longest subarray that has a sum less than or equal to k. For this example, let nums = [3, 2, 1, 3, 1, 1] and k = 5.\n",
    "\n",
    "Initially, we have left = right = 0, so our window is only the first element: [3]. Now, let's expand to the right until the constraint is broken. This will occur when left = 0, right = 2, and our window is: [3, 2, 1]. The sum here is 6, which is greater than k. We must now shrink the window from the left until the constraint is no longer broken. After removing one element, the window becomes valid again: [2, 1].\n",
    "\n",
    "- When we add a new element from the right, we just do curr += nums[right]. When we remove an element from the left, we just do curr -= nums[left]. This way, all operations are done in O(1)\n"
   ]
  },
  {
   "cell_type": "markdown",
   "metadata": {},
   "source": [
    "## Why is sliding window efficient?\n",
    "\n",
    "A sliding window guarantees a maximum of **'2n'** window iterations - the right pointer can move **'n'**\n",
    "times and the left pointer can move **'n'** times. \n",
    "\n",
    "You may be thinking: there is a while loop inside of the for loop, isn't the time complexity \n",
    "O(n^2)? The reason it is still O(n) is that the while loop can only iterate n times in total for the entire algorithm (left starts at 0, only increases, and never exceeds n)"
   ]
  },
  {
   "cell_type": "markdown",
   "metadata": {},
   "source": [
    "### 1004. Max Consecutive Ones III\n",
    "\n",
    "Given a binary array nums and an integer k, return the maximum number of consecutive 1's in the array if you can flip at most k 0's.\n",
    "\n",
    " \n",
    "\n",
    "Example 1:\n",
    "\n",
    "Input: nums = [1,1,1,0,0,0,1,1,1,1,0], k = 2\n",
    "Output: 6\n",
    "Explanation: [1,1,1,0,0,1,1,1,1,1,1]\n",
    "Bolded numbers were flipped from 0 to 1. The longest subarray is underlined.\n",
    "Example 2:\n",
    "\n",
    "Input: nums = [0,0,1,1,0,0,1,1,1,0,1,1,0,0,0,1,1,1,1], k = 3\n",
    "Output: 10\n",
    "Explanation: [0,0,1,1,1,1,1,1,1,1,1,1,0,0,0,1,1,1,1]\n",
    "Bolded numbers were flipped from 0 to 1. The longest subarray is underlined."
   ]
  },
  {
   "cell_type": "code",
   "execution_count": 2,
   "metadata": {},
   "outputs": [],
   "source": [
    "from typing import List\n",
    "\n",
    "\n",
    "class Solution:\n",
    "    def longestOnes(self, nums: List[int], k: int) -> int:                     \n",
    "        l = flip = cntr = 0\n",
    "        # 1. slow pointer 'right'\n",
    "        for r in range(len(nums)):\n",
    "            if nums[r] == 0:\n",
    "                flip+=1\n",
    "            # 2. fast pointer 'left'\n",
    "            while flip > k:\n",
    "                # 3. manage sliding window logic with 'k' flip '0' k times\n",
    "                if nums[l] == 0:\n",
    "                    flip-=1\n",
    "                l+=1\n",
    "            cntr = max(cntr, r - l + 1)        \n",
    "        return cntr\n",
    "\n",
    "# Test case \n",
    "assert Solution().longestOnes([1,1,1,0,0,0,1,1,1,1,0], 2) == 6\n",
    "assert Solution().longestOnes([0,0,1,1,0,0,1,1,1,0,1,1,0,0,0,1,1,1,1], 3) == 10\n",
    "    "
   ]
  },
  {
   "cell_type": "markdown",
   "metadata": {},
   "source": [
    "### Number of subarrays\n",
    "If a problem asks for the number of subarrays that fit some constraint, we can still use sliding window, but we need to use a neat math trick to calculate the number of subarrays.\n",
    "\n",
    "\n",
    "### 713. Subarray Product Less Than K\n",
    "\n",
    "Given an array of integers nums and an integer k, return the number of contiguous subarrays where the product of all the elements in the subarray is strictly less than k.\n",
    "\n",
    "Example 1:\n",
    "\n",
    "Input: nums = [10,5,2,6], k = 100\n",
    "Output: 8\n",
    "Explanation: The 8 subarrays that have product less than 100 are:\n",
    "[10], [5], [2], [6], [10, 5], [5, 2], [2, 6], [5, 2, 6]\n",
    "Note that [10, 5, 2] is not included as the product of 100 is not strictly less than k.\n",
    "Example 2:\n",
    "\n",
    "Input: nums = [1,2,3], k = 0\n",
    "Output: 0\n"
   ]
  },
  {
   "cell_type": "code",
   "execution_count": 7,
   "metadata": {},
   "outputs": [
    {
     "name": "stdout",
     "output_type": "stream",
     "text": [
      "right = 0, left = 0, diff 1\n",
      "right = 1, left = 0, diff 2\n",
      "right = 2, left = 1, diff 2\n",
      "right = 3, left = 1, diff 3\n"
     ]
    }
   ],
   "source": [
    "class Solution:\n",
    "    def numSubarrayProductLessThanK(self, nums: List[int], k: int) -> int:\n",
    "        if k <= 1:\n",
    "            return 0        \n",
    "        left = sub_arrs = 0\n",
    "        prod = 1\n",
    "        #1. slow pointer \"slow and steady\"\n",
    "        for right in range(len(nums)):\n",
    "            prod *= nums[right]\n",
    "            #2. fast pointer \"fast and ready\"\n",
    "            #3. IF CONDITION IS BROCKEN - logic for counter \"subarray is strictly LESS than k\"\n",
    "            while prod >= k:\n",
    "                prod /= nums[left]\n",
    "                left+=1                \n",
    "            #4. count ALL subarrays 'window size'\n",
    "            # calculate sizes of sliding windows, because minimum size of sub arr is 1\n",
    "            print(f\"right = {right}, left = {left}, diff {right - left + 1}\")\n",
    "            sub_arrs += right-left+1\n",
    "\n",
    "        return sub_arrs     \n",
    "    \n",
    "assert Solution().numSubarrayProductLessThanK([10,5,2,6], 100) == 8\n",
    "#assert Solution().numSubarrayProductLessThanK([1,2,3], 0) == 0    "
   ]
  },
  {
   "cell_type": "markdown",
   "metadata": {},
   "source": [
    "### Fixed window size\n",
    "\n",
    "These problems are easy because the difference between any two adjacent windows is only two elements (we add one element on the right and remove one element on the left to maintain the length).\n",
    "\n",
    "Start by building the first window (from index 0 to k - 1). Once we have a window of size k, if we add an element at index i, we need to remove the element at index i - k. For example, k = 2 and you currently have elements at indices [0, 1]. Now, we add 2: [0, 1, 2]. To keep the window size at k = 2, we need to remove 2 - k = 0: [1, 2].\n",
    "\n"
   ]
  }
 ],
 "metadata": {
  "kernelspec": {
   "display_name": "venv_alg",
   "language": "python",
   "name": "python3"
  },
  "language_info": {
   "codemirror_mode": {
    "name": "ipython",
    "version": 3
   },
   "file_extension": ".py",
   "mimetype": "text/x-python",
   "name": "python",
   "nbconvert_exporter": "python",
   "pygments_lexer": "ipython3",
   "version": "3.11.5"
  }
 },
 "nbformat": 4,
 "nbformat_minor": 2
}
