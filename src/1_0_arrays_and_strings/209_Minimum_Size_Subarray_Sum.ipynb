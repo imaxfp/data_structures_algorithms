{
 "cells": [
  {
   "cell_type": "markdown",
   "metadata": {},
   "source": [
    "Given an array of positive integers nums and a positive integer target, return the minimal length of a \n",
    "subarray\n",
    "whose sum is greater than or equal to target. If there is no such subarray, return 0 instead.\n",
    "\n",
    "Example 1:\n",
    "\n",
    "Input: target = 7, nums = [2,3,1,2,4,3]\n",
    "Output: 2\n",
    "Explanation: The subarray [4,3] has the minimal length under the problem constraint.\n",
    "Example 2:\n",
    "\n",
    "Input: target = 4, nums = [1,4,4]\n",
    "Output: 1\n",
    "Example 3:\n",
    "\n",
    "Input: target = 11, nums = [1,1,1,1,1,1,1,1]\n",
    "Output: 0"
   ]
  },
  {
   "cell_type": "code",
   "execution_count": 86,
   "metadata": {},
   "outputs": [],
   "source": [
    "from typing import List\n",
    "\n",
    "# Two Pointers - 'Slow and Steady, Fast and Ready'\n",
    "# Complexity O(n)\n",
    "# Memory O(1)\n",
    "\n",
    "class Solution:    \n",
    "    def minSubArrayLen(self, target: int, nums: List[int]) -> int:\n",
    "        l = 0\n",
    "        s = 0        \n",
    "        final_len=float('inf')\n",
    "        \n",
    "        # r pointer goes right, left pointer is trying to catch up 'r'\n",
    "        for r in range(len(nums)):            \n",
    "            s+=nums[r]\n",
    "            # detect subarray 'sum is greater than or equal to target'\n",
    "            while s >= target:\n",
    "                #do operations                                \n",
    "                tmp_len = (r - l)+1 #do not forget about ZERO index\n",
    "                final_len = min(tmp_len,final_len) \n",
    "                #change indexes\n",
    "                s-=nums[l]\n",
    "                l+=1\n",
    "                                                                                                           \n",
    "        return 0 if final_len == float('inf') else final_len                          \n",
    "        \n",
    "\n",
    "# Test case\n",
    "assert Solution().minSubArrayLen(target=7, nums=[2,3,1,2,4,3]) == 2\n",
    "assert Solution().minSubArrayLen(target=4, nums=[1,4,4]) == 1\n",
    "assert Solution().minSubArrayLen(target=11, nums=[1,1,1,1,1,1,1,1]) == 0\n",
    "assert Solution().minSubArrayLen(target=11, nums=[1,2,3,4,5]) == 3\n",
    "\n"
   ]
  }
 ],
 "metadata": {
  "kernelspec": {
   "display_name": "venv_alg",
   "language": "python",
   "name": "python3"
  },
  "language_info": {
   "codemirror_mode": {
    "name": "ipython",
    "version": 3
   },
   "file_extension": ".py",
   "mimetype": "text/x-python",
   "name": "python",
   "nbconvert_exporter": "python",
   "pygments_lexer": "ipython3",
   "version": "3.11.5"
  }
 },
 "nbformat": 4,
 "nbformat_minor": 2
}
