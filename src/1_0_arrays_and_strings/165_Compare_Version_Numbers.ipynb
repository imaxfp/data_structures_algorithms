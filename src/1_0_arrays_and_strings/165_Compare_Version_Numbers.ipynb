{
 "cells": [
  {
   "cell_type": "markdown",
   "metadata": {},
   "source": [
    "### 165. Compare Version Numbers\n",
    "\n",
    "https://leetcode.com/problems/compare-version-numbers/description/\n"
   ]
  },
  {
   "cell_type": "code",
   "execution_count": 12,
   "metadata": {},
   "outputs": [
    {
     "data": {
      "text/plain": [
       "-1"
      ]
     },
     "execution_count": 12,
     "metadata": {},
     "output_type": "execute_result"
    }
   ],
   "source": [
    "class Solution:\n",
    "    def compareVersion(self, version1: str, version2: str) -> int:\n",
    "        version1 = version1.split(\".\")\n",
    "        version2 = version2.split(\".\")\n",
    "\n",
    "        version1 = [int(v) for v in version1]\n",
    "        version2 = [int(v) for v in version2]\n",
    "\n",
    "        max_len = max(len(version1), len(version2))\n",
    "                \n",
    "        for i in range(max_len):\n",
    "            v1 = version1[i] if i < len(version1) else 0\n",
    "            v2 = version2[i] if i < len(version2) else 0\n",
    "\n",
    "            if v1 < v2:\n",
    "                return -1\n",
    "            elif v1 > v2:    \n",
    "                return 1\n",
    "        return 0\n",
    "\n",
    "v1 = \"7.5.2.4\"\n",
    "v2 = \"7.5.3\"    \n",
    "\n",
    "Solution().compareVersion(v1, v2)           "
   ]
  }
 ],
 "metadata": {
  "kernelspec": {
   "display_name": "venv_alg",
   "language": "python",
   "name": "python3"
  },
  "language_info": {
   "codemirror_mode": {
    "name": "ipython",
    "version": 3
   },
   "file_extension": ".py",
   "mimetype": "text/x-python",
   "name": "python",
   "nbconvert_exporter": "python",
   "pygments_lexer": "ipython3",
   "version": "3.11.5"
  }
 },
 "nbformat": 4,
 "nbformat_minor": 2
}
