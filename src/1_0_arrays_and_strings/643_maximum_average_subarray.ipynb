{
 "cells": [
  {
   "cell_type": "markdown",
   "metadata": {},
   "source": [
    "### 643. Maximum Average Subarray I        "
   ]
  },
  {
   "cell_type": "code",
   "execution_count": 15,
   "metadata": {},
   "outputs": [
    {
     "name": "stdout",
     "output_type": "stream",
     "text": [
      "12.75\n"
     ]
    }
   ],
   "source": [
    "from typing import List\n",
    "\n",
    "class Solution:    \n",
    "    def findMaxAverage(self, nums: List[int], k: int) -> float:                \n",
    "        current_sum = sum(nums[:k])\n",
    "        max_sum = current_sum\n",
    "        for i in range(k, len(nums)):\n",
    "            current_sum+=nums[i]    \n",
    "            current_sum-=nums[i-k]     \n",
    "            max_sum = max(current_sum, max_sum)\n",
    "        return max_sum / k\n",
    "\n",
    "#Output: 12.75000    \n",
    "print(Solution().findMaxAverage([1,12,-5,-6,50,3], 4))        "
   ]
  }
 ],
 "metadata": {
  "kernelspec": {
   "display_name": "venv_alg",
   "language": "python",
   "name": "python3"
  },
  "language_info": {
   "codemirror_mode": {
    "name": "ipython",
    "version": 3
   },
   "file_extension": ".py",
   "mimetype": "text/x-python",
   "name": "python",
   "nbconvert_exporter": "python",
   "pygments_lexer": "ipython3",
   "version": "3.11.5"
  }
 },
 "nbformat": 4,
 "nbformat_minor": 2
}
