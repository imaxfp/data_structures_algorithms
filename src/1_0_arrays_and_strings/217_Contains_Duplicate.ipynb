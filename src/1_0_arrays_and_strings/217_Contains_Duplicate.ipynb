{
 "cells": [
  {
   "cell_type": "code",
   "execution_count": 3,
   "metadata": {},
   "outputs": [
    {
     "name": "stdout",
     "output_type": "stream",
     "text": [
      "0\n"
     ]
    }
   ],
   "source": [
    "from typing import List\n",
    "\n",
    "#Complexity O(n)\n",
    "#Memory O(n)\n",
    "class Solution:\n",
    "    def containsDuplicate(self, nums: List[int]) -> bool:\n",
    "        dict_res = {}\n",
    "        for n in nums:\n",
    "            if dict_res.get(n) is not None:\n",
    "                return True\n",
    "            dict_res[n] = 1   \n",
    "        return False\n",
    "\n",
    "# Test case\n",
    "assert Solution().containsDuplicate([1,2,3,1]) == True\n",
    "assert Solution().containsDuplicate([1,2,3,4]) == False\n",
    "assert Solution().containsDuplicate([1,1,1,3,3,4,3,2,4,2]) == True \n",
    "\n",
    "rr = [-1,1,0,-3,3]\n",
    "res = 1\n",
    "for r in rr:\n",
    "    res *= r\n",
    "print(res)    \n",
    "    "
   ]
  }
 ],
 "metadata": {
  "kernelspec": {
   "display_name": "venv_alg",
   "language": "python",
   "name": "python3"
  },
  "language_info": {
   "codemirror_mode": {
    "name": "ipython",
    "version": 3
   },
   "file_extension": ".py",
   "mimetype": "text/x-python",
   "name": "python",
   "nbconvert_exporter": "python",
   "pygments_lexer": "ipython3",
   "version": "3.11.5"
  }
 },
 "nbformat": 4,
 "nbformat_minor": 2
}
