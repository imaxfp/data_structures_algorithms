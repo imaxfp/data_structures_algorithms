{
 "cells": [
  {
   "cell_type": "markdown",
   "metadata": {},
   "source": [
    "### 2824. Count Pairs Whose Sum is Less than Target\n",
    "\n",
    "https://leetcode.com/problems/count-pairs-whose-sum-is-less-than-target/description"
   ]
  },
  {
   "cell_type": "code",
   "execution_count": 9,
   "metadata": {},
   "outputs": [
    {
     "name": "stdout",
     "output_type": "stream",
     "text": [
      "3\n"
     ]
    }
   ],
   "source": [
    "from typing import List\n",
    "\n",
    "\n",
    "class Solution:\n",
    "    def countPairs(self, nums: List[int], target: int) -> int:\n",
    "        # ALGO        \n",
    "        #1. Sort arr\n",
    "        #2. use left pointer l[0]\n",
    "        #3. find right pointer with bit search where l[0] + l[r] >= target and l[0] + l[r-1] < target\n",
    "        #4. r - l = amount of combinations        \n",
    "        def find_first_left_val_before_target(nums, start_idx, target):            \n",
    "            l = start_idx + 1\n",
    "            r = len(nums) - 1 \n",
    "            while l <= r:\n",
    "                mid = (l + r) // 2\n",
    "                if nums[mid] < (target - nums[start_idx]):\n",
    "                    l = mid + 1\n",
    "                else:\n",
    "                    r = mid - 1  \n",
    "            return l  # Return the index where nums[l] is no longer valid (>= target - curr_num)\n",
    "                                            \n",
    "        pairs = 0        \n",
    "        nums.sort()        \n",
    "        for i in range(len(nums)):\n",
    "            val_index = find_first_left_val_before_target(nums, i, target)  # Start searching from i + 1\n",
    "            pairs += (val_index - (i + 1))  # All valid pairs are between i+1 and val_index-1           \n",
    "            \n",
    "        return pairs\n",
    "    \n",
    "print(Solution().countPairs([-1,1,2,3,1], 2))"
   ]
  }
 ],
 "metadata": {
  "kernelspec": {
   "display_name": "venv_alg",
   "language": "python",
   "name": "python3"
  },
  "language_info": {
   "codemirror_mode": {
    "name": "ipython",
    "version": 3
   },
   "file_extension": ".py",
   "mimetype": "text/x-python",
   "name": "python",
   "nbconvert_exporter": "python",
   "pygments_lexer": "ipython3",
   "version": "3.11.5"
  }
 },
 "nbformat": 4,
 "nbformat_minor": 2
}
