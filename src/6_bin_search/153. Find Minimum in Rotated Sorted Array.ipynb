{
 "cells": [
  {
   "cell_type": "markdown",
   "metadata": {},
   "source": [
    "### 153. Find Minimum in Rotated Sorted Array\n",
    "\n",
    "https://leetcode.com/problems/find-minimum-in-rotated-sorted-array/description"
   ]
  },
  {
   "cell_type": "code",
   "execution_count": 5,
   "metadata": {},
   "outputs": [
    {
     "name": "stdout",
     "output_type": "stream",
     "text": [
      "1\n"
     ]
    }
   ],
   "source": [
    "from typing import List\n",
    "\n",
    "class Solution:\n",
    "    def findMin(self, nums: List[int]) -> int:\n",
    "        #bin search \n",
    "        # 1. split arr tp the 2 parts\n",
    "        # 2. find which part have to be done with bin search \n",
    "        \n",
    "        def find_min_bin_search(arr):\n",
    "            \n",
    "            l = 0\n",
    "            r = len(arr)-1             \n",
    "            while l < r:\n",
    "                #mid = l + (r - l) // 2                \n",
    "                mid = (r + l) // 2                                \n",
    "                #cut right side\n",
    "                if arr[mid] < arr[r]:\n",
    "                    r = mid - 1\n",
    "                else:\n",
    "                    l = mid + 1 \n",
    "            return arr[l]           \n",
    "        \n",
    "        #find sub arrs \n",
    "        for i in range(len(nums)-1):\n",
    "            if nums[i + 1] < nums[i]:\n",
    "                return find_min_bin_search(nums[i + 1:])   \n",
    "        \n",
    "        #arr without rotating \n",
    "        return nums[0]           \n",
    "\n",
    "\n",
    "print(Solution().findMin([3,4,5,1,2]))    "
   ]
  },
  {
   "cell_type": "code",
   "execution_count": 6,
   "metadata": {},
   "outputs": [
    {
     "name": "stdout",
     "output_type": "stream",
     "text": [
      "1\n"
     ]
    }
   ],
   "source": [
    "from typing import List\n",
    "\n",
    "class Solution:\n",
    "    def findMin(self, nums: List[int]) -> int:\n",
    "        l = 0\n",
    "        r = len(nums) - 1\n",
    "        \n",
    "        while l < r:\n",
    "            #prevent overflow \n",
    "            mid = l + (r - l) // 2\n",
    "            \n",
    "            \n",
    "            # the minimum must be in the left half (including mid)            \n",
    "            if nums[mid] < nums[r]:\n",
    "                # if we set -1 we can potentialy scip the min element because arr rotated\n",
    "                r = mid\n",
    "            else:\n",
    "                # Otherwise, the minimum is in the right half\n",
    "                l = mid + 1\n",
    "                \n",
    "        # The left pointer will point to the minimum element\n",
    "        return nums[l]\n",
    "    \n",
    "print(Solution().findMin([3,4,5,1,2]))       "
   ]
  }
 ],
 "metadata": {
  "kernelspec": {
   "display_name": "venv_alg",
   "language": "python",
   "name": "python3"
  },
  "language_info": {
   "codemirror_mode": {
    "name": "ipython",
    "version": 3
   },
   "file_extension": ".py",
   "mimetype": "text/x-python",
   "name": "python",
   "nbconvert_exporter": "python",
   "pygments_lexer": "ipython3",
   "version": "3.11.5"
  }
 },
 "nbformat": 4,
 "nbformat_minor": 2
}
