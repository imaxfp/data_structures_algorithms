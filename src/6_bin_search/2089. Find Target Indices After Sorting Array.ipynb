{
 "cells": [
  {
   "cell_type": "markdown",
   "metadata": {},
   "source": [
    "### 2089. Find Target Indices After Sorting Array\n",
    "\n",
    "https://leetcode.com/problems/find-target-indices-after-sorting-array/description/"
   ]
  },
  {
   "cell_type": "code",
   "execution_count": 2,
   "metadata": {},
   "outputs": [
    {
     "name": "stdout",
     "output_type": "stream",
     "text": [
      "[1, 100, 100]\n",
      "1\n",
      "2\n"
     ]
    },
    {
     "data": {
      "text/plain": [
       "[1, 2]"
      ]
     },
     "execution_count": 2,
     "metadata": {},
     "output_type": "execute_result"
    }
   ],
   "source": [
    "from typing import List\n",
    "\n",
    "\n",
    "class Solution:\n",
    "    def targetIndices(self, nums: List[int], target: int) -> List[int]:\n",
    "\n",
    "        nums.sort()\n",
    "        def find_left_boundary(nums, target):\n",
    "            l = 0\n",
    "            r = len(nums)-1\n",
    "            while l <= r:\n",
    "                mid = l + (r-l) // 2\n",
    "                if nums[mid] == target:\n",
    "                    if mid==0 or nums[mid-1] != target:\n",
    "                        return mid \n",
    "                    else:\n",
    "                        r = mid-1   \n",
    "                elif target > nums[mid]:\n",
    "                    l=mid+1\n",
    "                else:\n",
    "                    r=mid-1  \n",
    "            return -1        \n",
    "\n",
    "        def find_right_boundary(nums, target):\n",
    "            l = 0\n",
    "            r = len(nums)-1\n",
    "            while l <= r:\n",
    "                mid = l + (r-l) // 2\n",
    "                if nums[mid] == target:\n",
    "                    if mid==len(nums)-1 or nums[mid+1] != target:\n",
    "                        return mid \n",
    "                    else:\n",
    "                        l = mid+1   \n",
    "                elif target > nums[mid]:\n",
    "                    l=mid+1\n",
    "                else:\n",
    "                    r=mid-1  \n",
    "            return -1                                                                    \n",
    "        \n",
    "        left_target =  find_left_boundary(nums, target)\n",
    "        right_target =  find_right_boundary(nums, target)\n",
    "\n",
    "        print(left_target)\n",
    "        print(right_target)\n",
    "\n",
    "        if left_target == -1:\n",
    "            return [] \n",
    "\n",
    "        return list(range(left_target, right_target + 1))\n",
    "    \n",
    "#nums = [100,1,100]\n",
    "#target = 100    \n",
    "Solution().targetIndices([100,1,100], 100)\n"
   ]
  },
  {
   "cell_type": "code",
   "execution_count": 7,
   "metadata": {},
   "outputs": [
    {
     "data": {
      "text/plain": [
       "[1, 2]"
      ]
     },
     "execution_count": 7,
     "metadata": {},
     "output_type": "execute_result"
    }
   ],
   "source": [
    "class Solution:\n",
    "    def targetIndices(self, nums: List[int], target: int) -> List[int]:\n",
    "        nums.sort()  # Keep if needed                \n",
    "        \n",
    "        def find_boundary(nums, target, find_left):\n",
    "            l, r = 0, len(nums) - 1\n",
    "            boundary = -1\n",
    "            while l <= r:\n",
    "                mid = l + (r - l) // 2\n",
    "                if nums[mid] == target:\n",
    "                    boundary = mid\n",
    "                    if find_left:\n",
    "                        r = mid - 1  # Move left to find the left boundary\n",
    "                    else:\n",
    "                        l = mid + 1  # Move right to find the right boundary\n",
    "                elif nums[mid] < target:\n",
    "                    l = mid + 1\n",
    "                else:\n",
    "                    r = mid - 1\n",
    "            return boundary\n",
    "        \n",
    "        left_target = find_boundary(nums, target, True)\n",
    "        right_target = find_boundary(nums, target, False)\n",
    "\n",
    "        if left_target == -1:\n",
    "            return []\n",
    "        return list(range(left_target, right_target + 1))\n",
    "        \n",
    "#nums = [100,1,100]\n",
    "#target = 100    \n",
    "Solution().targetIndices([100,1,100], 100)"
   ]
  }
 ],
 "metadata": {
  "kernelspec": {
   "display_name": "venv_alg",
   "language": "python",
   "name": "python3"
  },
  "language_info": {
   "codemirror_mode": {
    "name": "ipython",
    "version": 3
   },
   "file_extension": ".py",
   "mimetype": "text/x-python",
   "name": "python",
   "nbconvert_exporter": "python",
   "pygments_lexer": "ipython3",
   "version": "3.11.5"
  }
 },
 "nbformat": 4,
 "nbformat_minor": 2
}
