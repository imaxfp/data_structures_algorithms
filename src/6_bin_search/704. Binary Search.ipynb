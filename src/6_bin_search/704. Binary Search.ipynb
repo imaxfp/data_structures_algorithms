{
 "cells": [
  {
   "cell_type": "markdown",
   "metadata": {},
   "source": [
    "### 704. Binary Search\n",
    "\n",
    "Given an array of integers nums which is sorted in ascending order, and an integer target, write a function to search target in nums. If target exists, then return its index. Otherwise, return -1.\n",
    "\n",
    "You must write an algorithm with O(log n) runtime complexity."
   ]
  },
  {
   "cell_type": "code",
   "execution_count": 5,
   "metadata": {},
   "outputs": [],
   "source": [
    "from typing import List\n",
    "\n",
    "\n",
    "class Solution:\n",
    "    def binary_search(self, nums: List[int], target: int) -> int:\n",
    "        left = 0 \n",
    "        right = len(nums)-1\n",
    "        while left <= right:            \n",
    "            mid = (left+right) // 2\n",
    "            if nums[mid] == target:\n",
    "                return mid\n",
    "            if nums[mid] < target:\n",
    "                left = mid+1\n",
    "            if nums[mid] > target:\n",
    "                right = mid-1\n",
    "        return -1       \n",
    "\n",
    "assert Solution().binary_search([-1, 0, 3, 5, 9, 12], 9) == 4, \"Test Case 1 Failed\"\n",
    "assert Solution().binary_search([-1, 0, 3, 5, 9, 12], 2) == -1, \"Test Case 2 Failed\"\n"
   ]
  }
 ],
 "metadata": {
  "kernelspec": {
   "display_name": "venv_alg",
   "language": "python",
   "name": "python3"
  },
  "language_info": {
   "codemirror_mode": {
    "name": "ipython",
    "version": 3
   },
   "file_extension": ".py",
   "mimetype": "text/x-python",
   "name": "python",
   "nbconvert_exporter": "python",
   "pygments_lexer": "ipython3",
   "version": "3.11.5"
  }
 },
 "nbformat": 4,
 "nbformat_minor": 2
}
