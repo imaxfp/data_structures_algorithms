{
 "cells": [
  {
   "cell_type": "markdown",
   "metadata": {},
   "source": [
    "### 74. Search a 2D Matrix\n",
    "\n",
    "https://leetcode.com/problems/search-a-2d-matrix/description/\n"
   ]
  },
  {
   "cell_type": "code",
   "execution_count": 19,
   "metadata": {},
   "outputs": [],
   "source": [
    "from typing import List\n",
    "\n",
    "#O(log(n*m))\n",
    "class Solution:\n",
    "    \n",
    "    def find_row(self, matrix, target):        \n",
    "        #if has_one_row\n",
    "        if len(matrix) == 1:\n",
    "            return 0        \n",
    "        #1. detect line value greater row[0] and less than row[-1]\n",
    "        for row in range(len(matrix)):\n",
    "            if matrix[row][0] <= target and  matrix[row][len(matrix[row])-1] >= target:\n",
    "                return row\n",
    "        return -1      \n",
    "        \n",
    "    def searchMatrix(self, matrix: List[List[int]], target: int) -> bool:                                \n",
    "        row_for_search = self.find_row(matrix, target)\n",
    "        \n",
    "        if row_for_search == -1:\n",
    "            return False\n",
    "        \n",
    "        left = 0\n",
    "        right = len(matrix[row_for_search])-1\n",
    "        \n",
    "        while left <= right:\n",
    "            mid = (left+right)//2\n",
    "            if matrix[row_for_search][mid] == target:\n",
    "                return True\n",
    "            elif matrix[row_for_search][mid] < target:                \n",
    "                left = mid+1\n",
    "            else:\n",
    "                right = mid-1            \n",
    "        return False\n",
    "\n",
    "assert Solution().searchMatrix([[1]], 11) == False, \"Test Case 1 Failed\"\n",
    "assert Solution().searchMatrix([[1]], 1) == True, \"Test Case 1 Failed\"\n",
    "assert Solution().searchMatrix([[1,2,3]], 11) == False, \"Test Case 2 Failed\"\n",
    "assert Solution().searchMatrix([[1,3,5,7],[10,11,16,20],[23,30,34,60]], 13) == False, \"Test Case 3 Failed\"\n",
    "assert Solution().searchMatrix([[1,3,5,7],[10,11,16,20],[23,30,34,60]], 30) == True, \"Test Case 4 Failed\"\n"
   ]
  }
 ],
 "metadata": {
  "kernelspec": {
   "display_name": "venv_alg",
   "language": "python",
   "name": "python3"
  },
  "language_info": {
   "codemirror_mode": {
    "name": "ipython",
    "version": 3
   },
   "file_extension": ".py",
   "mimetype": "text/x-python",
   "name": "python",
   "nbconvert_exporter": "python",
   "pygments_lexer": "ipython3",
   "version": "3.11.5"
  }
 },
 "nbformat": 4,
 "nbformat_minor": 2
}
