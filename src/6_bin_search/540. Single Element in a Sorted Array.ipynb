{
 "cells": [
  {
   "cell_type": "markdown",
   "metadata": {},
   "source": [
    "### 540. Single Element in a Sorted Array\n",
    "\n",
    "https://leetcode.com/problems/single-element-in-a-sorted-array/description"
   ]
  },
  {
   "cell_type": "code",
   "execution_count": 8,
   "metadata": {},
   "outputs": [
    {
     "name": "stdout",
     "output_type": "stream",
     "text": [
      "5\n",
      "2\n",
      "10\n"
     ]
    }
   ],
   "source": [
    "from typing import List\n",
    "\n",
    "class Solution:\n",
    "    def singleNonDuplicate(self, nums: List[int]) -> int:\n",
    "        #TASK\n",
    "        #1. Return the single element that appears only once.\n",
    "        #2. Your solution must run in O(log n) time and O(1) space.\n",
    "        l=0\n",
    "        r=len(nums)-1\n",
    "\n",
    "        if len(nums) == 1:            \n",
    "            return nums[0]\n",
    "        \n",
    "        #check first element is unique\n",
    "        if nums[0] != nums[1]:\n",
    "            return nums[0]\n",
    "\n",
    "        #check last element is unique\n",
    "        if nums[-1] != nums[-2]:\n",
    "            return nums[-1]    \n",
    "\n",
    "        #mid element is unique\n",
    "        #  0  1  2   3    4   5   6\n",
    "        #[(3, 3, 7, [7]), 10, 11, 11]\n",
    "        while l <= r:\n",
    "            # \n",
    "            mid = (r+l) // 2\n",
    "\n",
    "            #check if element is unique\n",
    "            if nums[mid] != nums[mid+1] and nums[mid] != nums[mid-1]:\n",
    "                return nums[mid]\n",
    "            \n",
    "            #left part should contain pairs \n",
    "            \n",
    "            left_size = mid            \n",
    "            if nums[mid] == nums[mid-1]:\n",
    "                #[1,1,2,[2],5,6,6]\n",
    "                #shift to the left for holding pair\n",
    "                #[1,1,[2],2,5,6,6]\n",
    "                left_size-=1\n",
    "                \n",
    "            #left side EVEN amount of elements, exclude left part\n",
    "            #because left pat does not have single elenent [1,1,2,2]    \n",
    "            if left_size % 2 == 0:                \n",
    "                l = mid + 1                   \n",
    "            #left part ODD - [1,1,2,3,3], means left side has single element\n",
    "            #exclude right side\n",
    "            else:\n",
    "                r = mid - 1    \n",
    "                \n",
    "                                              \n",
    "\n",
    "#5\n",
    "print(Solution().singleNonDuplicate([1,1,2,2,5,6,6]))\n",
    "\n",
    "#2\n",
    "print(Solution().singleNonDuplicate([1,1,2,3,3,4,4,8,8]))   \n",
    "\n",
    "#10    \n",
    "print(Solution().singleNonDuplicate([3, 3, 7, 7, 10, 11,11]))\n",
    " "
   ]
  }
 ],
 "metadata": {
  "kernelspec": {
   "display_name": "venv_alg",
   "language": "python",
   "name": "python3"
  },
  "language_info": {
   "codemirror_mode": {
    "name": "ipython",
    "version": 3
   },
   "file_extension": ".py",
   "mimetype": "text/x-python",
   "name": "python",
   "nbconvert_exporter": "python",
   "pygments_lexer": "ipython3",
   "version": "3.11.5"
  }
 },
 "nbformat": 4,
 "nbformat_minor": 2
}
