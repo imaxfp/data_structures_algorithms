{
 "cells": [
  {
   "cell_type": "markdown",
   "metadata": {},
   "source": [
    "### 2300. Successful Pairs of Spells and Potions\n",
    "\n",
    "https://leetcode.com/problems/successful-pairs-of-spells-and-potions/description/"
   ]
  },
  {
   "cell_type": "code",
   "execution_count": 23,
   "metadata": {},
   "outputs": [
    {
     "data": {
      "text/plain": [
       "1"
      ]
     },
     "execution_count": 23,
     "metadata": {},
     "output_type": "execute_result"
    }
   ],
   "source": [
    "# The isBadVersion API is already defined for you.\n",
    "# def isBadVersion(version: int) -> bool:\n",
    "\n",
    "class Solution:\n",
    "    \n",
    "    #emulation of the API\n",
    "    def isBadVersion(self, version: int):\n",
    "        # Input: n = 5, bad = 4        \n",
    "        return 4\n",
    "    \n",
    "    def firstBadVersion(self, n: int) -> int:\n",
    "        # TASK\n",
    "        # 1. Each version is developed based on the previous version\n",
    "        # 2. All the versions after a bad version are also bad.\n",
    "        # 3. Implement a function to find the first bad version\n",
    "\n",
    "        #SOLUTION\n",
    "        #1. bin search implementation \"sort, get mid, move left or right\"\n",
    "        #2. jump left or right untli l -1 or r + 1 is good version\n",
    "\n",
    "        \n",
    "        #first bad version in the versions \n",
    "        # [1, 2, 3, 4, 5]    \n",
    "        \n",
    "        \n",
    "        left = 1\n",
    "        right = n\n",
    "        while left < right:            \n",
    "            #avoid potential integer overflow\n",
    "            #mid = left + (right - left) // 2\n",
    "            #right - left = reminder [1,2,3,*4*,5,6]            \n",
    "            # left 4, right 6\n",
    "            # 6 - 4 = 2 + left + left = 8\n",
    "            mid = (left+right) // 2\n",
    "            #until we have 'bad' cat right part\n",
    "            if self.isBadVersion(mid):\n",
    "                right = mid\n",
    "            #good version - forget left part\n",
    "            else:\n",
    "                left = mid + 1\n",
    "        return left\n",
    "\n",
    "# Input: n = 5, bad = 4\n",
    "# Output: 4\n",
    "Solution().firstBadVersion(5)\n"
   ]
  }
 ],
 "metadata": {
  "kernelspec": {
   "display_name": "venv_alg",
   "language": "python",
   "name": "python3"
  },
  "language_info": {
   "codemirror_mode": {
    "name": "ipython",
    "version": 3
   },
   "file_extension": ".py",
   "mimetype": "text/x-python",
   "name": "python",
   "nbconvert_exporter": "python",
   "pygments_lexer": "ipython3",
   "version": "3.11.5"
  }
 },
 "nbformat": 4,
 "nbformat_minor": 2
}
