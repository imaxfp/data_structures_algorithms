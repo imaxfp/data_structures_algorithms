{
 "cells": [
  {
   "cell_type": "markdown",
   "metadata": {},
   "source": [
    "### 34. find-first-and-last-position-of-element-in-sorted-array\n",
    "\n",
    "https://leetcode.com/problems/find-first-and-last-position-of-element-in-sorted-array/description/\n",
    "\n"
   ]
  },
  {
   "cell_type": "code",
   "execution_count": 14,
   "metadata": {},
   "outputs": [
    {
     "name": "stdout",
     "output_type": "stream",
     "text": [
      "[3, 6]\n"
     ]
    }
   ],
   "source": [
    "from typing import List\n",
    "\n",
    "class Solution:   \n",
    "     \n",
    "    def searchRange(self, nums: List[int], target: int) -> List[int]:        \n",
    "        def find_boundary(left_bound: bool) -> int:\n",
    "            left, right = 0, len(nums) - 1\n",
    "            boundary_index = -1\n",
    "            while left <= right:\n",
    "                mid = (left + right) // 2\n",
    "                if nums[mid] > target:\n",
    "                    right = mid - 1\n",
    "                elif nums[mid] < target:\n",
    "                    left = mid + 1\n",
    "                else:\n",
    "                    boundary_index = mid\n",
    "                    if left_bound:\n",
    "                        right = mid - 1\n",
    "                    else:\n",
    "                        left = mid + 1\n",
    "            return boundary_index\n",
    "        \n",
    "        left_index = find_boundary(True)\n",
    "        right_index = find_boundary(False)\n",
    "        return [left_index, right_index]\n",
    "                    \n",
    "\n",
    "res = Solution().searchRange([1,2,3,4,4,4,4,5,6,7,8], 4)                \n",
    "print(res)"
   ]
  }
 ],
 "metadata": {
  "kernelspec": {
   "display_name": "venv_alg",
   "language": "python",
   "name": "python3"
  },
  "language_info": {
   "codemirror_mode": {
    "name": "ipython",
    "version": 3
   },
   "file_extension": ".py",
   "mimetype": "text/x-python",
   "name": "python",
   "nbconvert_exporter": "python",
   "pygments_lexer": "ipython3",
   "version": "3.11.5"
  }
 },
 "nbformat": 4,
 "nbformat_minor": 2
}
