{
 "cells": [
  {
   "cell_type": "markdown",
   "metadata": {},
   "source": [
    "### 198. House Robber\n",
    "\n",
    "https://leetcode.com/problems/house-robber/description/\n",
    "\n",
    "https://leetcode.com/problems/house-robber/submissions/1298718247/\n",
    "\n",
    "https://www.youtube.com/watch?v=Y85dfkCSlP8\n",
    "\n",
    "\n",
    "### Sauce:\n",
    "- 1 can (15 ounces) tomato sauce\n",
    "- 1 can (6 ounces) tomato paste\n",
    "- 1 teaspoon dried oregano"
   ]
  },
  {
   "cell_type": "code",
   "execution_count": 25,
   "metadata": {},
   "outputs": [
    {
     "name": "stdout",
     "output_type": "stream",
     "text": [
      "4\n"
     ]
    }
   ],
   "source": [
    "#Time Limit Exceeded\n",
    "from typing import List\n",
    "\n",
    "class Solution:\n",
    "    def rob(self, nums: List[int]) -> int:\n",
    "        #fixed_size_binary = binary_representation.zfill(len(arr))\n",
    "\n",
    "        subset_comb = 2 ** len(nums)\n",
    "        bin_arr = []\n",
    "        #1. generate bin nums length of 'arr' for all subset combination\n",
    "        for i in range(1, subset_comb):    \n",
    "            #Remove '0b' prefix\n",
    "            bin_num = bin(i)[2:].zfill(len(nums))\n",
    "            #2. Do not consider bin numbers where 11 close to each other\n",
    "            if '11' not in bin_num:\n",
    "                bin_arr.append(bin_num)\n",
    "\n",
    "        #3. map bin number 1 to the arr index\n",
    "        fin_sum = float('-inf')\n",
    "        for b_num in bin_arr:\n",
    "            tmp_sum = 0\n",
    "            for i in range(len(b_num)):\n",
    "                #4. sum all nums by arr indexes\n",
    "                if b_num[i] == '1':\n",
    "                    tmp_sum+=nums[i]\n",
    "            #5. find max sum    \n",
    "            fin_sum = max(fin_sum, tmp_sum)\n",
    "            tmp_sum = 0    \n",
    "        return fin_sum     \n",
    "\n",
    "print(Solution().rob([2,1,1,2]))"
   ]
  },
  {
   "cell_type": "code",
   "execution_count": 1,
   "metadata": {},
   "outputs": [
    {
     "name": "stdout",
     "output_type": "stream",
     "text": [
      "4\n"
     ]
    }
   ],
   "source": [
    "# Memory Limit Exceeded\n",
    "from typing import List\n",
    "\n",
    "class Solution:\n",
    "    \n",
    "    def __init__(self) -> None:\n",
    "        self.result = []\n",
    "        \n",
    "    def generate_combinations_backtrack(self, n):\n",
    "        def backtrack(arr, pos):\n",
    "            if pos == n:\n",
    "                self.result.append(arr[:])\n",
    "                return\n",
    "            \n",
    "            # Try placing 0 at the current position\n",
    "            arr[pos] = 0\n",
    "            backtrack(arr, pos + 1)\n",
    "            \n",
    "            # Try placing 1 at the current position if the previous one is not 1\n",
    "            if pos == 0 or arr[pos - 1] == 0:\n",
    "                arr[pos] = 1\n",
    "                backtrack(arr, pos + 1)\n",
    "        \n",
    "        \n",
    "        backtrack([0] * n, 0)\n",
    "        return self.result\n",
    "    \n",
    "    \n",
    "    def rob(self, nums: List[int]) -> int:\n",
    "        #3. map bin number 1 to the arr index        \n",
    "        bin_arr = self.generate_combinations_backtrack(len(nums)) \n",
    "         \n",
    "        fin_sum = float('-inf')\n",
    "        for b_num in bin_arr:\n",
    "            tmp_sum = 0\n",
    "            for i in range(len(b_num)):\n",
    "                #4. sum all nums by arr indexes\n",
    "                if b_num[i] == 1:\n",
    "                    tmp_sum+=nums[i]\n",
    "            #5. find max sum    \n",
    "            fin_sum = max(fin_sum, tmp_sum)\n",
    "            tmp_sum = 0    \n",
    "        return fin_sum    \n",
    "\n",
    "\n",
    "\n",
    "print(Solution().rob([2,1,1,2]))"
   ]
  },
  {
   "cell_type": "code",
   "execution_count": 4,
   "metadata": {},
   "outputs": [
    {
     "name": "stdout",
     "output_type": "stream",
     "text": [
      "4\n"
     ]
    }
   ],
   "source": [
    "#DP (TOP-DOWN)\n",
    "class Solution:\n",
    "    def __init__(self):\n",
    "        self.memo = {}\n",
    "    \n",
    "    def rob(self, nums: List[int]) -> int:\n",
    "        \n",
    "        #out of arr error\n",
    "        if len(nums) == 1:\n",
    "            \n",
    "            return nums[0]\n",
    "        \n",
    "        def dp(i):\n",
    "            # Base cases\n",
    "            if i == 0:\n",
    "                return nums[0]\n",
    "            if i == 1:\n",
    "                return max(nums[0], nums[1])            \n",
    "            if i in self.memo:\n",
    "                return self.memo[i]\n",
    "            \n",
    "            self.memo[i] = max(dp(i - 1), dp(i - 2) + nums[i])\n",
    "            return self.memo[i]        \n",
    "        return dp(len(nums) - 1)\n",
    "    \n",
    "print(Solution().rob([2,1,1,2]))    "
   ]
  },
  {
   "cell_type": "code",
   "execution_count": 11,
   "metadata": {},
   "outputs": [
    {
     "name": "stdout",
     "output_type": "stream",
     "text": [
      "4\n"
     ]
    }
   ],
   "source": [
    "# DP (bottom-up)\n",
    "class Solution:\n",
    "    def rob(self, nums: List[int]) -> int:        \n",
    "        #out of arr error\n",
    "        if len(nums) == 1:\n",
    "            return nums[0]\n",
    "        \n",
    "        dp = [0] * len(nums)        \n",
    "        # Base cases\n",
    "        dp[0] = nums[0]\n",
    "        dp[1] = max(nums[0], nums[1])\n",
    "        \n",
    "        for i in range(2, len(nums)):\n",
    "            # Recurrence relation\n",
    "            dp[i] = max(dp[i - 1], dp[i - 2] + nums[i])\n",
    "        \n",
    "        return dp[-1]\n",
    "\n",
    "print(Solution().rob([2,1,1,2]))"
   ]
  }
 ],
 "metadata": {
  "kernelspec": {
   "display_name": "venv_alg",
   "language": "python",
   "name": "python3"
  },
  "language_info": {
   "codemirror_mode": {
    "name": "ipython",
    "version": 3
   },
   "file_extension": ".py",
   "mimetype": "text/x-python",
   "name": "python",
   "nbconvert_exporter": "python",
   "pygments_lexer": "ipython3",
   "version": "3.11.5"
  }
 },
 "nbformat": 4,
 "nbformat_minor": 2
}
