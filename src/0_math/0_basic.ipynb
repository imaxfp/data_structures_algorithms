{
 "cells": [
  {
   "cell_type": "markdown",
   "metadata": {},
   "source": [
    "# Arithmetic Sequences\n",
    "\n",
    "\n",
    "#### The nth term (An) of an arithmetic sequence can be calculated using the following formula:\n",
    "``` bash\n",
    "An = a + (n-1) * d\n",
    "```\n",
    "\n",
    "\n",
    "Where:\n",
    "- `a` is the first term of the sequence (in your case, a = 35)\n",
    "- `d` is the common difference between the terms (in your case, d = 28 - 35 = -7)\n",
    "- `n` is the term number (position in seq, in our case can be 12 or 18)\n",
    "you're looking for the 12-th term, then n would be 12. You would plug these values into the formula to find the 12-th term. Similarly, to find the 18-th term, you would set n to 18 and again apply the formula.\n",
    "\n",
    "#### The sum (Sn) of the first n terms of an arithmetic sequence can be calculated using the following formula:\n",
    "\n",
    "```bash\n",
    "Sn = (n/2) * (2a + (n-1)d)\n",
    "```\n",
    "\n",
    "Where:\n",
    "- `n` is the number of terms (18 - 12 + 1) = 7. 7 numbers in the sequence have to be summed up\n",
    "- `a` is the first term of the sequence (in your case, a = 35)\n",
    "- `d` is the common difference between the terms (in your case, d = 28 - 35 = -7)\n",
    "\n",
    "\n",
    "#### Task:\n",
    "```bash\n",
    "Given an arithmetic sequence 35, 28, 21, ... Can you calculate the sum of the numbers from the 12th position to the 18th position in this sequence?\n",
    "```"
   ]
  },
  {
   "cell_type": "code",
   "execution_count": 19,
   "metadata": {},
   "outputs": [
    {
     "name": "stdout",
     "output_type": "stream",
     "text": [
      "[35, 28, 21, 14, 7, 0, -7, -14, -21, -28, -35, -42, -49, -56, -63, -70, -77, -84, -91]\n",
      "Res =  -441\n"
     ]
    }
   ],
   "source": [
    "# Intuinion solution\n",
    "def continue_seq(arr, stop):    \n",
    "    while len(arr) <= stop:\n",
    "        diff = arr[-2] - arr[-1]\n",
    "        arr.append(arr[-1]-diff)\n",
    "    return arr    \n",
    "\n",
    "def sum_of_number_position(arr, start, stop):\n",
    "    if len(arr) < 2:\n",
    "        return -1\n",
    "    arr = continue_seq(arr, stop)\n",
    "    print(arr)\n",
    "    return sum(arr[start:stop])\n",
    "        \n",
    "print(\"Res = \", sum_of_number_position([35, 28], 11, 18))"
   ]
  },
  {
   "cell_type": "markdown",
   "metadata": {},
   "source": [
    "### Formula based solution\n",
    "\n",
    "\n",
    "<img src=\"../../img/math/seq_formula2.png\" alt=\"nearby_objects\" width=\"450\"/>\n",
    "\n",
    "<img src=\"../../img/math/seq_formula.png\" alt=\"nearby_objects\" width=\"450\"/>"
   ]
  },
  {
   "cell_type": "code",
   "execution_count": 23,
   "metadata": {},
   "outputs": [
    {
     "name": "stdout",
     "output_type": "stream",
     "text": [
      "-42\n",
      "-84\n",
      "-441.0\n"
     ]
    }
   ],
   "source": [
    "def calc_seq(a1, n, d):\n",
    "    return a1 + (n-1) * d\n",
    "\n",
    "# Gen term of the arithmetic sequence \n",
    "# first element in the seq = 35\n",
    "# n = th term of the seq, in our case 12 and 18\n",
    "# d = -7, the difference in the seq\n",
    "an1 = calc_seq(35, 12, -7)\n",
    "an2 = calc_seq(35, 18, -7)    \n",
    "print(an1)\n",
    "print(an2)\n",
    "\n",
    "#Sum of the n terms in the seq\n",
    "# n = represents the number of terms that are being summed. (18 - 12 + 1) = 7\n",
    "sn = 7/2 * (an1 + an2)\n",
    "print(sn)"
   ]
  },
  {
   "cell_type": "markdown",
   "metadata": {},
   "source": [
    "# Geometric sequrnce\n",
    "\n",
    "#### Common ratio of the geometric sequence: \n",
    "```bash\n",
    "r = Term_n/Term_n-1\n",
    "r = A_n/A_n-1\n",
    "```\n",
    "\n",
    "```bash\n",
    "# Example 1\n",
    "3, 6, 12, 24, 48 ... \n",
    "r = 24/12 = 2\n",
    "\n",
    "#Example 2\n",
    "18, 6, 2 ...                             \n",
    "r = 6 / 18 = 2 / 6 = 1\n",
    "                    ___\n",
    "                     3                     \n",
    "```\n",
    "\n",
    "#### Finding the n-th term of a geometric sequence:\n",
    "```bash\n",
    "a * r^(n-1)\n",
    "```\n",
    "Where:\n",
    "- `a` is the first term of the sequence\n",
    "- `r` is the common ratio\n",
    "- `n` is the term number (position of a term in the sequence.)\n",
    "\n",
    "\n",
    "#### The sum (S_n) of the first n terms of a geometric sequence can be calculated using the following formula:\n",
    "```bash\n",
    "S_n = a * (1 - r^n) / (1 - r)\n",
    "```\n",
    "Where:\n",
    "- `S_n` is the sum of the first `n` terms\n",
    "- `a` is the first term of the sequence\n",
    "- `r` is the common ratio\n",
    "- `n` is the number of terms\n",
    "\n",
    "### task 1\n",
    "```bash\n",
    "Given an geometric sequence 18, 6, 2, ... Can you calculate the sum of the numbers from the 12th position to the 18th position in this sequence?\n",
    "```\n",
    "a = 18\n",
    "r = 16/18 = 0.333\n",
    "n = 12\n",
    "1) 35 * 0.333^(12-1) = "
   ]
  },
  {
   "cell_type": "code",
   "execution_count": 2,
   "metadata": {},
   "outputs": [
    {
     "data": {
      "text/plain": [
       "0.0001523460985559666"
      ]
     },
     "execution_count": 2,
     "metadata": {},
     "output_type": "execute_result"
    }
   ],
   "source": [
    "# Recalculating sum of the first n terms for both n_1 and n_2 with accurate setup\n",
    "a = 18  # First term of the geometric sequence\n",
    "r = 1/3  # Common ratio of the geometric sequence\n",
    "n_1 = 11  # To calculate sum up to the 11th term\n",
    "n_2 = 18  # To calculate sum up to the 18th term\n",
    "\n",
    "# Using the sum formula for geometric sequences\n",
    "S_n_1 = a * (1 - r**n_1) / (1 - r)\n",
    "S_n_2 = a * (1 - r**n_2) / (1 - r)\n",
    "\n",
    "# Calculate the sum from the 12th to the 18th term again\n",
    "sum_12_to_18_corrected = S_n_2 - S_n_1\n",
    "print(sum_12_to_18_corrected)\n"
   ]
  },
  {
   "cell_type": "markdown",
   "metadata": {},
   "source": [
    "### task 2\n",
    "```bash\n",
    "Consider a pattern of numbers where each number is multiplied by the same amount to get the next number. In this pattern, the first number is 18 and the third number is 2. Can you figure out what the second number, x, should be?\n",
    "```"
   ]
  }
 ],
 "metadata": {
  "kernelspec": {
   "display_name": "venv_alg",
   "language": "python",
   "name": "python3"
  },
  "language_info": {
   "codemirror_mode": {
    "name": "ipython",
    "version": 3
   },
   "file_extension": ".py",
   "mimetype": "text/x-python",
   "name": "python",
   "nbconvert_exporter": "python",
   "pygments_lexer": "ipython3",
   "version": "3.11.5"
  }
 },
 "nbformat": 4,
 "nbformat_minor": 2
}
