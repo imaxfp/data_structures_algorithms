{
 "cells": [
  {
   "cell_type": "markdown",
   "metadata": {},
   "source": [
    "# Arithmetic Sequences and Series\n",
    "```\n",
    "5, 8, 11, 14, 17, 20 ...\n",
    "difference = an - an-1\n",
    "\n",
    "d = 8 - 5\n",
    "d = 3\n",
    "```\n",
    "\n",
    "\n",
    "Example:\n",
    "```\n",
    "Given an arithmetic sequence 35, 28, 21, ... Can you calculate the sum of the numbers from the 12th position to the 18th position in this sequence?\n",
    "```\n",
    "\n",
    " Specifically, you are looking to calculate the sum of consecutive terms in an arithmetic sequence from a given starting position (the 12th term) to an ending position (the 18th term)\n"
   ]
  },
  {
   "cell_type": "code",
   "execution_count": 19,
   "metadata": {},
   "outputs": [
    {
     "name": "stdout",
     "output_type": "stream",
     "text": [
      "[35, 28, 21, 14, 7, 0, -7, -14, -21, -28, -35, -42, -49, -56, -63, -70, -77, -84, -91]\n",
      "Res =  -441\n"
     ]
    }
   ],
   "source": [
    "# Intuinion solution\n",
    "def continue_seq(arr, stop):    \n",
    "    while len(arr) <= stop:\n",
    "        diff = arr[-2] - arr[-1]\n",
    "        arr.append(arr[-1]-diff)\n",
    "    return arr    \n",
    "\n",
    "def sum_of_number_position(arr, start, stop):\n",
    "    if len(arr) < 2:\n",
    "        return -1\n",
    "    arr = continue_seq(arr, stop)\n",
    "    print(arr)\n",
    "    return sum(arr[start:stop])\n",
    "        \n",
    "print(\"Res = \", sum_of_number_position([35, 28], 11, 18))"
   ]
  },
  {
   "cell_type": "markdown",
   "metadata": {},
   "source": [
    "### Formula based solution\n",
    "\n",
    "\n",
    "<img src=\"../../img/math/seq_formula2.png\" alt=\"nearby_objects\" width=\"450\"/>\n",
    "\n",
    "<img src=\"../../img/math/seq_formula.png\" alt=\"nearby_objects\" width=\"450\"/>"
   ]
  },
  {
   "cell_type": "code",
   "execution_count": 23,
   "metadata": {},
   "outputs": [
    {
     "name": "stdout",
     "output_type": "stream",
     "text": [
      "-42\n",
      "-84\n",
      "-441.0\n"
     ]
    }
   ],
   "source": [
    "def calc_seq(a1, n, d):\n",
    "    return a1 + (n-1) * d\n",
    "\n",
    "# Gen term of the arithmetic sequence \n",
    "# first element in the seq = 35\n",
    "# n = th term of the seq, in our case 12 and 18\n",
    "# d = -7, the difference in the seq\n",
    "an1 = calc_seq(35, 12, -7)\n",
    "an2 = calc_seq(35, 18, -7)    \n",
    "print(an1)\n",
    "print(an2)\n",
    "\n",
    "#Sum of the n terms in the seq\n",
    "# n = represents the number of terms that are being summed. (18 - 12 + 1) = 7\n",
    "sn = 7/2 * (an1 + an2)\n",
    "print(sn)"
   ]
  },
  {
   "cell_type": "markdown",
   "metadata": {},
   "source": [
    "# Geometric sequrnce\n",
    "3, 6, 12, 24, 48 ... \n",
    "```\n",
    "common ratio 'r' = an+1/an \n",
    "\n",
    "r = 6/2 = 2\n",
    "r = 24/12 = 2\n",
    "```\n",
    "\n",
    "\n",
    "A geometric sequence is a sequence of numbers where each term after the first is found by multiplying the previous one by a fixed, non-zero number *called the common ratio*. The formula for the nth term (an) of a geometric sequence is:\n",
    "### an = a1 * r^(n-1)\n",
    "\n",
    "- **a1** - the first term of the sequence,\n",
    "- **r** - the common ratio,\n",
    "- **n** - the term number,\n",
    "- **an** - the nth term of the sequence.\n",
    "\n"
   ]
  }
 ],
 "metadata": {
  "kernelspec": {
   "display_name": "venv_alg",
   "language": "python",
   "name": "python3"
  },
  "language_info": {
   "codemirror_mode": {
    "name": "ipython",
    "version": 3
   },
   "file_extension": ".py",
   "mimetype": "text/x-python",
   "name": "python",
   "nbconvert_exporter": "python",
   "pygments_lexer": "ipython3",
   "version": "3.11.5"
  }
 },
 "nbformat": 4,
 "nbformat_minor": 2
}
