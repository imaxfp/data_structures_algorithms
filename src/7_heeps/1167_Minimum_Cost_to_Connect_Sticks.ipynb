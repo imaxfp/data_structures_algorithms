{
 "cells": [
  {
   "cell_type": "markdown",
   "metadata": {},
   "source": [
    "https://leetcode.com/problems/minimum-cost-to-connect-sticks/description/\n",
    "\n",
    "#### Python's heap implementation **only implements min heaps**. To **simulate a max heap**, we can just make all values we put on the heap negative.\n",
    "\n",
    "- heapq just modifies existing arr to the bin balances tree representation \n",
    "- max_heap = [-p for p in piles]\n",
    "- heapq.heapify(max_heap) \n"
   ]
  },
  {
   "cell_type": "code",
   "execution_count": 3,
   "metadata": {},
   "outputs": [
    {
     "data": {
      "text/plain": [
       "14"
      ]
     },
     "execution_count": 3,
     "metadata": {},
     "output_type": "execute_result"
    }
   ],
   "source": [
    "import heapq\n",
    "from typing import List\n",
    "\n",
    "class Solution:\n",
    "    def connectSticks(self, sticks: List[int]) -> int:        \n",
    "        heapq.heapify(sticks)\n",
    "        combined_sktics = []\n",
    "        while len(sticks) > 1:            \n",
    "            first = heapq.heappop(sticks)\n",
    "            second = heapq.heappop(sticks)\n",
    "            combined_sktics.append(first + second)            \n",
    "            heapq.heappush(sticks, first + second)\n",
    "        heapq.heappush(sticks, heapq.heappop(sticks))    \n",
    "        return sum(combined_sktics)         \n",
    "\n",
    "Solution().connectSticks([2,4,3])\n"
   ]
  }
 ],
 "metadata": {
  "kernelspec": {
   "display_name": "venv_alg",
   "language": "python",
   "name": "python3"
  },
  "language_info": {
   "codemirror_mode": {
    "name": "ipython",
    "version": 3
   },
   "file_extension": ".py",
   "mimetype": "text/x-python",
   "name": "python",
   "nbconvert_exporter": "python",
   "pygments_lexer": "ipython3",
   "version": "3.11.5"
  }
 },
 "nbformat": 4,
 "nbformat_minor": 2
}
