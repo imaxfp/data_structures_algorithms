{
 "cells": [
  {
   "cell_type": "markdown",
   "metadata": {},
   "source": [
    "295_Find_Median_from_Data_Stream\n",
    "\n",
    "https://leetcode.com/problems/find-median-from-data-stream/description/\n",
    "\n",
    "#### Python's heap implementation **only implements min heaps**. To **simulate a max heap**, we can just make all values we put on the heap negative."
   ]
  },
  {
   "cell_type": "code",
   "execution_count": 23,
   "metadata": {},
   "outputs": [
    {
     "name": "stdout",
     "output_type": "stream",
     "text": [
      "4\n",
      "[4, 5, 6]\n",
      "[-3, -1, -2]\n"
     ]
    },
    {
     "data": {
      "text/plain": [
       "3.5"
      ]
     },
     "execution_count": 23,
     "metadata": {},
     "output_type": "execute_result"
    }
   ],
   "source": [
    "#Time complexity Worst case - for the each findMedian -> O(n*log(n))\n",
    "# O(n^2*log(n))\n",
    "class MedianFinder:\n",
    "\n",
    "    def __init__(self):\n",
    "        self.arr = []\n",
    "        \n",
    "    def addNum(self, num: int) -> None:\n",
    "        #O(1)\n",
    "        self.arr.append(num)\n",
    "        \n",
    "    #O(n*log(n))    \n",
    "    def findMedian(self) -> float:\n",
    "        # Correct Median Definition: The median splits the data into two halves. \n",
    "        # In an odd-sized list, it's the middle number when sorted.\n",
    "        # arr must be SORTED\n",
    "        self.arr.sort()\n",
    "        if len(self.arr) % 2 != 0:\n",
    "            return self.arr[len(self.arr)//2]\n",
    "        else:\n",
    "            m = len(self.arr) // 2\n",
    "            return (self.arr[m] + self.arr[m-1]) / 2\n",
    "        \n",
    "import heapq        \n",
    "class MedianFinderHeap:\n",
    "\n",
    "    def __init__(self):\n",
    "        # How can we leverage heaps to find a middle element instead of a minimum or maximum?\n",
    "        self.min_heap = []\n",
    "        self.max_heap = []\n",
    "         \n",
    "        \n",
    "    def addNum(self, num: int) -> None:\n",
    "        heapq.heappush(self.max_heap, -num)\n",
    "        heapq.heappush(self.min_heap, -heapq.heappop(self.max_heap))\n",
    "        if len(self.min_heap) > len(self.max_heap):\n",
    "            heapq.heappush(self.max_heap, -heapq.heappop(self.min_heap))\n",
    "\n",
    "    def findMedian(self) -> float:\n",
    "        print(self.min_heap)\n",
    "        print(self.max_heap)\n",
    "        if len(self.max_heap) > len(self.min_heap):\n",
    "            return -self.max_heap[0]\n",
    "        return (self.min_heap[0] - self.max_heap[0]) / 2\n",
    "                                               \n",
    "\n",
    "print(9 // 2)        \n",
    "m_heap = MedianFinderHeap()\n",
    "\n",
    "m_heap.addNum(1)\n",
    "m_heap.addNum(2)\n",
    "m_heap.addNum(3)\n",
    "m_heap.addNum(4)\n",
    "m_heap.addNum(5)\n",
    "m_heap.addNum(6)\n",
    "\n",
    "m_heap.findMedian()\n"
   ]
  }
 ],
 "metadata": {
  "kernelspec": {
   "display_name": "venv_alg",
   "language": "python",
   "name": "python3"
  },
  "language_info": {
   "codemirror_mode": {
    "name": "ipython",
    "version": 3
   },
   "file_extension": ".py",
   "mimetype": "text/x-python",
   "name": "python",
   "nbconvert_exporter": "python",
   "pygments_lexer": "ipython3",
   "version": "3.11.5"
  }
 },
 "nbformat": 4,
 "nbformat_minor": 2
}
