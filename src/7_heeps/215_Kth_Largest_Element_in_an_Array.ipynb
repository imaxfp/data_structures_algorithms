{
 "cells": [
  {
   "cell_type": "markdown",
   "metadata": {},
   "source": [
    "https://leetcode.com/problems/kth-largest-element-in-an-array/description/\n",
    "\n",
    "Pay attention for MAX HEAP:\n",
    "- Create arr with -\n",
    "- mutate if with heapq.heapify\n",
    "\n",
    "#### Python's heap implementation **only implements min heaps**. To **simulate a max heap**, we can just make all values we put on the heap negative.\n"
   ]
  },
  {
   "cell_type": "code",
   "execution_count": 4,
   "metadata": {},
   "outputs": [
    {
     "name": "stdout",
     "output_type": "stream",
     "text": [
      "[-6, -5, -4, -3, -2, -1]\n"
     ]
    },
    {
     "data": {
      "text/plain": [
       "5"
      ]
     },
     "execution_count": 4,
     "metadata": {},
     "output_type": "execute_result"
    }
   ],
   "source": [
    "import heapq\n",
    "from typing import List\n",
    "class Solution:\n",
    "    def findKthLargest(self, nums: List[int], k: int) -> int:\n",
    "        max_heap = [-x for x in nums]\n",
    "        heapq.heapify(max_heap)\n",
    "        print(max_heap)\n",
    "        for _ in range(1, k):\n",
    "            heapq.heappop(max_heap)\n",
    "        return -max_heap[0]\n",
    "\n",
    "# nums =[3,2,1,5,6,4], k = 2\n",
    "Solution().findKthLargest([3,2,1,5,6,4], 2)    "
   ]
  }
 ],
 "metadata": {
  "kernelspec": {
   "display_name": "venv_alg",
   "language": "python",
   "name": "python3"
  },
  "language_info": {
   "codemirror_mode": {
    "name": "ipython",
    "version": 3
   },
   "file_extension": ".py",
   "mimetype": "text/x-python",
   "name": "python",
   "nbconvert_exporter": "python",
   "pygments_lexer": "ipython3",
   "version": "3.11.5"
  }
 },
 "nbformat": 4,
 "nbformat_minor": 2
}
