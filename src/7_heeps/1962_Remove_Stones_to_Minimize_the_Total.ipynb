{
 "cells": [
  {
   "cell_type": "markdown",
   "metadata": {},
   "source": [
    "https://leetcode.com/problems/remove-stones-to-minimize-the-total/description/\n",
    "\n",
    "#### Python's heap implementation **only implements min heaps**. To **simulate a max heap**, we can just make all values we put on the heap negative.\n",
    "\n",
    "- heapq just modifies existing arr to the bin balances tree representation \n",
    "- max_heap = [-p for p in piles]\n",
    "- heapq.heapify(max_heap) \n"
   ]
  },
  {
   "cell_type": "code",
   "execution_count": 2,
   "metadata": {},
   "outputs": [
    {
     "name": "stdout",
     "output_type": "stream",
     "text": [
      "[5, 4, 9]\n",
      "[4, 5, 9]\n"
     ]
    },
    {
     "data": {
      "text/plain": [
       "12"
      ]
     },
     "execution_count": 2,
     "metadata": {},
     "output_type": "execute_result"
    }
   ],
   "source": [
    "import heapq\n",
    "from typing import List\n",
    "#import math\n",
    "class Solution:\n",
    "    def minStoneSum(self, piles: List[int], k: int) -> int:\n",
    "        # 1. Operation exactly k times:\n",
    "        max_heap = [-p for p in piles]\n",
    "        #mutable operation for rearange the 'list'\n",
    "        heapq.heapify(max_heap)                \n",
    "\n",
    "        # 2. Choose the pile with the maximum number of stones each time.\n",
    "        for i in range(k):                        \n",
    "            max_val = abs(heapq.heappop(max_heap))\n",
    "            #max_val = math.ceil(max_val / 2)\n",
    "            if max_val % 2 != 0:\n",
    "                max_val = int(max_val // 2 + 1) \n",
    "            else:\n",
    "                max_val = int(max_val / 2) \n",
    "            heapq.heappush(max_heap, -max_val)\n",
    "        # Return the minimum possible total number of stones\n",
    "        return abs(sum(max_heap))\n",
    "\n",
    "#Input: piles = [5,4,9], k = 2\n",
    "#Output: 12\n",
    "arr = [5,4,9]\n",
    "print(arr)\n",
    "heapq.heapify(arr)\n",
    "print(arr)\n",
    "\n",
    "Solution().minStoneSum([5,4,9], 2)"
   ]
  }
 ],
 "metadata": {
  "kernelspec": {
   "display_name": "venv_alg",
   "language": "python",
   "name": "python3"
  },
  "language_info": {
   "codemirror_mode": {
    "name": "ipython",
    "version": 3
   },
   "file_extension": ".py",
   "mimetype": "text/x-python",
   "name": "python",
   "nbconvert_exporter": "python",
   "pygments_lexer": "ipython3",
   "version": "3.11.5"
  }
 },
 "nbformat": 4,
 "nbformat_minor": 2
}
