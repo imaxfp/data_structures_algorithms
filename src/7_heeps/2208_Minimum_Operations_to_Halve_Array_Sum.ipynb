{
 "cells": [
  {
   "cell_type": "markdown",
   "metadata": {},
   "source": [
    "https://leetcode.com/problems/minimum-operations-to-halve-array-sum/description/\n"
   ]
  },
  {
   "cell_type": "code",
   "execution_count": 12,
   "metadata": {},
   "outputs": [
    {
     "data": {
      "text/plain": [
       "3"
      ]
     },
     "execution_count": 12,
     "metadata": {},
     "output_type": "execute_result"
    }
   ],
   "source": [
    "from typing import List\n",
    "import heapq\n",
    "\n",
    "\n",
    "class Solution:\n",
    "    \n",
    "    #O(n^2)\n",
    "    def halveArray(self, nums: List[int]) -> int:\n",
    "        init_sum = sum(nums)\n",
    "        half_sum = init_sum / 2\n",
    "        #find max   \n",
    "        reducing_cntr=0     \n",
    "        while sum(nums) > half_sum:\n",
    "            max_index=0\n",
    "            max_val=nums[0]\n",
    "            for i in range(len(nums)):\n",
    "                if nums[i] > max_val:\n",
    "                    max_val = nums[i]\n",
    "                    max_index = i\n",
    "            nums[max_index] = max_val / 2        \n",
    "            reducing_cntr+=1\n",
    "        return reducing_cntr\n",
    "    \n",
    "  \n",
    "    def halveArrayHeap(self, nums: List[int]) -> int:\n",
    "        init_sum = sum(nums)\n",
    "        max_heap = [-n for n in nums] \n",
    "        #transform array to HEAP representation\n",
    "        heapq.heapify(max_heap)\n",
    "        \n",
    "        ctr=0\n",
    "        current_sum=init_sum         \n",
    "        while current_sum > init_sum/2:            \n",
    "            max_val = heapq.heappop(max_heap) / 2\n",
    "            current_sum-=abs(max_val) \n",
    "            heapq.heappush(max_heap, max_val)\n",
    "            ctr+=1\n",
    "        return ctr                 \n",
    "    \n",
    "Solution().halveArray([3,8,20]) \n",
    "Solution().halveArrayHeap([3,8,20])             "
   ]
  }
 ],
 "metadata": {
  "kernelspec": {
   "display_name": "venv_alg",
   "language": "python",
   "name": "python3"
  },
  "language_info": {
   "codemirror_mode": {
    "name": "ipython",
    "version": 3
   },
   "file_extension": ".py",
   "mimetype": "text/x-python",
   "name": "python",
   "nbconvert_exporter": "python",
   "pygments_lexer": "ipython3",
   "version": "3.11.5"
  }
 },
 "nbformat": 4,
 "nbformat_minor": 2
}
