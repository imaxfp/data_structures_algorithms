{
 "cells": [
  {
   "cell_type": "markdown",
   "metadata": {},
   "source": [
    "https://leetcode.com/problems/top-k-frequent-elements/description/\n",
    "\n",
    "Using a heap, we can instead find the top k elements in O(n⋅logk) Logically, k < n, so this is an improvement. Practically, because log is so fast anyway, it probably isn't a big deal in terms of a speed increase. But when interviewers give you these kinds of problems, it is these small improvements that they are looking for.\n"
   ]
  },
  {
   "cell_type": "code",
   "execution_count": 12,
   "metadata": {},
   "outputs": [
    {
     "name": "stdout",
     "output_type": "stream",
     "text": [
      "[-2, -7, -4, -1, -8, -1]\n",
      "[-8, -7, -4, -1, -2, -1]\n",
      "[-7, -2, -4, -1, -1]\n",
      "[-4, -2, -1, -1]\n"
     ]
    },
    {
     "data": {
      "text/plain": [
       "2"
      ]
     },
     "execution_count": 12,
     "metadata": {},
     "output_type": "execute_result"
    }
   ],
   "source": [
    "import heapq\n",
    "from typing import List\n",
    "\n",
    "def create_max_heap(data):\n",
    "    # Create a max heap from data by inverting the sign of each element\n",
    "    # MAX heap this is inversion of standard 'min' heap\n",
    "    max_heap = [-x for x in data]\n",
    "    heapq.heapify(max_heap)\n",
    "    \n",
    "    return max_heap\n",
    "\n",
    "def insert_into_max_heap(max_heap, value):\n",
    "    # Insert a new value into the max heap\n",
    "    heapq.heappush(max_heap, -value)\n",
    "\n",
    "def get_max_from_heap(max_heap):\n",
    "    # Retrieve the maximum value from the max heap\n",
    "    return -max_heap[0]  # Return positive value as the maximum\n",
    "\n",
    "\n",
    "class Solution:\n",
    "    def lastStoneWeight(self, stones: List[int]) -> int:\n",
    "        arr = [-s for s in stones]\n",
    "        print(arr)\n",
    "        heapq.heapify(arr)\n",
    "        print(arr)\n",
    "        first = heapq.heappop(arr)\n",
    "        print(arr)\n",
    "        second = heapq.heappop(arr) \n",
    "        print(arr)\n",
    "        while len(arr) > 1:\n",
    "            first = abs(heapq.heappop(arr))\n",
    "            second = abs(heapq.heappop(arr))\n",
    "            if first != second:\n",
    "                heapq.heappush(arr, -abs(first - second))\n",
    "        return stones[0] if stones else 0        \n",
    "                \n",
    "        \n",
    "    \n",
    "    \n",
    "#h = create_max_heap([2,7,4,1,8,1])\n",
    "#print(h)\n",
    "                \n",
    "Solution().lastStoneWeight([2,7,4,1,8,1])        "
   ]
  }
 ],
 "metadata": {
  "kernelspec": {
   "display_name": "venv_alg",
   "language": "python",
   "name": "python3"
  },
  "language_info": {
   "codemirror_mode": {
    "name": "ipython",
    "version": 3
   },
   "file_extension": ".py",
   "mimetype": "text/x-python",
   "name": "python",
   "nbconvert_exporter": "python",
   "pygments_lexer": "ipython3",
   "version": "3.11.5"
  }
 },
 "nbformat": 4,
 "nbformat_minor": 2
}
