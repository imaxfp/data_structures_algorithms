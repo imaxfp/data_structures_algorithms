{
 "cells": [
  {
   "cell_type": "markdown",
   "metadata": {},
   "source": [
    "### HEAP\n",
    "A heap is a data structure that is an implementation of the priority queue.\n",
    "\n",
    "```text\n",
    "In computer science, a priority queue is an abstract data-type similar to a regular queue or stack data structure. Each element in a priority queue has an associated priority. In a priority queue, elements with high priority are served before elements with low priority.\n",
    "\n",
    "Note that a priority queue is an abstract data structure. A heap is one of many ways to implement a priority queue. \n",
    "```\n",
    "\n",
    "**A heap is a container that stores elements, and supports the following operations:**\n",
    "\n",
    "- Add an element in O(log n)\n",
    "- Remove the minimum element in  O(logn)\n",
    "- Find the minimum element in O(1)\n",
    "\n",
    "For brevity, we'll talk about min heaps in this article, although the logic is the same for max heaps."
   ]
  },
  {
   "cell_type": "markdown",
   "metadata": {},
   "source": [
    "### implement a HEAP, although the most popular way is called a **binary HEAP**  using an array.\n",
    "\n",
    "A binary heap implements a binary tree, but with only an array. \n",
    "The idea is that each element in the array is a node in the tree. The smallest element in the tree is the root, and the following property is maintained at every node: if A is the parent of B, then\n",
    "**A.val <= B.val.**\n",
    "\n",
    "#### constraints: \n",
    "- Notice that this property directly implies that the root is the smallest element.\n",
    "- Another constraint is that the tree must be a complete tree.\n",
    "\n",
    "When elements are added or removed, operations are done to maintain the aforementioned property of parent.val <= child.val. The number of operations needed scales logarithmically with the number of elements in the heap, and the process is known as **\"bubbling up\".**\n"
   ]
  },
  {
   "cell_type": "code",
   "execution_count": 2,
   "metadata": {},
   "outputs": [
    {
     "name": "stdout",
     "output_type": "stream",
     "text": [
      "Current heap: [1, 10, 5]\n",
      "Smallest element: 1\n",
      "Removed element: 1\n",
      "Current heap: [5, 10]\n",
      "[43, 2, 13, 634, 120, -100]\n",
      "[-100, 2, 13, 634, 120, 43]\n",
      "-100\n",
      "2\n",
      "13\n",
      "43\n",
      "120\n",
      "634\n"
     ]
    }
   ],
   "source": [
    "import heapq\n",
    "from heapq import *\n",
    "\n",
    "# Create an empty heap\n",
    "heap = []\n",
    "\n",
    "# Add elements\n",
    "heapq.heappush(heap, 10)\n",
    "heapq.heappush(heap, 1)\n",
    "heapq.heappush(heap, 5)\n",
    "\n",
    "# The current heap\n",
    "print(\"Current heap:\", heap)\n",
    "\n",
    "# Access the smallest element\n",
    "print(\"Smallest element:\", heap[0])\n",
    "\n",
    "# Remove the smallest element\n",
    "print(\"Removed element:\", heapq.heappop(heap))\n",
    "\n",
    "# The current heap\n",
    "print(\"Current heap:\", heap)\n",
    "\n",
    "# Bonus: convert a list to a heap in linear time\n",
    "heap_arr = [43, 2, 13, 634, 120, -100]\n",
    "print(heap_arr)\n",
    "#rerange array to HEAP representation\n",
    "heapq.heapify(heap_arr)\n",
    "print(heap_arr)\n",
    "while heap_arr:\n",
    "    print(heapq.heappop(heap_arr)) \n"
   ]
  },
  {
   "cell_type": "markdown",
   "metadata": {},
   "source": [
    "- In many problems, using a heap can improve an algorithm's time complexity from O(n^2) to O(n⋅logn)\n",
    "- A heap is a great option whenever you need to find the maximum or minimum of something repeatedly.\n",
    "\n",
    "A heap is an amazing tool whenever you need to repeatedly find the maximum or minimum element. Let's look at some example problems."
   ]
  }
 ],
 "metadata": {
  "kernelspec": {
   "display_name": "venv_alg",
   "language": "python",
   "name": "python3"
  },
  "language_info": {
   "codemirror_mode": {
    "name": "ipython",
    "version": 3
   },
   "file_extension": ".py",
   "mimetype": "text/x-python",
   "name": "python",
   "nbconvert_exporter": "python",
   "pygments_lexer": "ipython3",
   "version": "3.11.5"
  }
 },
 "nbformat": 4,
 "nbformat_minor": 2
}
