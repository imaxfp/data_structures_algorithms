{
 "cells": [
  {
   "cell_type": "markdown",
   "metadata": {},
   "source": [
    "### 435. Non-overlapping Intervals\n",
    "\n",
    "https://leetcode.com/problems/non-overlapping-intervals"
   ]
  },
  {
   "cell_type": "code",
   "execution_count": 9,
   "metadata": {},
   "outputs": [
    {
     "name": "stdout",
     "output_type": "stream",
     "text": [
      "1\n",
      "2\n"
     ]
    }
   ],
   "source": [
    "from typing import List\n",
    "\n",
    "class Solution:\n",
    "    def eraseOverlapIntervals(self, intervals: List[List[int]]) -> int:\n",
    "        #TASK\n",
    "        # 1. intervals[i] = [starti, endi]\n",
    "        # 2.  minimum number of intervals you need to remove to make the rest of the intervals non-overlapping.\n",
    "\n",
    "        # 1----2\n",
    "        #      2---3\n",
    "        #          3--4 \n",
    "        # 1--------3\n",
    "\n",
    "        #  5--6  \n",
    "        # 4--6\n",
    "           \n",
    "        # 4--6\n",
    "        #  5--6          \n",
    "        # Find all overlaps:        \n",
    "\n",
    "        # 4--6\n",
    "        # > 5--8          \n",
    "        #    7----9\n",
    "        #SOLUTION\n",
    "        #1. sort by [0]\n",
    "        #2. if el0_[1] > el1_[2] example (6 > 5) remove candidate > [][1]\n",
    "\n",
    "        intervals.sort(key=lambda x: x[0])\n",
    "        i=0\n",
    "        cntr=0\n",
    "        while i < len(intervals)-1:            \n",
    "            #detect overlaping \n",
    "            if intervals[i][1] > intervals[i+1][0]:\n",
    "                cntr+=1\n",
    "                if intervals[i][1] > intervals[i+1][1]:\n",
    "                    intervals.pop(i)\n",
    "                else:    \n",
    "                    intervals.pop(i+1)\n",
    "                continue    \n",
    "            i+=1    \n",
    "        return cntr            \n",
    "        \n",
    "#example 1\n",
    "#[[1,2],[2,3],[3,4],[1,3]]\n",
    "#sorted - [[1, 2], [1, 3], [2, 3], [3, 4]]\n",
    "#Output: 1\n",
    "     \n",
    "print(Solution().eraseOverlapIntervals([[1,2],[2,3],[3,4],[1,3]]))       \n",
    "\n",
    "#Input: intervals = [[1,2],[1,2],[1,2]]\n",
    "#Output: 2\n",
    "\n",
    "print(Solution().eraseOverlapIntervals([[1,2],[1,2],[1,2]]))   \n"
   ]
  }
 ],
 "metadata": {
  "kernelspec": {
   "display_name": "venv_alg",
   "language": "python",
   "name": "python3"
  },
  "language_info": {
   "codemirror_mode": {
    "name": "ipython",
    "version": 3
   },
   "file_extension": ".py",
   "mimetype": "text/x-python",
   "name": "python",
   "nbconvert_exporter": "python",
   "pygments_lexer": "ipython3",
   "version": "3.11.5"
  }
 },
 "nbformat": 4,
 "nbformat_minor": 2
}
