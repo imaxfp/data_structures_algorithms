{
 "cells": [
  {
   "cell_type": "markdown",
   "metadata": {},
   "source": [
    "### 56. Merge Intervals\n",
    "\n",
    "https://leetcode.com/problems/merge-intervals/description"
   ]
  },
  {
   "cell_type": "code",
   "execution_count": 29,
   "metadata": {},
   "outputs": [
    {
     "name": "stdout",
     "output_type": "stream",
     "text": [
      "[[1, 6], [8, 10], [15, 18]]\n"
     ]
    }
   ],
   "source": [
    "from typing import List\n",
    "\n",
    "class Solution:\n",
    "    def merge(self, intervals: List[List[int]]) -> List[List[int]]:\n",
    "        '''\n",
    "        1. sort pairs by intervals[0]\n",
    "        2. check if new pair in intervals has an overlap if yes get max end from intervals[1]\n",
    "        3. if no overlaping add new pair                              \n",
    "        \n",
    "        [1,30],[2,6],[8,10],[15,18]\n",
    "        \n",
    "        1----3\n",
    "          2-----6\n",
    "                   8-----10\n",
    "                                 15----18\n",
    "        [1,3]\n",
    "        [2,6]\n",
    "        is 2 in range 1----3 ?\n",
    "        yes,\n",
    "        get max from 3 or 6 \n",
    "        res -> [1,6]\n",
    "        \n",
    "        [1,6]\n",
    "        [8,10]\n",
    "        is 8 less than 6, no -> pu new pair\n",
    "        res -> [[1,6], [[8,10]]]\n",
    "        '''\n",
    "        intervals.sort(key=lambda x: x[0])\n",
    "        res = [intervals[0]]\n",
    "        \n",
    "        for i in range(1, len(intervals)):\n",
    "            #check overlapping if end previous segment bigger than start of the next segment \n",
    "            if res[-1][1] >= intervals[i][0]:\n",
    "                res[-1][1] = max(res[-1][1], intervals[i][1])\n",
    "            else:\n",
    "                res.append(intervals[i])\n",
    "        return res\n",
    "\n",
    "\n",
    "#Input: intervals = [[1,3],[2,6],[8,10],[15,18]]\n",
    "#Output: [[1,6],[8,10],[15,18]]            \n",
    "print(Solution().merge([[1,3],[2,6],[8,10],[15,18]]))                 "
   ]
  }
 ],
 "metadata": {
  "kernelspec": {
   "display_name": "venv_alg",
   "language": "python",
   "name": "python3"
  },
  "language_info": {
   "codemirror_mode": {
    "name": "ipython",
    "version": 3
   },
   "file_extension": ".py",
   "mimetype": "text/x-python",
   "name": "python",
   "nbconvert_exporter": "python",
   "pygments_lexer": "ipython3",
   "version": "3.11.5"
  }
 },
 "nbformat": 4,
 "nbformat_minor": 2
}
