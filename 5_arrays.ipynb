{
 "cells": [
  {
   "cell_type": "markdown",
   "metadata": {},
   "source": [
    "# Arrays"
   ]
  },
  {
   "cell_type": "markdown",
   "metadata": {},
   "source": [
    "### Array Advance Game\n",
    "“array advance game”. In this game, you are given an array of non-negative integers. For example:\n",
    "\n",
    "[3,3,1,0,2,0,1]\n",
    "\n",
    "<img src=\"./img/arr/arr_game1.png\" alt=\"nearby_objects\" width=\"500\"/>\n",
    "\n",
    "<img src=\"./img/arr/arr_game2.png\" alt=\"nearby_objects\" width=\"500\"/>\n",
    "\n",
    "<img src=\"./img/arr/arr_game3.png\" alt=\"nearby_objects\" width=\"500\"/>"
   ]
  },
  {
   "cell_type": "code",
   "execution_count": null,
   "metadata": {},
   "outputs": [],
   "source": [
    "arr_win = [1,4,1,1,0,2,3]\n",
    "arr_lose = [1,2,0,0,2,0,1]\n",
    "\n",
    "def advance_game(arr):\n",
    "    curr_step = arr[0]\n",
    "    # 1. Navitage via array by index value\n",
    "    while curr_step < len(arr):\n",
    "        tmp_step = arr[curr_step]\n",
    "        if tmp_step == 0:\n",
    "            return False\n",
    "        curr_step += tmp_step\n",
    "    # if navigation out of arra or equal to length of the arr\n",
    "    return True \n",
    "\n",
    "print(f\"Have you won the game? {advance_game(arr_win)}\")    \n",
    "print(f\"Have you won the game? {advance_game(arr_lose)}\")    "
   ]
  },
  {
   "cell_type": "markdown",
   "metadata": {},
   "source": [
    "### Arbitrary Precision Increment\n",
    "An array of non-negative digits that represent a decimal integer\n",
    "\n",
    "<img src=\"./img/arr/arbitrary_precision1.png\" alt=\"nearby_objects\" width=\"500\"/>\n",
    "\n",
    "<img src=\"./img/arr/arbitrary_precision2.png\" alt=\"nearby_objects\" width=\"500\"/>\n",
    "\n",
    "<img src=\"./img/arr/arbitrary_precision3.png\" alt=\"nearby_objects\" width=\"500\"/>\n",
    "\n",
    "<img src=\"./img/arr/arbitrary_precision4.png\" alt=\"nearby_objects\" width=\"500\"/>"
   ]
  },
  {
   "cell_type": "code",
   "execution_count": 24,
   "metadata": {},
   "outputs": [
    {
     "name": "stdout",
     "output_type": "stream",
     "text": [
      "init arr [9, 9, 9], will be added 1 result = [1, 0, 0, 0]\n"
     ]
    }
   ],
   "source": [
    "# TODO improve you scils with binary operations and \n",
    "def add_one(arr):  \n",
    "    if arr[-1] + 1 < 10:\n",
    "        arr[-1] + 1\n",
    "        return arr    \n",
    "    '''\n",
    "        Start len(arr)-1 returns the length of the array arr.\n",
    "        Stop (-1):\n",
    "        Step (-1):\n",
    "    '''\n",
    "    reminder=0\n",
    "    for i in range(len(arr)-1,-1,-1):                         \n",
    "        arr[i] = arr[i] + 1 + reminder\n",
    "        if arr[i] < 9:\n",
    "            return arr\n",
    "        else:\n",
    "            arr[i] = 0\n",
    "            reminder = 1\n",
    "            \n",
    "    if arr[0] == 0:\n",
    "        arr = [1] + arr        \n",
    "    return arr\n",
    "\n",
    "arr = [9, 9, 9]\n",
    "print(f\"init arr {arr}, will be added {1} result = {add_one(arr)}\")"
   ]
  },
  {
   "cell_type": "markdown",
   "metadata": {},
   "source": [
    "### Two Sum Problem\n",
    "\n",
    "<img src=\"./img/arr/two_sum_problem.png\" alt=\"nearby_objects\" width=\"300\"/>"
   ]
  },
  {
   "cell_type": "code",
   "execution_count": 37,
   "metadata": {},
   "outputs": [
    {
     "name": "stdout",
     "output_type": "stream",
     "text": [
      "first = 2, second = 11, target = 13\n",
      "Does two sum exist? True\n",
      "Does two sum exist, hash_table ? (2, 11)\n"
     ]
    }
   ],
   "source": [
    "'''\n",
    "Solution 1:\n",
    "\n",
    "Coplexity O(n^2)\n",
    "Memory O(1)\n",
    "'''\n",
    "def brute_force(arr, target):\n",
    "    for first in arr:\n",
    "        for second in arr:\n",
    "            if first + second == target:\n",
    "                print(f\"first = {first}, second = {second}, target = {target}\")\n",
    "                return True \n",
    "    return False\n",
    "\n",
    "'''\n",
    "Solution 2:\n",
    "\n",
    "Coplexity O(N)\n",
    "Memory O(N)\n",
    "'''\n",
    "def hash_map_solution(arr, target):\n",
    "    hash_table = {}\n",
    "    for el in arr:\n",
    "        hash_table.update({(target - el): 1}) \n",
    "        if el in hash_table:\n",
    "            return (target - el), el\n",
    "    return None        \n",
    "\n",
    "\n",
    "arr = [-2, 1, 2, 4, 7, 11]\n",
    "print(f\"Does two sum exist? {brute_force(arr, 13)}\")        \n",
    "print(f\"Does two sum exist, hash_table ? {hash_map_solution(arr, 13)}\")        "
   ]
  },
  {
   "cell_type": "markdown",
   "metadata": {},
   "source": [
    "# Optimal Task Assignment\n",
    "Assign tasks to workers so that the time it takes to complete all the tasks is minimized given a count of workers and an array where each element indicates the duration of a task.\n",
    "\n",
    "- Each worker must work on exactly two tasks.\n",
    "- Tasks are independent of each other\n",
    "- Each task takes a certain amount of time.\n",
    "\n",
    "\n",
    "<img src=\"./img/arr/optimal_task_assigned1.png\" alt=\"nearby_objects\" width=\"400\"/>\n",
    "\n",
    "<img src=\"./img/arr/optimal_task_assigned2.png\" alt=\"nearby_objects\" width=\"400\"/>\n",
    "\n",
    "<img src=\"./img/arr/optimal_task_assigned3.png\" alt=\"nearby_objects\" width=\"400\"/>\n",
    "\n",
    "<img src=\"./img/arr/optimal_task_assigned4.png\" alt=\"nearby_objects\" width=\"400\"/>"
   ]
  },
  {
   "cell_type": "code",
   "execution_count": 39,
   "metadata": {},
   "outputs": [
    {
     "name": "stdout",
     "output_type": "stream",
     "text": [
      "2 7\n",
      "3 6\n",
      "5 5\n"
     ]
    }
   ],
   "source": [
    "A = [6, 3, 2, 7, 5, 5]\n",
    "\n",
    "A = sorted(A)\n",
    "\n",
    "for i in range(len(A)//2):\n",
    "    print(A[i], A[~i])"
   ]
  },
  {
   "cell_type": "markdown",
   "metadata": {},
   "source": [
    "# Intersection of Two Sorted Arrays\n",
    "\n",
    "Given two sorted arrays, A and B, determine their intersection. What elements are common to A and B?\n",
    "\n",
    "<img src=\"./img/arr/intersection_of_two_sorted_arrays.png\" alt=\"nearby_objects\" width=\"400\"/>\n",
    "\n"
   ]
  },
  {
   "cell_type": "code",
   "execution_count": 47,
   "metadata": {},
   "outputs": [
    {
     "name": "stdout",
     "output_type": "stream",
     "text": [
      "{3, 7}\n"
     ]
    }
   ],
   "source": [
    "A = [2, 3, 3, 5, 7, 11]\n",
    "B = [3, 3, 7, 15, 31]\n",
    "\n",
    "setA, setB = set(A), set(B)\n",
    "print(setA.intersection(setB))    \n",
    "\n",
    "#TODO implement wiht arrays iteration"
   ]
  },
  {
   "cell_type": "markdown",
   "metadata": {},
   "source": [
    "# Buy and Sell Stock\n",
    "Given an array of numbers consisting of daily stock prices, calculate the maximum amount of profit that can be made from buying on one day and selling on another.\n",
    "- Profit = Selling Price - Buying Price\n",
    "\n",
    "\n",
    "<img src=\"./img/arr/buy_and_sell_stock.png\" alt=\"nearby_objects\" width=\"500\"/>\n"
   ]
  },
  {
   "cell_type": "code",
   "execution_count": 59,
   "metadata": {},
   "outputs": [
    {
     "name": "stdout",
     "output_type": "stream",
     "text": [
      "30\n"
     ]
    }
   ],
   "source": [
    "#TODO repit me\n",
    "\n",
    "#Solution 1\n",
    "# Time Complexity: O(n^2)\n",
    "# Space Complexity: O(1)\n",
    "def buy_and_sell_once(arr):    \n",
    "    \n",
    "    bought_day, sold_day, profit = 0,0,0\n",
    "\n",
    "    for i in range(0, len(arr)-1):\n",
    "        for j in range(i+1, len(arr)):            \n",
    "            tmp_profit = arr[j] - arr[i]\n",
    "            if tmp_profit > profit:\n",
    "                bought_day = i\n",
    "                sold_day = j \n",
    "                profit=tmp_profit\n",
    "    return profit \n",
    "\n",
    "# Solution 2: Tracking Min Price\n",
    "# Time Complexity: O(n)\n",
    "# Space Complexity: O(1)\n",
    "\n",
    " \n",
    "A = [310, 315, 275, 295, 260, 270, 290, 230, 255, 250]\n",
    "print(buy_and_sell_once(arr))\n",
    "                "
   ]
  }
 ],
 "metadata": {
  "kernelspec": {
   "display_name": "venv_alg",
   "language": "python",
   "name": "python3"
  },
  "language_info": {
   "codemirror_mode": {
    "name": "ipython",
    "version": 3
   },
   "file_extension": ".py",
   "mimetype": "text/x-python",
   "name": "python",
   "nbconvert_exporter": "python",
   "pygments_lexer": "ipython3",
   "version": "3.11.5"
  }
 },
 "nbformat": 4,
 "nbformat_minor": 2
}
